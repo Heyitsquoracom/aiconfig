{
 "cells": [
  {
   "cell_type": "code",
   "execution_count": 12,
   "metadata": {},
   "outputs": [
    {
     "data": {
      "text/plain": [
       "'HI'"
      ]
     },
     "execution_count": 12,
     "metadata": {},
     "output_type": "execute_result"
    }
   ],
   "source": [
    "# Get a compiler\n",
    "from pybars import Compiler\n",
    "compiler = Compiler()\n",
    "\n",
    "# Compile the template\n",
    "source = u\"{{thing.output}}\"\n",
    "template = compiler.compile(source)\n",
    "template({\"thing\":{\"output\": \"HI\"}})"
   ]
  },
  {
   "cell_type": "code",
   "execution_count": null,
   "metadata": {},
   "outputs": [],
   "source": [
    "te"
   ]
  }
 ],
 "metadata": {
  "language_info": {
   "name": "python"
  }
 },
 "nbformat": 4,
 "nbformat_minor": 2
}

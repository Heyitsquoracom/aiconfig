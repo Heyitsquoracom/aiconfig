{
 "cells": [
  {
   "cell_type": "code",
   "execution_count": 7,
   "metadata": {},
   "outputs": [
    {
     "data": {
      "text/plain": [
       "[ExecuteResult(output_type='execute_result', execution_count=0, data=\"Sure, here's a classic one for you:\\n\\nWhy don't scientists trust atoms?\\n\\nBecause they make up everything!\", mime_type=None, metadata={'id': 'chatcmpl-8eqVykh3V4utVoH8XAiGWQYVugMZr', 'created': 1704745678, 'model': 'gpt-3.5-turbo-0613', 'object': 'chat.completion.chunk', 'raw_response': {'content': \"Sure, here's a classic one for you:\\n\\nWhy don't scientists trust atoms?\\n\\nBecause they make up everything!\", 'role': 'assistant'}, 'role': 'assistant'})]"
      ]
     },
     "execution_count": 7,
     "metadata": {},
     "output_type": "execute_result"
    }
   ],
   "source": [
    "from aiconfig import AIConfigRuntime\n",
    "\n",
    "config = AIConfigRuntime.load(\"cookbooks/Chain-of-Verification/cove_template_config.json\")\n",
    "\n",
    "await config.run(\"baseline_response_gen\", params = {\"baseline_prompt\":\"tell me a joke\"})"
   ]
  },
  {
   "cell_type": "code",
   "execution_count": 8,
   "metadata": {},
   "outputs": [
    {
     "data": {
      "text/plain": [
       "[ExecuteResult(output_type='execute_result', execution_count=0, data=\"Sure, here's a classic one for you:\\n\\nWhy don't scientists trust atoms?\\n\\nBecause they make up everything!\", mime_type=None, metadata={'id': 'chatcmpl-8eqVykh3V4utVoH8XAiGWQYVugMZr', 'created': 1704745678, 'model': 'gpt-3.5-turbo-0613', 'object': 'chat.completion.chunk', 'raw_response': {'content': \"Sure, here's a classic one for you:\\n\\nWhy don't scientists trust atoms?\\n\\nBecause they make up everything!\", 'role': 'assistant'}, 'role': 'assistant'})]"
      ]
     },
     "execution_count": 8,
     "metadata": {},
     "output_type": "execute_result"
    }
   ],
   "source": [
    "config.delete_output(\"baseline_response_gen\")"
   ]
  },
  {
   "cell_type": "code",
   "execution_count": 9,
   "metadata": {},
   "outputs": [],
   "source": [
    "config.save()"
   ]
  },
  {
   "cell_type": "code",
   "execution_count": null,
   "metadata": {},
   "outputs": [],
   "source": []
  }
 ],
 "metadata": {
  "language_info": {
   "name": "python"
  }
 },
 "nbformat": 4,
 "nbformat_minor": 2
}

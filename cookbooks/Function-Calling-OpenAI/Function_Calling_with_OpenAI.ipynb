{
  "cells": [
    {
      "cell_type": "markdown",
      "metadata": {
        "id": "_KIVLBz840Bi"
      },
      "source": [
        "# Function Calling with OpenAI\n",
        "The notebook includes a mock database of books and functions to list, search, and retrieve books. It illustrates how to use the AI model to interpret a user's question, determine the appropriate function to call, and execute the function. This notebook serves as a practical guide for leveraging AIConfig and function calling with OpenAI models. Read more about [Function Calling with Open AI](https://openai.com/blog/function-calling-and-other-api-updates) and [AIConfig for prompt and model management](https://github.com/lastmile-ai/aiconfig)."
      ]
    },
    {
      "cell_type": "code",
      "execution_count": null,
      "metadata": {
        "id": "51w-3OZC_Z97"
      },
      "outputs": [],
      "source": [
        "# Install and Set OpenAI Key\n",
        "!pip install python-aiconfig\n",
        "from google.colab import userdata\n",
        "\n",
        "import openai\n",
        "import os\n",
        "\n",
        "openai.api_key = userdata.get('openai_key')"
      ]
    },
    {
      "cell_type": "code",
      "execution_count": 33,
      "metadata": {
        "id": "6cAw1ekXCxGn"
      },
      "outputs": [],
      "source": [
        "# Load AI Config\n",
        "from aiconfig.Config import AIConfigRuntime, CallbackManager, InferenceOptions\n",
        "\n",
        "config_file_path = \"function-call.aiconfig.json\"\n",
        "config = AIConfigRuntime.load(config_file_path)\n",
        "config.callback_manager = CallbackManager([])"
      ]
    },
    {
      "cell_type": "code",
      "execution_count": null,
      "metadata": {
        "id": "KP-CTNZBKN_J"
      },
      "outputs": [],
      "source": [
        "# Define db of books\n",
        "db = [\n",
        "    {\n",
        "        'id': 'a1',\n",
        "        'name': 'To Kill a Mockingbird',\n",
        "        'genre': 'historical',\n",
        "        'description': ('Compassionate, dramatic, and deeply moving, \"To Kill A Mockingbird\" takes readers to the roots of human behavior - to innocence and experience, kindness and cruelty, love and hatred, humor and pathos. Now with over 18 million copies in print and translated into forty languages, this regional story by a young Alabama woman claims universal appeal. Harper Lee always considered her book to be a simple love story. Today it is regarded as a masterpiece of American literature.'),\n",
        "    },\n",
        "    {\n",
        "        'id': 'a2',\n",
        "        'name': 'All the Light We Cannot See',\n",
        "        'genre': 'historical',\n",
        "        'description': ('In a mining town in Germany, Werner Pfennig, an orphan, grows up with his younger sister, enchanted by a crude radio they find that brings them news and stories from places they have never seen or imagined. Werner becomes an expert at building and fixing these crucial new instruments and is enlisted to use his talent to track down the resistance. Deftly interweaving the lives of Marie-Laure and Werner, Doerr illuminates the ways, against all odds, people try to be good to one another.'),\n",
        "    },\n",
        "    {\n",
        "        'id': 'a3',\n",
        "        'name': 'Where the Crawdads Sing',\n",
        "        'genre': 'historical',\n",
        "        'description': ('For years, rumors of the “Marsh Girl” haunted Barkley Cove, a quiet fishing village. Kya Clark is barefoot and wild; unfit for polite society. So in late 1969, when the popular Chase Andrews is found dead, locals immediately suspect her.\\n\\n'\n",
        "                        'But Kya is not what they say. A born naturalist with just one day of school, she takes life\\'s lessons from the land, learning the real ways of the world from the dishonest signals of fireflies. But while she has the skills to live in solitude forever, the time comes when she yearns to be touched and loved. Drawn to two young men from town, who are each intrigued by her wild beauty, Kya opens herself to a new and startling world—until the unthinkable happens.'),\n",
        "    },\n",
        "]"
      ]
    },
    {
      "cell_type": "code",
      "execution_count": 36,
      "metadata": {
        "id": "nbolW2mVDeZD"
      },
      "outputs": [],
      "source": [
        "# Define the functions: list, search, get\n",
        "\n",
        "# The 'list' function returns a list of books in a specified genre.\n",
        "def list(genre):\n",
        "    return [item for item in db if item['genre'] == genre]\n",
        "\n",
        "# The 'search' function returns a list of books that match the provided name.\n",
        "def search(name):\n",
        "    return [item for item in db if name in item['name']]\n",
        "\n",
        "# The 'get' function returns detailed information about a book based on its ID.\n",
        "# Note: This function accepts only IDs, not names. Use the 'search' function to find a book's ID.\n",
        "def get(id):\n",
        "    for item in db:\n",
        "        if item['id'] == id:\n",
        "            return item\n",
        "    return None"
      ]
    },
    {
      "cell_type": "code",
      "execution_count": null,
      "metadata": {
        "id": "o7eJfimvLa3X"
      },
      "outputs": [],
      "source": [
        "# 'call_function' is a helper function that executes the function specified by the LLM's output for 'function_call'.\n",
        "# It handles 'list', 'search', or 'get' functions, and raises a ValueError for unknown functions.\n",
        "import json\n",
        "\n",
        "def call_function(function_call):\n",
        "    args = json.loads(function_call['arguments'])\n",
        "    name = function_call['name']\n",
        "\n",
        "    if name == 'list':\n",
        "        return list(args['genre'])\n",
        "    elif name == 'search':\n",
        "        return search(args['name'])\n",
        "    elif name == 'get':\n",
        "        return get(args['id'])\n",
        "    else:\n",
        "        raise ValueError('No function found')"
      ]
    },
    {
      "cell_type": "code",
      "execution_count": 34,
      "metadata": {
        "colab": {
          "base_uri": "https://localhost:8080/",
          "height": 0
        },
        "id": "jD9S3q5mMtqd",
        "outputId": "ff511e31-7859-49b5-fe29-d2c675222084"
      },
      "outputs": [
        {
          "output_type": "stream",
          "name": "stdout",
          "text": [
            "{'arguments': '{\\n  \"name\": \"Where the Crawdads Sing\"\\n}', 'name': 'search'}\n"
          ]
        }
      ],
      "source": [
        "# Run recommendBook prompt with gpt-3.5 and determine right function to call based on user question\n",
        "params = {\"book\":\"Where the Crawdads Sing\"}\n",
        "inference_options = InferenceOptions(stream=True)\n",
        "\n",
        "completion = await config.run(\"recommendBook\", params, options=inference_options)\n",
        "\n",
        "func_call = completion[0].data.get('function_call')\n",
        "print(func_call)\n"
      ]
    },
    {
      "cell_type": "code",
      "execution_count": 35,
      "metadata": {
        "colab": {
          "base_uri": "https://localhost:8080/",
          "height": 0
        },
        "id": "CZ_NhrvrTCu8",
        "outputId": "0cdcb841-c482-4b0a-f9d7-e06ba4af694d"
      },
      "outputs": [
        {
          "output_type": "stream",
          "name": "stdout",
          "text": [
            "[\n",
            "    {\n",
            "        \"id\": \"a3\",\n",
            "        \"name\": \"Where the Crawdads Sing\",\n",
            "        \"genre\": \"historical\",\n",
            "        \"description\": \"For years, rumors of the \\u201cMarsh Girl\\u201d haunted Barkley Cove, a quiet fishing village. Kya Clark is barefoot and wild; unfit for polite society. So in late 1969, when the popular Chase Andrews is found dead, locals immediately suspect her.\\n\\nBut Kya is not what they say. A born naturalist with just one day of school, she takes life's lessons from the land, learning the real ways of the world from the dishonest signals of fireflies. But while she has the skills to live in solitude forever, the time comes when she yearns to be touched and loved. Drawn to two young men from town, who are each intrigued by her wild beauty, Kya opens herself to a new and startling world\\u2014until the unthinkable happens.\"\n",
            "    }\n",
            "]\n"
          ]
        }
      ],
      "source": [
        "# Run call_function to execute the LLM-specified function (list, search, get)\n",
        "value = call_function(func_call)\n",
        "print(json.dumps(value, indent=4)\n",
        ")"
      ]
    },
    {
      "cell_type": "code",
      "execution_count": null,
      "metadata": {
        "id": "0QZHtalIVGQB"
      },
      "outputs": [],
      "source": []
    }
  ],
  "metadata": {
    "colab": {
      "provenance": []
    },
    "kernelspec": {
      "display_name": "Python 3",
      "name": "python3"
    },
    "language_info": {
      "name": "python"
    }
  },
  "nbformat": 4,
  "nbformat_minor": 0
}
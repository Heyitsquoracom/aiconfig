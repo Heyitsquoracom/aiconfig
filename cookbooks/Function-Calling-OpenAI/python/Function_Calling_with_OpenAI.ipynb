{
  "cells": [
    {
      "attachments": {},
      "cell_type": "markdown",
      "metadata": {
        "id": "_KIVLBz840Bi"
      },
      "source": [
        "# Function Calling with OpenAI & AIConfig\n",
        "This notebook serves as a practical guide for leveraging AIConfig and function calling with OpenAI models. We start with a mock database of books and functions to list, search, and retrieve books. Function calling is enabled so the LLM can interpret a user's question, determine the appropriate function to call, and execute the function. Read more about [Function Calling with Open AI](https://openai.com/blog/function-calling-and-other-api-updates) and [AIConfig for prompt and model management](https://github.com/lastmile-ai/aiconfig)."
      ]
    },
    {
      "cell_type": "code",
      "execution_count": 13,
      "metadata": {
        "id": "51w-3OZC_Z97"
      },
      "outputs": [
        {
          "name": "stdout",
          "output_type": "stream",
          "text": [
            "\u001b[31mERROR: Could not find a version that satisfies the requirement python-aico (from versions: none)\u001b[0m\u001b[31m\n",
            "\u001b[0m\u001b[31mERROR: No matching distribution found for python-aico\u001b[0m\u001b[31m\n",
            "\u001b[0m\n",
            "\u001b[1m[\u001b[0m\u001b[34;49mnotice\u001b[0m\u001b[1;39;49m]\u001b[0m\u001b[39;49m A new release of pip is available: \u001b[0m\u001b[31;49m23.3.1\u001b[0m\u001b[39;49m -> \u001b[0m\u001b[32;49m23.3.2\u001b[0m\n",
            "\u001b[1m[\u001b[0m\u001b[34;49mnotice\u001b[0m\u001b[1;39;49m]\u001b[0m\u001b[39;49m To update, run: \u001b[0m\u001b[32;49mpython3.11 -m pip install --upgrade pip\u001b[0m\n"
          ]
        }
      ],
      "source": [
        "# Install AIConfig package\n",
        "!pip3 install python-aiconfig\n",
        "\n",
        "# Create .env file at aiconfig/.env containing the following line: \n",
        "# OPENAI_API_KEY=<your key here>\n",
        "# You can get your key from https://platform.openai.com/api-keys\n",
        "import openai\n",
        "import dotenv\n",
        "import os\n",
        "dotenv.load_dotenv()\n",
        "openai.api_key = os.getenv(\"OPENAI_API_KEY\")"
      ]
    },
    {
      "attachments": {},
      "cell_type": "markdown",
      "metadata": {
        "id": "rXJJiDO6gbOK"
      },
      "source": [
        "## Set up the books DB"
      ]
    },
    {
      "cell_type": "code",
      "execution_count": 2,
      "metadata": {
        "id": "KP-CTNZBKN_J"
      },
      "outputs": [],
      "source": [
        "# Define db of books\n",
        "db = [\n",
        "    {\n",
        "        'id': 'a1',\n",
        "        'name': 'To Kill a Mockingbird',\n",
        "        'genre': 'historical',\n",
        "        'description': ('Compassionate, dramatic, and deeply moving, \"To Kill A Mockingbird\" takes readers to the roots of human behavior - to innocence and experience, kindness and cruelty, love and hatred, humor and pathos. Now with over 18 million copies in print and translated into forty languages, this regional story by a young Alabama woman claims universal appeal. Harper Lee always considered her book to be a simple love story. Today it is regarded as a masterpiece of American literature.'),\n",
        "    },\n",
        "    {\n",
        "        'id': 'a2',\n",
        "        'name': 'All the Light We Cannot See',\n",
        "        'genre': 'historical',\n",
        "        'description': ('In a mining town in Germany, Werner Pfennig, an orphan, grows up with his younger sister, enchanted by a crude radio they find that brings them news and stories from places they have never seen or imagined. Werner becomes an expert at building and fixing these crucial new instruments and is enlisted to use his talent to track down the resistance. Deftly interweaving the lives of Marie-Laure and Werner, Doerr illuminates the ways, against all odds, people try to be good to one another.'),\n",
        "    },\n",
        "    {\n",
        "        'id': 'a3',\n",
        "        'name': 'Where the Crawdads Sing',\n",
        "        'genre': 'historical',\n",
        "        'description': ('For years, rumors of the “Marsh Girl” haunted Barkley Cove, a quiet fishing village. Kya Clark is barefoot and wild; unfit for polite society. So in late 1969, when the popular Chase Andrews is found dead, locals immediately suspect her.\\n\\n'\n",
        "                        'But Kya is not what they say. A born naturalist with just one day of school, she takes life\\'s lessons from the land, learning the real ways of the world from the dishonest signals of fireflies. But while she has the skills to live in solitude forever, the time comes when she yearns to be touched and loved. Drawn to two young men from town, who are each intrigued by her wild beauty, Kya opens herself to a new and startling world—until the unthinkable happens.'),\n",
        "    },\n",
        "]"
      ]
    },
    {
      "attachments": {},
      "cell_type": "markdown",
      "metadata": {
        "id": "dCiJurzKgnqB"
      },
      "source": [
        "## Define functions (to interact with DB)"
      ]
    },
    {
      "cell_type": "code",
      "execution_count": 3,
      "metadata": {
        "id": "nbolW2mVDeZD"
      },
      "outputs": [],
      "source": [
        "# Define the functions: list, search, get\n",
        "\n",
        "# The 'list' function returns a list of books in a specified genre.\n",
        "def list(genre):\n",
        "    return [item for item in db if item['genre'] == genre]\n",
        "\n",
        "# The 'search' function returns a list of books that match the provided name.\n",
        "def search(name):\n",
        "    return [item for item in db if name in item['name']]\n",
        "\n",
        "# The 'get' function returns detailed information about a book based on its ID.\n",
        "# Note: This function accepts only IDs, not names. Use the 'search' function to find a book's ID.\n",
        "def get(id):\n",
        "    for item in db:\n",
        "        if item['id'] == id:\n",
        "            return item\n",
        "    return None"
      ]
    },
    {
      "attachments": {},
      "cell_type": "markdown",
      "metadata": {
        "id": "LYBn5kNagQrt"
      },
      "source": [
        "## Create your AIConfig"
      ]
    },
    {
      "cell_type": "code",
      "execution_count": 4,
      "metadata": {
        "id": "6CfogMKmh9OU"
      },
      "outputs": [
        {
          "name": "stderr",
          "output_type": "stream",
          "text": [
            "/opt/homebrew/lib/python3.11/site-packages/pydantic/_internal/_fields.py:128: UserWarning: Field \"model_parsers\" has conflict with protected namespace \"model_\".\n",
            "\n",
            "You may be able to resolve this warning by setting `model_config['protected_namespaces'] = ()`.\n",
            "  warnings.warn(\n",
            "/opt/homebrew/lib/python3.11/site-packages/tqdm/auto.py:21: TqdmWarning: IProgress not found. Please update jupyter and ipywidgets. See https://ipywidgets.readthedocs.io/en/stable/user_install.html\n",
            "  from .autonotebook import tqdm as notebook_tqdm\n"
          ]
        }
      ],
      "source": [
        "from aiconfig import AIConfigRuntime, InferenceOptions\n",
        "\n",
        "# Load the aiconfig.\n",
        "config = AIConfigRuntime.create(name=\"Book Finder\", description=\"Use OpenAI function calling to help recommend books\")"
      ]
    },
    {
      "cell_type": "code",
      "execution_count": 5,
      "metadata": {
        "id": "_FJXnnbTgPsZ"
      },
      "outputs": [],
      "source": [
        "\n",
        "model = \"gpt-3.5-turbo\"\n",
        "data = {\n",
        "    \"model\": model,\n",
        "    \"messages\": [\n",
        "        {\n",
        "            \"role\": \"system\",\n",
        "            \"content\": \"Please use our book database, which you can access using functions to answer the following questions.\"\n",
        "        },\n",
        "        {\n",
        "            \"role\": \"user\",\n",
        "            \"content\": \"I really enjoyed reading {{book}}, could you recommend me a book that is similar and tell me why?\"\n",
        "        }\n",
        "    ],\n",
        "    \"functions\": [\n",
        "        {\n",
        "          \"name\": \"list\",\n",
        "          \"description\": \"list queries books by genre, and returns a list of names of books\",\n",
        "          \"parameters\": {\n",
        "            \"type\": \"object\",\n",
        "            \"properties\": {\n",
        "              \"genre\": {\n",
        "                \"type\": \"string\",\n",
        "                \"enum\": [\n",
        "                  \"mystery\",\n",
        "                  \"nonfiction\",\n",
        "                  \"memoir\",\n",
        "                  \"romance\",\n",
        "                  \"historical\"\n",
        "                ]\n",
        "              }\n",
        "            }\n",
        "          }\n",
        "        },\n",
        "        {\n",
        "          \"name\": \"search\",\n",
        "          \"description\": \"search queries books by their name and returns a list of book names and their ids\",\n",
        "          \"parameters\": {\n",
        "            \"type\": \"object\",\n",
        "            \"properties\": {\n",
        "              \"name\": {\n",
        "                \"type\": \"string\"\n",
        "              }\n",
        "            }\n",
        "          }\n",
        "        },\n",
        "        {\n",
        "          \"name\": \"get\",\n",
        "          \"description\": \"get returns a book's detailed information based on the id of the book. Note that this does not accept names, and only IDs, which you can get by using search.\",\n",
        "          \"parameters\": {\n",
        "            \"type\": \"object\",\n",
        "            \"properties\": {\n",
        "              \"id\": {\n",
        "                \"type\": \"string\"\n",
        "              }\n",
        "            }\n",
        "          }\n",
        "        }\n",
        "    ]\n",
        "}\n",
        "\n",
        "new_prompts = await config.serialize(model, data, prompt_name=\"recommend_book\", params={\"book\": \"To Kill a Mockingbird\"})\n",
        "config.add_prompt(prompt_name=\"recommend_book\", prompt_data=new_prompts[0])"
      ]
    },
    {
      "cell_type": "code",
      "execution_count": 6,
      "metadata": {
        "id": "PYactbhxgOr1"
      },
      "outputs": [],
      "source": [
        "config.save(\"recommender.aiconfig.json\")"
      ]
    },
    {
      "attachments": {},
      "cell_type": "markdown",
      "metadata": {
        "id": "ni_umLSdjAAT"
      },
      "source": [
        "## Get recommendations using function calls"
      ]
    },
    {
      "cell_type": "code",
      "execution_count": 7,
      "metadata": {
        "id": "o7eJfimvLa3X"
      },
      "outputs": [],
      "source": [
        "# Use helper function to executes the function specified by the LLM's output for 'function_call'.\n",
        "# It handles 'list', 'search', or 'get' functions, and raises a ValueError for unknown functions.\n",
        "import json\n",
        "\n",
        "def call_function(function_call):\n",
        "    args = json.loads(function_call.arguments)\n",
        "    name = function_call.name\n",
        "\n",
        "    if name == 'list':\n",
        "        return list(args['genre'])\n",
        "    elif name == 'search':\n",
        "        return search(args['name'])\n",
        "    elif name == 'get':\n",
        "        return get(args['id'])\n",
        "    else:\n",
        "        raise ValueError('No function found')"
      ]
    },
    {
      "cell_type": "code",
      "execution_count": 8,
      "metadata": {
        "id": "jD9S3q5mMtqd"
      },
      "outputs": [
        {
          "name": "stdout",
          "output_type": "stream",
          "text": [
            "message={'function_call': {'arguments': '{\\n  \"name\": \"Where the Crawdads Sing\"\\n}', 'name': 'search'}, 'role': 'assistant'}\n",
            "result[0].data=OutputDataWithToolCallsValue(kind='tool_calls', value=[ToolCallData(id='function_call_data', function=FunctionCallData(arguments='{\\n  \"name\": \"Where the Crawdads Sing\"\\n}', name='search'), type='function')])\n",
            "result=[ExecuteResult(output_type='execute_result', execution_count=0, data=OutputDataWithToolCallsValue(kind='tool_calls', value=[ToolCallData(id='function_call_data', function=FunctionCallData(arguments='{\\n  \"name\": \"Where the Crawdads Sing\"\\n}', name='search'), type='function')]), mime_type=None, metadata={'id': 'chatcmpl-8dVBq80v35E7BWGVdjpTv0oPnvSW6', 'created': 1704425378, 'model': 'gpt-3.5-turbo-0613', 'object': 'chat.completion.chunk', 'raw_response': {'function_call': {'arguments': '{\\n  \"name\": \"Where the Crawdads Sing\"\\n}', 'name': 'search'}, 'role': 'assistant'}, 'role': 'assistant'})]\n",
            "tool_calls=[ToolCallData(id='function_call_data', function=FunctionCallData(arguments='{\\n  \"name\": \"Where the Crawdads Sing\"\\n}', name='search'), type='function')]\n",
            "arguments='{\\n  \"name\": \"Where the Crawdads Sing\"\\n}' name='search'\n"
          ]
        }
      ],
      "source": [
        "# Run recommendBook prompt with gpt-3.5 and determine right function to call based on user question\n",
        "params = {\"book\":\"Where the Crawdads Sing\"}\n",
        "inference_options = InferenceOptions(stream=True)\n",
        "\n",
        "result = await config.run(\"recommend_book\", params, options=inference_options)\n",
        "tool_calls = result[0].data.value\n",
        "func_call = tool_calls[0].function\n"
      ]
    },
    {
      "cell_type": "code",
      "execution_count": 9,
      "metadata": {
        "id": "CZ_NhrvrTCu8"
      },
      "outputs": [
        {
          "name": "stdout",
          "output_type": "stream",
          "text": [
            "[\n",
            "    {\n",
            "        \"id\": \"a3\",\n",
            "        \"name\": \"Where the Crawdads Sing\",\n",
            "        \"genre\": \"historical\",\n",
            "        \"description\": \"For years, rumors of the \\u201cMarsh Girl\\u201d haunted Barkley Cove, a quiet fishing village. Kya Clark is barefoot and wild; unfit for polite society. So in late 1969, when the popular Chase Andrews is found dead, locals immediately suspect her.\\n\\nBut Kya is not what they say. A born naturalist with just one day of school, she takes life's lessons from the land, learning the real ways of the world from the dishonest signals of fireflies. But while she has the skills to live in solitude forever, the time comes when she yearns to be touched and loved. Drawn to two young men from town, who are each intrigued by her wild beauty, Kya opens herself to a new and startling world\\u2014until the unthinkable happens.\"\n",
            "    }\n",
            "]\n"
          ]
        }
      ],
      "source": [
        "# Run call_function to execute the LLM-specified function (list, search, get)\n",
        "value = call_function(func_call)\n",
        "print(json.dumps(value, indent=4)\n",
        ")"
      ]
    },
    {
      "attachments": {},
      "cell_type": "markdown",
      "metadata": {
        "id": "MKEf1idOjkvk"
      },
      "source": [
        "## Using GPT to generate a user-friendly response"
      ]
    },
    {
      "cell_type": "code",
      "execution_count": 10,
      "metadata": {
        "id": "0QZHtalIVGQB"
      },
      "outputs": [],
      "source": [
        "data = {\n",
        "    \"model\": model,\n",
        "    \"messages\": [\n",
        "        {\n",
        "            \"role\": \"user\",\n",
        "            \"content\": \"Here is some data about a book from a books DB - please write a short description about the book as if you're a librarian. Data: {{book_info}}\"\n",
        "        }\n",
        "    ]\n",
        "}\n",
        "\n",
        "new_prompts = await config.serialize(model, data, prompt_name=\"gen_summary\")\n",
        "config.add_prompt(prompt_name=\"gen_summary\", prompt_data=new_prompts[0])"
      ]
    },
    {
      "cell_type": "code",
      "execution_count": 11,
      "metadata": {
        "id": "Xd-4rg5lj8lp"
      },
      "outputs": [
        {
          "name": "stdout",
          "output_type": "stream",
          "text": [
            "Where the Crawdads Sing is a captivating historical novel that takes place in the quiet fishing village of Barkley Cove. For years, the locals have been haunted by rumors of the mysterious \"Marsh Girl,\" Kya Clark. Unfit for polite society, Kya is a wild and barefoot girl who has only had one day of formal education. When the popular Chase Andrews is found dead in late 1969, the townspeople immediately suspect Kya.\n",
            "\n",
            "However, Kya is not what they say. She is a naturalist at heart, learning life's lessons from the land and the creatures that inhabit it. Despite her ability to survive in solitude, she longs for human connection and love. As she becomes drawn to two young men from town, Kya embarks on a journey to a new and startling world. But just as things seem to be looking up, something unthinkable occurs.\n",
            "\n",
            "Similar to To Kill a Mockingbird, Where the Crawdads Sing explores themes of prejudice, injustice, and the resilience of the human spirit. Both books feature complex and relatable characters who face adversity in their respective communities. Both stories also delve into the power of nature and how it can shape a person's worldview. If you enjoyed the rich atmosphere, compelling characters, and thought-provoking themes of To Kill a Mockingbird, Where the Crawdads Sing is sure to capture your imagination.message={'content': 'Where the Crawdads Sing is a captivating historical novel that takes place in the quiet fishing village of Barkley Cove. For years, the locals have been haunted by rumors of the mysterious \"Marsh Girl,\" Kya Clark. Unfit for polite society, Kya is a wild and barefoot girl who has only had one day of formal education. When the popular Chase Andrews is found dead in late 1969, the townspeople immediately suspect Kya.\\n\\nHowever, Kya is not what they say. She is a naturalist at heart, learning life\\'s lessons from the land and the creatures that inhabit it. Despite her ability to survive in solitude, she longs for human connection and love. As she becomes drawn to two young men from town, Kya embarks on a journey to a new and startling world. But just as things seem to be looking up, something unthinkable occurs.\\n\\nSimilar to To Kill a Mockingbird, Where the Crawdads Sing explores themes of prejudice, injustice, and the resilience of the human spirit. Both books feature complex and relatable characters who face adversity in their respective communities. Both stories also delve into the power of nature and how it can shape a person\\'s worldview. If you enjoyed the rich atmosphere, compelling characters, and thought-provoking themes of To Kill a Mockingbird, Where the Crawdads Sing is sure to capture your imagination.', 'role': 'assistant'}\n"
          ]
        }
      ],
      "source": [
        "result = await config.run(\"gen_summary\", params={\"book_info\": value}, options=inference_options)"
      ]
    },
    {
      "cell_type": "code",
      "execution_count": 12,
      "metadata": {
        "id": "4l-buJXglaLw"
      },
      "outputs": [],
      "source": [
        "config.save(\"recommender.aiconfig.json\")"
      ]
    }
  ],
  "metadata": {
    "colab": {
      "provenance": []
    },
    "kernelspec": {
      "display_name": "Python 3",
      "name": "python3"
    },
    "language_info": {
      "codemirror_mode": {
        "name": "ipython",
        "version": 3
      },
      "file_extension": ".py",
      "mimetype": "text/x-python",
      "name": "python",
      "nbconvert_exporter": "python",
      "pygments_lexer": "ipython3",
      "version": "3.11.6"
    }
  },
  "nbformat": 4,
  "nbformat_minor": 0
}

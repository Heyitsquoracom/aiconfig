{
 "cells": [
  {
   "cell_type": "code",
   "execution_count": 3,
   "metadata": {},
   "outputs": [],
   "source": [
    "from aiconfig import AIConfigRuntime\n",
    "\n",
    "aiconfigRuntimeInstance = AIConfigRuntime.load(\"../travel.aiconfig.json\")"
   ]
  },
  {
   "cell_type": "code",
   "execution_count": 5,
   "metadata": {},
   "outputs": [],
   "source": [
    "from aiconfig import CallbackEvent\n",
    "\n",
    "async def my_logging_callback(event: CallbackEvent) -> None:\n",
    "  print(f\"Event triggered: {event.name}\", event)"
   ]
  },
  {
   "cell_type": "code",
   "execution_count": 6,
   "metadata": {},
   "outputs": [],
   "source": [
    "from aiconfig import CallbackManager\n",
    "\n",
    "callback_manager = CallbackManager([my_logging_callback])\n",
    "aiconfigRuntimeInstance.set_callback_manager(callback_manager)"
   ]
  },
  {
   "cell_type": "code",
   "execution_count": 7,
   "metadata": {},
   "outputs": [],
   "source": [
    "custom_timeout = 10; # 10 seconds\n",
    "callback_manager = CallbackManager([my_logging_callback], custom_timeout)\n",
    "aiconfigRuntimeInstance.set_callback_manager(callback_manager)"
   ]
  }
 ],
 "metadata": {
  "kernelspec": {
   "display_name": "Python 3",
   "language": "python",
   "name": "python3"
  },
  "language_info": {
   "codemirror_mode": {
    "name": "ipython",
    "version": 3
   },
   "file_extension": ".py",
   "mimetype": "text/x-python",
   "name": "python",
   "nbconvert_exporter": "python",
   "pygments_lexer": "ipython3",
   "version": "3.11.5"
  }
 },
 "nbformat": 4,
 "nbformat_minor": 2
}

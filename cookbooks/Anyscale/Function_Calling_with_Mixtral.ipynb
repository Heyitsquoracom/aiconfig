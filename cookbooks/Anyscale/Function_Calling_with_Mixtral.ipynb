{
  "cells": [
    {
      "attachments": {},
      "cell_type": "markdown",
      "metadata": {
        "id": "_KIVLBz840Bi"
      },
      "source": [
        "# Function Calling with Anyscale Endpoints & AIConfig\n",
        "\n",
        "This notebook serves as a practical guide for leveraging AIConfig and function calling with Anyscale Endpoints. We start with a mock database of books and functions to list, search, and retrieve books. Function calling is enabled so the LLM can interpret a user's question, determine the appropriate function to call, and execute the function. \n",
        "\n",
        "This guide shows how to achieve the [OpenAI function calling demo](https://github.com/openai/openai-node/blob/v4/examples/function-call-stream.ts) using Anyscale Endpoints instead (and using Mixtral-8x7B instead of GPT-4).\n",
        "\n",
        "Read more about [Function Calling with Anyscale Endpoints](https://docs.endpoints.anyscale.com/guides/function-calling) and [AIConfig for prompt and model management](https://github.com/lastmile-ai/aiconfig)."
      ]
    },
    {
      "cell_type": "code",
      "execution_count": null,
      "metadata": {},
      "outputs": [],
      "source": [
        "# Install AIConfig package\n",
        "%pip install python-aiconfig"
      ]
    },
    {
      "cell_type": "code",
      "execution_count": 1,
      "metadata": {},
      "outputs": [
        {
          "name": "stdout",
          "output_type": "stream",
          "text": [
            "Obtaining file:///Users/saqadri/lm/aiconfig/python\n",
            "  Installing build dependencies ... \u001b[?25ldone\n",
            "\u001b[?25h  Checking if build backend supports build_editable ... \u001b[?25ldone\n",
            "\u001b[?25h  Getting requirements to build editable ... \u001b[?25ldone\n",
            "\u001b[?25h  Preparing editable metadata (pyproject.toml) ... \u001b[?25ldone\n",
            "\u001b[?25hRequirement already satisfied: black in /opt/homebrew/Caskroom/miniconda/base/envs/aiconfig/lib/python3.12/site-packages (from python-aiconfig==1.1.8) (23.11.0)\n",
            "Requirement already satisfied: flake8 in /opt/homebrew/Caskroom/miniconda/base/envs/aiconfig/lib/python3.12/site-packages (from python-aiconfig==1.1.8) (6.1.0)\n",
            "Requirement already satisfied: flask-cors in /opt/homebrew/Caskroom/miniconda/base/envs/aiconfig/lib/python3.12/site-packages (from python-aiconfig==1.1.8) (4.0.0)\n",
            "Requirement already satisfied: flask[async] in /opt/homebrew/Caskroom/miniconda/base/envs/aiconfig/lib/python3.12/site-packages (from python-aiconfig==1.1.8) (3.0.0)\n",
            "Requirement already satisfied: google-generativeai in /opt/homebrew/Caskroom/miniconda/base/envs/aiconfig/lib/python3.12/site-packages (from python-aiconfig==1.1.8) (0.3.2)\n",
            "Requirement already satisfied: huggingface-hub in /opt/homebrew/Caskroom/miniconda/base/envs/aiconfig/lib/python3.12/site-packages (from python-aiconfig==1.1.8) (0.20.1)\n",
            "Requirement already satisfied: hypothesis==6.91.0 in /opt/homebrew/Caskroom/miniconda/base/envs/aiconfig/lib/python3.12/site-packages (from python-aiconfig==1.1.8) (6.91.0)\n",
            "Requirement already satisfied: lastmile-utils==0.0.14 in /opt/homebrew/Caskroom/miniconda/base/envs/aiconfig/lib/python3.12/site-packages (from python-aiconfig==1.1.8) (0.0.14)\n",
            "Requirement already satisfied: mock in /opt/homebrew/Caskroom/miniconda/base/envs/aiconfig/lib/python3.12/site-packages (from python-aiconfig==1.1.8) (5.1.0)\n",
            "Requirement already satisfied: nest-asyncio in /opt/homebrew/Caskroom/miniconda/base/envs/aiconfig/lib/python3.12/site-packages (from python-aiconfig==1.1.8) (1.5.8)\n",
            "Requirement already satisfied: nltk in /opt/homebrew/Caskroom/miniconda/base/envs/aiconfig/lib/python3.12/site-packages (from python-aiconfig==1.1.8) (3.8.1)\n",
            "Requirement already satisfied: openai<1.5,>=1.0.0 in /opt/homebrew/Caskroom/miniconda/base/envs/aiconfig/lib/python3.12/site-packages (from python-aiconfig==1.1.8) (1.4.0)\n",
            "Requirement already satisfied: prompt-toolkit in /opt/homebrew/Caskroom/miniconda/base/envs/aiconfig/lib/python3.12/site-packages (from python-aiconfig==1.1.8) (3.0.42)\n",
            "Requirement already satisfied: pybars3 in /opt/homebrew/Caskroom/miniconda/base/envs/aiconfig/lib/python3.12/site-packages (from python-aiconfig==1.1.8) (0.9.7)\n",
            "Requirement already satisfied: pydantic>=2.1 in /opt/homebrew/Caskroom/miniconda/base/envs/aiconfig/lib/python3.12/site-packages (from python-aiconfig==1.1.8) (2.4.2)\n",
            "Requirement already satisfied: pylint in /opt/homebrew/Caskroom/miniconda/base/envs/aiconfig/lib/python3.12/site-packages (from python-aiconfig==1.1.8) (3.0.2)\n",
            "Requirement already satisfied: pytest in /opt/homebrew/Caskroom/miniconda/base/envs/aiconfig/lib/python3.12/site-packages (from python-aiconfig==1.1.8) (7.4.3)\n",
            "Requirement already satisfied: pytest-asyncio in /opt/homebrew/Caskroom/miniconda/base/envs/aiconfig/lib/python3.12/site-packages (from python-aiconfig==1.1.8) (0.23.3)\n",
            "Requirement already satisfied: python-dotenv in /opt/homebrew/Caskroom/miniconda/base/envs/aiconfig/lib/python3.12/site-packages (from python-aiconfig==1.1.8) (1.0.0)\n",
            "Requirement already satisfied: pyyaml in /opt/homebrew/Caskroom/miniconda/base/envs/aiconfig/lib/python3.12/site-packages (from python-aiconfig==1.1.8) (6.0.1)\n",
            "Requirement already satisfied: requests in /opt/homebrew/Caskroom/miniconda/base/envs/aiconfig/lib/python3.12/site-packages (from python-aiconfig==1.1.8) (2.31.0)\n",
            "Requirement already satisfied: result in /opt/homebrew/Caskroom/miniconda/base/envs/aiconfig/lib/python3.12/site-packages (from python-aiconfig==1.1.8) (0.15.0)\n",
            "Requirement already satisfied: attrs>=19.2.0 in /opt/homebrew/Caskroom/miniconda/base/envs/aiconfig/lib/python3.12/site-packages (from hypothesis==6.91.0->python-aiconfig==1.1.8) (23.2.0)\n",
            "Requirement already satisfied: sortedcontainers<3.0.0,>=2.1.0 in /opt/homebrew/Caskroom/miniconda/base/envs/aiconfig/lib/python3.12/site-packages (from hypothesis==6.91.0->python-aiconfig==1.1.8) (2.4.0)\n",
            "Requirement already satisfied: chardet==5.2.0 in /opt/homebrew/Caskroom/miniconda/base/envs/aiconfig/lib/python3.12/site-packages (from lastmile-utils==0.0.14->python-aiconfig==1.1.8) (5.2.0)\n",
            "Requirement already satisfied: isort==5.12.0 in /opt/homebrew/Caskroom/miniconda/base/envs/aiconfig/lib/python3.12/site-packages (from lastmile-utils==0.0.14->python-aiconfig==1.1.8) (5.12.0)\n",
            "Requirement already satisfied: jsoncomment==0.4.2 in /opt/homebrew/Caskroom/miniconda/base/envs/aiconfig/lib/python3.12/site-packages (from lastmile-utils==0.0.14->python-aiconfig==1.1.8) (0.4.2)\n",
            "Requirement already satisfied: pandas==2.1.2 in /opt/homebrew/Caskroom/miniconda/base/envs/aiconfig/lib/python3.12/site-packages (from lastmile-utils==0.0.14->python-aiconfig==1.1.8) (2.1.2)\n",
            "Requirement already satisfied: pyright==1.1.335 in /opt/homebrew/Caskroom/miniconda/base/envs/aiconfig/lib/python3.12/site-packages (from lastmile-utils==0.0.14->python-aiconfig==1.1.8) (1.1.335)\n",
            "Requirement already satisfied: autoflake==2.2.1 in /opt/homebrew/Caskroom/miniconda/base/envs/aiconfig/lib/python3.12/site-packages (from lastmile-utils==0.0.14->python-aiconfig==1.1.8) (2.2.1)\n",
            "Requirement already satisfied: click>=8.0.0 in /opt/homebrew/Caskroom/miniconda/base/envs/aiconfig/lib/python3.12/site-packages (from black->python-aiconfig==1.1.8) (8.1.7)\n",
            "Requirement already satisfied: mypy-extensions>=0.4.3 in /opt/homebrew/Caskroom/miniconda/base/envs/aiconfig/lib/python3.12/site-packages (from black->python-aiconfig==1.1.8) (1.0.0)\n",
            "Requirement already satisfied: packaging>=22.0 in /opt/homebrew/Caskroom/miniconda/base/envs/aiconfig/lib/python3.12/site-packages (from black->python-aiconfig==1.1.8) (23.2)\n",
            "Requirement already satisfied: pathspec>=0.9.0 in /opt/homebrew/Caskroom/miniconda/base/envs/aiconfig/lib/python3.12/site-packages (from black->python-aiconfig==1.1.8) (0.12.1)\n",
            "Requirement already satisfied: platformdirs>=2 in /opt/homebrew/Caskroom/miniconda/base/envs/aiconfig/lib/python3.12/site-packages (from black->python-aiconfig==1.1.8) (4.1.0)\n",
            "Requirement already satisfied: mccabe<0.8.0,>=0.7.0 in /opt/homebrew/Caskroom/miniconda/base/envs/aiconfig/lib/python3.12/site-packages (from flake8->python-aiconfig==1.1.8) (0.7.0)\n",
            "Requirement already satisfied: pycodestyle<2.12.0,>=2.11.0 in /opt/homebrew/Caskroom/miniconda/base/envs/aiconfig/lib/python3.12/site-packages (from flake8->python-aiconfig==1.1.8) (2.11.1)\n",
            "Requirement already satisfied: pyflakes<3.2.0,>=3.1.0 in /opt/homebrew/Caskroom/miniconda/base/envs/aiconfig/lib/python3.12/site-packages (from flake8->python-aiconfig==1.1.8) (3.1.0)\n",
            "Requirement already satisfied: annotated-types>=0.4.0 in /opt/homebrew/Caskroom/miniconda/base/envs/aiconfig/lib/python3.12/site-packages (from pydantic>=2.1->python-aiconfig==1.1.8) (0.6.0)\n",
            "Requirement already satisfied: pydantic-core==2.10.1 in /opt/homebrew/Caskroom/miniconda/base/envs/aiconfig/lib/python3.12/site-packages (from pydantic>=2.1->python-aiconfig==1.1.8) (2.10.1)\n",
            "Requirement already satisfied: typing-extensions>=4.6.1 in /opt/homebrew/Caskroom/miniconda/base/envs/aiconfig/lib/python3.12/site-packages (from pydantic>=2.1->python-aiconfig==1.1.8) (4.9.0)\n",
            "Requirement already satisfied: astroid<=3.1.0-dev0,>=3.0.1 in /opt/homebrew/Caskroom/miniconda/base/envs/aiconfig/lib/python3.12/site-packages (from pylint->python-aiconfig==1.1.8) (3.0.2)\n",
            "Requirement already satisfied: tomlkit>=0.10.1 in /opt/homebrew/Caskroom/miniconda/base/envs/aiconfig/lib/python3.12/site-packages (from pylint->python-aiconfig==1.1.8) (0.12.3)\n",
            "Requirement already satisfied: dill>=0.3.6 in /opt/homebrew/Caskroom/miniconda/base/envs/aiconfig/lib/python3.12/site-packages (from pylint->python-aiconfig==1.1.8) (0.3.7)\n",
            "Requirement already satisfied: iniconfig in /opt/homebrew/Caskroom/miniconda/base/envs/aiconfig/lib/python3.12/site-packages (from pytest->python-aiconfig==1.1.8) (2.0.0)\n",
            "Requirement already satisfied: pluggy<2.0,>=0.12 in /opt/homebrew/Caskroom/miniconda/base/envs/aiconfig/lib/python3.12/site-packages (from pytest->python-aiconfig==1.1.8) (1.3.0)\n",
            "Requirement already satisfied: json-spec in /opt/homebrew/Caskroom/miniconda/base/envs/aiconfig/lib/python3.12/site-packages (from jsoncomment==0.4.2->lastmile-utils==0.0.14->python-aiconfig==1.1.8) (0.11.0)\n",
            "Requirement already satisfied: numpy<2,>=1.26.0 in /opt/homebrew/Caskroom/miniconda/base/envs/aiconfig/lib/python3.12/site-packages (from pandas==2.1.2->lastmile-utils==0.0.14->python-aiconfig==1.1.8) (1.26.3)\n",
            "Requirement already satisfied: python-dateutil>=2.8.2 in /opt/homebrew/Caskroom/miniconda/base/envs/aiconfig/lib/python3.12/site-packages (from pandas==2.1.2->lastmile-utils==0.0.14->python-aiconfig==1.1.8) (2.8.2)\n",
            "Requirement already satisfied: pytz>=2020.1 in /opt/homebrew/Caskroom/miniconda/base/envs/aiconfig/lib/python3.12/site-packages (from pandas==2.1.2->lastmile-utils==0.0.14->python-aiconfig==1.1.8) (2023.3.post1)\n",
            "Requirement already satisfied: tzdata>=2022.1 in /opt/homebrew/Caskroom/miniconda/base/envs/aiconfig/lib/python3.12/site-packages (from pandas==2.1.2->lastmile-utils==0.0.14->python-aiconfig==1.1.8) (2023.4)\n",
            "Requirement already satisfied: nodeenv>=1.6.0 in /opt/homebrew/Caskroom/miniconda/base/envs/aiconfig/lib/python3.12/site-packages (from pyright==1.1.335->lastmile-utils==0.0.14->python-aiconfig==1.1.8) (1.8.0)\n",
            "Requirement already satisfied: anyio<5,>=3.5.0 in /opt/homebrew/Caskroom/miniconda/base/envs/aiconfig/lib/python3.12/site-packages (from openai<1.5,>=1.0.0->python-aiconfig==1.1.8) (4.2.0)\n",
            "Requirement already satisfied: distro<2,>=1.7.0 in /opt/homebrew/Caskroom/miniconda/base/envs/aiconfig/lib/python3.12/site-packages (from openai<1.5,>=1.0.0->python-aiconfig==1.1.8) (1.9.0)\n",
            "Requirement already satisfied: httpx<1,>=0.23.0 in /opt/homebrew/Caskroom/miniconda/base/envs/aiconfig/lib/python3.12/site-packages (from openai<1.5,>=1.0.0->python-aiconfig==1.1.8) (0.26.0)\n",
            "Requirement already satisfied: sniffio in /opt/homebrew/Caskroom/miniconda/base/envs/aiconfig/lib/python3.12/site-packages (from openai<1.5,>=1.0.0->python-aiconfig==1.1.8) (1.3.0)\n",
            "Requirement already satisfied: tqdm>4 in /opt/homebrew/Caskroom/miniconda/base/envs/aiconfig/lib/python3.12/site-packages (from openai<1.5,>=1.0.0->python-aiconfig==1.1.8) (4.66.1)\n",
            "Requirement already satisfied: Werkzeug>=3.0.0 in /opt/homebrew/Caskroom/miniconda/base/envs/aiconfig/lib/python3.12/site-packages (from flask[async]->python-aiconfig==1.1.8) (3.0.1)\n",
            "Requirement already satisfied: Jinja2>=3.1.2 in /opt/homebrew/Caskroom/miniconda/base/envs/aiconfig/lib/python3.12/site-packages (from flask[async]->python-aiconfig==1.1.8) (3.1.2)\n",
            "Requirement already satisfied: itsdangerous>=2.1.2 in /opt/homebrew/Caskroom/miniconda/base/envs/aiconfig/lib/python3.12/site-packages (from flask[async]->python-aiconfig==1.1.8) (2.1.2)\n",
            "Requirement already satisfied: blinker>=1.6.2 in /opt/homebrew/Caskroom/miniconda/base/envs/aiconfig/lib/python3.12/site-packages (from flask[async]->python-aiconfig==1.1.8) (1.7.0)\n",
            "Requirement already satisfied: asgiref>=3.2 in /opt/homebrew/Caskroom/miniconda/base/envs/aiconfig/lib/python3.12/site-packages (from flask[async]->python-aiconfig==1.1.8) (3.7.2)\n",
            "Requirement already satisfied: google-ai-generativelanguage==0.4.0 in /opt/homebrew/Caskroom/miniconda/base/envs/aiconfig/lib/python3.12/site-packages (from google-generativeai->python-aiconfig==1.1.8) (0.4.0)\n",
            "Requirement already satisfied: google-auth in /opt/homebrew/Caskroom/miniconda/base/envs/aiconfig/lib/python3.12/site-packages (from google-generativeai->python-aiconfig==1.1.8) (2.26.0)\n",
            "Requirement already satisfied: google-api-core in /opt/homebrew/Caskroom/miniconda/base/envs/aiconfig/lib/python3.12/site-packages (from google-generativeai->python-aiconfig==1.1.8) (2.15.0)\n",
            "Requirement already satisfied: protobuf in /opt/homebrew/Caskroom/miniconda/base/envs/aiconfig/lib/python3.12/site-packages (from google-generativeai->python-aiconfig==1.1.8) (4.25.1)\n",
            "Requirement already satisfied: proto-plus<2.0.0dev,>=1.22.3 in /opt/homebrew/Caskroom/miniconda/base/envs/aiconfig/lib/python3.12/site-packages (from google-ai-generativelanguage==0.4.0->google-generativeai->python-aiconfig==1.1.8) (1.23.0)\n",
            "Requirement already satisfied: filelock in /opt/homebrew/Caskroom/miniconda/base/envs/aiconfig/lib/python3.12/site-packages (from huggingface-hub->python-aiconfig==1.1.8) (3.13.1)\n",
            "Requirement already satisfied: fsspec>=2023.5.0 in /opt/homebrew/Caskroom/miniconda/base/envs/aiconfig/lib/python3.12/site-packages (from huggingface-hub->python-aiconfig==1.1.8) (2023.12.2)\n",
            "Requirement already satisfied: joblib in /opt/homebrew/Caskroom/miniconda/base/envs/aiconfig/lib/python3.12/site-packages (from nltk->python-aiconfig==1.1.8) (1.3.2)\n",
            "Requirement already satisfied: regex>=2021.8.3 in /opt/homebrew/Caskroom/miniconda/base/envs/aiconfig/lib/python3.12/site-packages (from nltk->python-aiconfig==1.1.8) (2023.12.25)\n",
            "Requirement already satisfied: wcwidth in /opt/homebrew/Caskroom/miniconda/base/envs/aiconfig/lib/python3.12/site-packages (from prompt-toolkit->python-aiconfig==1.1.8) (0.2.12)\n",
            "Requirement already satisfied: PyMeta3>=0.5.1 in /opt/homebrew/Caskroom/miniconda/base/envs/aiconfig/lib/python3.12/site-packages (from pybars3->python-aiconfig==1.1.8) (0.5.1)\n",
            "Requirement already satisfied: charset-normalizer<4,>=2 in /opt/homebrew/Caskroom/miniconda/base/envs/aiconfig/lib/python3.12/site-packages (from requests->python-aiconfig==1.1.8) (3.3.2)\n",
            "Requirement already satisfied: idna<4,>=2.5 in /opt/homebrew/Caskroom/miniconda/base/envs/aiconfig/lib/python3.12/site-packages (from requests->python-aiconfig==1.1.8) (3.6)\n",
            "Requirement already satisfied: urllib3<3,>=1.21.1 in /opt/homebrew/Caskroom/miniconda/base/envs/aiconfig/lib/python3.12/site-packages (from requests->python-aiconfig==1.1.8) (2.1.0)\n",
            "Requirement already satisfied: certifi>=2017.4.17 in /opt/homebrew/Caskroom/miniconda/base/envs/aiconfig/lib/python3.12/site-packages (from requests->python-aiconfig==1.1.8) (2023.11.17)\n",
            "Requirement already satisfied: googleapis-common-protos<2.0.dev0,>=1.56.2 in /opt/homebrew/Caskroom/miniconda/base/envs/aiconfig/lib/python3.12/site-packages (from google-api-core->google-generativeai->python-aiconfig==1.1.8) (1.62.0)\n",
            "Requirement already satisfied: cachetools<6.0,>=2.0.0 in /opt/homebrew/Caskroom/miniconda/base/envs/aiconfig/lib/python3.12/site-packages (from google-auth->google-generativeai->python-aiconfig==1.1.8) (5.3.2)\n",
            "Requirement already satisfied: pyasn1-modules>=0.2.1 in /opt/homebrew/Caskroom/miniconda/base/envs/aiconfig/lib/python3.12/site-packages (from google-auth->google-generativeai->python-aiconfig==1.1.8) (0.3.0)\n",
            "Requirement already satisfied: rsa<5,>=3.1.4 in /opt/homebrew/Caskroom/miniconda/base/envs/aiconfig/lib/python3.12/site-packages (from google-auth->google-generativeai->python-aiconfig==1.1.8) (4.9)\n",
            "Requirement already satisfied: httpcore==1.* in /opt/homebrew/Caskroom/miniconda/base/envs/aiconfig/lib/python3.12/site-packages (from httpx<1,>=0.23.0->openai<1.5,>=1.0.0->python-aiconfig==1.1.8) (1.0.2)\n",
            "Requirement already satisfied: h11<0.15,>=0.13 in /opt/homebrew/Caskroom/miniconda/base/envs/aiconfig/lib/python3.12/site-packages (from httpcore==1.*->httpx<1,>=0.23.0->openai<1.5,>=1.0.0->python-aiconfig==1.1.8) (0.14.0)\n",
            "Requirement already satisfied: MarkupSafe>=2.0 in /opt/homebrew/Caskroom/miniconda/base/envs/aiconfig/lib/python3.12/site-packages (from Jinja2>=3.1.2->flask[async]->python-aiconfig==1.1.8) (2.1.3)\n",
            "Requirement already satisfied: grpcio<2.0dev,>=1.33.2 in /opt/homebrew/Caskroom/miniconda/base/envs/aiconfig/lib/python3.12/site-packages (from google-api-core[grpc]!=2.0.*,!=2.1.*,!=2.10.*,!=2.2.*,!=2.3.*,!=2.4.*,!=2.5.*,!=2.6.*,!=2.7.*,!=2.8.*,!=2.9.*,<3.0.0dev,>=1.34.0->google-ai-generativelanguage==0.4.0->google-generativeai->python-aiconfig==1.1.8) (1.60.0)\n",
            "Requirement already satisfied: grpcio-status<2.0.dev0,>=1.33.2 in /opt/homebrew/Caskroom/miniconda/base/envs/aiconfig/lib/python3.12/site-packages (from google-api-core[grpc]!=2.0.*,!=2.1.*,!=2.10.*,!=2.2.*,!=2.3.*,!=2.4.*,!=2.5.*,!=2.6.*,!=2.7.*,!=2.8.*,!=2.9.*,<3.0.0dev,>=1.34.0->google-ai-generativelanguage==0.4.0->google-generativeai->python-aiconfig==1.1.8) (1.60.0)\n",
            "Requirement already satisfied: setuptools in /opt/homebrew/Caskroom/miniconda/base/envs/aiconfig/lib/python3.12/site-packages (from nodeenv>=1.6.0->pyright==1.1.335->lastmile-utils==0.0.14->python-aiconfig==1.1.8) (69.0.3)\n",
            "Requirement already satisfied: pyasn1<0.6.0,>=0.4.6 in /opt/homebrew/Caskroom/miniconda/base/envs/aiconfig/lib/python3.12/site-packages (from pyasn1-modules>=0.2.1->google-auth->google-generativeai->python-aiconfig==1.1.8) (0.5.1)\n",
            "Requirement already satisfied: six>=1.5 in /opt/homebrew/Caskroom/miniconda/base/envs/aiconfig/lib/python3.12/site-packages (from python-dateutil>=2.8.2->pandas==2.1.2->lastmile-utils==0.0.14->python-aiconfig==1.1.8) (1.16.0)\n",
            "Requirement already satisfied: importlib-metadata<6.0.0,>=5.0.0 in /opt/homebrew/Caskroom/miniconda/base/envs/aiconfig/lib/python3.12/site-packages (from json-spec->jsoncomment==0.4.2->lastmile-utils==0.0.14->python-aiconfig==1.1.8) (5.2.0)\n",
            "Requirement already satisfied: zipp>=0.5 in /opt/homebrew/Caskroom/miniconda/base/envs/aiconfig/lib/python3.12/site-packages (from importlib-metadata<6.0.0,>=5.0.0->json-spec->jsoncomment==0.4.2->lastmile-utils==0.0.14->python-aiconfig==1.1.8) (3.17.0)\n",
            "Building wheels for collected packages: python-aiconfig\n",
            "  Building editable for python-aiconfig (pyproject.toml) ... \u001b[?25ldone\n",
            "\u001b[?25h  Created wheel for python-aiconfig: filename=python_aiconfig-1.1.8-0.editable-py3-none-any.whl size=9971 sha256=18699068804b023ee12eb07d94efe96e40c05e54dfa9e4d971e6fbcf933645da\n",
            "  Stored in directory: /private/var/folders/mk/5l10lyqs1c73_pj2grj9f9vw0000gn/T/pip-ephem-wheel-cache-8467usz2/wheels/e7/fd/a2/adfd3d754fa5bcf2040054afef13bbf40a8e091249b821d62d\n",
            "Successfully built python-aiconfig\n",
            "Installing collected packages: python-aiconfig\n",
            "  Attempting uninstall: python-aiconfig\n",
            "    Found existing installation: python-aiconfig 1.1.8\n",
            "    Uninstalling python-aiconfig-1.1.8:\n",
            "      Successfully uninstalled python-aiconfig-1.1.8\n",
            "Successfully installed python-aiconfig-1.1.8\n",
            "Note: you may need to restart the kernel to use updated packages.\n"
          ]
        }
      ],
      "source": [
        "%pip install -e /Users/saqadri/lm/aiconfig/python"
      ]
    },
    {
      "cell_type": "code",
      "execution_count": 1,
      "metadata": {
        "id": "51w-3OZC_Z97"
      },
      "outputs": [
        {
          "data": {
            "text/plain": [
              "True"
            ]
          },
          "execution_count": 1,
          "metadata": {},
          "output_type": "execute_result"
        }
      ],
      "source": [
        "# Create .env file at aiconfig/.env containing the following line: \n",
        "# ANYSCALE_ENDPOINT_API_KEY=<your key here>\n",
        "# You can get your key from https://app.endpoints.anyscale.com/credentials\n",
        "import dotenv\n",
        "dotenv.load_dotenv()"
      ]
    },
    {
      "attachments": {},
      "cell_type": "markdown",
      "metadata": {
        "id": "rXJJiDO6gbOK"
      },
      "source": [
        "## Set up the books DB"
      ]
    },
    {
      "cell_type": "code",
      "execution_count": 2,
      "metadata": {
        "id": "KP-CTNZBKN_J"
      },
      "outputs": [],
      "source": [
        "# Define db of books\n",
        "db = [\n",
        "    {\n",
        "        'id': 'a1',\n",
        "        'name': 'To Kill a Mockingbird',\n",
        "        'genre': 'historical',\n",
        "        'description': ('Compassionate, dramatic, and deeply moving, \"To Kill A Mockingbird\" takes readers to the roots of human behavior - to innocence and experience, kindness and cruelty, love and hatred, humor and pathos. Now with over 18 million copies in print and translated into forty languages, this regional story by a young Alabama woman claims universal appeal. Harper Lee always considered her book to be a simple love story. Today it is regarded as a masterpiece of American literature.'),\n",
        "    },\n",
        "    {\n",
        "        'id': 'a2',\n",
        "        'name': 'All the Light We Cannot See',\n",
        "        'genre': 'historical',\n",
        "        'description': ('In a mining town in Germany, Werner Pfennig, an orphan, grows up with his younger sister, enchanted by a crude radio they find that brings them news and stories from places they have never seen or imagined. Werner becomes an expert at building and fixing these crucial new instruments and is enlisted to use his talent to track down the resistance. Deftly interweaving the lives of Marie-Laure and Werner, Doerr illuminates the ways, against all odds, people try to be good to one another.'),\n",
        "    },\n",
        "    {\n",
        "        'id': 'a3',\n",
        "        'name': 'Where the Crawdads Sing',\n",
        "        'genre': 'historical',\n",
        "        'description': ('For years, rumors of the “Marsh Girl” haunted Barkley Cove, a quiet fishing village. Kya Clark is barefoot and wild; unfit for polite society. So in late 1969, when the popular Chase Andrews is found dead, locals immediately suspect her.\\n\\n'\n",
        "                        'But Kya is not what they say. A born naturalist with just one day of school, she takes life\\'s lessons from the land, learning the real ways of the world from the dishonest signals of fireflies. But while she has the skills to live in solitude forever, the time comes when she yearns to be touched and loved. Drawn to two young men from town, who are each intrigued by her wild beauty, Kya opens herself to a new and startling world—until the unthinkable happens.'),\n",
        "    },\n",
        "]"
      ]
    },
    {
      "attachments": {},
      "cell_type": "markdown",
      "metadata": {
        "id": "dCiJurzKgnqB"
      },
      "source": [
        "## Define functions (to interact with DB)"
      ]
    },
    {
      "cell_type": "code",
      "execution_count": 3,
      "metadata": {
        "id": "nbolW2mVDeZD"
      },
      "outputs": [],
      "source": [
        "# Define the functions: list, search, get\n",
        "\n",
        "# The 'list' function returns a list of books in a specified genre.\n",
        "def list(genre):\n",
        "    return [item for item in db if item['genre'] == genre]\n",
        "\n",
        "# The 'search' function returns a list of books that match the provided name.\n",
        "def search(name):\n",
        "    return [item for item in db if name in item['name']]\n",
        "\n",
        "# The 'get' function returns detailed information about a book based on its ID.\n",
        "# Note: This function accepts only IDs, not names. Use the 'search' function to find a book's ID.\n",
        "def get(id):\n",
        "    for item in db:\n",
        "        if item['id'] == id:\n",
        "            return item\n",
        "    return None"
      ]
    },
    {
      "attachments": {},
      "cell_type": "markdown",
      "metadata": {
        "id": "ni_umLSdjAAT"
      },
      "source": [
        "## Get recommendations using function calls"
      ]
    },
    {
      "cell_type": "code",
      "execution_count": 4,
      "metadata": {
        "id": "o7eJfimvLa3X"
      },
      "outputs": [],
      "source": [
        "# Use helper function to executes the function specified by the LLM's output for 'function_call'.\n",
        "# It handles 'list', 'search', or 'get' functions, and raises a ValueError for unknown functions.\n",
        "import json\n",
        "\n",
        "def call_function(function_call):\n",
        "    args = json.loads(function_call.arguments)\n",
        "    name = function_call.name\n",
        "\n",
        "    if name == 'list':\n",
        "        print(f\"genre={args['genre']}, args={args}\")\n",
        "        return list(args['genre'])\n",
        "    elif name == 'search':\n",
        "        return search(args['name'])\n",
        "    elif name == 'get':\n",
        "        return get(args['id'])\n",
        "    else:\n",
        "        raise ValueError('No function found')"
      ]
    },
    {
      "cell_type": "code",
      "execution_count": 5,
      "metadata": {},
      "outputs": [
        {
          "name": "stderr",
          "output_type": "stream",
          "text": [
            "/opt/homebrew/Caskroom/miniconda/base/envs/aiconfig/lib/python3.12/site-packages/pydantic/_internal/_fields.py:128: UserWarning: Field \"model_parsers\" has conflict with protected namespace \"model_\".\n",
            "\n",
            "You may be able to resolve this warning by setting `model_config['protected_namespaces'] = ()`.\n",
            "  warnings.warn(\n",
            "/opt/homebrew/Caskroom/miniconda/base/envs/aiconfig/lib/python3.12/site-packages/tqdm/auto.py:21: TqdmWarning: IProgress not found. Please update jupyter and ipywidgets. See https://ipywidgets.readthedocs.io/en/stable/user_install.html\n",
            "  from .autonotebook import tqdm as notebook_tqdm\n"
          ]
        }
      ],
      "source": [
        "from aiconfig import AIConfigRuntime, InferenceOptions\n",
        "\n",
        "config = AIConfigRuntime.load(\"recommender.aiconfig.json\")"
      ]
    },
    {
      "cell_type": "code",
      "execution_count": 14,
      "metadata": {
        "id": "jD9S3q5mMtqd"
      },
      "outputs": [
        {
          "name": "stdout",
          "output_type": "stream",
          "text": [
            "[ExecuteResult(output_type='execute_result', execution_count=0, data=OutputDataWithToolCallsValue(kind='tool_calls', value=[ToolCallData(id='call_2f1aca9308454db1bf39030212fe3c4f', function=FunctionCallData(arguments='{\"name\": \"Where the Crawdads Sing\"}', name='search'), type='function')]), mime_type=None, metadata={'raw_response': {'role': 'assistant', 'tool_calls': [{'id': 'call_2f1aca9308454db1bf39030212fe3c4f', 'function': {'arguments': '{\"name\": \"Where the Crawdads Sing\"}', 'name': 'search'}, 'type': 'function'}]}, 'id': 'mistralai/Mixtral-8x7B-Instruct-v0.1-UL3yG8uqvO7QFPsRp1dUMfNDVL3vo27sZPxqrbECoKc', 'created': 1704329124, 'model': 'mistralai/Mixtral-8x7B-Instruct-v0.1', 'object': 'text_completion', 'usage': {'completion_tokens': 62, 'prompt_tokens': 651, 'total_tokens': 713}, 'finish_reason': 'tool_calls', 'role': 'assistant'})]\n"
          ]
        }
      ],
      "source": [
        "# Run recommendBook prompt with gpt-3.5 and determine right function to call based on user question\n",
        "params = {\"book\":\"Where the Crawdads Sing\"}\n",
        "inference_options = InferenceOptions(stream=False)\n",
        "\n",
        "completion = await config.run(\"recommend_book\", params, options=inference_options)\n",
        "print(completion)"
      ]
    },
    {
      "cell_type": "code",
      "execution_count": 15,
      "metadata": {},
      "outputs": [
        {
          "name": "stdout",
          "output_type": "stream",
          "text": [
            "kind='tool_calls' value=[ToolCallData(id='call_2f1aca9308454db1bf39030212fe3c4f', function=FunctionCallData(arguments='{\"name\": \"Where the Crawdads Sing\"}', name='search'), type='function')]\n"
          ]
        }
      ],
      "source": [
        "output_data = completion[0].data\n",
        "print(output_data)\n",
        "\n",
        "assert output_data.kind == \"tool_calls\""
      ]
    },
    {
      "cell_type": "code",
      "execution_count": 16,
      "metadata": {
        "id": "CZ_NhrvrTCu8"
      },
      "outputs": [
        {
          "name": "stdout",
          "output_type": "stream",
          "text": [
            "id='call_2f1aca9308454db1bf39030212fe3c4f' function=FunctionCallData(arguments='{\"name\": \"Where the Crawdads Sing\"}', name='search') type='function'\n",
            "[\n",
            "    {\n",
            "        \"id\": \"a3\",\n",
            "        \"name\": \"Where the Crawdads Sing\",\n",
            "        \"genre\": \"historical\",\n",
            "        \"description\": \"For years, rumors of the \\u201cMarsh Girl\\u201d haunted Barkley Cove, a quiet fishing village. Kya Clark is barefoot and wild; unfit for polite society. So in late 1969, when the popular Chase Andrews is found dead, locals immediately suspect her.\\n\\nBut Kya is not what they say. A born naturalist with just one day of school, she takes life's lessons from the land, learning the real ways of the world from the dishonest signals of fireflies. But while she has the skills to live in solitude forever, the time comes when she yearns to be touched and loved. Drawn to two young men from town, who are each intrigued by her wild beauty, Kya opens herself to a new and startling world\\u2014until the unthinkable happens.\"\n",
            "    }\n",
            "]\n"
          ]
        }
      ],
      "source": [
        "# Run call_function to execute the LLM-specified function (list, search, get)\n",
        "\n",
        "result = None\n",
        "for func_call in output_data.value:\n",
        "    print(func_call)\n",
        "    function = func_call.function\n",
        "    result = call_function(function)\n",
        "    print(json.dumps(result, indent=4))\n"
      ]
    },
    {
      "attachments": {},
      "cell_type": "markdown",
      "metadata": {
        "id": "MKEf1idOjkvk"
      },
      "source": [
        "## Using LLaMA-7B to generate a user-friendly response"
      ]
    },
    {
      "cell_type": "code",
      "execution_count": 17,
      "metadata": {
        "id": "0QZHtalIVGQB"
      },
      "outputs": [],
      "source": [
        "model=\"mistralai/Mistral-7B-Instruct-v0.1\"\n",
        "data = {\n",
        "    \"model\": model,\n",
        "    \"messages\": [\n",
        "        {\n",
        "            \"role\": \"user\",\n",
        "            \"content\": \"Here is some data about a book from a books DB - please write a short description about the book as if you're a librarian. Data: {{book_info}}\"\n",
        "        }\n",
        "    ]\n",
        "}\n",
        "\n",
        "new_prompts = await config.serialize(model, data, prompt_name=\"gen_summary\")\n",
        "config.add_prompt(prompt_name=\"gen_summary\", prompt_data=new_prompts[0])"
      ]
    },
    {
      "cell_type": "code",
      "execution_count": 19,
      "metadata": {
        "id": "Xd-4rg5lj8lp"
      },
      "outputs": [
        {
          "name": "stdout",
          "output_type": "stream",
          "text": [
            " \"Where the Crawdads Sing\" is a captivating historical novel by Delia Owens that explores the life of Kya Clark, a self-sufficient naturalist who lives in the marshes of North Carolina. With vivid descriptions of the natural world and Kya's relationship with it, the novel highlights the resilience of the human spirit and the power of love and community. It is a poignant story that explores complex themes such as isolation, grief and the search for connection while also examining the prejudices and biases of society. With its stunning prose and compelling plot, \"Where the Crawdads Sing\" is a must-read for anyone interested in a beautifully written, thought-provoking novel."
          ]
        }
      ],
      "source": [
        "inference_options = InferenceOptions(stream=True)\n",
        "completion = await config.run(\"gen_summary\", params={\"book_info\": result}, options=inference_options)"
      ]
    },
    {
      "cell_type": "code",
      "execution_count": null,
      "metadata": {
        "id": "4l-buJXglaLw"
      },
      "outputs": [],
      "source": [
        "config.save(\"recommender.aiconfig.json\", include_outputs=True)"
      ]
    }
  ],
  "metadata": {
    "colab": {
      "provenance": []
    },
    "kernelspec": {
      "display_name": "Python 3",
      "name": "python3"
    },
    "language_info": {
      "codemirror_mode": {
        "name": "ipython",
        "version": 3
      },
      "file_extension": ".py",
      "mimetype": "text/x-python",
      "name": "python",
      "nbconvert_exporter": "python",
      "pygments_lexer": "ipython3",
      "version": "3.12.1"
    }
  },
  "nbformat": 4,
  "nbformat_minor": 0
}

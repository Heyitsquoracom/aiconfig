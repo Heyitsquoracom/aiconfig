{
 "cells": [
  {
   "cell_type": "code",
   "execution_count": 1,
   "metadata": {},
   "outputs": [
    {
     "name": "stderr",
     "output_type": "stream",
     "text": [
      "/opt/homebrew/lib/python3.11/site-packages/pydantic/_internal/_fields.py:149: UserWarning: Field \"model_parsers\" has conflict with protected namespace \"model_\".\n",
      "\n",
      "You may be able to resolve this warning by setting `model_config['protected_namespaces'] = ()`.\n",
      "  warnings.warn(\n"
     ]
    },
    {
     "ename": "SyntaxError",
     "evalue": "'await' outside async function (palm.py, line 223)",
     "output_type": "error",
     "traceback": [
      "Traceback \u001b[0;36m(most recent call last)\u001b[0m:\n",
      "\u001b[0m  File \u001b[1;32m~/Library/Python/3.11/lib/python/site-packages/IPython/core/interactiveshell.py:3526\u001b[0m in \u001b[1;35mrun_code\u001b[0m\n    exec(code_obj, self.user_global_ns, self.user_ns)\u001b[0m\n",
      "\u001b[0m  Cell \u001b[1;32mIn[1], line 1\u001b[0m\n    from aiconfig import AIConfigRuntime\u001b[0m\n",
      "\u001b[0;36m  File \u001b[0;32m~/Projects/aiconfig/python/src/aiconfig/__init__.py:23\u001b[0;36m\n\u001b[0;31m    from .default_parsers.palm import PaLMTextParser, PaLMChatParser\u001b[0;36m\n",
      "\u001b[0;36m  File \u001b[0;32m~/Projects/aiconfig/python/src/aiconfig/default_parsers/palm.py:223\u001b[0;36m\u001b[0m\n\u001b[0;31m    completion_data = await self.deserialize(prompt, aiconfig, parameters)\u001b[0m\n\u001b[0m                      ^\u001b[0m\n\u001b[0;31mSyntaxError\u001b[0m\u001b[0;31m:\u001b[0m 'await' outside async function\n"
     ]
    }
   ],
   "source": [
    "from aiconfig import AIConfigRuntime\n"
   ]
  },
  {
   "cell_type": "code",
   "execution_count": null,
   "metadata": {},
   "outputs": [],
   "source": [
    "config = AIConfigRuntime.load(\"Multi-LLM Consistency Prompting & LLM-based Quorum_aiconfig.json\")\n"
   ]
  },
  {
   "cell_type": "code",
   "execution_count": 4,
   "metadata": {},
   "outputs": [
    {
     "ename": "AttributeError",
     "evalue": "module 'google.generativeai' has no attribute 'text_generation'",
     "output_type": "error",
     "traceback": [
      "\u001b[0;31m---------------------------------------------------------------------------\u001b[0m",
      "\u001b[0;31mAttributeError\u001b[0m                            Traceback (most recent call last)",
      "\u001b[1;32m/Users/ankush/Projects/aiconfig/cookbooks/Multi-LLM-Consistency/test.ipynb Cell 3\u001b[0m line \u001b[0;36m3\n\u001b[1;32m      <a href='vscode-notebook-cell:/Users/ankush/Projects/aiconfig/cookbooks/Multi-LLM-Consistency/test.ipynb#X11sZmlsZQ%3D%3D?line=0'>1</a>\u001b[0m \u001b[39mimport\u001b[39;00m \u001b[39mgoogle\u001b[39;00m\u001b[39m.\u001b[39;00m\u001b[39mgenerativeai\u001b[39;00m \u001b[39mas\u001b[39;00m \u001b[39mpalm\u001b[39;00m\n\u001b[0;32m----> <a href='vscode-notebook-cell:/Users/ankush/Projects/aiconfig/cookbooks/Multi-LLM-Consistency/test.ipynb#X11sZmlsZQ%3D%3D?line=2'>3</a>\u001b[0m palm\u001b[39m.\u001b[39;49mtext_generation()\n",
      "\u001b[0;31mAttributeError\u001b[0m: module 'google.generativeai' has no attribute 'text_generation'"
     ]
    }
   ],
   "source": [
    "p= config.serialize()\n",
    "p"
   ]
  },
  {
   "cell_type": "code",
   "execution_count": null,
   "metadata": {},
   "outputs": [],
   "source": []
  }
 ],
 "metadata": {
  "kernelspec": {
   "display_name": "Python 3",
   "language": "python",
   "name": "python3"
  },
  "language_info": {
   "codemirror_mode": {
    "name": "ipython",
    "version": 3
   },
   "file_extension": ".py",
   "mimetype": "text/x-python",
   "name": "python",
   "nbconvert_exporter": "python",
   "pygments_lexer": "ipython3",
   "version": "3.11.5"
  }
 },
 "nbformat": 4,
 "nbformat_minor": 2
}

{
 "cells": [
  {
   "cell_type": "code",
   "execution_count": 1,
   "metadata": {},
   "outputs": [
    {
     "name": "stderr",
     "output_type": "stream",
     "text": [
      "/opt/homebrew/lib/python3.11/site-packages/pydantic/_internal/_fields.py:149: UserWarning: Field \"model_parsers\" has conflict with protected namespace \"model_\".\n",
      "\n",
      "You may be able to resolve this warning by setting `model_config['protected_namespaces'] = ()`.\n",
      "  warnings.warn(\n"
     ]
    },
    {
     "ename": "SyntaxError",
     "evalue": "'await' outside async function (palm.py, line 223)",
     "output_type": "error",
     "traceback": [
      "Traceback \u001b[0;36m(most recent call last)\u001b[0m:\n",
      "\u001b[0m  File \u001b[1;32m~/Library/Python/3.11/lib/python/site-packages/IPython/core/interactiveshell.py:3526\u001b[0m in \u001b[1;35mrun_code\u001b[0m\n    exec(code_obj, self.user_global_ns, self.user_ns)\u001b[0m\n",
      "\u001b[0m  Cell \u001b[1;32mIn[1], line 1\u001b[0m\n    from aiconfig import AIConfigRuntime\u001b[0m\n",
      "\u001b[0;36m  File \u001b[0;32m~/Projects/aiconfig/python/src/aiconfig/__init__.py:23\u001b[0;36m\n\u001b[0;31m    from .default_parsers.palm import PaLMTextParser, PaLMChatParser\u001b[0;36m\n",
      "\u001b[0;36m  File \u001b[0;32m~/Projects/aiconfig/python/src/aiconfig/default_parsers/palm.py:223\u001b[0;36m\u001b[0m\n\u001b[0;31m    completion_data = await self.deserialize(prompt, aiconfig, parameters)\u001b[0m\n\u001b[0m                      ^\u001b[0m\n\u001b[0;31mSyntaxError\u001b[0m\u001b[0;31m:\u001b[0m 'await' outside async function\n"
     ]
    }
   ],
   "source": [
    "from aiconfig import AIConfigRuntime\n"
   ]
  },
  {
   "cell_type": "code",
   "execution_count": null,
   "metadata": {},
   "outputs": [],
   "source": [
    "config = AIConfigRuntime.load(\"Multi-LLM Consistency Prompting & LLM-based Quorum_aiconfig.json\")\n"
   ]
  },
  {
   "cell_type": "code",
   "execution_count": null,
   "metadata": {},
   "outputs": [
    {
     "ename": "TypeError",
     "evalue": "PaLMTextParser.run_inference() takes 4 positional arguments but 5 were given",
     "output_type": "error",
     "traceback": [
      "\u001b[0;31m---------------------------------------------------------------------------\u001b[0m",
      "\u001b[0;31mTypeError\u001b[0m                                 Traceback (most recent call last)",
      "\u001b[1;32m/Users/ankush/Projects/aiconfig/cookbooks/Multi-LLM-Consistency/test.ipynb Cell 3\u001b[0m line \u001b[0;36m1\n\u001b[0;32m----> <a href='vscode-notebook-cell:/Users/ankush/Projects/aiconfig/cookbooks/Multi-LLM-Consistency/test.ipynb#W2sZmlsZQ%3D%3D?line=0'>1</a>\u001b[0m \u001b[39mawait\u001b[39;00m config\u001b[39m.\u001b[39mrun(\u001b[39m\"\u001b[39m\u001b[39mpalm-execution\u001b[39m\u001b[39m\"\u001b[39m)\n",
      "File \u001b[0;32m~/Projects/aiconfig/python/src/aiconfig/Config.py:234\u001b[0m, in \u001b[0;36mAIConfigRuntime.run\u001b[0;34m(self, prompt_name, params, options, **kwargs)\u001b[0m\n\u001b[1;32m    231\u001b[0m model_name \u001b[39m=\u001b[39m \u001b[39mself\u001b[39m\u001b[39m.\u001b[39mget_model_name(prompt_data)\n\u001b[1;32m    232\u001b[0m model_provider \u001b[39m=\u001b[39m AIConfigRuntime\u001b[39m.\u001b[39mget_model_parser(model_name)\n\u001b[0;32m--> 234\u001b[0m response \u001b[39m=\u001b[39m \u001b[39mawait\u001b[39;00m model_provider\u001b[39m.\u001b[39mrun(prompt_data, \u001b[39mself\u001b[39m, options, params, callback_manager \u001b[39m=\u001b[39m \u001b[39mself\u001b[39m\u001b[39m.\u001b[39mcallback_manager, \u001b[39m*\u001b[39m\u001b[39m*\u001b[39mkwargs)\n\u001b[1;32m    236\u001b[0m event \u001b[39m=\u001b[39m CallbackEvent(\u001b[39m\"\u001b[39m\u001b[39mon_run_complete\u001b[39m\u001b[39m\"\u001b[39m, \u001b[39m__name__\u001b[39m, {\u001b[39m\"\u001b[39m\u001b[39mresult\u001b[39m\u001b[39m\"\u001b[39m: response})\n\u001b[1;32m    237\u001b[0m \u001b[39mawait\u001b[39;00m \u001b[39mself\u001b[39m\u001b[39m.\u001b[39mcallback_manager\u001b[39m.\u001b[39mrun_callbacks(event)\n",
      "File \u001b[0;32m~/Projects/aiconfig/python/src/aiconfig/default_parsers/parameterized_model_parser.py:60\u001b[0m, in \u001b[0;36mParameterizedModelParser.run\u001b[0;34m(self, prompt, aiconfig, options, parameters, **kwargs)\u001b[0m\n\u001b[1;32m     58\u001b[0m     \u001b[39mreturn\u001b[39;00m \u001b[39mawait\u001b[39;00m \u001b[39mself\u001b[39m\u001b[39m.\u001b[39mrun_with_dependencies(prompt, aiconfig, options, parameters)\n\u001b[1;32m     59\u001b[0m \u001b[39melse\u001b[39;00m:\n\u001b[0;32m---> 60\u001b[0m     \u001b[39mreturn\u001b[39;00m \u001b[39mawait\u001b[39;00m \u001b[39mself\u001b[39;49m\u001b[39m.\u001b[39;49mrun_inference(prompt, aiconfig, options, parameters)\n",
      "\u001b[0;31mTypeError\u001b[0m: PaLMTextParser.run_inference() takes 4 positional arguments but 5 were given"
     ]
    }
   ],
   "source": [
    "await config.run(\"palm-execution\")"
   ]
  },
  {
   "cell_type": "code",
   "execution_count": null,
   "metadata": {},
   "outputs": [],
   "source": []
  }
 ],
 "metadata": {
  "kernelspec": {
   "display_name": "Python 3",
   "language": "python",
   "name": "python3"
  },
  "language_info": {
   "codemirror_mode": {
    "name": "ipython",
    "version": 3
   },
   "file_extension": ".py",
   "mimetype": "text/x-python",
   "name": "python",
   "nbconvert_exporter": "python",
   "pygments_lexer": "ipython3",
   "version": "3.11.5"
  }
 },
 "nbformat": 4,
 "nbformat_minor": 2
}

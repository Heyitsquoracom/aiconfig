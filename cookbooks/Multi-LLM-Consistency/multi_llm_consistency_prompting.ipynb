{
  "nbformat": 4,
  "nbformat_minor": 0,
  "metadata": {
    "colab": {
      "provenance": []
    },
    "kernelspec": {
      "name": "python3",
      "display_name": "Python 3"
    },
    "language_info": {
      "name": "python"
    }
  },
  "cells": [
    {
      "cell_type": "code",
      "source": [
        "# Install libraries\n",
        "!pip install openai\n",
        "!pip install python-aiconfig"
      ],
      "metadata": {
        "id": "RDkePRKCS8rU"
      },
      "execution_count": null,
      "outputs": []
    },
    {
      "cell_type": "code",
      "source": [
        "#Import libraries\n",
        "import openai\n",
        "import os\n",
        "from aiconfig.Config import AIConfigRuntime\n",
        "\n",
        "#Set the OpenAI key. The following code is specific for Google Colab\n",
        "#We recommend using environment variables for setting the open ai key\n",
        "from google.colab import userdata\n",
        "openai.api_key = userdata.get('OPENAI_API_KEY')"
      ],
      "metadata": {
        "id": "nat03JkI9Dw2"
      },
      "execution_count": null,
      "outputs": []
    },
    {
      "cell_type": "code",
      "source": [
        "# Load AI Config\n",
        "config_file_path = \"multi-llm-consistency.json\"\n",
        "config = AIConfigRuntime.load(config_file_path)"
      ],
      "metadata": {
        "id": "VDZ4rhDr9E9E"
      },
      "execution_count": null,
      "outputs": []
    },
    {
      "cell_type": "code",
      "source": [
        "# Run the AI Config\n",
        "from aiconfig.default_parsers.parameterized_model_parser import InferenceOptions\n",
        "\n",
        "params = {}\n",
        "inference_options = InferenceOptions()\n",
        "\n",
        "response_completion = await config.run(\"majority-evaluator\", params, inference_options)\n",
        "response = config.get_output_text(\"majority-evaluator\")"
      ],
      "metadata": {
        "id": "Z_BqhhxstmBV"
      },
      "execution_count": null,
      "outputs": []
    },
    {
      "cell_type": "code",
      "source": [
        "print(response)"
      ],
      "metadata": {
        "id": "SUDF3Jj_tqw4"
      },
      "execution_count": null,
      "outputs": []
    },
    {
      "cell_type": "code",
      "source": [],
      "metadata": {
        "id": "ZhyBEWGcM6zB"
      },
      "execution_count": null,
      "outputs": []
    }
  ]
}
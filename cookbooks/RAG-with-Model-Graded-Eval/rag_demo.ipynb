{
 "cells": [
  {
   "cell_type": "markdown",
   "metadata": {},
   "source": [
    "# Basic RAG with Model-graded Eval\n",
    "\n",
    "In this example we'll build a simple RAG application on Volume 7 of History of the United States of America, \n",
    "and evaluate it across \n",
    "* **relevance** -- does the answer make sense in context of the original question?, \n",
    "* **faithfulness** -- is the final answer faithful to the data that we fed into the LLM?\n",
    "* **coherence** -- is the answer consistent and easy to understand?\n",
    "\n",
    "We'll use AIConfig to manage and iterate on all our prompts, both for the generation step of the RAG pipeline, as well as its evaluation."
   ]
  },
  {
   "cell_type": "markdown",
   "metadata": {},
   "source": [
    "## Install dependencies\n",
    "\n",
    "Create .env file containing the following line:\n",
    "`OPENAI_API_KEY=<your key here>`\n",
    "> You can get your key from https://platform.openai.com/api-keys \n"
   ]
  },
  {
   "cell_type": "code",
   "execution_count": null,
   "metadata": {},
   "outputs": [],
   "source": [
    "!pip install python-aiconfig==1.1.20\n",
    "!pip install chromadb\n",
    "\n",
    "import dotenv\n",
    "dotenv.load_dotenv()"
   ]
  },
  {
   "cell_type": "code",
   "execution_count": 3,
   "metadata": {},
   "outputs": [
    {
     "name": "stderr",
     "output_type": "stream",
     "text": [
      "/Users/saqadri/lm/aiconfig2/.conda/lib/python3.11/site-packages/pydantic/_internal/_fields.py:128: UserWarning: Field \"model_parsers\" has conflict with protected namespace \"model_\".\n",
      "\n",
      "You may be able to resolve this warning by setting `model_config['protected_namespaces'] = ()`.\n",
      "  warnings.warn(\n",
      "/Users/saqadri/lm/aiconfig2/.conda/lib/python3.11/site-packages/tqdm/auto.py:21: TqdmWarning: IProgress not found. Please update jupyter and ipywidgets. See https://ipywidgets.readthedocs.io/en/stable/user_install.html\n",
      "  from .autonotebook import tqdm as notebook_tqdm\n"
     ]
    }
   ],
   "source": [
    "import argparse\n",
    "import asyncio\n",
    "import os\n",
    "import sys\n",
    "from aiconfig import AIConfigRuntime\n",
    "import chromadb\n",
    "from glob import glob"
   ]
  },
  {
   "cell_type": "markdown",
   "metadata": {},
   "source": [
    "## Download the raw data\n",
    "Fetch Volume 7 of the History of the United States of America (our raw unstructured dataset)"
   ]
  },
  {
   "cell_type": "code",
   "execution_count": 3,
   "metadata": {},
   "outputs": [
    {
     "name": "stdout",
     "output_type": "stream",
     "text": [
      "--2024-02-07 23:22:57--  https://www.gutenberg.org/cache/epub/72846/pg72846.txt\n",
      "Resolving www.gutenberg.org (www.gutenberg.org)... 152.19.134.47, 2610:28:3090:3000:0:bad:cafe:47\n",
      "Connecting to www.gutenberg.org (www.gutenberg.org)|152.19.134.47|:443... connected.\n",
      "HTTP request sent, awaiting response... 200 OK\n",
      "Length: 651483 (636K) [text/plain]\n",
      "Saving to: ‘data/books/pg72846.txt’\n",
      "\n",
      "data/books/pg72846. 100%[===================>] 636.21K  1.35MB/s    in 0.5s    \n",
      "\n",
      "2024-02-07 23:22:58 (1.35 MB/s) - ‘data/books/pg72846.txt’ saved [651483/651483]\n",
      "\n"
     ]
    }
   ],
   "source": [
    "!mkdir -p data/books/\n",
    "!wget https://www.gutenberg.org/cache/epub/72846/pg72846.txt -O data/books/pg72846.txt"
   ]
  },
  {
   "cell_type": "code",
   "execution_count": 5,
   "metadata": {},
   "outputs": [
    {
     "name": "stdout",
     "output_type": "stream",
     "text": [
      "The Project Gutenberg eBook of History of the United States of America, Volume 7 (of 9)\n",
      "    \n",
      "This ebook is for the use of anyone anywhere in the United States and\n",
      "most other parts of the world at no cost and with almost no restrictions\n",
      "whatsoever. You may copy it, give it away or re-use it under the terms\n",
      "of the Project Gutenberg License included with this ebook or online\n",
      "at www.gutenberg.org. If you are not located in the United States,\n",
      "you will have to check the laws of the country where you are located\n",
      "before using this eBook.\n",
      "\n"
     ]
    }
   ],
   "source": [
    "!head data/books/pg72846.txt"
   ]
  },
  {
   "cell_type": "code",
   "execution_count": 6,
   "metadata": {},
   "outputs": [],
   "source": [
    "collection_name=\"us_history_volume_7\"\n",
    "chromadb_path=\"chroma_2.db\""
   ]
  },
  {
   "cell_type": "markdown",
   "metadata": {},
   "source": [
    "## RAG Data Ingestion & Indexing\n",
    "Chunk the data and ingest it into a Chroma DB collection.\n",
    "\n",
    "> We use a very naive text splitting strategy with fixed-size chunks. For a production environment, this step will be critical to optimize.\n",
    "\n",
    "**Note:** You can also run this as a CLI script using the command \n",
    "```\n",
    "!python rag.py ingest `data/books/` --chroma-collection-name us_history_volume_7\n",
    "```"
   ]
  },
  {
   "cell_type": "code",
   "execution_count": 6,
   "metadata": {},
   "outputs": [],
   "source": [
    "def chunk_markdown(text, chunk_size=1000):\n",
    "    chunks = []\n",
    "    for i in range(0, len(text), chunk_size):\n",
    "        yield text[i : i + chunk_size]\n",
    "    return chunks"
   ]
  },
  {
   "cell_type": "code",
   "execution_count": 8,
   "metadata": {},
   "outputs": [],
   "source": [
    "async def run_ingest(directory, collection_name):\n",
    "    chroma_client = chromadb.PersistentClient(path=chromadb_path)\n",
    "    collection = chroma_client.create_collection(name=collection_name)\n",
    "\n",
    "    for i, filename in enumerate(glob(f\"{directory}/**/*\", recursive=True)):\n",
    "        print(\"Ingesting:\", i, filename)\n",
    "        documents = []\n",
    "        metadatas = []\n",
    "        ids = []\n",
    "\n",
    "        with open(filename, \"r\") as f:\n",
    "            data = f.read()\n",
    "            for j, chunk in enumerate(chunk_markdown(data)):\n",
    "                documents.append(chunk)\n",
    "                metadatas.append({\"source\": filename})\n",
    "                ids.append(f\"doc_{i}_chunk{j}\")\n",
    "\n",
    "        collection.add(documents=documents, metadatas=metadatas, ids=ids)"
   ]
  },
  {
   "cell_type": "code",
   "execution_count": 9,
   "metadata": {},
   "outputs": [
    {
     "name": "stdout",
     "output_type": "stream",
     "text": [
      "Ingesting: 0 data/books/pg72846.txt\n"
     ]
    },
    {
     "name": "stderr",
     "output_type": "stream",
     "text": [
      "/Users/saqadri/.cache/chroma/onnx_models/all-MiniLM-L6-v2/onnx.tar.gz: 100%|██████████| 79.3M/79.3M [00:03<00:00, 22.6MiB/s]\n",
      "\u001b[0;93m2024-02-07 23:32:38.369635 [W:onnxruntime:, helper.cc:67 IsInputSupported] CoreML does not support input dim > 16384. Input:embeddings.word_embeddings.weight, shape: {30522,384}\u001b[m\n",
      "\u001b[0;93m2024-02-07 23:32:38.370126 [W:onnxruntime:, coreml_execution_provider.cc:81 GetCapability] CoreMLExecutionProvider::GetCapability, number of partitions supported by CoreML: 49 number of nodes in the graph: 323 number of nodes supported by CoreML: 231\u001b[m\n"
     ]
    }
   ],
   "source": [
    "await run_ingest(directory=\"data/books\", collection_name=collection_name)"
   ]
  },
  {
   "cell_type": "markdown",
   "metadata": {},
   "source": [
    "## RAG Query & Response Generation\n",
    "Query the index for context given a user-supplied question, and use that context to generate a response\n",
    "\n",
    "**Note:** You can also run this as a CLI script using the command \n",
    "```\n",
    "!python rag.py query \"In July, flour sold at Boston for _?\" -k=10 --chroma-collection-name us_history_volume_7\n",
    "```"
   ]
  },
  {
   "cell_type": "code",
   "execution_count": 14,
   "metadata": {},
   "outputs": [],
   "source": [
    "def retrieve_data(collection, query, k):\n",
    "    print(\"Querying for:\", query)\n",
    "    context = collection.query(query_texts=[query], n_results=k)\n",
    "    return context\n",
    "\n",
    "\n",
    "def serialize_retrieved_data(data):\n",
    "    # print(\"Serializing data:\", type(data), data)\n",
    "    return \"\\n\".join(f\"{k}={v}\" for k, v in data.items())\n",
    "\n",
    "\n",
    "async def generate(query, context):\n",
    "    config = AIConfigRuntime.load(\"rag.aiconfig.yaml\")\n",
    "    params = {\"query\": query, \"context\": context}\n",
    "    # print(\"Running generate with params:\", params)\n",
    "    return await config.run_and_get_output_text(\n",
    "        \"generate_baseline\", params=params\n",
    "    )\n",
    "\n",
    "async def run_query(query, collection_name, k):\n",
    "    chroma_client = chromadb.PersistentClient(path=chromadb_path)\n",
    "    collection = chroma_client.get_collection(name=collection_name)\n",
    "    data = retrieve_data(collection, query, k)\n",
    "    print(\"Retrieved data:\\n\", \"\\n\".join(data[\"documents\"][0]))\n",
    "    context = serialize_retrieved_data(data)\n",
    "    result = await generate(query, context)\n",
    "    print(\"\\n\\nResponse:\\n\", result)\n",
    "\n",
    "    return (query, context, result)"
   ]
  },
  {
   "cell_type": "code",
   "execution_count": 10,
   "metadata": {},
   "outputs": [],
   "source": [
    "query=\"What was the price of flour sold in Boston in August?\""
   ]
  },
  {
   "cell_type": "code",
   "execution_count": 15,
   "metadata": {},
   "outputs": [
    {
     "name": "stdout",
     "output_type": "stream",
     "text": [
      "Querying for: What was the price of flour sold in Boston in August?\n",
      "Retrieved data:\n",
      " wheat to be brought by sea from Charleston or Norfolk to\n",
      "Boston. Soon speculation began. The price of imported articles rose to\n",
      "extravagant points. At the end of the year coffee sold for thirty-eight\n",
      "cents a pound, after selling for twenty-one cents in August. Tea which\n",
      "could be bought for $1.70 per pound in August, sold for three and four\n",
      "dollars in December. Sugar which was quoted at nine dollars a hundred\n",
      "weight in New Orleans, and in August sold for twenty-one or twenty-two\n",
      "dollars in New York and Philadelphia, stood at forty dollars in\n",
      "December.\n",
      "\n",
      "More sweeping in its effects on exports than on imports, the blockade\n",
      "rapidly reduced the means of the people. After the summer of 1813,\n",
      "Georgia alone, owing to its contiguity with Florida, succeeded in\n",
      "continuing to send out cotton. The exports of New York, which exceeded\n",
      "$12,250,000 in 1811, fell to $209,000 for the year ending in 1814. The\n",
      "domestic exports of Virginia diminished in four years from $4,800,000\n",
      "to $3,000,000 for 1812, $1,\n",
      "New England open to neutrals.\n",
      "From that time nothing entered or left the blockaded coast except swift\n",
      "privateers, or occasional fast-sailing vessels which risked capture\n",
      "in the attempt. Toward the close of the year Admiral Warren extended\n",
      "his blockade eastward. Notice of the extension was given at Halifax\n",
      "November 16, and by the blockading squadron off New London December 2,\n",
      "thus closing Long Island Sound to all vessels of every description.[381]\n",
      "\n",
      "The pressure of the blockade was immediately felt. In August[382]\n",
      "superfine flour sold at Boston for $11.87 a barrel, at Baltimore for\n",
      "$6.00, and at Richmond for $4.50. Upland cotton sold at Boston for\n",
      "twenty cents a pound; at Charleston for nine cents. Rice sold at\n",
      "Philadelphia for $12.00 a hundred weight; in Charleston and Savannah\n",
      "for $3.00. Sugar sold in Boston for $18.75 a hundred weight; in\n",
      "Baltimore for $26.50. Already the American staples were unsalable at\n",
      "the places of their production. No rate of profit could cause cotton,\n",
      "rice, or \n",
      "and supplied the Union\n",
      "with articles of necessary use at prices practically fixed by her own\n",
      "manufacturers. From the whole country specie began to flow toward\n",
      "Boston as early as the year 1810, and with astonishing rapidity after\n",
      "the war was declared. The British blockade stimulated the movement,\n",
      "and the embargo of December, 1813, which lasted till April, 1814, cut\n",
      "off every other resource from the Southern and Western States. Unable\n",
      "longer to send their crops even to New England for a market, they were\n",
      "obliged to send specie, and they soon came to the end of their supply.\n",
      "The Massachusetts banks, which reported about $820,000 in specie in\n",
      "1809, returned more than $3,680,000 in June, 1812; which rose to\n",
      "$5,780,000 in June, 1813, and reached nearly $7,000,000 in June, 1814.\n",
      "In five years the Massachusetts banks alone drew more than six million\n",
      "dollars in specie from the Southern and Middle States,[478] besides\n",
      "what they sent to Canada in payment for British bills.\n",
      "\n",
      "No one knew how much s\n",
      "17, 1813; Annals, 1813–1814, p. 2781.\n",
      "\n",
      "[468] Act of Jan. 25, 1814; Annals, 1813–1814, p. 2788.\n",
      "\n",
      "[469] Annals, 1813–1814, p. 1965.\n",
      "\n",
      "[470] Macon to Nicholson, April 6, 1814; Nicholson MSS.\n",
      "\n",
      "[471] Gallatin MSS.\n",
      "\n",
      "[472] Annals, 1813–1814, p. 928.\n",
      "\n",
      "[473] Armstrong to Eppes, Feb. 10, 1814; Niles, vi. 94.\n",
      "\n",
      "[474] Note to abstract of regular troops in service, January, 1814;\n",
      "adjutant-general’s office. MSS. War Department Archives.\n",
      "\n",
      "[475] Annals, 1813–1814, p. 940.\n",
      "\n",
      "[476] Speech of Timothy Pitkin, Feb. 10, 1814; Annals, 1813–1814, p.\n",
      "1297.\n",
      "\n",
      "[477] Considerations on Currency, etc. By Albert Gallatin, 1831.\n",
      "Statements II. and III., pp. 101, 103.\n",
      "\n",
      "[478] Schedule, 1803–1837; Senate Document No. 38. Massachusetts\n",
      "Legislature, 1838.\n",
      "\n",
      "[479] Gallatin’s Considerations, p. 45.\n",
      "\n",
      "[480] Gallatin’s Considerations, p. 45. Schedules II. and III., pp.\n",
      "101, 103. Gallatin’s Writings, iii. 286, 357, 359.\n",
      "\n",
      "[481] Gallatin’s Writings, iii. 284.\n",
      "\n",
      "[482] Annals, 1813–1814, p. 1787.\n",
      "\n",
      "[483] Serurier to Bassano, July 21, 1813\n",
      "r was responsible,\n",
      "the effect was ruinous. The New England banks were financial agents\n",
      "of the enemy. The bank capital of Massachusetts including Maine was\n",
      "about twelve and a quarter million dollars; that of Connecticut\n",
      "exceeded three millions. The whole bank capital of New England reached\n",
      "eighteen millions,[477] or nearly one third of the paid bank capital\n",
      "of the whole country, if Pitkin’s estimate was correct. That nearly\n",
      "one third of the national resources should be withdrawn from the aid\n",
      "of government was serious enough; but in reality the loss was much\n",
      "greater, for New England held a still larger proportion of the specie\n",
      "on which the bank circulation of other States depended.\n",
      "\n",
      "The system of commercial restrictions was responsible for thus, at\n",
      "the most critical moment of the war, throwing the control of the\n",
      "national finances into the hands of the Boston Federalists. Against\n",
      "the protests of the Federalists, manufactures had been forced upon\n",
      "them by national legislation until New Engl\n",
      "he\n",
      "rate was about 7.50 per cent. In the end, the government paid 7.487\n",
      "per cent, for the use of these sixteen millions for thirteen years.\n",
      "The terms were not excessive when it was considered that New England\n",
      "in effect refused to subscribe. Perhaps the loan could not have been\n",
      "taken at all, had not credit and currency been already expanded to the\n",
      "danger-point, as the allotment showed; for while New England, where\n",
      "most of the specie was held, subscribed less than half a million, and\n",
      "Boston took but seventy-five thousand, Pennsylvania, where banking had\n",
      "become a frenzy, took seven million dollars. New York and Baltimore\n",
      "together contributed only half a million more than was given by\n",
      "Philadelphia alone. Ten million dollars were taken by Astor, Girard,\n",
      "and Parish,--three foreign-born Americans, without whose aid the money\n",
      "could not have been obtained on these terms, if at all. Doubtless they\n",
      "were bold operators; but Americans were supposed to be not wanting in\n",
      "the taste for speculation, and\n",
      "lled on Philadelphia and Baltimore.\n",
      "The specie drained to New England could find its way back only by means\n",
      "of government loans, which New England refused to make in any large\n",
      "amount. On the other hand, Boston bought freely British Treasury notes\n",
      "at liberal discount, and sent coin to Canada in payment of them.[481]\n",
      "Probably New England lent to the British government during the war more\n",
      "money than she lent to her own. The total amount subscribed in New\n",
      "England to the United States loans was less than three millions.\n",
      "\n",
      "This situation was well understood by Congress. In the debate of\n",
      "February, 1814, the approaching dangers were repeatedly pointed out.\n",
      "The alarm was then so great that the Committee of Ways and Means\n",
      "reported a bill to incorporate a new national bank with a capital of\n",
      "thirty million dollars, while Macon openly advocated the issue of\n",
      "government paper,[482] declaring that “paper money never was beat.”\n",
      "Congress after a diffuse debate passed only a loan bill for twenty-five\n",
      "mill\n",
      "pecie the country contained. Gallatin afterward\n",
      "estimated it at seventeen million dollars,[479] and of that amount the\n",
      "banks of New England in 1814 probably held nearly ten millions. The\n",
      "Massachusetts banks, with seven millions in specie, had a bank-note\n",
      "circulation of less than three millions. The Middle, Southern, and\n",
      "Western States must have had a bank-note circulation approaching forty\n",
      "millions in paper, with seven or eight millions in specie to support\n",
      "it,[480] while the paper was constantly increasing in quantity and the\n",
      "specie constantly diminishing. Bank paper, as was believed, could not\n",
      "with safety exceed the proportion of three paper dollars to every\n",
      "specie dollar in the bank vaults; but the banks in 1814 beyond New\n",
      "England were circulating at least four paper dollars to every silver\n",
      "or gold dollar, and in many cases were issuing paper without specie in\n",
      "their possession.\n",
      "\n",
      "Already the banks of New England were pressing their demands on those\n",
      "of New York, which in their turn ca\n",
      "n be given to it.”\n",
      "\n",
      "Although Madison pointed to the notorious supply of food for the\n",
      "British forces in Canada as one of the motives for imposing an embargo,\n",
      "no one supposed that motive to be decisive. Other laws already forbade\n",
      "and punished such communication with the enemy; and experience proved\n",
      "that a general embargo would be no more effective than any special\n",
      "prohibition. The idea that England could be distressed by an embargo\n",
      "seemed still less likely to influence Government. Congress knew that\n",
      "Russia, Prussia, Denmark, Sweden and Norway, Spain, and South America\n",
      "were already open to English commerce, and that a few days must decide\n",
      "whether Napoleon could much longer prevent Great Britain from trading\n",
      "with France. The possibility of distressing England by closing Boston\n",
      "and Salem, New Bedford and Newport to neutral ships was not to be\n",
      "seriously treated.\n",
      "\n",
      "Whatever was the true motive of the President’s recommendation,\n",
      "Congress instantly approved it. The next day, December 10, the Hou\n",
      "ed States outside of New England did\n",
      "not exceed $150,000 a month, or at the rate of $1,800,000 a year.[384]\n",
      "\n",
      "No ordinary operations of war could affect the United States so\n",
      "severely as this inexorable blockade. Every citizen felt it in every\n",
      "action of his life. The farmer grew crops which he could not sell,\n",
      "while he paid tenfold prices for every necessity. While the country\n",
      "was bursting with wealth, it was ruined. The blockade was but a part\n",
      "of the evil. The whole coast was systematically swept of the means of\n",
      "industry. Especially the Virginians and Marylanders felt the heavy hand\n",
      "of England as it was felt nowhere else except on the Niagara River. A\n",
      "large British squadron occupied Chesapeake Bay, and converted it into\n",
      "a British naval station. After the month of February, 1813, the coasts\n",
      "of Virginia and Maryland enjoyed not a moment’s repose. Considering the\n",
      "immense naval power wielded by England, the Americans were fortunate\n",
      "that their chief losses were confined to the farm-yards and \n",
      "\n",
      "\n",
      "Response:\n",
      " The price of flour sold in Boston in August was $11.87 per barrel.\n"
     ]
    }
   ],
   "source": [
    "query, context, result = await run_query(query, collection_name, k=10)"
   ]
  },
  {
   "cell_type": "markdown",
   "metadata": {},
   "source": [
    "## Evaluate the response\n",
    "Run evals on the responses across \n",
    "* **relevance** -- does the answer make sense in context of the original question?, \n",
    "* **faithfulness** -- is the final answer faithful to the data that we fed into the LLM?\n",
    "* **coherence** -- is the answer consistent and easy to understand?"
   ]
  },
  {
   "cell_type": "code",
   "execution_count": 16,
   "metadata": {},
   "outputs": [],
   "source": [
    "async def run_evals(query, context, answer):\n",
    "    config = AIConfigRuntime.load(\"rag.aiconfig.yaml\")\n",
    "    \n",
    "    return [\n",
    "        await config.run_and_get_output_text(\n",
    "            f\"evaluate_{criterion}\",\n",
    "            params={\n",
    "                \"query\": query,\n",
    "                \"context\": context,\n",
    "                \"answer\": answer,\n",
    "            },\n",
    "        )\n",
    "        for criterion in [\"relevance\", \"faithfulness_baseline\", \"coherence\"]\n",
    "    ]\n"
   ]
  },
  {
   "cell_type": "code",
   "execution_count": 18,
   "metadata": {},
   "outputs": [
    {
     "name": "stdout",
     "output_type": "stream",
     "text": [
      "Evaluating...Query: What was the price of flour sold in Boston in August? \n",
      " Answer: The price of flour sold in Boston in August was $11.87 per barrel.\n",
      "Evaluations:\n",
      "relevance: No, the answer does not satisfactorily answer the question. The question asks for the price of flour in August, but the answer gives the price for July.\n",
      "faithfulness_baseline: NO\n",
      "\n",
      "The context given in the answer discusses the price of flour in July, not in August as asked in the question. Therefore, the answer isn't faithful to the context.\n",
      "coherence: Yes, the answer is self-consistent and easy to understand.\n"
     ]
    }
   ],
   "source": [
    "print(f\"Evaluating...Query: {query} \\n Answer: {result}\")\n",
    "evals = await run_evals(query, context, result)\n",
    "print(\"Evaluations:\")\n",
    "for criterion, score in zip(\n",
    "    [\"relevance\", \"faithfulness_baseline\", \"coherence\"], evals\n",
    "):\n",
    "    print(f\"{criterion}: {score}\")\n"
   ]
  },
  {
   "cell_type": "code",
   "execution_count": 6,
   "metadata": {},
   "outputs": [
    {
     "name": "stdout",
     "output_type": "stream",
     "text": [
      "/opt/homebrew/Caskroom/miniconda/base/lib/python3.10/site-packages/pydantic/_internal/_fields.py:128: UserWarning: Field \"model_parsers\" has conflict with protected namespace \"model_\".\n",
      "\n",
      "You may be able to resolve this warning by setting `model_config['protected_namespaces'] = ()`.\n",
      "  warnings.warn(\n",
      "Starting info\n",
      "Available Chroma Collections: [Collection(name=my_collection_name)]\n"
     ]
    }
   ],
   "source": [
    "!python rag.py info"
   ]
  }
 ],
 "metadata": {
  "kernelspec": {
   "display_name": "base",
   "language": "python",
   "name": "python3"
  },
  "language_info": {
   "codemirror_mode": {
    "name": "ipython",
    "version": 3
   },
   "file_extension": ".py",
   "mimetype": "text/x-python",
   "name": "python",
   "nbconvert_exporter": "python",
   "pygments_lexer": "ipython3",
   "version": "3.11.7"
  }
 },
 "nbformat": 4,
 "nbformat_minor": 2
}

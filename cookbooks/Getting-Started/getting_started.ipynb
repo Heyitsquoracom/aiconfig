{
  "cells": [
    {
      "attachments": {},
      "cell_type": "markdown",
      "metadata": {
        "id": "kNmnUZnUFzt3"
      },
      "source": [
        "# Installation and Setup"
      ]
    },
    {
      "cell_type": "code",
      "execution_count": null,
      "metadata": {
        "id": "sq9uM4ENFStR"
      },
      "outputs": [],
      "source": [
        "!pip install python-aiconfig\n",
        "\n",
        "# Create .env file at aiconfig/.env containing the following line:\n",
        "# OPENAI_API_KEY=<your key here>\n",
        "# You can get your key from https://platform.openai.com/api-keys \n",
        "import openai\n",
        "import dotenv\n",
        "import os\n",
        "dotenv.load_dotenv()\n",
        "openai.api_key = os.getenv(\"OPENAI_API_KEY\")"
      ]
    },
    {
      "attachments": {},
      "cell_type": "markdown",
      "metadata": {
        "id": "-FMlVH2bF4iN"
      },
      "source": [
        "## Load AI Config `travel.aiconfig.json`\n",
        "Download file [from here](https://github.com/lastmile-ai/aiconfig/blob/main/cookbooks/Getting-Started/travel.aiconfig.json). Upload to 'Files' in your colab notebook and load (shown below).\n"
      ]
    },
    {
      "cell_type": "code",
      "execution_count": 10,
      "metadata": {},
      "outputs": [
        {
          "name": "stdout",
          "output_type": "stream",
          "text": [
            "\u001b[33mWARNING: Ignoring invalid distribution -etuptools (/opt/homebrew/Caskroom/miniconda/base/envs/aiconfig/lib/python3.10/site-packages)\u001b[0m\u001b[33m\n",
            "\u001b[0mObtaining file:///Users/jonathan/Projects/aiconfig/python\n",
            "  Installing build dependencies ... \u001b[?25ldone\n",
            "\u001b[?25h  Checking if build backend supports build_editable ... \u001b[?25ldone\n",
            "\u001b[?25h  Getting requirements to build editable ... \u001b[?25ldone\n",
            "\u001b[?25h  Preparing editable metadata (pyproject.toml) ... \u001b[?25ldone\n",
            "\u001b[?25hRequirement already satisfied: black in /opt/homebrew/Caskroom/miniconda/base/envs/aiconfig/lib/python3.10/site-packages (from python-aiconfig==1.1.8) (23.11.0)\n",
            "Requirement already satisfied: flake8 in /opt/homebrew/Caskroom/miniconda/base/envs/aiconfig/lib/python3.10/site-packages (from python-aiconfig==1.1.8) (6.1.0)\n",
            "Requirement already satisfied: flask-cors in /opt/homebrew/Caskroom/miniconda/base/envs/aiconfig/lib/python3.10/site-packages (from python-aiconfig==1.1.8) (4.0.0)\n",
            "Requirement already satisfied: flask[async] in /opt/homebrew/Caskroom/miniconda/base/envs/aiconfig/lib/python3.10/site-packages (from python-aiconfig==1.1.8) (3.0.0)\n",
            "Requirement already satisfied: google-generativeai in /opt/homebrew/Caskroom/miniconda/base/envs/aiconfig/lib/python3.10/site-packages (from python-aiconfig==1.1.8) (0.2.2)\n",
            "Requirement already satisfied: huggingface-hub in /opt/homebrew/Caskroom/miniconda/base/envs/aiconfig/lib/python3.10/site-packages (from python-aiconfig==1.1.8) (0.19.4)\n",
            "Requirement already satisfied: hypothesis==6.91.0 in /opt/homebrew/Caskroom/miniconda/base/envs/aiconfig/lib/python3.10/site-packages (from python-aiconfig==1.1.8) (6.91.0)\n",
            "Requirement already satisfied: lastmile-utils==0.0.14 in /opt/homebrew/Caskroom/miniconda/base/envs/aiconfig/lib/python3.10/site-packages (from python-aiconfig==1.1.8) (0.0.14)\n",
            "Requirement already satisfied: mock in /opt/homebrew/Caskroom/miniconda/base/envs/aiconfig/lib/python3.10/site-packages (from python-aiconfig==1.1.8) (5.1.0)\n",
            "Requirement already satisfied: nest-asyncio in /opt/homebrew/Caskroom/miniconda/base/envs/aiconfig/lib/python3.10/site-packages (from python-aiconfig==1.1.8) (1.5.8)\n",
            "Requirement already satisfied: nltk in /opt/homebrew/Caskroom/miniconda/base/envs/aiconfig/lib/python3.10/site-packages (from python-aiconfig==1.1.8) (3.8.1)\n",
            "Requirement already satisfied: openai<1.5,>=1.0.0 in /opt/homebrew/Caskroom/miniconda/base/envs/aiconfig/lib/python3.10/site-packages (from python-aiconfig==1.1.8) (1.3.6)\n",
            "Requirement already satisfied: prompt-toolkit in /opt/homebrew/Caskroom/miniconda/base/envs/aiconfig/lib/python3.10/site-packages (from python-aiconfig==1.1.8) (3.0.41)\n",
            "Requirement already satisfied: pybars3 in /opt/homebrew/Caskroom/miniconda/base/envs/aiconfig/lib/python3.10/site-packages (from python-aiconfig==1.1.8) (0.9.7)\n",
            "Requirement already satisfied: pydantic>=2.1 in /opt/homebrew/Caskroom/miniconda/base/envs/aiconfig/lib/python3.10/site-packages (from python-aiconfig==1.1.8) (2.4.2)\n",
            "Requirement already satisfied: pylint in /opt/homebrew/Caskroom/miniconda/base/envs/aiconfig/lib/python3.10/site-packages (from python-aiconfig==1.1.8) (3.0.2)\n",
            "Requirement already satisfied: pytest in /opt/homebrew/Caskroom/miniconda/base/envs/aiconfig/lib/python3.10/site-packages (from python-aiconfig==1.1.8) (7.4.3)\n",
            "Requirement already satisfied: pytest-asyncio in /opt/homebrew/Caskroom/miniconda/base/envs/aiconfig/lib/python3.10/site-packages (from python-aiconfig==1.1.8) (0.21.1)\n",
            "Requirement already satisfied: python-dotenv in /opt/homebrew/Caskroom/miniconda/base/envs/aiconfig/lib/python3.10/site-packages (from python-aiconfig==1.1.8) (1.0.0)\n",
            "Requirement already satisfied: pyyaml in /opt/homebrew/Caskroom/miniconda/base/envs/aiconfig/lib/python3.10/site-packages (from python-aiconfig==1.1.8) (6.0.1)\n",
            "Requirement already satisfied: requests in /opt/homebrew/Caskroom/miniconda/base/envs/aiconfig/lib/python3.10/site-packages (from python-aiconfig==1.1.8) (2.30.0)\n",
            "Requirement already satisfied: result in /opt/homebrew/Caskroom/miniconda/base/envs/aiconfig/lib/python3.10/site-packages (from python-aiconfig==1.1.8) (0.15.0)\n",
            "Requirement already satisfied: attrs>=19.2.0 in /opt/homebrew/Caskroom/miniconda/base/envs/aiconfig/lib/python3.10/site-packages (from hypothesis==6.91.0->python-aiconfig==1.1.8) (23.1.0)\n",
            "Requirement already satisfied: sortedcontainers<3.0.0,>=2.1.0 in /opt/homebrew/Caskroom/miniconda/base/envs/aiconfig/lib/python3.10/site-packages (from hypothesis==6.91.0->python-aiconfig==1.1.8) (2.4.0)\n",
            "Requirement already satisfied: exceptiongroup>=1.0.0 in /opt/homebrew/Caskroom/miniconda/base/envs/aiconfig/lib/python3.10/site-packages (from hypothesis==6.91.0->python-aiconfig==1.1.8) (1.2.0)\n",
            "Requirement already satisfied: chardet==5.2.0 in /opt/homebrew/Caskroom/miniconda/base/envs/aiconfig/lib/python3.10/site-packages (from lastmile-utils==0.0.14->python-aiconfig==1.1.8) (5.2.0)\n",
            "Requirement already satisfied: isort==5.12.0 in /opt/homebrew/Caskroom/miniconda/base/envs/aiconfig/lib/python3.10/site-packages (from lastmile-utils==0.0.14->python-aiconfig==1.1.8) (5.12.0)\n",
            "Requirement already satisfied: jsoncomment==0.4.2 in /opt/homebrew/Caskroom/miniconda/base/envs/aiconfig/lib/python3.10/site-packages (from lastmile-utils==0.0.14->python-aiconfig==1.1.8) (0.4.2)\n",
            "Requirement already satisfied: pandas==2.1.2 in /opt/homebrew/Caskroom/miniconda/base/envs/aiconfig/lib/python3.10/site-packages (from lastmile-utils==0.0.14->python-aiconfig==1.1.8) (2.1.2)\n",
            "Requirement already satisfied: pyright==1.1.335 in /opt/homebrew/Caskroom/miniconda/base/envs/aiconfig/lib/python3.10/site-packages (from lastmile-utils==0.0.14->python-aiconfig==1.1.8) (1.1.335)\n",
            "Requirement already satisfied: autoflake==2.2.1 in /opt/homebrew/Caskroom/miniconda/base/envs/aiconfig/lib/python3.10/site-packages (from lastmile-utils==0.0.14->python-aiconfig==1.1.8) (2.2.1)\n",
            "Requirement already satisfied: click>=8.0.0 in /opt/homebrew/Caskroom/miniconda/base/envs/aiconfig/lib/python3.10/site-packages (from black->python-aiconfig==1.1.8) (8.1.7)\n",
            "Requirement already satisfied: mypy-extensions>=0.4.3 in /opt/homebrew/Caskroom/miniconda/base/envs/aiconfig/lib/python3.10/site-packages (from black->python-aiconfig==1.1.8) (1.0.0)\n",
            "Requirement already satisfied: packaging>=22.0 in /opt/homebrew/Caskroom/miniconda/base/envs/aiconfig/lib/python3.10/site-packages (from black->python-aiconfig==1.1.8) (23.2)\n",
            "Requirement already satisfied: pathspec>=0.9.0 in /opt/homebrew/Caskroom/miniconda/base/envs/aiconfig/lib/python3.10/site-packages (from black->python-aiconfig==1.1.8) (0.12.1)\n",
            "Requirement already satisfied: platformdirs>=2 in /opt/homebrew/Caskroom/miniconda/base/envs/aiconfig/lib/python3.10/site-packages (from black->python-aiconfig==1.1.8) (4.1.0)\n",
            "Requirement already satisfied: tomli>=1.1.0 in /opt/homebrew/Caskroom/miniconda/base/envs/aiconfig/lib/python3.10/site-packages (from black->python-aiconfig==1.1.8) (2.0.1)\n",
            "Requirement already satisfied: typing-extensions>=4.0.1 in /opt/homebrew/Caskroom/miniconda/base/envs/aiconfig/lib/python3.10/site-packages (from black->python-aiconfig==1.1.8) (4.9.0)\n",
            "Requirement already satisfied: mccabe<0.8.0,>=0.7.0 in /opt/homebrew/Caskroom/miniconda/base/envs/aiconfig/lib/python3.10/site-packages (from flake8->python-aiconfig==1.1.8) (0.7.0)\n",
            "Requirement already satisfied: pycodestyle<2.12.0,>=2.11.0 in /opt/homebrew/Caskroom/miniconda/base/envs/aiconfig/lib/python3.10/site-packages (from flake8->python-aiconfig==1.1.8) (2.11.1)\n",
            "Requirement already satisfied: pyflakes<3.2.0,>=3.1.0 in /opt/homebrew/Caskroom/miniconda/base/envs/aiconfig/lib/python3.10/site-packages (from flake8->python-aiconfig==1.1.8) (3.1.0)\n",
            "Requirement already satisfied: annotated-types>=0.4.0 in /opt/homebrew/Caskroom/miniconda/base/envs/aiconfig/lib/python3.10/site-packages (from pydantic>=2.1->python-aiconfig==1.1.8) (0.6.0)\n",
            "Requirement already satisfied: pydantic-core==2.10.1 in /opt/homebrew/Caskroom/miniconda/base/envs/aiconfig/lib/python3.10/site-packages (from pydantic>=2.1->python-aiconfig==1.1.8) (2.10.1)\n",
            "Requirement already satisfied: astroid<=3.1.0-dev0,>=3.0.1 in /opt/homebrew/Caskroom/miniconda/base/envs/aiconfig/lib/python3.10/site-packages (from pylint->python-aiconfig==1.1.8) (3.0.2)\n",
            "Requirement already satisfied: tomlkit>=0.10.1 in /opt/homebrew/Caskroom/miniconda/base/envs/aiconfig/lib/python3.10/site-packages (from pylint->python-aiconfig==1.1.8) (0.12.3)\n",
            "Requirement already satisfied: dill>=0.2 in /opt/homebrew/Caskroom/miniconda/base/envs/aiconfig/lib/python3.10/site-packages (from pylint->python-aiconfig==1.1.8) (0.3.7)\n",
            "Requirement already satisfied: iniconfig in /opt/homebrew/Caskroom/miniconda/base/envs/aiconfig/lib/python3.10/site-packages (from pytest->python-aiconfig==1.1.8) (2.0.0)\n",
            "Requirement already satisfied: pluggy<2.0,>=0.12 in /opt/homebrew/Caskroom/miniconda/base/envs/aiconfig/lib/python3.10/site-packages (from pytest->python-aiconfig==1.1.8) (1.3.0)\n",
            "Requirement already satisfied: json-spec in /opt/homebrew/Caskroom/miniconda/base/envs/aiconfig/lib/python3.10/site-packages (from jsoncomment==0.4.2->lastmile-utils==0.0.14->python-aiconfig==1.1.8) (0.11.0)\n",
            "Requirement already satisfied: numpy<2,>=1.22.4 in /opt/homebrew/Caskroom/miniconda/base/envs/aiconfig/lib/python3.10/site-packages (from pandas==2.1.2->lastmile-utils==0.0.14->python-aiconfig==1.1.8) (1.26.2)\n",
            "Requirement already satisfied: python-dateutil>=2.8.2 in /opt/homebrew/Caskroom/miniconda/base/envs/aiconfig/lib/python3.10/site-packages (from pandas==2.1.2->lastmile-utils==0.0.14->python-aiconfig==1.1.8) (2.8.2)\n",
            "Requirement already satisfied: pytz>=2020.1 in /opt/homebrew/Caskroom/miniconda/base/envs/aiconfig/lib/python3.10/site-packages (from pandas==2.1.2->lastmile-utils==0.0.14->python-aiconfig==1.1.8) (2023.3.post1)\n",
            "Requirement already satisfied: tzdata>=2022.1 in /opt/homebrew/Caskroom/miniconda/base/envs/aiconfig/lib/python3.10/site-packages (from pandas==2.1.2->lastmile-utils==0.0.14->python-aiconfig==1.1.8) (2023.3)\n",
            "Requirement already satisfied: nodeenv>=1.6.0 in /opt/homebrew/Caskroom/miniconda/base/envs/aiconfig/lib/python3.10/site-packages (from pyright==1.1.335->lastmile-utils==0.0.14->python-aiconfig==1.1.8) (1.8.0)\n",
            "Requirement already satisfied: anyio<4,>=3.5.0 in /opt/homebrew/Caskroom/miniconda/base/envs/aiconfig/lib/python3.10/site-packages (from openai<1.5,>=1.0.0->python-aiconfig==1.1.8) (3.7.1)\n",
            "Requirement already satisfied: distro<2,>=1.7.0 in /opt/homebrew/Caskroom/miniconda/base/envs/aiconfig/lib/python3.10/site-packages (from openai<1.5,>=1.0.0->python-aiconfig==1.1.8) (1.8.0)\n",
            "Requirement already satisfied: httpx<1,>=0.23.0 in /opt/homebrew/Caskroom/miniconda/base/envs/aiconfig/lib/python3.10/site-packages (from openai<1.5,>=1.0.0->python-aiconfig==1.1.8) (0.25.2)\n",
            "Requirement already satisfied: sniffio in /opt/homebrew/Caskroom/miniconda/base/envs/aiconfig/lib/python3.10/site-packages (from openai<1.5,>=1.0.0->python-aiconfig==1.1.8) (1.3.0)\n",
            "Requirement already satisfied: tqdm>4 in /opt/homebrew/Caskroom/miniconda/base/envs/aiconfig/lib/python3.10/site-packages (from openai<1.5,>=1.0.0->python-aiconfig==1.1.8) (4.66.1)\n",
            "Requirement already satisfied: Werkzeug>=3.0.0 in /opt/homebrew/Caskroom/miniconda/base/envs/aiconfig/lib/python3.10/site-packages (from flask[async]->python-aiconfig==1.1.8) (3.0.1)\n",
            "Requirement already satisfied: Jinja2>=3.1.2 in /opt/homebrew/Caskroom/miniconda/base/envs/aiconfig/lib/python3.10/site-packages (from flask[async]->python-aiconfig==1.1.8) (3.1.2)\n",
            "Requirement already satisfied: itsdangerous>=2.1.2 in /opt/homebrew/Caskroom/miniconda/base/envs/aiconfig/lib/python3.10/site-packages (from flask[async]->python-aiconfig==1.1.8) (2.1.2)\n",
            "Requirement already satisfied: blinker>=1.6.2 in /opt/homebrew/Caskroom/miniconda/base/envs/aiconfig/lib/python3.10/site-packages (from flask[async]->python-aiconfig==1.1.8) (1.7.0)\n",
            "Requirement already satisfied: asgiref>=3.2 in /opt/homebrew/Caskroom/miniconda/base/envs/aiconfig/lib/python3.10/site-packages (from flask[async]->python-aiconfig==1.1.8) (3.7.2)\n",
            "Requirement already satisfied: google-ai-generativelanguage==0.3.3 in /opt/homebrew/Caskroom/miniconda/base/envs/aiconfig/lib/python3.10/site-packages (from google-generativeai->python-aiconfig==1.1.8) (0.3.3)\n",
            "Requirement already satisfied: google-auth in /opt/homebrew/Caskroom/miniconda/base/envs/aiconfig/lib/python3.10/site-packages (from google-generativeai->python-aiconfig==1.1.8) (2.24.0)\n",
            "Requirement already satisfied: google-api-core in /opt/homebrew/Caskroom/miniconda/base/envs/aiconfig/lib/python3.10/site-packages (from google-generativeai->python-aiconfig==1.1.8) (2.14.0)\n",
            "Requirement already satisfied: protobuf in /opt/homebrew/Caskroom/miniconda/base/envs/aiconfig/lib/python3.10/site-packages (from google-generativeai->python-aiconfig==1.1.8) (4.25.1)\n",
            "Requirement already satisfied: proto-plus<2.0.0dev,>=1.22.0 in /opt/homebrew/Caskroom/miniconda/base/envs/aiconfig/lib/python3.10/site-packages (from google-ai-generativelanguage==0.3.3->google-generativeai->python-aiconfig==1.1.8) (1.22.3)\n",
            "Requirement already satisfied: filelock in /opt/homebrew/Caskroom/miniconda/base/envs/aiconfig/lib/python3.10/site-packages (from huggingface-hub->python-aiconfig==1.1.8) (3.13.1)\n",
            "Requirement already satisfied: fsspec>=2023.5.0 in /opt/homebrew/Caskroom/miniconda/base/envs/aiconfig/lib/python3.10/site-packages (from huggingface-hub->python-aiconfig==1.1.8) (2023.10.0)\n",
            "Requirement already satisfied: joblib in /opt/homebrew/Caskroom/miniconda/base/envs/aiconfig/lib/python3.10/site-packages (from nltk->python-aiconfig==1.1.8) (1.3.2)\n",
            "Requirement already satisfied: regex>=2021.8.3 in /opt/homebrew/Caskroom/miniconda/base/envs/aiconfig/lib/python3.10/site-packages (from nltk->python-aiconfig==1.1.8) (2023.10.3)\n",
            "Requirement already satisfied: wcwidth in /opt/homebrew/Caskroom/miniconda/base/envs/aiconfig/lib/python3.10/site-packages (from prompt-toolkit->python-aiconfig==1.1.8) (0.2.12)\n",
            "Requirement already satisfied: PyMeta3>=0.5.1 in /opt/homebrew/Caskroom/miniconda/base/envs/aiconfig/lib/python3.10/site-packages (from pybars3->python-aiconfig==1.1.8) (0.5.1)\n",
            "Requirement already satisfied: charset-normalizer<4,>=2 in /opt/homebrew/Caskroom/miniconda/base/envs/aiconfig/lib/python3.10/site-packages (from requests->python-aiconfig==1.1.8) (3.3.2)\n",
            "Requirement already satisfied: idna<4,>=2.5 in /opt/homebrew/Caskroom/miniconda/base/envs/aiconfig/lib/python3.10/site-packages (from requests->python-aiconfig==1.1.8) (3.6)\n",
            "Requirement already satisfied: urllib3<3,>=1.21.1 in /opt/homebrew/Caskroom/miniconda/base/envs/aiconfig/lib/python3.10/site-packages (from requests->python-aiconfig==1.1.8) (2.1.0)\n",
            "Requirement already satisfied: certifi>=2017.4.17 in /opt/homebrew/Caskroom/miniconda/base/envs/aiconfig/lib/python3.10/site-packages (from requests->python-aiconfig==1.1.8) (2023.11.17)\n",
            "Requirement already satisfied: googleapis-common-protos<2.0.dev0,>=1.56.2 in /opt/homebrew/Caskroom/miniconda/base/envs/aiconfig/lib/python3.10/site-packages (from google-api-core->google-generativeai->python-aiconfig==1.1.8) (1.61.0)\n",
            "Requirement already satisfied: cachetools<6.0,>=2.0.0 in /opt/homebrew/Caskroom/miniconda/base/envs/aiconfig/lib/python3.10/site-packages (from google-auth->google-generativeai->python-aiconfig==1.1.8) (5.3.2)\n",
            "Requirement already satisfied: pyasn1-modules>=0.2.1 in /opt/homebrew/Caskroom/miniconda/base/envs/aiconfig/lib/python3.10/site-packages (from google-auth->google-generativeai->python-aiconfig==1.1.8) (0.3.0)\n",
            "Requirement already satisfied: rsa<5,>=3.1.4 in /opt/homebrew/Caskroom/miniconda/base/envs/aiconfig/lib/python3.10/site-packages (from google-auth->google-generativeai->python-aiconfig==1.1.8) (4.9)\n",
            "Requirement already satisfied: httpcore==1.* in /opt/homebrew/Caskroom/miniconda/base/envs/aiconfig/lib/python3.10/site-packages (from httpx<1,>=0.23.0->openai<1.5,>=1.0.0->python-aiconfig==1.1.8) (1.0.2)\n",
            "Requirement already satisfied: h11<0.15,>=0.13 in /opt/homebrew/Caskroom/miniconda/base/envs/aiconfig/lib/python3.10/site-packages (from httpcore==1.*->httpx<1,>=0.23.0->openai<1.5,>=1.0.0->python-aiconfig==1.1.8) (0.14.0)\n",
            "Requirement already satisfied: MarkupSafe>=2.0 in /opt/homebrew/Caskroom/miniconda/base/envs/aiconfig/lib/python3.10/site-packages (from Jinja2>=3.1.2->flask[async]->python-aiconfig==1.1.8) (2.1.3)\n",
            "Requirement already satisfied: grpcio<2.0dev,>=1.33.2 in /opt/homebrew/Caskroom/miniconda/base/envs/aiconfig/lib/python3.10/site-packages (from google-api-core[grpc]!=2.0.*,!=2.1.*,!=2.10.*,!=2.2.*,!=2.3.*,!=2.4.*,!=2.5.*,!=2.6.*,!=2.7.*,!=2.8.*,!=2.9.*,<3.0.0dev,>=1.34.0->google-ai-generativelanguage==0.3.3->google-generativeai->python-aiconfig==1.1.8) (1.59.3)\n",
            "Requirement already satisfied: grpcio-status<2.0.dev0,>=1.33.2 in /opt/homebrew/Caskroom/miniconda/base/envs/aiconfig/lib/python3.10/site-packages (from google-api-core[grpc]!=2.0.*,!=2.1.*,!=2.10.*,!=2.2.*,!=2.3.*,!=2.4.*,!=2.5.*,!=2.6.*,!=2.7.*,!=2.8.*,!=2.9.*,<3.0.0dev,>=1.34.0->google-ai-generativelanguage==0.3.3->google-generativeai->python-aiconfig==1.1.8) (1.59.3)\n",
            "Requirement already satisfied: setuptools in /opt/homebrew/Caskroom/miniconda/base/envs/aiconfig/lib/python3.10/site-packages (from nodeenv>=1.6.0->pyright==1.1.335->lastmile-utils==0.0.14->python-aiconfig==1.1.8) (69.0.2)\n",
            "Requirement already satisfied: pyasn1<0.6.0,>=0.4.6 in /opt/homebrew/Caskroom/miniconda/base/envs/aiconfig/lib/python3.10/site-packages (from pyasn1-modules>=0.2.1->google-auth->google-generativeai->python-aiconfig==1.1.8) (0.5.1)\n",
            "Requirement already satisfied: six>=1.5 in /opt/homebrew/Caskroom/miniconda/base/envs/aiconfig/lib/python3.10/site-packages (from python-dateutil>=2.8.2->pandas==2.1.2->lastmile-utils==0.0.14->python-aiconfig==1.1.8) (1.16.0)\n",
            "Requirement already satisfied: importlib-metadata<6.0.0,>=5.0.0 in /opt/homebrew/Caskroom/miniconda/base/envs/aiconfig/lib/python3.10/site-packages (from json-spec->jsoncomment==0.4.2->lastmile-utils==0.0.14->python-aiconfig==1.1.8) (5.2.0)\n",
            "Requirement already satisfied: zipp>=0.5 in /opt/homebrew/Caskroom/miniconda/base/envs/aiconfig/lib/python3.10/site-packages (from importlib-metadata<6.0.0,>=5.0.0->json-spec->jsoncomment==0.4.2->lastmile-utils==0.0.14->python-aiconfig==1.1.8) (3.17.0)\n",
            "Building wheels for collected packages: python-aiconfig\n",
            "  Building editable for python-aiconfig (pyproject.toml) ... \u001b[?25ldone\n",
            "\u001b[?25h  Created wheel for python-aiconfig: filename=python_aiconfig-1.1.8-0.editable-py3-none-any.whl size=9978 sha256=80676ae1aed07f818ba42cc365e6304f4ea91b4c0bc92f37347180e0cc775168\n",
            "  Stored in directory: /private/var/folders/c_/yx7wt1_d3p78kh4zswyxmvwm0000gn/T/pip-ephem-wheel-cache-jqsdkqw8/wheels/a4/4c/dd/864cc5d4b5b9d637d1a341ee61bd745d4d3102211fb017d1ca\n",
            "Successfully built python-aiconfig\n",
            "\u001b[33mWARNING: Ignoring invalid distribution -etuptools (/opt/homebrew/Caskroom/miniconda/base/envs/aiconfig/lib/python3.10/site-packages)\u001b[0m\u001b[33m\n",
            "\u001b[0mInstalling collected packages: python-aiconfig\n",
            "  Attempting uninstall: python-aiconfig\n",
            "    Found existing installation: python-aiconfig 1.1.8\n",
            "    Uninstalling python-aiconfig-1.1.8:\n",
            "      Successfully uninstalled python-aiconfig-1.1.8\n",
            "Successfully installed python-aiconfig-1.1.8\n"
          ]
        }
      ],
      "source": [
        "!pip install -e  ../../python"
      ]
    },
    {
      "cell_type": "code",
      "execution_count": 5,
      "metadata": {},
      "outputs": [
        {
          "name": "stdout",
          "output_type": "stream",
          "text": [
            "\u001b[33mWARNING: Ignoring invalid distribution -etuptools (/opt/homebrew/Caskroom/miniconda/base/envs/aiconfig/lib/python3.10/site-packages)\u001b[0m\u001b[33m\n",
            "\u001b[0mObtaining file:///Users/jonathan/Projects/aiconfig/extensions/HuggingFace/python\n",
            "  Installing build dependencies ... \u001b[?25ldone\n",
            "\u001b[?25h  Checking if build backend supports build_editable ... \u001b[?25ldone\n",
            "\u001b[?25h  Getting requirements to build editable ... \u001b[?25ldone\n",
            "\u001b[?25h  Preparing editable metadata (pyproject.toml) ... \u001b[?25ldone\n",
            "\u001b[?25hRequirement already satisfied: black in /opt/homebrew/Caskroom/miniconda/base/envs/aiconfig/lib/python3.10/site-packages (from aiconfig_extension_hugging_face==0.0.1) (23.11.0)\n",
            "Requirement already satisfied: pylint in /opt/homebrew/Caskroom/miniconda/base/envs/aiconfig/lib/python3.10/site-packages (from aiconfig_extension_hugging_face==0.0.1) (3.0.2)\n",
            "Requirement already satisfied: python-aiconfig in /opt/homebrew/Caskroom/miniconda/base/envs/aiconfig/lib/python3.10/site-packages (from aiconfig_extension_hugging_face==0.0.1) (1.1.8)\n",
            "Requirement already satisfied: huggingface-hub in /opt/homebrew/Caskroom/miniconda/base/envs/aiconfig/lib/python3.10/site-packages (from aiconfig_extension_hugging_face==0.0.1) (0.19.4)\n",
            "Requirement already satisfied: accelerate in /opt/homebrew/Caskroom/miniconda/base/envs/aiconfig/lib/python3.10/site-packages (from aiconfig_extension_hugging_face==0.0.1) (0.25.0)\n",
            "Requirement already satisfied: diffusers in /opt/homebrew/Caskroom/miniconda/base/envs/aiconfig/lib/python3.10/site-packages (from aiconfig_extension_hugging_face==0.0.1) (0.25.0)\n",
            "Requirement already satisfied: torch in /opt/homebrew/Caskroom/miniconda/base/envs/aiconfig/lib/python3.10/site-packages (from aiconfig_extension_hugging_face==0.0.1) (2.1.2)\n",
            "Requirement already satisfied: torchvision in /opt/homebrew/Caskroom/miniconda/base/envs/aiconfig/lib/python3.10/site-packages (from aiconfig_extension_hugging_face==0.0.1) (0.16.2)\n",
            "Requirement already satisfied: torchaudio in /opt/homebrew/Caskroom/miniconda/base/envs/aiconfig/lib/python3.10/site-packages (from aiconfig_extension_hugging_face==0.0.1) (2.1.2)\n",
            "Requirement already satisfied: transformers in /opt/homebrew/Caskroom/miniconda/base/envs/aiconfig/lib/python3.10/site-packages (from aiconfig_extension_hugging_face==0.0.1) (4.36.2)\n",
            "Requirement already satisfied: asyncio in /opt/homebrew/Caskroom/miniconda/base/envs/aiconfig/lib/python3.10/site-packages (from aiconfig_extension_hugging_face==0.0.1) (3.4.3)\n",
            "Requirement already satisfied: numpy>=1.17 in /opt/homebrew/Caskroom/miniconda/base/envs/aiconfig/lib/python3.10/site-packages (from accelerate->aiconfig_extension_hugging_face==0.0.1) (1.26.2)\n",
            "Requirement already satisfied: packaging>=20.0 in /opt/homebrew/Caskroom/miniconda/base/envs/aiconfig/lib/python3.10/site-packages (from accelerate->aiconfig_extension_hugging_face==0.0.1) (23.2)\n",
            "Requirement already satisfied: psutil in /opt/homebrew/Caskroom/miniconda/base/envs/aiconfig/lib/python3.10/site-packages (from accelerate->aiconfig_extension_hugging_face==0.0.1) (5.9.5)\n",
            "Requirement already satisfied: pyyaml in /opt/homebrew/Caskroom/miniconda/base/envs/aiconfig/lib/python3.10/site-packages (from accelerate->aiconfig_extension_hugging_face==0.0.1) (6.0.1)\n",
            "Requirement already satisfied: safetensors>=0.3.1 in /opt/homebrew/Caskroom/miniconda/base/envs/aiconfig/lib/python3.10/site-packages (from accelerate->aiconfig_extension_hugging_face==0.0.1) (0.4.1)\n",
            "Requirement already satisfied: filelock in /opt/homebrew/Caskroom/miniconda/base/envs/aiconfig/lib/python3.10/site-packages (from torch->aiconfig_extension_hugging_face==0.0.1) (3.13.1)\n",
            "Requirement already satisfied: typing-extensions in /opt/homebrew/Caskroom/miniconda/base/envs/aiconfig/lib/python3.10/site-packages (from torch->aiconfig_extension_hugging_face==0.0.1) (4.9.0)\n",
            "Requirement already satisfied: sympy in /opt/homebrew/Caskroom/miniconda/base/envs/aiconfig/lib/python3.10/site-packages (from torch->aiconfig_extension_hugging_face==0.0.1) (1.12)\n",
            "Requirement already satisfied: networkx in /opt/homebrew/Caskroom/miniconda/base/envs/aiconfig/lib/python3.10/site-packages (from torch->aiconfig_extension_hugging_face==0.0.1) (3.2.1)\n",
            "Requirement already satisfied: jinja2 in /opt/homebrew/Caskroom/miniconda/base/envs/aiconfig/lib/python3.10/site-packages (from torch->aiconfig_extension_hugging_face==0.0.1) (3.1.2)\n",
            "Requirement already satisfied: fsspec in /opt/homebrew/Caskroom/miniconda/base/envs/aiconfig/lib/python3.10/site-packages (from torch->aiconfig_extension_hugging_face==0.0.1) (2023.10.0)\n",
            "Requirement already satisfied: click>=8.0.0 in /opt/homebrew/Caskroom/miniconda/base/envs/aiconfig/lib/python3.10/site-packages (from black->aiconfig_extension_hugging_face==0.0.1) (8.1.7)\n",
            "Requirement already satisfied: mypy-extensions>=0.4.3 in /opt/homebrew/Caskroom/miniconda/base/envs/aiconfig/lib/python3.10/site-packages (from black->aiconfig_extension_hugging_face==0.0.1) (1.0.0)\n",
            "Requirement already satisfied: pathspec>=0.9.0 in /opt/homebrew/Caskroom/miniconda/base/envs/aiconfig/lib/python3.10/site-packages (from black->aiconfig_extension_hugging_face==0.0.1) (0.12.1)\n",
            "Requirement already satisfied: platformdirs>=2 in /opt/homebrew/Caskroom/miniconda/base/envs/aiconfig/lib/python3.10/site-packages (from black->aiconfig_extension_hugging_face==0.0.1) (4.1.0)\n",
            "Requirement already satisfied: tomli>=1.1.0 in /opt/homebrew/Caskroom/miniconda/base/envs/aiconfig/lib/python3.10/site-packages (from black->aiconfig_extension_hugging_face==0.0.1) (2.0.1)\n",
            "Requirement already satisfied: importlib-metadata in /opt/homebrew/Caskroom/miniconda/base/envs/aiconfig/lib/python3.10/site-packages (from diffusers->aiconfig_extension_hugging_face==0.0.1) (5.2.0)\n",
            "Requirement already satisfied: regex!=2019.12.17 in /opt/homebrew/Caskroom/miniconda/base/envs/aiconfig/lib/python3.10/site-packages (from diffusers->aiconfig_extension_hugging_face==0.0.1) (2023.10.3)\n",
            "Requirement already satisfied: requests in /opt/homebrew/Caskroom/miniconda/base/envs/aiconfig/lib/python3.10/site-packages (from diffusers->aiconfig_extension_hugging_face==0.0.1) (2.30.0)\n",
            "Requirement already satisfied: Pillow in /opt/homebrew/Caskroom/miniconda/base/envs/aiconfig/lib/python3.10/site-packages (from diffusers->aiconfig_extension_hugging_face==0.0.1) (10.1.0)\n",
            "Requirement already satisfied: tqdm>=4.42.1 in /opt/homebrew/Caskroom/miniconda/base/envs/aiconfig/lib/python3.10/site-packages (from huggingface-hub->aiconfig_extension_hugging_face==0.0.1) (4.66.1)\n",
            "Requirement already satisfied: astroid<=3.1.0-dev0,>=3.0.1 in /opt/homebrew/Caskroom/miniconda/base/envs/aiconfig/lib/python3.10/site-packages (from pylint->aiconfig_extension_hugging_face==0.0.1) (3.0.2)\n",
            "Requirement already satisfied: isort<6,>=4.2.5 in /opt/homebrew/Caskroom/miniconda/base/envs/aiconfig/lib/python3.10/site-packages (from pylint->aiconfig_extension_hugging_face==0.0.1) (5.12.0)\n",
            "Requirement already satisfied: mccabe<0.8,>=0.6 in /opt/homebrew/Caskroom/miniconda/base/envs/aiconfig/lib/python3.10/site-packages (from pylint->aiconfig_extension_hugging_face==0.0.1) (0.7.0)\n",
            "Requirement already satisfied: tomlkit>=0.10.1 in /opt/homebrew/Caskroom/miniconda/base/envs/aiconfig/lib/python3.10/site-packages (from pylint->aiconfig_extension_hugging_face==0.0.1) (0.12.3)\n",
            "Requirement already satisfied: dill>=0.2 in /opt/homebrew/Caskroom/miniconda/base/envs/aiconfig/lib/python3.10/site-packages (from pylint->aiconfig_extension_hugging_face==0.0.1) (0.3.7)\n",
            "Requirement already satisfied: flake8 in /opt/homebrew/Caskroom/miniconda/base/envs/aiconfig/lib/python3.10/site-packages (from python-aiconfig->aiconfig_extension_hugging_face==0.0.1) (6.1.0)\n",
            "Requirement already satisfied: flask-cors in /opt/homebrew/Caskroom/miniconda/base/envs/aiconfig/lib/python3.10/site-packages (from python-aiconfig->aiconfig_extension_hugging_face==0.0.1) (4.0.0)\n",
            "Requirement already satisfied: flask[async] in /opt/homebrew/Caskroom/miniconda/base/envs/aiconfig/lib/python3.10/site-packages (from python-aiconfig->aiconfig_extension_hugging_face==0.0.1) (3.0.0)\n",
            "Requirement already satisfied: google-generativeai in /opt/homebrew/Caskroom/miniconda/base/envs/aiconfig/lib/python3.10/site-packages (from python-aiconfig->aiconfig_extension_hugging_face==0.0.1) (0.2.2)\n",
            "Requirement already satisfied: hypothesis==6.91.0 in /opt/homebrew/Caskroom/miniconda/base/envs/aiconfig/lib/python3.10/site-packages (from python-aiconfig->aiconfig_extension_hugging_face==0.0.1) (6.91.0)\n",
            "Requirement already satisfied: lastmile-utils==0.0.14 in /opt/homebrew/Caskroom/miniconda/base/envs/aiconfig/lib/python3.10/site-packages (from python-aiconfig->aiconfig_extension_hugging_face==0.0.1) (0.0.14)\n",
            "Requirement already satisfied: mock in /opt/homebrew/Caskroom/miniconda/base/envs/aiconfig/lib/python3.10/site-packages (from python-aiconfig->aiconfig_extension_hugging_face==0.0.1) (5.1.0)\n",
            "Requirement already satisfied: nest-asyncio in /opt/homebrew/Caskroom/miniconda/base/envs/aiconfig/lib/python3.10/site-packages (from python-aiconfig->aiconfig_extension_hugging_face==0.0.1) (1.5.8)\n",
            "Requirement already satisfied: nltk in /opt/homebrew/Caskroom/miniconda/base/envs/aiconfig/lib/python3.10/site-packages (from python-aiconfig->aiconfig_extension_hugging_face==0.0.1) (3.8.1)\n",
            "Requirement already satisfied: openai<1.5,>=1.0.0 in /opt/homebrew/Caskroom/miniconda/base/envs/aiconfig/lib/python3.10/site-packages (from python-aiconfig->aiconfig_extension_hugging_face==0.0.1) (1.3.6)\n",
            "Requirement already satisfied: prompt-toolkit in /opt/homebrew/Caskroom/miniconda/base/envs/aiconfig/lib/python3.10/site-packages (from python-aiconfig->aiconfig_extension_hugging_face==0.0.1) (3.0.41)\n",
            "Requirement already satisfied: pybars3 in /opt/homebrew/Caskroom/miniconda/base/envs/aiconfig/lib/python3.10/site-packages (from python-aiconfig->aiconfig_extension_hugging_face==0.0.1) (0.9.7)\n",
            "Requirement already satisfied: pydantic>=2.1 in /opt/homebrew/Caskroom/miniconda/base/envs/aiconfig/lib/python3.10/site-packages (from python-aiconfig->aiconfig_extension_hugging_face==0.0.1) (2.4.2)\n",
            "Requirement already satisfied: pytest in /opt/homebrew/Caskroom/miniconda/base/envs/aiconfig/lib/python3.10/site-packages (from python-aiconfig->aiconfig_extension_hugging_face==0.0.1) (7.4.3)\n",
            "Requirement already satisfied: pytest-asyncio in /opt/homebrew/Caskroom/miniconda/base/envs/aiconfig/lib/python3.10/site-packages (from python-aiconfig->aiconfig_extension_hugging_face==0.0.1) (0.21.1)\n",
            "Requirement already satisfied: python-dotenv in /opt/homebrew/Caskroom/miniconda/base/envs/aiconfig/lib/python3.10/site-packages (from python-aiconfig->aiconfig_extension_hugging_face==0.0.1) (1.0.0)\n",
            "Requirement already satisfied: result in /opt/homebrew/Caskroom/miniconda/base/envs/aiconfig/lib/python3.10/site-packages (from python-aiconfig->aiconfig_extension_hugging_face==0.0.1) (0.15.0)\n",
            "Requirement already satisfied: attrs>=19.2.0 in /opt/homebrew/Caskroom/miniconda/base/envs/aiconfig/lib/python3.10/site-packages (from hypothesis==6.91.0->python-aiconfig->aiconfig_extension_hugging_face==0.0.1) (23.1.0)\n",
            "Requirement already satisfied: sortedcontainers<3.0.0,>=2.1.0 in /opt/homebrew/Caskroom/miniconda/base/envs/aiconfig/lib/python3.10/site-packages (from hypothesis==6.91.0->python-aiconfig->aiconfig_extension_hugging_face==0.0.1) (2.4.0)\n",
            "Requirement already satisfied: exceptiongroup>=1.0.0 in /opt/homebrew/Caskroom/miniconda/base/envs/aiconfig/lib/python3.10/site-packages (from hypothesis==6.91.0->python-aiconfig->aiconfig_extension_hugging_face==0.0.1) (1.2.0)\n",
            "Requirement already satisfied: chardet==5.2.0 in /opt/homebrew/Caskroom/miniconda/base/envs/aiconfig/lib/python3.10/site-packages (from lastmile-utils==0.0.14->python-aiconfig->aiconfig_extension_hugging_face==0.0.1) (5.2.0)\n",
            "Requirement already satisfied: jsoncomment==0.4.2 in /opt/homebrew/Caskroom/miniconda/base/envs/aiconfig/lib/python3.10/site-packages (from lastmile-utils==0.0.14->python-aiconfig->aiconfig_extension_hugging_face==0.0.1) (0.4.2)\n",
            "Requirement already satisfied: pandas==2.1.2 in /opt/homebrew/Caskroom/miniconda/base/envs/aiconfig/lib/python3.10/site-packages (from lastmile-utils==0.0.14->python-aiconfig->aiconfig_extension_hugging_face==0.0.1) (2.1.2)\n",
            "Requirement already satisfied: pyright==1.1.335 in /opt/homebrew/Caskroom/miniconda/base/envs/aiconfig/lib/python3.10/site-packages (from lastmile-utils==0.0.14->python-aiconfig->aiconfig_extension_hugging_face==0.0.1) (1.1.335)\n",
            "Requirement already satisfied: autoflake==2.2.1 in /opt/homebrew/Caskroom/miniconda/base/envs/aiconfig/lib/python3.10/site-packages (from lastmile-utils==0.0.14->python-aiconfig->aiconfig_extension_hugging_face==0.0.1) (2.2.1)\n",
            "Requirement already satisfied: pycodestyle<2.12.0,>=2.11.0 in /opt/homebrew/Caskroom/miniconda/base/envs/aiconfig/lib/python3.10/site-packages (from flake8->python-aiconfig->aiconfig_extension_hugging_face==0.0.1) (2.11.1)\n",
            "Requirement already satisfied: pyflakes<3.2.0,>=3.1.0 in /opt/homebrew/Caskroom/miniconda/base/envs/aiconfig/lib/python3.10/site-packages (from flake8->python-aiconfig->aiconfig_extension_hugging_face==0.0.1) (3.1.0)\n",
            "Requirement already satisfied: annotated-types>=0.4.0 in /opt/homebrew/Caskroom/miniconda/base/envs/aiconfig/lib/python3.10/site-packages (from pydantic>=2.1->python-aiconfig->aiconfig_extension_hugging_face==0.0.1) (0.6.0)\n",
            "Requirement already satisfied: pydantic-core==2.10.1 in /opt/homebrew/Caskroom/miniconda/base/envs/aiconfig/lib/python3.10/site-packages (from pydantic>=2.1->python-aiconfig->aiconfig_extension_hugging_face==0.0.1) (2.10.1)\n",
            "Requirement already satisfied: iniconfig in /opt/homebrew/Caskroom/miniconda/base/envs/aiconfig/lib/python3.10/site-packages (from pytest->python-aiconfig->aiconfig_extension_hugging_face==0.0.1) (2.0.0)\n",
            "Requirement already satisfied: pluggy<2.0,>=0.12 in /opt/homebrew/Caskroom/miniconda/base/envs/aiconfig/lib/python3.10/site-packages (from pytest->python-aiconfig->aiconfig_extension_hugging_face==0.0.1) (1.3.0)\n",
            "Requirement already satisfied: json-spec in /opt/homebrew/Caskroom/miniconda/base/envs/aiconfig/lib/python3.10/site-packages (from jsoncomment==0.4.2->lastmile-utils==0.0.14->python-aiconfig->aiconfig_extension_hugging_face==0.0.1) (0.11.0)\n",
            "Requirement already satisfied: python-dateutil>=2.8.2 in /opt/homebrew/Caskroom/miniconda/base/envs/aiconfig/lib/python3.10/site-packages (from pandas==2.1.2->lastmile-utils==0.0.14->python-aiconfig->aiconfig_extension_hugging_face==0.0.1) (2.8.2)\n",
            "Requirement already satisfied: pytz>=2020.1 in /opt/homebrew/Caskroom/miniconda/base/envs/aiconfig/lib/python3.10/site-packages (from pandas==2.1.2->lastmile-utils==0.0.14->python-aiconfig->aiconfig_extension_hugging_face==0.0.1) (2023.3.post1)\n",
            "Requirement already satisfied: tzdata>=2022.1 in /opt/homebrew/Caskroom/miniconda/base/envs/aiconfig/lib/python3.10/site-packages (from pandas==2.1.2->lastmile-utils==0.0.14->python-aiconfig->aiconfig_extension_hugging_face==0.0.1) (2023.3)\n",
            "Requirement already satisfied: nodeenv>=1.6.0 in /opt/homebrew/Caskroom/miniconda/base/envs/aiconfig/lib/python3.10/site-packages (from pyright==1.1.335->lastmile-utils==0.0.14->python-aiconfig->aiconfig_extension_hugging_face==0.0.1) (1.8.0)\n",
            "Requirement already satisfied: tokenizers<0.19,>=0.14 in /opt/homebrew/Caskroom/miniconda/base/envs/aiconfig/lib/python3.10/site-packages (from transformers->aiconfig_extension_hugging_face==0.0.1) (0.15.0)\n",
            "Requirement already satisfied: anyio<4,>=3.5.0 in /opt/homebrew/Caskroom/miniconda/base/envs/aiconfig/lib/python3.10/site-packages (from openai<1.5,>=1.0.0->python-aiconfig->aiconfig_extension_hugging_face==0.0.1) (3.7.1)\n",
            "Requirement already satisfied: distro<2,>=1.7.0 in /opt/homebrew/Caskroom/miniconda/base/envs/aiconfig/lib/python3.10/site-packages (from openai<1.5,>=1.0.0->python-aiconfig->aiconfig_extension_hugging_face==0.0.1) (1.8.0)\n",
            "Requirement already satisfied: httpx<1,>=0.23.0 in /opt/homebrew/Caskroom/miniconda/base/envs/aiconfig/lib/python3.10/site-packages (from openai<1.5,>=1.0.0->python-aiconfig->aiconfig_extension_hugging_face==0.0.1) (0.25.2)\n",
            "Requirement already satisfied: sniffio in /opt/homebrew/Caskroom/miniconda/base/envs/aiconfig/lib/python3.10/site-packages (from openai<1.5,>=1.0.0->python-aiconfig->aiconfig_extension_hugging_face==0.0.1) (1.3.0)\n",
            "Requirement already satisfied: Werkzeug>=3.0.0 in /opt/homebrew/Caskroom/miniconda/base/envs/aiconfig/lib/python3.10/site-packages (from flask[async]->python-aiconfig->aiconfig_extension_hugging_face==0.0.1) (3.0.1)\n",
            "Requirement already satisfied: itsdangerous>=2.1.2 in /opt/homebrew/Caskroom/miniconda/base/envs/aiconfig/lib/python3.10/site-packages (from flask[async]->python-aiconfig->aiconfig_extension_hugging_face==0.0.1) (2.1.2)\n",
            "Requirement already satisfied: blinker>=1.6.2 in /opt/homebrew/Caskroom/miniconda/base/envs/aiconfig/lib/python3.10/site-packages (from flask[async]->python-aiconfig->aiconfig_extension_hugging_face==0.0.1) (1.7.0)\n",
            "Requirement already satisfied: asgiref>=3.2 in /opt/homebrew/Caskroom/miniconda/base/envs/aiconfig/lib/python3.10/site-packages (from flask[async]->python-aiconfig->aiconfig_extension_hugging_face==0.0.1) (3.7.2)\n",
            "Requirement already satisfied: MarkupSafe>=2.0 in /opt/homebrew/Caskroom/miniconda/base/envs/aiconfig/lib/python3.10/site-packages (from jinja2->torch->aiconfig_extension_hugging_face==0.0.1) (2.1.3)\n",
            "Requirement already satisfied: google-ai-generativelanguage==0.3.3 in /opt/homebrew/Caskroom/miniconda/base/envs/aiconfig/lib/python3.10/site-packages (from google-generativeai->python-aiconfig->aiconfig_extension_hugging_face==0.0.1) (0.3.3)\n",
            "Requirement already satisfied: google-auth in /opt/homebrew/Caskroom/miniconda/base/envs/aiconfig/lib/python3.10/site-packages (from google-generativeai->python-aiconfig->aiconfig_extension_hugging_face==0.0.1) (2.24.0)\n",
            "Requirement already satisfied: google-api-core in /opt/homebrew/Caskroom/miniconda/base/envs/aiconfig/lib/python3.10/site-packages (from google-generativeai->python-aiconfig->aiconfig_extension_hugging_face==0.0.1) (2.14.0)\n",
            "Requirement already satisfied: protobuf in /opt/homebrew/Caskroom/miniconda/base/envs/aiconfig/lib/python3.10/site-packages (from google-generativeai->python-aiconfig->aiconfig_extension_hugging_face==0.0.1) (4.25.1)\n",
            "Requirement already satisfied: proto-plus<2.0.0dev,>=1.22.0 in /opt/homebrew/Caskroom/miniconda/base/envs/aiconfig/lib/python3.10/site-packages (from google-ai-generativelanguage==0.3.3->google-generativeai->python-aiconfig->aiconfig_extension_hugging_face==0.0.1) (1.22.3)\n",
            "Requirement already satisfied: zipp>=0.5 in /opt/homebrew/Caskroom/miniconda/base/envs/aiconfig/lib/python3.10/site-packages (from importlib-metadata->diffusers->aiconfig_extension_hugging_face==0.0.1) (3.17.0)\n",
            "Requirement already satisfied: joblib in /opt/homebrew/Caskroom/miniconda/base/envs/aiconfig/lib/python3.10/site-packages (from nltk->python-aiconfig->aiconfig_extension_hugging_face==0.0.1) (1.3.2)\n",
            "Requirement already satisfied: wcwidth in /opt/homebrew/Caskroom/miniconda/base/envs/aiconfig/lib/python3.10/site-packages (from prompt-toolkit->python-aiconfig->aiconfig_extension_hugging_face==0.0.1) (0.2.12)\n",
            "Requirement already satisfied: PyMeta3>=0.5.1 in /opt/homebrew/Caskroom/miniconda/base/envs/aiconfig/lib/python3.10/site-packages (from pybars3->python-aiconfig->aiconfig_extension_hugging_face==0.0.1) (0.5.1)\n",
            "Requirement already satisfied: charset-normalizer<4,>=2 in /opt/homebrew/Caskroom/miniconda/base/envs/aiconfig/lib/python3.10/site-packages (from requests->diffusers->aiconfig_extension_hugging_face==0.0.1) (3.3.2)\n",
            "Requirement already satisfied: idna<4,>=2.5 in /opt/homebrew/Caskroom/miniconda/base/envs/aiconfig/lib/python3.10/site-packages (from requests->diffusers->aiconfig_extension_hugging_face==0.0.1) (3.6)\n",
            "Requirement already satisfied: urllib3<3,>=1.21.1 in /opt/homebrew/Caskroom/miniconda/base/envs/aiconfig/lib/python3.10/site-packages (from requests->diffusers->aiconfig_extension_hugging_face==0.0.1) (2.1.0)\n",
            "Requirement already satisfied: certifi>=2017.4.17 in /opt/homebrew/Caskroom/miniconda/base/envs/aiconfig/lib/python3.10/site-packages (from requests->diffusers->aiconfig_extension_hugging_face==0.0.1) (2023.11.17)\n",
            "Requirement already satisfied: mpmath>=0.19 in /opt/homebrew/Caskroom/miniconda/base/envs/aiconfig/lib/python3.10/site-packages (from sympy->torch->aiconfig_extension_hugging_face==0.0.1) (1.3.0)\n",
            "Requirement already satisfied: googleapis-common-protos<2.0.dev0,>=1.56.2 in /opt/homebrew/Caskroom/miniconda/base/envs/aiconfig/lib/python3.10/site-packages (from google-api-core->google-generativeai->python-aiconfig->aiconfig_extension_hugging_face==0.0.1) (1.61.0)\n",
            "Requirement already satisfied: cachetools<6.0,>=2.0.0 in /opt/homebrew/Caskroom/miniconda/base/envs/aiconfig/lib/python3.10/site-packages (from google-auth->google-generativeai->python-aiconfig->aiconfig_extension_hugging_face==0.0.1) (5.3.2)\n",
            "Requirement already satisfied: pyasn1-modules>=0.2.1 in /opt/homebrew/Caskroom/miniconda/base/envs/aiconfig/lib/python3.10/site-packages (from google-auth->google-generativeai->python-aiconfig->aiconfig_extension_hugging_face==0.0.1) (0.3.0)\n",
            "Requirement already satisfied: rsa<5,>=3.1.4 in /opt/homebrew/Caskroom/miniconda/base/envs/aiconfig/lib/python3.10/site-packages (from google-auth->google-generativeai->python-aiconfig->aiconfig_extension_hugging_face==0.0.1) (4.9)\n",
            "Requirement already satisfied: httpcore==1.* in /opt/homebrew/Caskroom/miniconda/base/envs/aiconfig/lib/python3.10/site-packages (from httpx<1,>=0.23.0->openai<1.5,>=1.0.0->python-aiconfig->aiconfig_extension_hugging_face==0.0.1) (1.0.2)\n",
            "Requirement already satisfied: h11<0.15,>=0.13 in /opt/homebrew/Caskroom/miniconda/base/envs/aiconfig/lib/python3.10/site-packages (from httpcore==1.*->httpx<1,>=0.23.0->openai<1.5,>=1.0.0->python-aiconfig->aiconfig_extension_hugging_face==0.0.1) (0.14.0)\n",
            "Requirement already satisfied: grpcio<2.0dev,>=1.33.2 in /opt/homebrew/Caskroom/miniconda/base/envs/aiconfig/lib/python3.10/site-packages (from google-api-core[grpc]!=2.0.*,!=2.1.*,!=2.10.*,!=2.2.*,!=2.3.*,!=2.4.*,!=2.5.*,!=2.6.*,!=2.7.*,!=2.8.*,!=2.9.*,<3.0.0dev,>=1.34.0->google-ai-generativelanguage==0.3.3->google-generativeai->python-aiconfig->aiconfig_extension_hugging_face==0.0.1) (1.59.3)\n",
            "Requirement already satisfied: grpcio-status<2.0.dev0,>=1.33.2 in /opt/homebrew/Caskroom/miniconda/base/envs/aiconfig/lib/python3.10/site-packages (from google-api-core[grpc]!=2.0.*,!=2.1.*,!=2.10.*,!=2.2.*,!=2.3.*,!=2.4.*,!=2.5.*,!=2.6.*,!=2.7.*,!=2.8.*,!=2.9.*,<3.0.0dev,>=1.34.0->google-ai-generativelanguage==0.3.3->google-generativeai->python-aiconfig->aiconfig_extension_hugging_face==0.0.1) (1.59.3)\n",
            "Requirement already satisfied: setuptools in /opt/homebrew/Caskroom/miniconda/base/envs/aiconfig/lib/python3.10/site-packages (from nodeenv>=1.6.0->pyright==1.1.335->lastmile-utils==0.0.14->python-aiconfig->aiconfig_extension_hugging_face==0.0.1) (69.0.2)\n",
            "Requirement already satisfied: pyasn1<0.6.0,>=0.4.6 in /opt/homebrew/Caskroom/miniconda/base/envs/aiconfig/lib/python3.10/site-packages (from pyasn1-modules>=0.2.1->google-auth->google-generativeai->python-aiconfig->aiconfig_extension_hugging_face==0.0.1) (0.5.1)\n",
            "Requirement already satisfied: six>=1.5 in /opt/homebrew/Caskroom/miniconda/base/envs/aiconfig/lib/python3.10/site-packages (from python-dateutil>=2.8.2->pandas==2.1.2->lastmile-utils==0.0.14->python-aiconfig->aiconfig_extension_hugging_face==0.0.1) (1.16.0)\n",
            "Building wheels for collected packages: aiconfig_extension_hugging_face\n",
            "  Building editable for aiconfig_extension_hugging_face (pyproject.toml) ... \u001b[?25ldone\n",
            "\u001b[?25h  Created wheel for aiconfig_extension_hugging_face: filename=aiconfig_extension_hugging_face-0.0.1-0.editable-py3-none-any.whl size=3622 sha256=acc8d69b8ac687e8750b6f23fe262c2153ea56888026507f78c90e4e9538f543\n",
            "  Stored in directory: /private/var/folders/c_/yx7wt1_d3p78kh4zswyxmvwm0000gn/T/pip-ephem-wheel-cache-sxfald_p/wheels/d2/68/34/c7d50811ea60a79ffd42dc4b98a5206d0ac7d5b1680c8b8acc\n",
            "Successfully built aiconfig_extension_hugging_face\n",
            "\u001b[33mWARNING: Ignoring invalid distribution -etuptools (/opt/homebrew/Caskroom/miniconda/base/envs/aiconfig/lib/python3.10/site-packages)\u001b[0m\u001b[33m\n",
            "\u001b[0mInstalling collected packages: aiconfig_extension_hugging_face\n",
            "  Attempting uninstall: aiconfig_extension_hugging_face\n",
            "    Found existing installation: aiconfig_extension_hugging_face 0.0.1\n",
            "    Uninstalling aiconfig_extension_hugging_face-0.0.1:\n",
            "      Successfully uninstalled aiconfig_extension_hugging_face-0.0.1\n",
            "Successfully installed aiconfig_extension_hugging_face-0.0.1\n",
            "Note: you may need to restart the kernel to use updated packages.\n"
          ]
        }
      ],
      "source": [
        "pip install -e ../../extensions/HuggingFace/python"
      ]
    },
    {
      "cell_type": "code",
      "execution_count": 6,
      "metadata": {},
      "outputs": [
        {
          "ename": "KeyError",
          "evalue": "'aiconfig_extension_hugging_face'",
          "output_type": "error",
          "traceback": [
            "\u001b[0;31m---------------------------------------------------------------------------\u001b[0m",
            "\u001b[0;31mKeyError\u001b[0m                                  Traceback (most recent call last)",
            "Cell \u001b[0;32mIn[6], line 1\u001b[0m\n\u001b[0;32m----> 1\u001b[0m \u001b[38;5;28;01mfrom\u001b[39;00m \u001b[38;5;21;01maiconfig_extension_hugging_face\u001b[39;00m\u001b[38;5;21;01m.\u001b[39;00m\u001b[38;5;21;01mlocal_inference\u001b[39;00m\u001b[38;5;21;01m.\u001b[39;00m\u001b[38;5;21;01mtext_summarization\u001b[39;00m \u001b[38;5;28;01mimport\u001b[39;00m \u001b[38;5;241m*\u001b[39m\n\u001b[1;32m      2\u001b[0m \u001b[38;5;66;03m# HuggingFaceTextSummarizationTransformer\u001b[39;00m\n",
            "File \u001b[0;32m<frozen importlib._bootstrap>:1027\u001b[0m, in \u001b[0;36m_find_and_load\u001b[0;34m(name, import_)\u001b[0m\n",
            "File \u001b[0;32m<frozen importlib._bootstrap>:1002\u001b[0m, in \u001b[0;36m_find_and_load_unlocked\u001b[0;34m(name, import_)\u001b[0m\n",
            "File \u001b[0;32m<frozen importlib._bootstrap>:945\u001b[0m, in \u001b[0;36m_find_spec\u001b[0;34m(name, path, target)\u001b[0m\n",
            "File \u001b[0;32m<frozen importlib._bootstrap_external>:1439\u001b[0m, in \u001b[0;36mfind_spec\u001b[0;34m(cls, fullname, path, target)\u001b[0m\n",
            "File \u001b[0;32m<frozen importlib._bootstrap_external>:1405\u001b[0m, in \u001b[0;36m_get_spec\u001b[0;34m(cls, fullname, path, target)\u001b[0m\n",
            "File \u001b[0;32m<frozen importlib._bootstrap_external>:1255\u001b[0m, in \u001b[0;36m__iter__\u001b[0;34m(self)\u001b[0m\n",
            "File \u001b[0;32m<frozen importlib._bootstrap_external>:1242\u001b[0m, in \u001b[0;36m_recalculate\u001b[0;34m(self)\u001b[0m\n",
            "File \u001b[0;32m<frozen importlib._bootstrap_external>:1238\u001b[0m, in \u001b[0;36m_get_parent_path\u001b[0;34m(self)\u001b[0m\n",
            "\u001b[0;31mKeyError\u001b[0m: 'aiconfig_extension_hugging_face'"
          ]
        }
      ],
      "source": [
        "from aiconfig_extension_hugging_face.local_inference.text_summarization import *\n",
        "# HuggingFaceTextSummarizationTransformer"
      ]
    },
    {
      "cell_type": "code",
      "execution_count": 3,
      "metadata": {
        "id": "go9T1xivF4S2"
      },
      "outputs": [
        {
          "ename": "KeyError",
          "evalue": "'HuggingFaceTextSummarizationTransformer'",
          "output_type": "error",
          "traceback": [
            "\u001b[0;31m---------------------------------------------------------------------------\u001b[0m",
            "\u001b[0;31mKeyError\u001b[0m                                  Traceback (most recent call last)",
            "Cell \u001b[0;32mIn[3], line 4\u001b[0m\n\u001b[1;32m      1\u001b[0m \u001b[38;5;28;01mfrom\u001b[39;00m \u001b[38;5;21;01maiconfig\u001b[39;00m \u001b[38;5;28;01mimport\u001b[39;00m AIConfigRuntime, InferenceOptions, CallbackManager\n\u001b[1;32m      3\u001b[0m \u001b[38;5;66;03m# Load the aiconfig.\u001b[39;00m\n\u001b[0;32m----> 4\u001b[0m config \u001b[38;5;241m=\u001b[39m \u001b[43mAIConfigRuntime\u001b[49m\u001b[38;5;241;43m.\u001b[39;49m\u001b[43mload\u001b[49m\u001b[43m(\u001b[49m\u001b[38;5;124;43m'\u001b[39;49m\u001b[38;5;124;43mtravel.aiconfig.json\u001b[39;49m\u001b[38;5;124;43m'\u001b[39;49m\u001b[43m)\u001b[49m\n\u001b[1;32m      5\u001b[0m config\u001b[38;5;241m.\u001b[39mcallback_manager \u001b[38;5;241m=\u001b[39m CallbackManager([])\n",
            "File \u001b[0;32m/opt/homebrew/Caskroom/miniconda/base/envs/aiconfig/lib/python3.10/site-packages/aiconfig/Config.py:107\u001b[0m, in \u001b[0;36mAIConfigRuntime.load\u001b[0;34m(cls, config_filepath)\u001b[0m\n\u001b[1;32m    104\u001b[0m \u001b[38;5;66;03m# load the file as bytes and let pydantic handle the parsing\u001b[39;00m\n\u001b[1;32m    105\u001b[0m \u001b[38;5;66;03m# validated_data =  AIConfig.model_validate_json(file.read())\u001b[39;00m\n\u001b[1;32m    106\u001b[0m aiconfigruntime \u001b[38;5;241m=\u001b[39m \u001b[38;5;28mcls\u001b[39m\u001b[38;5;241m.\u001b[39mmodel_validate_json(data)\n\u001b[0;32m--> 107\u001b[0m \u001b[43mupdate_model_parser_registry_with_config_runtime\u001b[49m\u001b[43m(\u001b[49m\u001b[43maiconfigruntime\u001b[49m\u001b[43m)\u001b[49m\n\u001b[1;32m    109\u001b[0m \u001b[38;5;66;03m# set the file path. This is used when saving the config\u001b[39;00m\n\u001b[1;32m    110\u001b[0m aiconfigruntime\u001b[38;5;241m.\u001b[39mfile_path \u001b[38;5;241m=\u001b[39m config_filepath\n",
            "File \u001b[0;32m/opt/homebrew/Caskroom/miniconda/base/envs/aiconfig/lib/python3.10/site-packages/aiconfig/registry.py:126\u001b[0m, in \u001b[0;36mupdate_model_parser_registry_with_config_runtime\u001b[0;34m(config_runtime)\u001b[0m\n\u001b[1;32m    124\u001b[0m     \u001b[38;5;28;01mreturn\u001b[39;00m\n\u001b[1;32m    125\u001b[0m \u001b[38;5;28;01mfor\u001b[39;00m model_id, model_parser_id \u001b[38;5;129;01min\u001b[39;00m config_runtime\u001b[38;5;241m.\u001b[39mmetadata\u001b[38;5;241m.\u001b[39mmodel_parsers\u001b[38;5;241m.\u001b[39mitems():\n\u001b[0;32m--> 126\u001b[0m     retrieved_model_parser \u001b[38;5;241m=\u001b[39m \u001b[43mModelParserRegistry\u001b[49m\u001b[38;5;241;43m.\u001b[39;49m\u001b[43mget_model_parser\u001b[49m\u001b[43m(\u001b[49m\n\u001b[1;32m    127\u001b[0m \u001b[43m        \u001b[49m\u001b[43mmodel_parser_id\u001b[49m\n\u001b[1;32m    128\u001b[0m \u001b[43m    \u001b[49m\u001b[43m)\u001b[49m  \u001b[38;5;66;03m# Fix\u001b[39;00m\n\u001b[1;32m    129\u001b[0m     \u001b[38;5;28;01mif\u001b[39;00m retrieved_model_parser \u001b[38;5;129;01mis\u001b[39;00m \u001b[38;5;28;01mNone\u001b[39;00m:\n\u001b[1;32m    130\u001b[0m         error_message \u001b[38;5;241m=\u001b[39m (\n\u001b[1;32m    131\u001b[0m             \u001b[38;5;124mf\u001b[39m\u001b[38;5;124m\"\u001b[39m\u001b[38;5;124mUnable to load AIConfig: It specifies \u001b[39m\u001b[38;5;132;01m{\u001b[39;00mconfig_runtime\u001b[38;5;241m.\u001b[39mmetadata\u001b[38;5;241m.\u001b[39mmodel_parsers\u001b[38;5;132;01m}\u001b[39;00m\u001b[38;5;124m, \u001b[39m\u001b[38;5;124m\"\u001b[39m\n\u001b[1;32m    132\u001b[0m             \u001b[38;5;124mf\u001b[39m\u001b[38;5;124m\"\u001b[39m\u001b[38;5;124mbut ModelParser \u001b[39m\u001b[38;5;132;01m{\u001b[39;00mmodel_parser_id\u001b[38;5;132;01m}\u001b[39;00m\u001b[38;5;124m for \u001b[39m\u001b[38;5;132;01m{\u001b[39;00mmodel_id\u001b[38;5;132;01m}\u001b[39;00m\u001b[38;5;124m does not exist. \u001b[39m\u001b[38;5;124m\"\u001b[39m\n\u001b[1;32m    133\u001b[0m             \u001b[38;5;124m\"\u001b[39m\u001b[38;5;124mMake sure you have registered the ModelParser using AIConfigRuntime.registerModelParser \u001b[39m\u001b[38;5;124m\"\u001b[39m\n\u001b[1;32m    134\u001b[0m             \u001b[38;5;124m\"\u001b[39m\u001b[38;5;124mbefore loading the AIConfig.\u001b[39m\u001b[38;5;124m\"\u001b[39m\n\u001b[1;32m    135\u001b[0m         )\n",
            "File \u001b[0;32m/opt/homebrew/Caskroom/miniconda/base/envs/aiconfig/lib/python3.10/site-packages/aiconfig/registry.py:61\u001b[0m, in \u001b[0;36mModelParserRegistry.get_model_parser\u001b[0;34m(model_id)\u001b[0m\n\u001b[1;32m     50\u001b[0m \u001b[38;5;129m@staticmethod\u001b[39m\n\u001b[1;32m     51\u001b[0m \u001b[38;5;28;01mdef\u001b[39;00m \u001b[38;5;21mget_model_parser\u001b[39m(model_id: \u001b[38;5;28mstr\u001b[39m) \u001b[38;5;241m-\u001b[39m\u001b[38;5;241m>\u001b[39m ModelParser:\n\u001b[1;32m     52\u001b[0m \u001b[38;5;250m    \u001b[39m\u001b[38;5;124;03m\"\"\"\u001b[39;00m\n\u001b[1;32m     53\u001b[0m \u001b[38;5;124;03m    Retrieves a model parser from the ModelParserRegistry.\u001b[39;00m\n\u001b[1;32m     54\u001b[0m \n\u001b[0;32m   (...)\u001b[0m\n\u001b[1;32m     59\u001b[0m \u001b[38;5;124;03m        ModelParser: The retrieved model parser\u001b[39;00m\n\u001b[1;32m     60\u001b[0m \u001b[38;5;124;03m    \"\"\"\u001b[39;00m\n\u001b[0;32m---> 61\u001b[0m     \u001b[38;5;28;01mreturn\u001b[39;00m \u001b[43mModelParserRegistry\u001b[49m\u001b[38;5;241;43m.\u001b[39;49m\u001b[43m_parsers\u001b[49m\u001b[43m[\u001b[49m\u001b[43mmodel_id\u001b[49m\u001b[43m]\u001b[49m\n",
            "\u001b[0;31mKeyError\u001b[0m: 'HuggingFaceTextSummarizationTransformer'"
          ]
        }
      ],
      "source": [
        "from aiconfig import AIConfigRuntime, InferenceOptions, CallbackManager\n",
        "\n",
        "# Load the aiconfig.\n",
        "config = AIConfigRuntime.load('travel.aiconfig.json')\n",
        "config.callback_manager = CallbackManager([])\n",
        "\n",
        "AIConfigRuntime.register_model_parser()"
      ]
    },
    {
      "cell_type": "code",
      "execution_count": null,
      "metadata": {},
      "outputs": [],
      "source": [
        "config.run()"
      ]
    },
    {
      "attachments": {},
      "cell_type": "markdown",
      "metadata": {
        "id": "zqCchve9GINL"
      },
      "source": [
        "# Run `get_activities` prompt with streaming\n",
        "\n",
        "\n"
      ]
    },
    {
      "cell_type": "code",
      "execution_count": 31,
      "metadata": {
        "colab": {
          "base_uri": "https://localhost:8080/"
        },
        "id": "Kd6BFPGiHPJe",
        "outputId": "f221e835-0d96-4cdc-dc3e-0908c0943955"
      },
      "outputs": [
        {
          "name": "stdout",
          "output_type": "stream",
          "text": [
            "1. Visit Central Park: Take a leisurely stroll, rent a bike, have a picnic or simply relax in the beautiful setting of Central Park.\n",
            "2. Explore Times Square: Revel in the vibrant atmosphere, bright lights, and iconic billboards of Times Square, and catch a Broadway show if you can.\n",
            "3. Walk the Brooklyn Bridge: Enjoy stunning views of the Manhattan skyline while walking across the famous Brooklyn Bridge.\n",
            "4. Visit the Statue of Liberty: Take a ferry ride to Liberty Island and get up close to the iconic Statue of Liberty, a symbol of freedom and democracy.\n",
            "5. Explore the Metropolitan Museum of Art: Discover one of the world's largest art museums, showcasing a vast collection of artwork spanning various periods and cultures.\n",
            "6. Ride to the Top of the Empire State Building: Take in the breathtaking views of New York City's skyline from the observation decks of the iconic Empire State Building.\n",
            "7. Experience the High Line: Walk along this elevated park built on an old railway track, offering unique views of the city and beautiful green spaces.\n",
            "8. Discover the Museum of Modern Art (MoMA): Explore the vast collection of modern and contemporary art at this renowned museum, showcasing works by artists like Van Gogh, Warhol, and Picasso.\n",
            "9. Enjoy the lively atmosphere of Chinatown: Explore the bustling streets of Chinatown, try some delicious Asian cuisine, and shop for unique souvenirs.\n",
            "10. Take a ferry to Ellis Island: Visit the Ellis Island Immigration Museum to learn about the history of immigration in the United States and explore the grounds where millions of immigrants entered the country."
          ]
        }
      ],
      "source": [
        "# Run a single prompt (with streaming). inference_options = InferenceOptions(stream=True)\n",
        "\n",
        "inference_options = InferenceOptions(stream=True)\n",
        "activities = await config.run(\"get_activities\", options=inference_options)\n"
      ]
    },
    {
      "attachments": {},
      "cell_type": "markdown",
      "metadata": {
        "id": "5Fgj5w85Sbch"
      },
      "source": [
        "# Run `gen_itinerary` prompt\n"
      ]
    },
    {
      "cell_type": "code",
      "execution_count": 32,
      "metadata": {
        "colab": {
          "base_uri": "https://localhost:8080/"
        },
        "id": "49xN8OiqSeMX",
        "outputId": "624b046a-2812-45b4-f875-e7cc12249845"
      },
      "outputs": [
        {
          "name": "stderr",
          "output_type": "stream",
          "text": [
            "INFO:my-logger:Callback called. event\n",
            ": name='on_run_start' file='aiconfig.Config' data={'prompt_name': 'gen_itinerary', 'params': {'order_by': 'duration'}, 'options': <aiconfig.model_parser.InferenceOptions object at 0x78287ee520e0>, 'kwargs': {'run_with_dependencies': True}} ts_ns=1701177332281242097\n",
            "INFO:my-logger:Callback called. event\n",
            ": name='on_run_start' file='aiconfig.Config' data={'prompt_name': 'get_activities', 'params': {'order_by': 'duration'}, 'options': <aiconfig.model_parser.InferenceOptions object at 0x78287ee520e0>, 'kwargs': {}} ts_ns=1701177332281242097\n",
            "INFO:my-logger:Callback called. event\n",
            ": name='on_run_start' file='aiconfig.default_parsers.openai' data={'prompt': Prompt(name='get_activities', input='Tell me 10 fun attractions to do in NYC.', metadata=None, outputs=[ExecuteResult(output_type='execute_result', execution_count=0, data={'content': \"1. Visit Central Park: Take a leisurely stroll, rent a bike, have a picnic or simply relax in the beautiful setting of Central Park.\\n2. Explore Times Square: Revel in the vibrant atmosphere, bright lights, and iconic billboards of Times Square, and catch a Broadway show if you can.\\n3. Walk the Brooklyn Bridge: Enjoy stunning views of the Manhattan skyline while walking across the famous Brooklyn Bridge.\\n4. Visit the Statue of Liberty: Take a ferry ride to Liberty Island and get up close to the iconic Statue of Liberty, a symbol of freedom and democracy.\\n5. Explore the Metropolitan Museum of Art: Discover one of the world's largest art museums, showcasing a vast collection of artwork spanning various periods and cultures.\\n6. Ride to the Top of the Empire State Building: Take in the breathtaking views of New York City's skyline from the observation decks of the iconic Empire State Building.\\n7. Experience the High Line: Walk along this elevated park built on an old railway track, offering unique views of the city and beautiful green spaces.\\n8. Discover the Museum of Modern Art (MoMA): Explore the vast collection of modern and contemporary art at this renowned museum, showcasing works by artists like Van Gogh, Warhol, and Picasso.\\n9. Enjoy the lively atmosphere of Chinatown: Explore the bustling streets of Chinatown, try some delicious Asian cuisine, and shop for unique souvenirs.\\n10. Take a ferry to Ellis Island: Visit the Ellis Island Immigration Museum to learn about the history of immigration in the United States and explore the grounds where millions of immigrants entered the country.\", 'role': 'assistant'}, mime_type=None, metadata={'finish_reason': 'stop'})]), 'options': <aiconfig.model_parser.InferenceOptions object at 0x78287ee520e0>, 'parameters': {'order_by': 'duration'}} ts_ns=1701177332281242097\n",
            "INFO:my-logger:Callback called. event\n",
            ": name='on_deserialize_start' file='aiconfig.default_parsers.openai' data={'prompt': Prompt(name='get_activities', input='Tell me 10 fun attractions to do in NYC.', metadata=None, outputs=[ExecuteResult(output_type='execute_result', execution_count=0, data={'content': \"1. Visit Central Park: Take a leisurely stroll, rent a bike, have a picnic or simply relax in the beautiful setting of Central Park.\\n2. Explore Times Square: Revel in the vibrant atmosphere, bright lights, and iconic billboards of Times Square, and catch a Broadway show if you can.\\n3. Walk the Brooklyn Bridge: Enjoy stunning views of the Manhattan skyline while walking across the famous Brooklyn Bridge.\\n4. Visit the Statue of Liberty: Take a ferry ride to Liberty Island and get up close to the iconic Statue of Liberty, a symbol of freedom and democracy.\\n5. Explore the Metropolitan Museum of Art: Discover one of the world's largest art museums, showcasing a vast collection of artwork spanning various periods and cultures.\\n6. Ride to the Top of the Empire State Building: Take in the breathtaking views of New York City's skyline from the observation decks of the iconic Empire State Building.\\n7. Experience the High Line: Walk along this elevated park built on an old railway track, offering unique views of the city and beautiful green spaces.\\n8. Discover the Museum of Modern Art (MoMA): Explore the vast collection of modern and contemporary art at this renowned museum, showcasing works by artists like Van Gogh, Warhol, and Picasso.\\n9. Enjoy the lively atmosphere of Chinatown: Explore the bustling streets of Chinatown, try some delicious Asian cuisine, and shop for unique souvenirs.\\n10. Take a ferry to Ellis Island: Visit the Ellis Island Immigration Museum to learn about the history of immigration in the United States and explore the grounds where millions of immigrants entered the country.\", 'role': 'assistant'}, mime_type=None, metadata={'finish_reason': 'stop'})]), 'params': {'order_by': 'duration'}} ts_ns=1701177332281242097\n",
            "INFO:my-logger:Callback called. event\n",
            ": name='on_deserialize_complete' file='aiconfig.default_parsers.openai' data={'output': {'model': 'gpt-3.5-turbo', 'top_p': 1, 'temperature': 1, 'messages': [{'content': 'Tell me 10 fun attractions to do in NYC.', 'role': 'user'}, {'content': \"1. Visit Central Park: Take a leisurely stroll, rent a bike, have a picnic or simply relax in the beautiful setting of Central Park.\\n2. Explore Times Square: Revel in the vibrant atmosphere, bright lights, and iconic billboards of Times Square, and catch a Broadway show if you can.\\n3. Walk the Brooklyn Bridge: Enjoy stunning views of the Manhattan skyline while walking across the famous Brooklyn Bridge.\\n4. Visit the Statue of Liberty: Take a ferry ride to Liberty Island and get up close to the iconic Statue of Liberty, a symbol of freedom and democracy.\\n5. Explore the Metropolitan Museum of Art: Discover one of the world's largest art museums, showcasing a vast collection of artwork spanning various periods and cultures.\\n6. Ride to the Top of the Empire State Building: Take in the breathtaking views of New York City's skyline from the observation decks of the iconic Empire State Building.\\n7. Experience the High Line: Walk along this elevated park built on an old railway track, offering unique views of the city and beautiful green spaces.\\n8. Discover the Museum of Modern Art (MoMA): Explore the vast collection of modern and contemporary art at this renowned museum, showcasing works by artists like Van Gogh, Warhol, and Picasso.\\n9. Enjoy the lively atmosphere of Chinatown: Explore the bustling streets of Chinatown, try some delicious Asian cuisine, and shop for unique souvenirs.\\n10. Take a ferry to Ellis Island: Visit the Ellis Island Immigration Museum to learn about the history of immigration in the United States and explore the grounds where millions of immigrants entered the country.\", 'role': 'assistant'}]}} ts_ns=1701177332281242097\n"
          ]
        },
        {
          "name": "stdout",
          "output_type": "stream",
          "text": [
            "1. Visit the iconic Times Square and immerse yourself in the vibrant atmosphere.\n",
            "2. Take a stroll through Central Park, rent a rowboat, or enjoy a picnic in this beautiful urban oasis.\n",
            "3. Explore the world-famous Metropolitan Museum of Art (the Met) and admire its extensive collection spanning various eras and cultures.\n",
            "4. Ascend to the Top of the Rock Observation Deck at Rockefeller Center for panoramic views of the city.\n",
            "5. Enjoy a Broadway show and experience the excitement of live theater.\n",
            "6. Visit the 9/11 Memorial & Museum to pay tribute to the victims of the World Trade Center attacks and learn about their stories.\n",
            "7. Roam around the charming neighborhoods of SoHo and Greenwich Village, known for their unique boutiques, cafes, and art galleries.\n",
            "8. Take a ferry to Governors Island and enjoy biking, picnicking, or simply relaxing in this peaceful retreat from the city hustle.\n",
            "9. Discover the fascinating exhibits at the American Museum of Natural History, including the dinosaur fossils and the stunning Blue Whale model.\n",
            "10. Indulge in culinary delights by exploring the diverse food scene of NYC, from trendy food halls to iconic pizza joints and Michelin-starred restaurants."
          ]
        },
        {
          "name": "stderr",
          "output_type": "stream",
          "text": [
            "INFO:my-logger:Callback called. event\n",
            ": name='on_run_complete' file='aiconfig.default_parsers.openai' data={'result': [ExecuteResult(output_type='execute_result', execution_count=0, data={'content': '1. Visit the iconic Times Square and immerse yourself in the vibrant atmosphere.\\n2. Take a stroll through Central Park, rent a rowboat, or enjoy a picnic in this beautiful urban oasis.\\n3. Explore the world-famous Metropolitan Museum of Art (the Met) and admire its extensive collection spanning various eras and cultures.\\n4. Ascend to the Top of the Rock Observation Deck at Rockefeller Center for panoramic views of the city.\\n5. Enjoy a Broadway show and experience the excitement of live theater.\\n6. Visit the 9/11 Memorial & Museum to pay tribute to the victims of the World Trade Center attacks and learn about their stories.\\n7. Roam around the charming neighborhoods of SoHo and Greenwich Village, known for their unique boutiques, cafes, and art galleries.\\n8. Take a ferry to Governors Island and enjoy biking, picnicking, or simply relaxing in this peaceful retreat from the city hustle.\\n9. Discover the fascinating exhibits at the American Museum of Natural History, including the dinosaur fossils and the stunning Blue Whale model.\\n10. Indulge in culinary delights by exploring the diverse food scene of NYC, from trendy food halls to iconic pizza joints and Michelin-starred restaurants.', 'role': 'assistant'}, mime_type=None, metadata={'finish_reason': 'stop'})]} ts_ns=1701177332281242097\n",
            "INFO:my-logger:Callback called. event\n",
            ": name='on_run_complete' file='aiconfig.Config' data={'result': [ExecuteResult(output_type='execute_result', execution_count=0, data={'content': '1. Visit the iconic Times Square and immerse yourself in the vibrant atmosphere.\\n2. Take a stroll through Central Park, rent a rowboat, or enjoy a picnic in this beautiful urban oasis.\\n3. Explore the world-famous Metropolitan Museum of Art (the Met) and admire its extensive collection spanning various eras and cultures.\\n4. Ascend to the Top of the Rock Observation Deck at Rockefeller Center for panoramic views of the city.\\n5. Enjoy a Broadway show and experience the excitement of live theater.\\n6. Visit the 9/11 Memorial & Museum to pay tribute to the victims of the World Trade Center attacks and learn about their stories.\\n7. Roam around the charming neighborhoods of SoHo and Greenwich Village, known for their unique boutiques, cafes, and art galleries.\\n8. Take a ferry to Governors Island and enjoy biking, picnicking, or simply relaxing in this peaceful retreat from the city hustle.\\n9. Discover the fascinating exhibits at the American Museum of Natural History, including the dinosaur fossils and the stunning Blue Whale model.\\n10. Indulge in culinary delights by exploring the diverse food scene of NYC, from trendy food halls to iconic pizza joints and Michelin-starred restaurants.', 'role': 'assistant'}, mime_type=None, metadata={'finish_reason': 'stop'})]} ts_ns=1701177332281242097\n",
            "INFO:my-logger:Callback called. event\n",
            ": name='on_run_start' file='aiconfig.Config' data={'prompt_name': 'gen_itinerary', 'params': {'order_by': 'duration'}, 'options': <aiconfig.model_parser.InferenceOptions object at 0x78287ee520e0>, 'kwargs': {}} ts_ns=1701177332281242097\n",
            "INFO:my-logger:Callback called. event\n",
            ": name='on_run_start' file='aiconfig.default_parsers.openai' data={'prompt': Prompt(name='gen_itinerary', input='Generate an itinerary ordered by {{order_by}} for these activities: {{get_activities.output}}.', metadata=PromptMetadata(model='gpt-4', tags=None, parameters={'order_by': 'geographic location'}), outputs=[]), 'options': <aiconfig.model_parser.InferenceOptions object at 0x78287ee520e0>, 'parameters': {'order_by': 'duration'}} ts_ns=1701177332281242097\n",
            "INFO:my-logger:Callback called. event\n",
            ": name='on_deserialize_start' file='aiconfig.default_parsers.openai' data={'prompt': Prompt(name='gen_itinerary', input='Generate an itinerary ordered by {{order_by}} for these activities: {{get_activities.output}}.', metadata=PromptMetadata(model='gpt-4', tags=None, parameters={'order_by': 'geographic location'}), outputs=[]), 'params': {'order_by': 'duration'}} ts_ns=1701177332281242097\n",
            "INFO:my-logger:Callback called. event\n",
            ": name='on_deserialize_complete' file='aiconfig.default_parsers.openai' data={'output': {'model': 'gpt-4', 'max_tokens': 3000, 'messages': [{'content': 'You are an expert travel coordinator with exquisite taste.', 'role': 'system'}, {'content': 'Generate an itinerary ordered by duration for these activities: 1. Visit the iconic Times Square and immerse yourself in the vibrant atmosphere.\\n2. Take a stroll through Central Park, rent a rowboat, or enjoy a picnic in this beautiful urban oasis.\\n3. Explore the world-famous Metropolitan Museum of Art (the Met) and admire its extensive collection spanning various eras and cultures.\\n4. Ascend to the Top of the Rock Observation Deck at Rockefeller Center for panoramic views of the city.\\n5. Enjoy a Broadway show and experience the excitement of live theater.\\n6. Visit the 9/11 Memorial &amp; Museum to pay tribute to the victims of the World Trade Center attacks and learn about their stories.\\n7. Roam around the charming neighborhoods of SoHo and Greenwich Village, known for their unique boutiques, cafes, and art galleries.\\n8. Take a ferry to Governors Island and enjoy biking, picnicking, or simply relaxing in this peaceful retreat from the city hustle.\\n9. Discover the fascinating exhibits at the American Museum of Natural History, including the dinosaur fossils and the stunning Blue Whale model.\\n10. Indulge in culinary delights by exploring the diverse food scene of NYC, from trendy food halls to iconic pizza joints and Michelin-starred restaurants..', 'role': 'user'}]}} ts_ns=1701177332281242097\n"
          ]
        },
        {
          "name": "stdout",
          "output_type": "stream",
          "text": [
            "1. Start your day by visiting the iconic Times Square and immerse yourself in the vibrant atmosphere (Estimated Duration: 1.5 Hours - 8:00 AM to 9:30 AM)\n",
            "2. Take a stroll through Central Park, rent a rowboat, or enjoy a picnic in this beautiful urban oasis (Estimated Duration: 2.5 Hours - 10:00 AM to 12:30 PM)\n",
            "3. Have lunch while exploring the diverse food scene of NYC, from trendy food halls to iconic pizza joints and Michelin-starred restaurants (Estimated Duration: 2 Hours - 1:00 PM to 3:00 PM)\n",
            "4. Spend your early afternoon at the Metropolitan Museum of Art (the Met). Marvel at the extensive collection spanning various eras and cultures (Estimated Duration: 3 Hours - 3:30 PM to 6:30 PM)\n",
            "5. Next, roam around the charming neighborhoods of SoHo and Greenwich Village, known for their unique boutiques, cafes, and art galleries (Estimated Duration: 2 Hours - 7:00 PM to 9:00 PM)\n",
            "6. Begin your second day by visiting the 9/11 Memorial & Museum to pay tribute to the victims of the World Trade Center attacks and learn about their stories (Estimated Duration: 2.5 Hours - 9:00 AM to 11:30 AM)\n",
            "7. Take a ferry to Governors Island and enjoy biking, picnicking, or simply relaxing in this peaceful retreat from the city hustle (Estimated Duration: 3 Hours - 12:00 PM to 3:00 PM)\n",
            "8. Afterwards, visit the American Museum of Natural History. Discover the fascinating exhibits, including the dinosaur fossils and the stunning Blue Whale model (Estimated Duration: 2.5 Hours - 3:30 PM to 6:00 PM)\n",
            "9. Indulge in the local cuisine again with dinner at one of NYC’s most renowned eateries (Estimated Duration: 2 Hours - 6:30 PM to 8:30 PM)\n",
            "10. End your second day by ascending to the Top of the Rock Observation Deck at Rockefeller Center for panoramic views of the city (Estimated Duration: 1.5 Hours - 9:00 PM to 10:30 PM)\n",
            "11. On your final day, relish in a Broadway show and experience the excitement of live theater. (Estimated Duration: 3 Hours - 6:00 PM to 9:00 PM). Spend the rest of your day shopping or exploring the city at your own pace before the show.\n"
          ]
        },
        {
          "name": "stderr",
          "output_type": "stream",
          "text": [
            "INFO:my-logger:Callback called. event\n",
            ": name='on_run_complete' file='aiconfig.default_parsers.openai' data={'result': [ExecuteResult(output_type='execute_result', execution_count=0, data={'content': '1. Start your day by visiting the iconic Times Square and immerse yourself in the vibrant atmosphere (Estimated Duration: 1.5 Hours - 8:00 AM to 9:30 AM)\\n2. Take a stroll through Central Park, rent a rowboat, or enjoy a picnic in this beautiful urban oasis (Estimated Duration: 2.5 Hours - 10:00 AM to 12:30 PM)\\n3. Have lunch while exploring the diverse food scene of NYC, from trendy food halls to iconic pizza joints and Michelin-starred restaurants (Estimated Duration: 2 Hours - 1:00 PM to 3:00 PM)\\n4. Spend your early afternoon at the Metropolitan Museum of Art (the Met). Marvel at the extensive collection spanning various eras and cultures (Estimated Duration: 3 Hours - 3:30 PM to 6:30 PM)\\n5. Next, roam around the charming neighborhoods of SoHo and Greenwich Village, known for their unique boutiques, cafes, and art galleries (Estimated Duration: 2 Hours - 7:00 PM to 9:00 PM)\\n6. Begin your second day by visiting the 9/11 Memorial & Museum to pay tribute to the victims of the World Trade Center attacks and learn about their stories (Estimated Duration: 2.5 Hours - 9:00 AM to 11:30 AM)\\n7. Take a ferry to Governors Island and enjoy biking, picnicking, or simply relaxing in this peaceful retreat from the city hustle (Estimated Duration: 3 Hours - 12:00 PM to 3:00 PM)\\n8. Afterwards, visit the American Museum of Natural History. Discover the fascinating exhibits, including the dinosaur fossils and the stunning Blue Whale model (Estimated Duration: 2.5 Hours - 3:30 PM to 6:00 PM)\\n9. Indulge in the local cuisine again with dinner at one of NYC’s most renowned eateries (Estimated Duration: 2 Hours - 6:30 PM to 8:30 PM)\\n10. End your second day by ascending to the Top of the Rock Observation Deck at Rockefeller Center for panoramic views of the city (Estimated Duration: 1.5 Hours - 9:00 PM to 10:30 PM)\\n11. On your final day, relish in a Broadway show and experience the excitement of live theater. (Estimated Duration: 3 Hours - 6:00 PM to 9:00 PM). Spend the rest of your day shopping or exploring the city at your own pace before the show.\\n', 'role': 'assistant'}, mime_type=None, metadata={'finish_reason': 'stop'})]} ts_ns=1701177332281242097\n",
            "INFO:my-logger:Callback called. event\n",
            ": name='on_run_complete' file='aiconfig.Config' data={'result': [ExecuteResult(output_type='execute_result', execution_count=0, data={'content': '1. Start your day by visiting the iconic Times Square and immerse yourself in the vibrant atmosphere (Estimated Duration: 1.5 Hours - 8:00 AM to 9:30 AM)\\n2. Take a stroll through Central Park, rent a rowboat, or enjoy a picnic in this beautiful urban oasis (Estimated Duration: 2.5 Hours - 10:00 AM to 12:30 PM)\\n3. Have lunch while exploring the diverse food scene of NYC, from trendy food halls to iconic pizza joints and Michelin-starred restaurants (Estimated Duration: 2 Hours - 1:00 PM to 3:00 PM)\\n4. Spend your early afternoon at the Metropolitan Museum of Art (the Met). Marvel at the extensive collection spanning various eras and cultures (Estimated Duration: 3 Hours - 3:30 PM to 6:30 PM)\\n5. Next, roam around the charming neighborhoods of SoHo and Greenwich Village, known for their unique boutiques, cafes, and art galleries (Estimated Duration: 2 Hours - 7:00 PM to 9:00 PM)\\n6. Begin your second day by visiting the 9/11 Memorial & Museum to pay tribute to the victims of the World Trade Center attacks and learn about their stories (Estimated Duration: 2.5 Hours - 9:00 AM to 11:30 AM)\\n7. Take a ferry to Governors Island and enjoy biking, picnicking, or simply relaxing in this peaceful retreat from the city hustle (Estimated Duration: 3 Hours - 12:00 PM to 3:00 PM)\\n8. Afterwards, visit the American Museum of Natural History. Discover the fascinating exhibits, including the dinosaur fossils and the stunning Blue Whale model (Estimated Duration: 2.5 Hours - 3:30 PM to 6:00 PM)\\n9. Indulge in the local cuisine again with dinner at one of NYC’s most renowned eateries (Estimated Duration: 2 Hours - 6:30 PM to 8:30 PM)\\n10. End your second day by ascending to the Top of the Rock Observation Deck at Rockefeller Center for panoramic views of the city (Estimated Duration: 1.5 Hours - 9:00 PM to 10:30 PM)\\n11. On your final day, relish in a Broadway show and experience the excitement of live theater. (Estimated Duration: 3 Hours - 6:00 PM to 9:00 PM). Spend the rest of your day shopping or exploring the city at your own pace before the show.\\n', 'role': 'assistant'}, mime_type=None, metadata={'finish_reason': 'stop'})]} ts_ns=1701177332281242097\n",
            "INFO:my-logger:Callback called. event\n",
            ": name='on_run_complete' file='aiconfig.Config' data={'result': [ExecuteResult(output_type='execute_result', execution_count=0, data={'content': '1. Start your day by visiting the iconic Times Square and immerse yourself in the vibrant atmosphere (Estimated Duration: 1.5 Hours - 8:00 AM to 9:30 AM)\\n2. Take a stroll through Central Park, rent a rowboat, or enjoy a picnic in this beautiful urban oasis (Estimated Duration: 2.5 Hours - 10:00 AM to 12:30 PM)\\n3. Have lunch while exploring the diverse food scene of NYC, from trendy food halls to iconic pizza joints and Michelin-starred restaurants (Estimated Duration: 2 Hours - 1:00 PM to 3:00 PM)\\n4. Spend your early afternoon at the Metropolitan Museum of Art (the Met). Marvel at the extensive collection spanning various eras and cultures (Estimated Duration: 3 Hours - 3:30 PM to 6:30 PM)\\n5. Next, roam around the charming neighborhoods of SoHo and Greenwich Village, known for their unique boutiques, cafes, and art galleries (Estimated Duration: 2 Hours - 7:00 PM to 9:00 PM)\\n6. Begin your second day by visiting the 9/11 Memorial & Museum to pay tribute to the victims of the World Trade Center attacks and learn about their stories (Estimated Duration: 2.5 Hours - 9:00 AM to 11:30 AM)\\n7. Take a ferry to Governors Island and enjoy biking, picnicking, or simply relaxing in this peaceful retreat from the city hustle (Estimated Duration: 3 Hours - 12:00 PM to 3:00 PM)\\n8. Afterwards, visit the American Museum of Natural History. Discover the fascinating exhibits, including the dinosaur fossils and the stunning Blue Whale model (Estimated Duration: 2.5 Hours - 3:30 PM to 6:00 PM)\\n9. Indulge in the local cuisine again with dinner at one of NYC’s most renowned eateries (Estimated Duration: 2 Hours - 6:30 PM to 8:30 PM)\\n10. End your second day by ascending to the Top of the Rock Observation Deck at Rockefeller Center for panoramic views of the city (Estimated Duration: 1.5 Hours - 9:00 PM to 10:30 PM)\\n11. On your final day, relish in a Broadway show and experience the excitement of live theater. (Estimated Duration: 3 Hours - 6:00 PM to 9:00 PM). Spend the rest of your day shopping or exploring the city at your own pace before the show.\\n', 'role': 'assistant'}, mime_type=None, metadata={'finish_reason': 'stop'})]} ts_ns=1701177332281242097\n"
          ]
        }
      ],
      "source": [
        "# This time, let's also add a callback manager to log more detailed events\n",
        "config.callback_manager = CallbackManager([])\n",
        "\n",
        "itinerary = await config.run(\n",
        "    \"gen_itinerary\",\n",
        "    params={\"order_by\": \"duration\"},\n",
        "    run_with_dependencies=True,\n",
        "    options=inference_options)"
      ]
    },
    {
      "attachments": {},
      "cell_type": "markdown",
      "metadata": {
        "id": "7DTy5qLpRxlx"
      },
      "source": [
        "# Add prompt to config"
      ]
    },
    {
      "cell_type": "code",
      "execution_count": 39,
      "metadata": {
        "colab": {
          "base_uri": "https://localhost:8080/"
        },
        "id": "xjdyaO9HRvFr",
        "outputId": "dd6d3b67-88e4-4a8e-b4c4-58919a6a40b1"
      },
      "outputs": [
        {
          "name": "stderr",
          "output_type": "stream",
          "text": [
            "INFO:my-logger:Callback called. event\n",
            ": name='on_serialize_start' file='aiconfig.Config' data={'gpt-3.5-turbo': 'gpt-3.5-turbo', 'data': {'model': 'gpt-3.5-turbo', 'messages': [{'role': 'system', 'content': 'You provide a bulleted list of items to pack for a week long trip.'}, {'role': 'user', 'content': 'What should I bring to {{location}}?'}]}, 'prompt_name': 'gen_packing_list', 'params': {'location': 'nyc'}} ts_ns=1701177332281242097\n",
            "INFO:my-logger:Callback called. event\n",
            ": name='on_serialize_start' file='aiconfig.default_parsers.openai' data={'prompt_name': 'gen_packing_list', 'data': {'model': 'gpt-3.5-turbo', 'messages': [{'role': 'system', 'content': 'You provide a bulleted list of items to pack for a week long trip.'}, {'role': 'user', 'content': 'What should I bring to {{location}}?'}]}, 'parameters': {'location': 'nyc'}, 'kwargs': {}} ts_ns=1701177332281242097\n",
            "INFO:my-logger:Callback called. event\n",
            ": name='on_serialize_complete' file='aiconfig.default_parsers.openai' data={'result': [Prompt(name='gen_packing_list', input='What should I bring to {{location}}?', metadata=PromptMetadata(model=ModelMetadata(name='gpt-3.5-turbo', settings={'system_prompt': {'role': 'system', 'content': 'You provide a bulleted list of items to pack for a week long trip.'}}), tags=None, parameters={'location': 'nyc'}, remember_chat_context=True), outputs=[])]} ts_ns=1701177332281242097\n",
            "INFO:my-logger:Callback called. event\n",
            ": name='on_serialize_complete' file='aiconfig.Config' data={'result': [Prompt(name='gen_packing_list', input='What should I bring to {{location}}?', metadata=PromptMetadata(model=ModelMetadata(name='gpt-3.5-turbo', settings={'system_prompt': {'role': 'system', 'content': 'You provide a bulleted list of items to pack for a week long trip.'}}), tags=None, parameters={'location': 'nyc'}, remember_chat_context=True), outputs=[])]} ts_ns=1701177332281242097\n"
          ]
        }
      ],
      "source": [
        "# Add gen_packing_list as a prompt to config\n",
        "from aiconfig import Prompt\n",
        "model = \"gpt-3.5-turbo\"\n",
        "data = {\n",
        "    \"model\": model,\n",
        "    \"messages\": [\n",
        "        {\n",
        "            \"role\": \"system\",\n",
        "            \"content\": \"You provide a bulleted list of items to pack for a week long trip.\"\n",
        "        },\n",
        "        {\n",
        "            \"role\": \"user\",\n",
        "            \"content\": \"What should I bring to {{location}}?\"\n",
        "        }\n",
        "    ]\n",
        "}\n",
        "\n",
        "new_prompts = await config.serialize(model, data, prompt_name=\"gen_packing_list\", params={\"location\": \"nyc\"})\n",
        "config.add_prompt(prompt_name=\"gen_packing_list\", prompt_data=new_prompts[0])"
      ]
    },
    {
      "cell_type": "code",
      "execution_count": 40,
      "metadata": {
        "colab": {
          "base_uri": "https://localhost:8080/"
        },
        "id": "O9b_n26SsSZt",
        "outputId": "0178d7ae-758e-4135-f452-75ee6ac19c41"
      },
      "outputs": [
        {
          "name": "stderr",
          "output_type": "stream",
          "text": [
            "INFO:my-logger:Callback called. event\n",
            ": name='on_run_start' file='aiconfig.Config' data={'prompt_name': 'gen_packing_list', 'params': None, 'options': <aiconfig.model_parser.InferenceOptions object at 0x78287ee520e0>, 'kwargs': {}} ts_ns=1701177332281242097\n",
            "INFO:my-logger:Callback called. event\n",
            ": name='on_run_start' file='aiconfig.default_parsers.openai' data={'prompt': Prompt(name='gen_packing_list', input='What should I bring to {{location}}?', metadata=PromptMetadata(model=ModelMetadata(name='gpt-3.5-turbo', settings={'system_prompt': {'role': 'system', 'content': 'You provide a bulleted list of items to pack for a week long trip.'}}), tags=None, parameters={'location': 'nyc'}, remember_chat_context=True), outputs=[]), 'options': <aiconfig.model_parser.InferenceOptions object at 0x78287ee520e0>, 'parameters': {}} ts_ns=1701177332281242097\n",
            "INFO:my-logger:Callback called. event\n",
            ": name='on_deserialize_start' file='aiconfig.default_parsers.openai' data={'prompt': Prompt(name='gen_packing_list', input='What should I bring to {{location}}?', metadata=PromptMetadata(model=ModelMetadata(name='gpt-3.5-turbo', settings={'system_prompt': {'role': 'system', 'content': 'You provide a bulleted list of items to pack for a week long trip.'}}), tags=None, parameters={'location': 'nyc'}, remember_chat_context=True), outputs=[]), 'params': {}} ts_ns=1701177332281242097\n",
            "INFO:my-logger:Callback called. event\n",
            ": name='on_deserialize_complete' file='aiconfig.default_parsers.openai' data={'output': {'model': 'gpt-3.5-turbo', 'top_p': 1, 'temperature': 1, 'messages': [{'content': 'You provide a bulleted list of items to pack for a week long trip.', 'role': 'system'}, {'content': 'Tell me 10 fun attractions to do in NYC.', 'role': 'user'}, {'content': '1. Visit the iconic Times Square and immerse yourself in the vibrant atmosphere.\\n2. Take a stroll through Central Park, rent a rowboat, or enjoy a picnic in this beautiful urban oasis.\\n3. Explore the world-famous Metropolitan Museum of Art (the Met) and admire its extensive collection spanning various eras and cultures.\\n4. Ascend to the Top of the Rock Observation Deck at Rockefeller Center for panoramic views of the city.\\n5. Enjoy a Broadway show and experience the excitement of live theater.\\n6. Visit the 9/11 Memorial & Museum to pay tribute to the victims of the World Trade Center attacks and learn about their stories.\\n7. Roam around the charming neighborhoods of SoHo and Greenwich Village, known for their unique boutiques, cafes, and art galleries.\\n8. Take a ferry to Governors Island and enjoy biking, picnicking, or simply relaxing in this peaceful retreat from the city hustle.\\n9. Discover the fascinating exhibits at the American Museum of Natural History, including the dinosaur fossils and the stunning Blue Whale model.\\n10. Indulge in culinary delights by exploring the diverse food scene of NYC, from trendy food halls to iconic pizza joints and Michelin-starred restaurants.', 'role': 'assistant'}, {'content': 'What should I bring to nyc?', 'role': 'user'}]}} ts_ns=1701177332281242097\n"
          ]
        },
        {
          "name": "stdout",
          "output_type": "stream",
          "text": [
            "Here's a list of items you should consider packing for your trip to NYC:\n",
            "\n",
            "1. Comfortable walking shoes: NYC is a city best explored on foot, so be sure to pack comfortable shoes for all the walking you'll be doing.\n",
            "2. Lightweight clothing: Depending on the season, pack layered clothing that can accommodate fluctuating temperatures. Summers can be hot and humid while winters can be cold and snowy.\n",
            "3. Weather-appropriate outerwear: Bring a waterproof jacket or umbrella, especially if you're visiting during the rainy season. In colder months, pack a warm coat, hat, and gloves.\n",
            "4. Daypack or tote bag: Carry a small bag to hold your personal items, snacks, water bottle, and any souvenirs you might pick up during the day.\n",
            "5. Portable phone charger: With all the sightseeing and navigating you'll be doing, it's important to ensure your phone stays charged throughout the day.\n",
            "6. Travel guide or map: Even with smartphones, having a physical map or guidebook can be handy for quick reference or if you lose cell service.\n",
            "7. Camera: Capture the memories of your NYC trip by bringing a camera or using your smartphone camera.\n",
            "8. Portable umbrella or raincoat: Prepare for unexpected rain showers by packing a small, portable umbrella or a lightweight raincoat.\n",
            "9. Hat and sunglasses: NYC is known for its sunny summers, so protect yourself from the sun by bringing a hat and sunglasses.\n",
            "10. Travel essentials: Don't forget to pack your travel documents, such as IDs, hotel confirmations, and any necessary tickets or reservations.\n",
            "\n",
            "Remember to check the weather forecast before your trip to ensure you're prepared for the specific conditions during your stay in NYC."
          ]
        },
        {
          "name": "stderr",
          "output_type": "stream",
          "text": [
            "INFO:my-logger:Callback called. event\n",
            ": name='on_run_complete' file='aiconfig.default_parsers.openai' data={'result': [ExecuteResult(output_type='execute_result', execution_count=0, data={'content': \"Here's a list of items you should consider packing for your trip to NYC:\\n\\n1. Comfortable walking shoes: NYC is a city best explored on foot, so be sure to pack comfortable shoes for all the walking you'll be doing.\\n2. Lightweight clothing: Depending on the season, pack layered clothing that can accommodate fluctuating temperatures. Summers can be hot and humid while winters can be cold and snowy.\\n3. Weather-appropriate outerwear: Bring a waterproof jacket or umbrella, especially if you're visiting during the rainy season. In colder months, pack a warm coat, hat, and gloves.\\n4. Daypack or tote bag: Carry a small bag to hold your personal items, snacks, water bottle, and any souvenirs you might pick up during the day.\\n5. Portable phone charger: With all the sightseeing and navigating you'll be doing, it's important to ensure your phone stays charged throughout the day.\\n6. Travel guide or map: Even with smartphones, having a physical map or guidebook can be handy for quick reference or if you lose cell service.\\n7. Camera: Capture the memories of your NYC trip by bringing a camera or using your smartphone camera.\\n8. Portable umbrella or raincoat: Prepare for unexpected rain showers by packing a small, portable umbrella or a lightweight raincoat.\\n9. Hat and sunglasses: NYC is known for its sunny summers, so protect yourself from the sun by bringing a hat and sunglasses.\\n10. Travel essentials: Don't forget to pack your travel documents, such as IDs, hotel confirmations, and any necessary tickets or reservations.\\n\\nRemember to check the weather forecast before your trip to ensure you're prepared for the specific conditions during your stay in NYC.\", 'role': 'assistant'}, mime_type=None, metadata={'finish_reason': 'stop'})]} ts_ns=1701177332281242097\n",
            "INFO:my-logger:Callback called. event\n",
            ": name='on_run_complete' file='aiconfig.Config' data={'result': [ExecuteResult(output_type='execute_result', execution_count=0, data={'content': \"Here's a list of items you should consider packing for your trip to NYC:\\n\\n1. Comfortable walking shoes: NYC is a city best explored on foot, so be sure to pack comfortable shoes for all the walking you'll be doing.\\n2. Lightweight clothing: Depending on the season, pack layered clothing that can accommodate fluctuating temperatures. Summers can be hot and humid while winters can be cold and snowy.\\n3. Weather-appropriate outerwear: Bring a waterproof jacket or umbrella, especially if you're visiting during the rainy season. In colder months, pack a warm coat, hat, and gloves.\\n4. Daypack or tote bag: Carry a small bag to hold your personal items, snacks, water bottle, and any souvenirs you might pick up during the day.\\n5. Portable phone charger: With all the sightseeing and navigating you'll be doing, it's important to ensure your phone stays charged throughout the day.\\n6. Travel guide or map: Even with smartphones, having a physical map or guidebook can be handy for quick reference or if you lose cell service.\\n7. Camera: Capture the memories of your NYC trip by bringing a camera or using your smartphone camera.\\n8. Portable umbrella or raincoat: Prepare for unexpected rain showers by packing a small, portable umbrella or a lightweight raincoat.\\n9. Hat and sunglasses: NYC is known for its sunny summers, so protect yourself from the sun by bringing a hat and sunglasses.\\n10. Travel essentials: Don't forget to pack your travel documents, such as IDs, hotel confirmations, and any necessary tickets or reservations.\\n\\nRemember to check the weather forecast before your trip to ensure you're prepared for the specific conditions during your stay in NYC.\", 'role': 'assistant'}, mime_type=None, metadata={'finish_reason': 'stop'})]} ts_ns=1701177332281242097\n"
          ]
        }
      ],
      "source": [
        "packing_list = await config.run(\"gen_packing_list\", params=None, options=inference_options)"
      ]
    },
    {
      "attachments": {},
      "cell_type": "markdown",
      "metadata": {
        "id": "q9deFcBK55yN"
      },
      "source": [
        "# 5. Save the AIConfig with outputs\n"
      ]
    },
    {
      "cell_type": "code",
      "execution_count": 37,
      "metadata": {
        "id": "9BR4-nGxSth7"
      },
      "outputs": [],
      "source": [
        "# Save the aiconfig to disk. and serialize outputs from the model run\n",
        "config.save('updated.aiconfig.json', include_outputs=True)"
      ]
    },
    {
      "attachments": {},
      "cell_type": "markdown",
      "metadata": {
        "id": "JLiElYyC6DB-"
      },
      "source": [
        "# 6. Open the AIConfig in AI Workbook Playground\n",
        "1. Download `updated.aiconfig.json`.\n",
        "2. Go to https://lastmileai.dev.\n",
        "3. Go to Workbooks page: https://lastmileai.dev/workbooks.\n",
        "4. Click dropdown '+New Workbook' and select 'Create from AIConfig'\n",
        "5. Upload `updated.aiconfig.json`.\n",
        "\n",
        "Try out the workbook playground here: [NYC Travel Workbook](https://lastmileai.dev/workbooks/clooqs3p200kkpe53u6n2rhr9)"
      ]
    },
    {
      "cell_type": "code",
      "execution_count": null,
      "metadata": {
        "id": "PLpVz4L56GIY"
      },
      "outputs": [],
      "source": []
    }
  ],
  "metadata": {
    "colab": {
      "provenance": []
    },
    "kernelspec": {
      "display_name": "Python 3",
      "name": "python3"
    },
    "language_info": {
      "codemirror_mode": {
        "name": "ipython",
        "version": 3
      },
      "file_extension": ".py",
      "mimetype": "text/x-python",
      "name": "python",
      "nbconvert_exporter": "python",
      "pygments_lexer": "ipython3",
      "version": "3.10.13"
    }
  },
  "nbformat": 4,
  "nbformat_minor": 0
}

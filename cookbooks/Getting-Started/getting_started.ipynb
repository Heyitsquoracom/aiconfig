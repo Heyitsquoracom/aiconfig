{
  "cells": [
    {
      "attachments": {},
      "cell_type": "markdown",
      "metadata": {
        "id": "kNmnUZnUFzt3"
      },
      "source": [
        "# Installation and Setup"
      ]
    },
    {
      "cell_type": "code",
      "execution_count": 1,
      "metadata": {
        "id": "sq9uM4ENFStR"
      },
      "outputs": [],
      "source": [
        "# !pip install accelerate\n",
        "\n",
        "# Create .env file at cookbooks/Function-Calling-OpenAI/python/.env containing the \n",
        "# following line: OPENAI_API_KEY=<your key here>\n",
        "# You can get your key from https://platform.openai.com/api-keys \n",
        "import openai\n",
        "import dotenv\n",
        "import os\n",
        "dotenv.load_dotenv()\n",
        "openai.api_key = os.getenv(\"OPENAI_API_KEY\")"
      ]
    },
    {
      "attachments": {},
      "cell_type": "markdown",
      "metadata": {
        "id": "-FMlVH2bF4iN"
      },
      "source": [
        "## Load AI Config `travel.aiconfig.json`\n",
        "Download file [from here](https://github.com/lastmile-ai/aiconfig/blob/main/cookbooks/Getting-Started/travel.aiconfig.json). Upload to 'Files' in your colab notebook and load (shown below).\n"
      ]
    },
    {
      "cell_type": "code",
      "execution_count": 2,
      "metadata": {
        "id": "go9T1xivF4S2"
      },
      "outputs": [
        {
          "name": "stderr",
          "output_type": "stream",
          "text": [
            "/opt/homebrew/lib/python3.11/site-packages/pydantic/_internal/_fields.py:128: UserWarning: Field \"model_parsers\" has conflict with protected namespace \"model_\".\n",
            "\n",
            "You may be able to resolve this warning by setting `model_config['protected_namespaces'] = ()`.\n",
            "  warnings.warn(\n",
            "/opt/homebrew/lib/python3.11/site-packages/tqdm/auto.py:21: TqdmWarning: IProgress not found. Please update jupyter and ipywidgets. See https://ipywidgets.readthedocs.io/en/stable/user_install.html\n",
            "  from .autonotebook import tqdm as notebook_tqdm\n"
          ]
        }
      ],
      "source": [
        "from aiconfig import AIConfigRuntime, InferenceOptions, CallbackManager, ModelParserRegistry\n",
        "from aiconfig_extension_hugging_face_transformers.text_2_image import HuggingFaceText2ImageDiffusor\n",
        "# from aiconfig_extension_hugging_face_transformers.text_generation import (\n",
        "#     HuggingFaceTextGenerationTransformer\n",
        "# )\n",
        "ModelParserRegistry.register_model_parser(HuggingFaceText2ImageDiffusor())\n",
        "\n",
        "# Load the aiconfig.\n",
        "config = AIConfigRuntime.load('travel.aiconfig.json')\n",
        "config.callback_manager = CallbackManager([])"
      ]
    },
    {
      "attachments": {},
      "cell_type": "markdown",
      "metadata": {
        "id": "zqCchve9GINL"
      },
      "source": [
        "# Run `get_activities` prompt with streaming\n",
        "\n",
        "\n"
      ]
    },
    {
      "cell_type": "code",
      "execution_count": 3,
      "metadata": {
        "colab": {
          "base_uri": "https://localhost:8080/"
        },
        "id": "Kd6BFPGiHPJe",
        "outputId": "f221e835-0d96-4cdc-dc3e-0908c0943955"
      },
      "outputs": [
        {
          "name": "stdout",
          "output_type": "stream",
          "text": [
            "\n",
            "Building the pipeline... This can take a long time if you haven't created one before \n",
            "on this machine. Please be patient!\n",
            "\n",
            "If this seems to be taking too long, you can change some of the pipeline generation\n",
            "params. See more details here:\n",
            "https://huggingface.co/docs/diffusers/using-diffusers/loading\n",
            "\n"
          ]
        },
        {
          "name": "stderr",
          "output_type": "stream",
          "text": [
            "Keyword arguments {'safety_checker': None} are not expected by StableDiffusionXLPipeline and will be ignored.\n",
            "Loading pipeline components...: 100%|██████████| 7/7 [00:00<00:00,  9.78it/s]\n"
          ]
        },
        {
          "name": "stdout",
          "output_type": "stream",
          "text": [
            "\n",
            "\n",
            "Calling image generation. This can take a long time, (up to SEVERAL MINUTES depending\n",
            "on the model), please hold on...\n",
            "\n",
            "If this seems to be taking too long, you can change some of the params. For example, \n",
            "you can set the `num_inference_steps` to a lower value at the cost of reduced image\n",
            "quality. See full list of params here:\n",
            "https://huggingface.co/docs/diffusers/main/en/api/pipelines/stable_diffusion/text2img#diffusers.StableDiffusionPipeline.__call__\n",
            "\n",
            "If that doesn't work, you can also try less computationally intensive models. \n",
            "        \n"
          ]
        },
        {
          "name": "stderr",
          "output_type": "stream",
          "text": [
            " 22%|██▏       | 11/50 [04:48<17:14, 26.54s/it]"
          ]
        },
        {
          "ename": "",
          "evalue": "",
          "output_type": "error",
          "traceback": [
            "\u001b[1;31mThe Kernel crashed while executing code in the the current cell or a previous cell. Please review the code in the cell(s) to identify a possible cause of the failure. Click <a href='https://aka.ms/vscodeJupyterKernelCrash'>here</a> for more info. View Jupyter <a href='command:jupyter.viewOutput'>log</a> for further details."
          ]
        }
      ],
      "source": [
        "# Run a single prompt (with streaming). inference_options = InferenceOptions(stream=True)\n",
        "\n",
        "def print_stream(data, _accumulated_data, _index):\n",
        "    print(data, end=\"\", flush=True)\n",
        "    print(\" --> hey I should be printing something \")\n",
        "\n",
        "inference_options = InferenceOptions(stream=False, stream_callback=print_stream)\n",
        "prompts = [\n",
        "    # \"gen_image\", \n",
        "    \"gen_image_sdxl\"\n",
        "    ]\n",
        "for name in prompts:\n",
        "    await config.run(name, options=inference_options)\n",
        "# config.save('new.aiconfig.json')\n"
      ]
    },
    {
      "cell_type": "markdown",
      "metadata": {
        "id": "5Fgj5w85Sbch"
      },
      "source": [
        "# Run `gen_itinerary` prompt\n"
      ]
    },
    {
      "cell_type": "code",
      "execution_count": 4,
      "metadata": {
        "colab": {
          "base_uri": "https://localhost:8080/"
        },
        "id": "49xN8OiqSeMX",
        "outputId": "624b046a-2812-45b4-f875-e7cc12249845"
      },
      "outputs": [],
      "source": [
        "config.save('new.aiconfig.json')"
      ]
    },
    {
      "attachments": {},
      "cell_type": "markdown",
      "metadata": {
        "id": "7DTy5qLpRxlx"
      },
      "source": [
        "# Add prompt to config"
      ]
    },
    {
      "cell_type": "code",
      "execution_count": 39,
      "metadata": {
        "colab": {
          "base_uri": "https://localhost:8080/"
        },
        "id": "xjdyaO9HRvFr",
        "outputId": "dd6d3b67-88e4-4a8e-b4c4-58919a6a40b1"
      },
      "outputs": [
        {
          "name": "stderr",
          "output_type": "stream",
          "text": [
            "INFO:my-logger:Callback called. event\n",
            ": name='on_serialize_start' file='aiconfig.Config' data={'gpt-3.5-turbo': 'gpt-3.5-turbo', 'data': {'model': 'gpt-3.5-turbo', 'messages': [{'role': 'system', 'content': 'You provide a bulleted list of items to pack for a week long trip.'}, {'role': 'user', 'content': 'What should I bring to {{location}}?'}]}, 'prompt_name': 'gen_packing_list', 'params': {'location': 'nyc'}} ts_ns=1701177332281242097\n",
            "INFO:my-logger:Callback called. event\n",
            ": name='on_serialize_start' file='aiconfig.default_parsers.openai' data={'prompt_name': 'gen_packing_list', 'data': {'model': 'gpt-3.5-turbo', 'messages': [{'role': 'system', 'content': 'You provide a bulleted list of items to pack for a week long trip.'}, {'role': 'user', 'content': 'What should I bring to {{location}}?'}]}, 'parameters': {'location': 'nyc'}, 'kwargs': {}} ts_ns=1701177332281242097\n",
            "INFO:my-logger:Callback called. event\n",
            ": name='on_serialize_complete' file='aiconfig.default_parsers.openai' data={'result': [Prompt(name='gen_packing_list', input='What should I bring to {{location}}?', metadata=PromptMetadata(model=ModelMetadata(name='gpt-3.5-turbo', settings={'system_prompt': {'role': 'system', 'content': 'You provide a bulleted list of items to pack for a week long trip.'}}), tags=None, parameters={'location': 'nyc'}, remember_chat_context=True), outputs=[])]} ts_ns=1701177332281242097\n",
            "INFO:my-logger:Callback called. event\n",
            ": name='on_serialize_complete' file='aiconfig.Config' data={'result': [Prompt(name='gen_packing_list', input='What should I bring to {{location}}?', metadata=PromptMetadata(model=ModelMetadata(name='gpt-3.5-turbo', settings={'system_prompt': {'role': 'system', 'content': 'You provide a bulleted list of items to pack for a week long trip.'}}), tags=None, parameters={'location': 'nyc'}, remember_chat_context=True), outputs=[])]} ts_ns=1701177332281242097\n"
          ]
        }
      ],
      "source": [
        "# Add gen_packing_list as a prompt to config\n",
        "from aiconfig import Prompt\n",
        "model = \"gpt-3.5-turbo\"\n",
        "data = {\n",
        "    \"model\": model,\n",
        "    \"messages\": [\n",
        "        {\n",
        "            \"role\": \"system\",\n",
        "            \"content\": \"You provide a bulleted list of items to pack for a week long trip.\"\n",
        "        },\n",
        "        {\n",
        "            \"role\": \"user\",\n",
        "            \"content\": \"What should I bring to {{location}}?\"\n",
        "        }\n",
        "    ]\n",
        "}\n",
        "\n",
        "new_prompts = await config.serialize(model, data, prompt_name=\"gen_packing_list\", params={\"location\": \"nyc\"})\n",
        "config.add_prompt(prompt_name=\"gen_packing_list\", prompt_data=new_prompts[0])"
      ]
    },
    {
      "cell_type": "code",
      "execution_count": 40,
      "metadata": {
        "colab": {
          "base_uri": "https://localhost:8080/"
        },
        "id": "O9b_n26SsSZt",
        "outputId": "0178d7ae-758e-4135-f452-75ee6ac19c41"
      },
      "outputs": [
        {
          "name": "stderr",
          "output_type": "stream",
          "text": [
            "INFO:my-logger:Callback called. event\n",
            ": name='on_run_start' file='aiconfig.Config' data={'prompt_name': 'gen_packing_list', 'params': None, 'options': <aiconfig.model_parser.InferenceOptions object at 0x78287ee520e0>, 'kwargs': {}} ts_ns=1701177332281242097\n",
            "INFO:my-logger:Callback called. event\n",
            ": name='on_run_start' file='aiconfig.default_parsers.openai' data={'prompt': Prompt(name='gen_packing_list', input='What should I bring to {{location}}?', metadata=PromptMetadata(model=ModelMetadata(name='gpt-3.5-turbo', settings={'system_prompt': {'role': 'system', 'content': 'You provide a bulleted list of items to pack for a week long trip.'}}), tags=None, parameters={'location': 'nyc'}, remember_chat_context=True), outputs=[]), 'options': <aiconfig.model_parser.InferenceOptions object at 0x78287ee520e0>, 'parameters': {}} ts_ns=1701177332281242097\n",
            "INFO:my-logger:Callback called. event\n",
            ": name='on_deserialize_start' file='aiconfig.default_parsers.openai' data={'prompt': Prompt(name='gen_packing_list', input='What should I bring to {{location}}?', metadata=PromptMetadata(model=ModelMetadata(name='gpt-3.5-turbo', settings={'system_prompt': {'role': 'system', 'content': 'You provide a bulleted list of items to pack for a week long trip.'}}), tags=None, parameters={'location': 'nyc'}, remember_chat_context=True), outputs=[]), 'params': {}} ts_ns=1701177332281242097\n",
            "INFO:my-logger:Callback called. event\n",
            ": name='on_deserialize_complete' file='aiconfig.default_parsers.openai' data={'output': {'model': 'gpt-3.5-turbo', 'top_p': 1, 'temperature': 1, 'messages': [{'content': 'You provide a bulleted list of items to pack for a week long trip.', 'role': 'system'}, {'content': 'Tell me 10 fun attractions to do in NYC.', 'role': 'user'}, {'content': '1. Visit the iconic Times Square and immerse yourself in the vibrant atmosphere.\\n2. Take a stroll through Central Park, rent a rowboat, or enjoy a picnic in this beautiful urban oasis.\\n3. Explore the world-famous Metropolitan Museum of Art (the Met) and admire its extensive collection spanning various eras and cultures.\\n4. Ascend to the Top of the Rock Observation Deck at Rockefeller Center for panoramic views of the city.\\n5. Enjoy a Broadway show and experience the excitement of live theater.\\n6. Visit the 9/11 Memorial & Museum to pay tribute to the victims of the World Trade Center attacks and learn about their stories.\\n7. Roam around the charming neighborhoods of SoHo and Greenwich Village, known for their unique boutiques, cafes, and art galleries.\\n8. Take a ferry to Governors Island and enjoy biking, picnicking, or simply relaxing in this peaceful retreat from the city hustle.\\n9. Discover the fascinating exhibits at the American Museum of Natural History, including the dinosaur fossils and the stunning Blue Whale model.\\n10. Indulge in culinary delights by exploring the diverse food scene of NYC, from trendy food halls to iconic pizza joints and Michelin-starred restaurants.', 'role': 'assistant'}, {'content': 'What should I bring to nyc?', 'role': 'user'}]}} ts_ns=1701177332281242097\n"
          ]
        },
        {
          "name": "stdout",
          "output_type": "stream",
          "text": [
            "Here's a list of items you should consider packing for your trip to NYC:\n",
            "\n",
            "1. Comfortable walking shoes: NYC is a city best explored on foot, so be sure to pack comfortable shoes for all the walking you'll be doing.\n",
            "2. Lightweight clothing: Depending on the season, pack layered clothing that can accommodate fluctuating temperatures. Summers can be hot and humid while winters can be cold and snowy.\n",
            "3. Weather-appropriate outerwear: Bring a waterproof jacket or umbrella, especially if you're visiting during the rainy season. In colder months, pack a warm coat, hat, and gloves.\n",
            "4. Daypack or tote bag: Carry a small bag to hold your personal items, snacks, water bottle, and any souvenirs you might pick up during the day.\n",
            "5. Portable phone charger: With all the sightseeing and navigating you'll be doing, it's important to ensure your phone stays charged throughout the day.\n",
            "6. Travel guide or map: Even with smartphones, having a physical map or guidebook can be handy for quick reference or if you lose cell service.\n",
            "7. Camera: Capture the memories of your NYC trip by bringing a camera or using your smartphone camera.\n",
            "8. Portable umbrella or raincoat: Prepare for unexpected rain showers by packing a small, portable umbrella or a lightweight raincoat.\n",
            "9. Hat and sunglasses: NYC is known for its sunny summers, so protect yourself from the sun by bringing a hat and sunglasses.\n",
            "10. Travel essentials: Don't forget to pack your travel documents, such as IDs, hotel confirmations, and any necessary tickets or reservations.\n",
            "\n",
            "Remember to check the weather forecast before your trip to ensure you're prepared for the specific conditions during your stay in NYC."
          ]
        },
        {
          "name": "stderr",
          "output_type": "stream",
          "text": [
            "INFO:my-logger:Callback called. event\n",
            ": name='on_run_complete' file='aiconfig.default_parsers.openai' data={'result': [ExecuteResult(output_type='execute_result', execution_count=0, data={'content': \"Here's a list of items you should consider packing for your trip to NYC:\\n\\n1. Comfortable walking shoes: NYC is a city best explored on foot, so be sure to pack comfortable shoes for all the walking you'll be doing.\\n2. Lightweight clothing: Depending on the season, pack layered clothing that can accommodate fluctuating temperatures. Summers can be hot and humid while winters can be cold and snowy.\\n3. Weather-appropriate outerwear: Bring a waterproof jacket or umbrella, especially if you're visiting during the rainy season. In colder months, pack a warm coat, hat, and gloves.\\n4. Daypack or tote bag: Carry a small bag to hold your personal items, snacks, water bottle, and any souvenirs you might pick up during the day.\\n5. Portable phone charger: With all the sightseeing and navigating you'll be doing, it's important to ensure your phone stays charged throughout the day.\\n6. Travel guide or map: Even with smartphones, having a physical map or guidebook can be handy for quick reference or if you lose cell service.\\n7. Camera: Capture the memories of your NYC trip by bringing a camera or using your smartphone camera.\\n8. Portable umbrella or raincoat: Prepare for unexpected rain showers by packing a small, portable umbrella or a lightweight raincoat.\\n9. Hat and sunglasses: NYC is known for its sunny summers, so protect yourself from the sun by bringing a hat and sunglasses.\\n10. Travel essentials: Don't forget to pack your travel documents, such as IDs, hotel confirmations, and any necessary tickets or reservations.\\n\\nRemember to check the weather forecast before your trip to ensure you're prepared for the specific conditions during your stay in NYC.\", 'role': 'assistant'}, mime_type=None, metadata={'finish_reason': 'stop'})]} ts_ns=1701177332281242097\n",
            "INFO:my-logger:Callback called. event\n",
            ": name='on_run_complete' file='aiconfig.Config' data={'result': [ExecuteResult(output_type='execute_result', execution_count=0, data={'content': \"Here's a list of items you should consider packing for your trip to NYC:\\n\\n1. Comfortable walking shoes: NYC is a city best explored on foot, so be sure to pack comfortable shoes for all the walking you'll be doing.\\n2. Lightweight clothing: Depending on the season, pack layered clothing that can accommodate fluctuating temperatures. Summers can be hot and humid while winters can be cold and snowy.\\n3. Weather-appropriate outerwear: Bring a waterproof jacket or umbrella, especially if you're visiting during the rainy season. In colder months, pack a warm coat, hat, and gloves.\\n4. Daypack or tote bag: Carry a small bag to hold your personal items, snacks, water bottle, and any souvenirs you might pick up during the day.\\n5. Portable phone charger: With all the sightseeing and navigating you'll be doing, it's important to ensure your phone stays charged throughout the day.\\n6. Travel guide or map: Even with smartphones, having a physical map or guidebook can be handy for quick reference or if you lose cell service.\\n7. Camera: Capture the memories of your NYC trip by bringing a camera or using your smartphone camera.\\n8. Portable umbrella or raincoat: Prepare for unexpected rain showers by packing a small, portable umbrella or a lightweight raincoat.\\n9. Hat and sunglasses: NYC is known for its sunny summers, so protect yourself from the sun by bringing a hat and sunglasses.\\n10. Travel essentials: Don't forget to pack your travel documents, such as IDs, hotel confirmations, and any necessary tickets or reservations.\\n\\nRemember to check the weather forecast before your trip to ensure you're prepared for the specific conditions during your stay in NYC.\", 'role': 'assistant'}, mime_type=None, metadata={'finish_reason': 'stop'})]} ts_ns=1701177332281242097\n"
          ]
        }
      ],
      "source": [
        "packing_list = await config.run(\"gen_packing_list\", params=None, options=inference_options)"
      ]
    },
    {
      "attachments": {},
      "cell_type": "markdown",
      "metadata": {
        "id": "q9deFcBK55yN"
      },
      "source": [
        "# 5. Save the AIConfig with outputs\n"
      ]
    },
    {
      "cell_type": "code",
      "execution_count": 37,
      "metadata": {
        "id": "9BR4-nGxSth7"
      },
      "outputs": [],
      "source": [
        "# Save the aiconfig to disk. and serialize outputs from the model run\n",
        "config.save('updated.aiconfig.json', include_outputs=True)"
      ]
    },
    {
      "attachments": {},
      "cell_type": "markdown",
      "metadata": {
        "id": "JLiElYyC6DB-"
      },
      "source": [
        "# 6. Open the AIConfig in AI Workbook Playground\n",
        "1. Download `updated.aiconfig.json`.\n",
        "2. Go to https://lastmileai.dev.\n",
        "3. Go to Workbooks page: https://lastmileai.dev/workbooks.\n",
        "4. Click dropdown '+New Workbook' and select 'Create from AIConfig'\n",
        "5. Upload `updated.aiconfig.json`.\n",
        "\n",
        "Try out the workbook playground here: [NYC Travel Workbook](https://lastmileai.dev/workbooks/clooqs3p200kkpe53u6n2rhr9)"
      ]
    },
    {
      "cell_type": "code",
      "execution_count": null,
      "metadata": {
        "id": "PLpVz4L56GIY"
      },
      "outputs": [],
      "source": []
    }
  ],
  "metadata": {
    "colab": {
      "provenance": []
    },
    "kernelspec": {
      "display_name": "Python 3",
      "name": "python3"
    },
    "language_info": {
      "codemirror_mode": {
        "name": "ipython",
        "version": 3
      },
      "file_extension": ".py",
      "mimetype": "text/x-python",
      "name": "python",
      "nbconvert_exporter": "python",
      "pygments_lexer": "ipython3",
      "version": "3.11.6"
    }
  },
  "nbformat": 4,
  "nbformat_minor": 0
}

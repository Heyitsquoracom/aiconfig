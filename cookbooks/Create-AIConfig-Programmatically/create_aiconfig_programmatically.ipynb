{
 "cells": [
  {
   "cell_type": "code",
   "execution_count": 1,
   "metadata": {},
   "outputs": [
    {
     "name": "stdout",
     "output_type": "stream",
     "text": [
      "Collecting python-aiconfig\n",
      "  Downloading python_aiconfig-1.0.6-py3-none-any.whl.metadata (4.0 kB)\n",
      "Requirement already satisfied: requests==2.30.0 in /opt/homebrew/Caskroom/miniconda/base/envs/teststuf/lib/python3.11/site-packages (from python-aiconfig) (2.30.0)\n",
      "Requirement already satisfied: black in /opt/homebrew/Caskroom/miniconda/base/envs/teststuf/lib/python3.11/site-packages (from python-aiconfig) (23.10.1)\n",
      "Requirement already satisfied: flake8 in /opt/homebrew/Caskroom/miniconda/base/envs/teststuf/lib/python3.11/site-packages (from python-aiconfig) (6.1.0)\n",
      "Requirement already satisfied: pytest in /opt/homebrew/Caskroom/miniconda/base/envs/teststuf/lib/python3.11/site-packages (from python-aiconfig) (7.4.3)\n",
      "Requirement already satisfied: pydantic>=2.1 in /opt/homebrew/Caskroom/miniconda/base/envs/teststuf/lib/python3.11/site-packages (from python-aiconfig) (2.4.2)\n",
      "Collecting pybars3 (from python-aiconfig)\n",
      "  Using cached pybars3-0.9.7-py3-none-any.whl\n",
      "Collecting google-generativeai (from python-aiconfig)\n",
      "  Using cached google_generativeai-0.2.2-py3-none-any.whl.metadata (3.1 kB)\n",
      "Requirement already satisfied: openai in /opt/homebrew/Caskroom/miniconda/base/envs/teststuf/lib/python3.11/site-packages (from python-aiconfig) (0.28.1)\n",
      "Requirement already satisfied: python-dotenv in /opt/homebrew/Caskroom/miniconda/base/envs/teststuf/lib/python3.11/site-packages (from python-aiconfig) (1.0.0)\n",
      "Collecting huggingface-hub (from python-aiconfig)\n",
      "  Downloading huggingface_hub-0.19.1-py3-none-any.whl.metadata (13 kB)\n",
      "Requirement already satisfied: charset-normalizer<4,>=2 in /opt/homebrew/Caskroom/miniconda/base/envs/teststuf/lib/python3.11/site-packages (from requests==2.30.0->python-aiconfig) (3.3.2)\n",
      "Requirement already satisfied: idna<4,>=2.5 in /opt/homebrew/Caskroom/miniconda/base/envs/teststuf/lib/python3.11/site-packages (from requests==2.30.0->python-aiconfig) (3.4)\n",
      "Requirement already satisfied: urllib3<3,>=1.21.1 in /opt/homebrew/Caskroom/miniconda/base/envs/teststuf/lib/python3.11/site-packages (from requests==2.30.0->python-aiconfig) (2.0.7)\n",
      "Requirement already satisfied: certifi>=2017.4.17 in /opt/homebrew/Caskroom/miniconda/base/envs/teststuf/lib/python3.11/site-packages (from requests==2.30.0->python-aiconfig) (2023.7.22)\n",
      "Requirement already satisfied: annotated-types>=0.4.0 in /opt/homebrew/Caskroom/miniconda/base/envs/teststuf/lib/python3.11/site-packages (from pydantic>=2.1->python-aiconfig) (0.6.0)\n",
      "Requirement already satisfied: pydantic-core==2.10.1 in /opt/homebrew/Caskroom/miniconda/base/envs/teststuf/lib/python3.11/site-packages (from pydantic>=2.1->python-aiconfig) (2.10.1)\n",
      "Requirement already satisfied: typing-extensions>=4.6.1 in /opt/homebrew/Caskroom/miniconda/base/envs/teststuf/lib/python3.11/site-packages (from pydantic>=2.1->python-aiconfig) (4.8.0)\n",
      "Requirement already satisfied: click>=8.0.0 in /opt/homebrew/Caskroom/miniconda/base/envs/teststuf/lib/python3.11/site-packages (from black->python-aiconfig) (8.1.7)\n",
      "Requirement already satisfied: mypy-extensions>=0.4.3 in /opt/homebrew/Caskroom/miniconda/base/envs/teststuf/lib/python3.11/site-packages (from black->python-aiconfig) (1.0.0)\n",
      "Requirement already satisfied: packaging>=22.0 in /opt/homebrew/Caskroom/miniconda/base/envs/teststuf/lib/python3.11/site-packages (from black->python-aiconfig) (23.2)\n",
      "Requirement already satisfied: pathspec>=0.9.0 in /opt/homebrew/Caskroom/miniconda/base/envs/teststuf/lib/python3.11/site-packages (from black->python-aiconfig) (0.11.2)\n",
      "Requirement already satisfied: platformdirs>=2 in /opt/homebrew/Caskroom/miniconda/base/envs/teststuf/lib/python3.11/site-packages (from black->python-aiconfig) (4.0.0)\n",
      "Requirement already satisfied: mccabe<0.8.0,>=0.7.0 in /opt/homebrew/Caskroom/miniconda/base/envs/teststuf/lib/python3.11/site-packages (from flake8->python-aiconfig) (0.7.0)\n",
      "Requirement already satisfied: pycodestyle<2.12.0,>=2.11.0 in /opt/homebrew/Caskroom/miniconda/base/envs/teststuf/lib/python3.11/site-packages (from flake8->python-aiconfig) (2.11.1)\n",
      "Requirement already satisfied: pyflakes<3.2.0,>=3.1.0 in /opt/homebrew/Caskroom/miniconda/base/envs/teststuf/lib/python3.11/site-packages (from flake8->python-aiconfig) (3.1.0)\n",
      "Collecting google-ai-generativelanguage==0.3.3 (from google-generativeai->python-aiconfig)\n",
      "  Using cached google_ai_generativelanguage-0.3.3-py3-none-any.whl.metadata (5.1 kB)\n",
      "Collecting google-auth (from google-generativeai->python-aiconfig)\n",
      "  Using cached google_auth-2.23.4-py2.py3-none-any.whl.metadata (4.7 kB)\n",
      "Collecting google-api-core (from google-generativeai->python-aiconfig)\n",
      "  Downloading google_api_core-2.14.0-py3-none-any.whl.metadata (2.6 kB)\n",
      "Collecting protobuf (from google-generativeai->python-aiconfig)\n",
      "  Using cached protobuf-4.25.0-cp37-abi3-macosx_10_9_universal2.whl.metadata (541 bytes)\n",
      "Requirement already satisfied: tqdm in /opt/homebrew/Caskroom/miniconda/base/envs/teststuf/lib/python3.11/site-packages (from google-generativeai->python-aiconfig) (4.66.1)\n",
      "Collecting proto-plus<2.0.0dev,>=1.22.0 (from google-ai-generativelanguage==0.3.3->google-generativeai->python-aiconfig)\n",
      "  Using cached proto_plus-1.22.3-py3-none-any.whl.metadata (2.2 kB)\n",
      "Collecting filelock (from huggingface-hub->python-aiconfig)\n",
      "  Using cached filelock-3.13.1-py3-none-any.whl.metadata (2.8 kB)\n",
      "Collecting fsspec>=2023.5.0 (from huggingface-hub->python-aiconfig)\n",
      "  Using cached fsspec-2023.10.0-py3-none-any.whl.metadata (6.8 kB)\n",
      "Requirement already satisfied: pyyaml>=5.1 in /opt/homebrew/Caskroom/miniconda/base/envs/teststuf/lib/python3.11/site-packages (from huggingface-hub->python-aiconfig) (6.0.1)\n",
      "Requirement already satisfied: aiohttp in /opt/homebrew/Caskroom/miniconda/base/envs/teststuf/lib/python3.11/site-packages (from openai->python-aiconfig) (3.8.6)\n",
      "Collecting PyMeta3>=0.5.1 (from pybars3->python-aiconfig)\n",
      "  Using cached PyMeta3-0.5.1-py3-none-any.whl\n",
      "Requirement already satisfied: iniconfig in /opt/homebrew/Caskroom/miniconda/base/envs/teststuf/lib/python3.11/site-packages (from pytest->python-aiconfig) (2.0.0)\n",
      "Requirement already satisfied: pluggy<2.0,>=0.12 in /opt/homebrew/Caskroom/miniconda/base/envs/teststuf/lib/python3.11/site-packages (from pytest->python-aiconfig) (1.3.0)\n",
      "Collecting googleapis-common-protos<2.0.dev0,>=1.56.2 (from google-api-core->google-generativeai->python-aiconfig)\n",
      "  Using cached googleapis_common_protos-1.61.0-py2.py3-none-any.whl.metadata (1.5 kB)\n",
      "Collecting cachetools<6.0,>=2.0.0 (from google-auth->google-generativeai->python-aiconfig)\n",
      "  Using cached cachetools-5.3.2-py3-none-any.whl.metadata (5.2 kB)\n",
      "Collecting pyasn1-modules>=0.2.1 (from google-auth->google-generativeai->python-aiconfig)\n",
      "  Using cached pyasn1_modules-0.3.0-py2.py3-none-any.whl (181 kB)\n",
      "Collecting rsa<5,>=3.1.4 (from google-auth->google-generativeai->python-aiconfig)\n",
      "  Using cached rsa-4.9-py3-none-any.whl (34 kB)\n",
      "Requirement already satisfied: attrs>=17.3.0 in /opt/homebrew/Caskroom/miniconda/base/envs/teststuf/lib/python3.11/site-packages (from aiohttp->openai->python-aiconfig) (23.1.0)\n",
      "Requirement already satisfied: multidict<7.0,>=4.5 in /opt/homebrew/Caskroom/miniconda/base/envs/teststuf/lib/python3.11/site-packages (from aiohttp->openai->python-aiconfig) (6.0.4)\n",
      "Requirement already satisfied: async-timeout<5.0,>=4.0.0a3 in /opt/homebrew/Caskroom/miniconda/base/envs/teststuf/lib/python3.11/site-packages (from aiohttp->openai->python-aiconfig) (4.0.3)\n",
      "Requirement already satisfied: yarl<2.0,>=1.0 in /opt/homebrew/Caskroom/miniconda/base/envs/teststuf/lib/python3.11/site-packages (from aiohttp->openai->python-aiconfig) (1.9.2)\n",
      "Requirement already satisfied: frozenlist>=1.1.1 in /opt/homebrew/Caskroom/miniconda/base/envs/teststuf/lib/python3.11/site-packages (from aiohttp->openai->python-aiconfig) (1.4.0)\n",
      "Requirement already satisfied: aiosignal>=1.1.2 in /opt/homebrew/Caskroom/miniconda/base/envs/teststuf/lib/python3.11/site-packages (from aiohttp->openai->python-aiconfig) (1.3.1)\n",
      "Collecting grpcio<2.0dev,>=1.33.2 (from google-api-core[grpc]!=2.0.*,!=2.1.*,!=2.10.*,!=2.2.*,!=2.3.*,!=2.4.*,!=2.5.*,!=2.6.*,!=2.7.*,!=2.8.*,!=2.9.*,<3.0.0dev,>=1.34.0->google-ai-generativelanguage==0.3.3->google-generativeai->python-aiconfig)\n",
      "  Using cached grpcio-1.59.2-cp311-cp311-macosx_10_10_universal2.whl.metadata (4.0 kB)\n",
      "Collecting grpcio-status<2.0.dev0,>=1.33.2 (from google-api-core[grpc]!=2.0.*,!=2.1.*,!=2.10.*,!=2.2.*,!=2.3.*,!=2.4.*,!=2.5.*,!=2.6.*,!=2.7.*,!=2.8.*,!=2.9.*,<3.0.0dev,>=1.34.0->google-ai-generativelanguage==0.3.3->google-generativeai->python-aiconfig)\n",
      "  Using cached grpcio_status-1.59.2-py3-none-any.whl.metadata (1.3 kB)\n",
      "Collecting pyasn1<0.6.0,>=0.4.6 (from pyasn1-modules>=0.2.1->google-auth->google-generativeai->python-aiconfig)\n",
      "  Using cached pyasn1-0.5.0-py2.py3-none-any.whl (83 kB)\n",
      "Downloading python_aiconfig-1.0.6-py3-none-any.whl (28 kB)\n",
      "Using cached google_generativeai-0.2.2-py3-none-any.whl (133 kB)\n",
      "Using cached google_ai_generativelanguage-0.3.3-py3-none-any.whl (267 kB)\n",
      "Downloading huggingface_hub-0.19.1-py3-none-any.whl (311 kB)\n",
      "\u001b[2K   \u001b[90m━━━━━━━━━━━━━━━━━━━━━━━━━━━━━━━━━━━━━━━━\u001b[0m \u001b[32m311.1/311.1 kB\u001b[0m \u001b[31m7.4 MB/s\u001b[0m eta \u001b[36m0:00:00\u001b[0m00:01\u001b[0m\n",
      "\u001b[?25hUsing cached fsspec-2023.10.0-py3-none-any.whl (166 kB)\n",
      "Downloading google_api_core-2.14.0-py3-none-any.whl (122 kB)\n",
      "\u001b[2K   \u001b[90m━━━━━━━━━━━━━━━━━━━━━━━━━━━━━━━━━━━━━━━━\u001b[0m \u001b[32m122.2/122.2 kB\u001b[0m \u001b[31m5.0 MB/s\u001b[0m eta \u001b[36m0:00:00\u001b[0m\n",
      "\u001b[?25hUsing cached google_auth-2.23.4-py2.py3-none-any.whl (183 kB)\n",
      "Using cached protobuf-4.25.0-cp37-abi3-macosx_10_9_universal2.whl (393 kB)\n",
      "Using cached filelock-3.13.1-py3-none-any.whl (11 kB)\n",
      "Using cached cachetools-5.3.2-py3-none-any.whl (9.3 kB)\n",
      "Using cached googleapis_common_protos-1.61.0-py2.py3-none-any.whl (230 kB)\n",
      "Using cached proto_plus-1.22.3-py3-none-any.whl (48 kB)\n",
      "Using cached grpcio-1.59.2-cp311-cp311-macosx_10_10_universal2.whl (9.5 MB)\n",
      "Using cached grpcio_status-1.59.2-py3-none-any.whl (14 kB)\n",
      "Installing collected packages: PyMeta3, pybars3, pyasn1, protobuf, grpcio, fsspec, filelock, cachetools, rsa, pyasn1-modules, proto-plus, huggingface-hub, googleapis-common-protos, grpcio-status, google-auth, google-api-core, google-ai-generativelanguage, google-generativeai, python-aiconfig\n",
      "Successfully installed PyMeta3-0.5.1 cachetools-5.3.2 filelock-3.13.1 fsspec-2023.10.0 google-ai-generativelanguage-0.3.3 google-api-core-2.14.0 google-auth-2.23.4 google-generativeai-0.2.2 googleapis-common-protos-1.61.0 grpcio-1.59.2 grpcio-status-1.59.2 huggingface-hub-0.19.1 proto-plus-1.22.3 protobuf-4.25.0 pyasn1-0.5.0 pyasn1-modules-0.3.0 pybars3-0.9.7 python-aiconfig-1.0.6 rsa-4.9\n",
      "Requirement already satisfied: openai==0.28.1 in /opt/homebrew/Caskroom/miniconda/base/envs/teststuf/lib/python3.11/site-packages (0.28.1)\n",
      "Requirement already satisfied: requests>=2.20 in /opt/homebrew/Caskroom/miniconda/base/envs/teststuf/lib/python3.11/site-packages (from openai==0.28.1) (2.30.0)\n",
      "Requirement already satisfied: tqdm in /opt/homebrew/Caskroom/miniconda/base/envs/teststuf/lib/python3.11/site-packages (from openai==0.28.1) (4.66.1)\n",
      "Requirement already satisfied: aiohttp in /opt/homebrew/Caskroom/miniconda/base/envs/teststuf/lib/python3.11/site-packages (from openai==0.28.1) (3.8.6)\n",
      "Requirement already satisfied: charset-normalizer<4,>=2 in /opt/homebrew/Caskroom/miniconda/base/envs/teststuf/lib/python3.11/site-packages (from requests>=2.20->openai==0.28.1) (3.3.2)\n",
      "Requirement already satisfied: idna<4,>=2.5 in /opt/homebrew/Caskroom/miniconda/base/envs/teststuf/lib/python3.11/site-packages (from requests>=2.20->openai==0.28.1) (3.4)\n",
      "Requirement already satisfied: urllib3<3,>=1.21.1 in /opt/homebrew/Caskroom/miniconda/base/envs/teststuf/lib/python3.11/site-packages (from requests>=2.20->openai==0.28.1) (2.0.7)\n",
      "Requirement already satisfied: certifi>=2017.4.17 in /opt/homebrew/Caskroom/miniconda/base/envs/teststuf/lib/python3.11/site-packages (from requests>=2.20->openai==0.28.1) (2023.7.22)\n",
      "Requirement already satisfied: attrs>=17.3.0 in /opt/homebrew/Caskroom/miniconda/base/envs/teststuf/lib/python3.11/site-packages (from aiohttp->openai==0.28.1) (23.1.0)\n",
      "Requirement already satisfied: multidict<7.0,>=4.5 in /opt/homebrew/Caskroom/miniconda/base/envs/teststuf/lib/python3.11/site-packages (from aiohttp->openai==0.28.1) (6.0.4)\n",
      "Requirement already satisfied: async-timeout<5.0,>=4.0.0a3 in /opt/homebrew/Caskroom/miniconda/base/envs/teststuf/lib/python3.11/site-packages (from aiohttp->openai==0.28.1) (4.0.3)\n",
      "Requirement already satisfied: yarl<2.0,>=1.0 in /opt/homebrew/Caskroom/miniconda/base/envs/teststuf/lib/python3.11/site-packages (from aiohttp->openai==0.28.1) (1.9.2)\n",
      "Requirement already satisfied: frozenlist>=1.1.1 in /opt/homebrew/Caskroom/miniconda/base/envs/teststuf/lib/python3.11/site-packages (from aiohttp->openai==0.28.1) (1.4.0)\n",
      "Requirement already satisfied: aiosignal>=1.1.2 in /opt/homebrew/Caskroom/miniconda/base/envs/teststuf/lib/python3.11/site-packages (from aiohttp->openai==0.28.1) (1.3.1)\n"
     ]
    }
   ],
   "source": [
    "!pip install python-aiconfig\n",
    "!pip install openai==0.28.1"
   ]
  },
  {
   "cell_type": "markdown",
   "metadata": {},
   "source": [
    "## Create an AIConfigRuntime instance"
   ]
  },
  {
   "cell_type": "code",
   "execution_count": 2,
   "metadata": {},
   "outputs": [
    {
     "name": "stderr",
     "output_type": "stream",
     "text": [
      "/opt/homebrew/Caskroom/miniconda/base/envs/teststuf/lib/python3.11/site-packages/pydantic/_internal/_fields.py:128: UserWarning: Field \"model_parsers\" has conflict with protected namespace \"model_\".\n",
      "\n",
      "You may be able to resolve this warning by setting `model_config['protected_namespaces'] = ()`.\n",
      "  warnings.warn(\n",
      "/opt/homebrew/Caskroom/miniconda/base/envs/teststuf/lib/python3.11/site-packages/tqdm/auto.py:21: TqdmWarning: IProgress not found. Please update jupyter and ipywidgets. See https://ipywidgets.readthedocs.io/en/stable/user_install.html\n",
      "  from .autonotebook import tqdm as notebook_tqdm\n"
     ]
    }
   ],
   "source": [
    "from aiconfig import AIConfigRuntime\n",
    "new_config = AIConfigRuntime.create(\"create_programmatically_demo\", \"This is a demo of creating a config programmatically\")"
   ]
  },
  {
   "cell_type": "markdown",
   "metadata": {},
   "source": [
    "## Serialize OpenAI settings  "
   ]
  },
  {
   "cell_type": "code",
   "execution_count": 5,
   "metadata": {},
   "outputs": [],
   "source": [
    "model = \"gpt-3.5-turbo\"\n",
    "data = {\n",
    "    \"model\": model,\n",
    "    \"messages\": [\n",
    "        {\n",
    "            \"role\": \"system\",\n",
    "            \"content\": \"Please reply as a sophisticated librarian the following questions about books.\"\n",
    "        },\n",
    "        {\n",
    "            \"role\": \"user\",\n",
    "            \"content\": \"I really enjoyed reading To Kill a Mockingbird, could you recommend me a book that is similar and tell me why?\"\n",
    "        }\n",
    "    ]\n",
    "}\n",
    "\n",
    "results = await new_config.serialize(model, data, \"results\")\n",
    "\n",
    "for i, prompt in enumerate(results):\n",
    "    new_config.add_prompt(f\"prompt_{i}\", prompt)\n",
    "\n",
    "new_config.save('programmatic.aiconfig.json')\n"
   ]
  },
  {
   "cell_type": "code",
   "execution_count": null,
   "metadata": {},
   "outputs": [],
   "source": []
  }
 ],
 "metadata": {
  "kernelspec": {
   "display_name": "teststuf",
   "language": "python",
   "name": "python3"
  },
  "language_info": {
   "codemirror_mode": {
    "name": "ipython",
    "version": 3
   },
   "file_extension": ".py",
   "mimetype": "text/x-python",
   "name": "python",
   "nbconvert_exporter": "python",
   "pygments_lexer": "ipython3",
   "version": "3.11.5"
  }
 },
 "nbformat": 4,
 "nbformat_minor": 2
}

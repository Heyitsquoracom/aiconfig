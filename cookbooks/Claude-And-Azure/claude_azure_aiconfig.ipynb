{
 "cells": [
  {
   "cell_type": "markdown",
   "metadata": {},
   "source": [
    "## Azure"
   ]
  },
  {
   "cell_type": "code",
   "execution_count": 1,
   "metadata": {},
   "outputs": [
    {
     "name": "stderr",
     "output_type": "stream",
     "text": [
      "/Users/rossdancraig/.pyenv/versions/3.11.6/lib/python3.11/site-packages/pydantic/_internal/_fields.py:128: UserWarning: Field \"model_parsers\" has conflict with protected namespace \"model_\".\n",
      "\n",
      "You may be able to resolve this warning by setting `model_config['protected_namespaces'] = ()`.\n",
      "  warnings.warn(\n"
     ]
    }
   ],
   "source": [
    "from aiconfig import AIConfigRuntime, AzureOpenAIParser\n",
    "# This deployment id is specific to LastMile!!\n",
    "azure_gpt_35 = AzureOpenAIParser(deployment=\"gpt-35-turbo\")\n",
    "from aiconfig import ModelParserRegistry\n",
    "ModelParserRegistry.register_model_parser(azure_gpt_35)"
   ]
  },
  {
   "cell_type": "code",
   "execution_count": 2,
   "metadata": {},
   "outputs": [
    {
     "data": {
      "text/plain": [
       "True"
      ]
     },
     "execution_count": 2,
     "metadata": {},
     "output_type": "execute_result"
    }
   ],
   "source": [
    "# You will need to initialize these env variables in a .env file\n",
    "# AZURE_OPENAI_KEY\n",
    "# AZURE_OPENAI_API_KEY\n",
    "# AZURE_OPENAI_ENDPOINT\n",
    "# OPENAI_API_VERSION: https://stackoverflow.com/questions/76475419/how-can-i-select-the-proper-openai-api-version\n",
    "import dotenv\n",
    "dotenv.load_dotenv()"
   ]
  },
  {
   "cell_type": "code",
   "execution_count": 5,
   "metadata": {},
   "outputs": [
    {
     "name": "stdout",
     "output_type": "stream",
     "text": [
      "Certainly! Here are a few ways to say \"duck\" in different languages:\n",
      "\n",
      "1. Spanish: Pato\n",
      "2. French: Canard\n",
      "3. German: Ente\n",
      "4. Italian: Anatra\n",
      "5. Portuguese: Pato\n",
      "6. Russian: Утка (Utká)\n",
      "7. Japanese: アヒル (Ahiru)\n",
      "8. Mandarin Chinese: 鸭子 (Yāzi)\n",
      "9. Arabic: بطة (Batta)\n",
      "10. Turkish: Ördek\n",
      "\n",
      "Feel free to practice pronouncing these words and explore more languages if you're interested!\n"
     ]
    }
   ],
   "source": [
    "aiconfig=AIConfigRuntime.load(\"./azure.aiconfig.json\")\n",
    "prompt_output = aiconfig.get_prompt(\"multilinguality\").outputs\n",
    "print(prompt_output[0].data)"
   ]
  },
  {
   "cell_type": "code",
   "execution_count": 4,
   "metadata": {},
   "outputs": [
    {
     "name": "stdout",
     "output_type": "stream",
     "text": [
      "Sure! Here are a few options for how to say \"duck\" in different languages:\n",
      "\n",
      "1. Spanish: Pato\n",
      "2. French: Canard\n",
      "3. German: Ente\n",
      "4. Italian: Anatra\n",
      "5. Russian: Утка (pronounced \"ootka\")\n",
      "6. Japanese: アヒル (pronounced \"ahiru\")\n",
      "7. Portuguese: Pato\n",
      "8. Chinese: 鸭 (pronounced \"yā\")\n",
      "9. Dutch: Eend\n",
      "10. Arabic: بطة (pronounced \"batah\")\n",
      "\n",
      "I hope you find these options helpful!"
     ]
    },
    {
     "data": {
      "text/plain": [
       "[ExecuteResult(output_type='execute_result', execution_count=0, data='Sure! Here are a few options for how to say \"duck\" in different languages:\\n\\n1. Spanish: Pato\\n2. French: Canard\\n3. German: Ente\\n4. Italian: Anatra\\n5. Russian: Утка (pronounced \"ootka\")\\n6. Japanese: アヒル (pronounced \"ahiru\")\\n7. Portuguese: Pato\\n8. Chinese: 鸭 (pronounced \"yā\")\\n9. Dutch: Eend\\n10. Arabic: بطة (pronounced \"batah\")\\n\\nI hope you find these options helpful!', mime_type=None, metadata={'id': 'chatcmpl-8n5flFGQDx8SveP2Cf5dtkL633sVG', 'created': 1706710569, 'model': 'gpt-35-turbo', 'object': 'chat.completion.chunk', 'raw_response': {'role': 'assistant', 'content': 'Sure! Here are a few options for how to say \"duck\" in different languages:\\n\\n1. Spanish: Pato\\n2. French: Canard\\n3. German: Ente\\n4. Italian: Anatra\\n5. Russian: Утка (pronounced \"ootka\")\\n6. Japanese: アヒル (pronounced \"ahiru\")\\n7. Portuguese: Pato\\n8. Chinese: 鸭 (pronounced \"yā\")\\n9. Dutch: Eend\\n10. Arabic: بطة (pronounced \"batah\")\\n\\nI hope you find these options helpful!'}, 'role': 'assistant'})]"
      ]
     },
     "execution_count": 4,
     "metadata": {},
     "output_type": "execute_result"
    }
   ],
   "source": [
    "# from aiconfig import InferenceOptions\n",
    "# options = InferenceOptions(stream_callback= lambda x,y,z: print(x.get(\"content\", \"\"), end=\"\"))\n",
    "# await aiconfig.run(prompt_name=\"multilinguality\", options=options)"
   ]
  },
  {
   "cell_type": "code",
   "execution_count": 16,
   "metadata": {},
   "outputs": [
    {
     "name": "stdout",
     "output_type": "stream",
     "text": [
      "Certainly! Here's a breakdown of the pronunciation for a couple of options:\n",
      "\n",
      "1. Spanish: Pato (pronounced: pah-toh)\n",
      "   - \"P\" is pronounced like in English.\n",
      "   - \"a\" is pronounced like the \"a\" in \"car.\"\n",
      "   - \"t\" is pronounced like in English, but with a softer \"t\" sound.\n",
      "\n",
      "2. French: Canard (pronounced: ka-nar)\n",
      "   - \"C\" is pronounced like a combination of \"k\" and \"s\" sounds.\n",
      "   - \"a\" is pronounced like the \"a\" in \"car.\"\n",
      "   - \"n\" is pronounced like in English, but with a nasal sound.\n",
      "   - \"r\" is pronounced with a slight roll of the tongue.\n",
      "\n",
      "3. German: Ente (pronounced: en-teh)\n",
      "   - \"E\" is pronounced like the \"e\" in \"pet.\"\n",
      "   - \"n\" is pronounced like in English, but with a nasal sound.\n",
      "   - \"t\" is pronounced like \"t\" in English.\n",
      "   - \"e\" at the end is pronounced like the \"a\" in \"make.\"\n",
      "\n",
      "Please note that pronunciations may vary slightly depending on dialects, accents, and individual speakers."
     ]
    },
    {
     "data": {
      "text/plain": [
       "[ExecuteResult(output_type='execute_result', execution_count=0, data='Certainly! Here\\'s a breakdown of the pronunciation for a couple of options:\\n\\n1. Spanish: Pato (pronounced: pah-toh)\\n   - \"P\" is pronounced like in English.\\n   - \"a\" is pronounced like the \"a\" in \"car.\"\\n   - \"t\" is pronounced like in English, but with a softer \"t\" sound.\\n\\n2. French: Canard (pronounced: ka-nar)\\n   - \"C\" is pronounced like a combination of \"k\" and \"s\" sounds.\\n   - \"a\" is pronounced like the \"a\" in \"car.\"\\n   - \"n\" is pronounced like in English, but with a nasal sound.\\n   - \"r\" is pronounced with a slight roll of the tongue.\\n\\n3. German: Ente (pronounced: en-teh)\\n   - \"E\" is pronounced like the \"e\" in \"pet.\"\\n   - \"n\" is pronounced like in English, but with a nasal sound.\\n   - \"t\" is pronounced like \"t\" in English.\\n   - \"e\" at the end is pronounced like the \"a\" in \"make.\"\\n\\nPlease note that pronunciations may vary slightly depending on dialects, accents, and individual speakers.', mime_type=None, metadata={'id': 'chatcmpl-8mVXzNe3u69tsx0HU2rqdreCFEbhg', 'created': 1706571703, 'model': 'gpt-35-turbo', 'object': 'chat.completion.chunk', 'raw_response': {'role': 'assistant', 'content': 'Certainly! Here\\'s a breakdown of the pronunciation for a couple of options:\\n\\n1. Spanish: Pato (pronounced: pah-toh)\\n   - \"P\" is pronounced like in English.\\n   - \"a\" is pronounced like the \"a\" in \"car.\"\\n   - \"t\" is pronounced like in English, but with a softer \"t\" sound.\\n\\n2. French: Canard (pronounced: ka-nar)\\n   - \"C\" is pronounced like a combination of \"k\" and \"s\" sounds.\\n   - \"a\" is pronounced like the \"a\" in \"car.\"\\n   - \"n\" is pronounced like in English, but with a nasal sound.\\n   - \"r\" is pronounced with a slight roll of the tongue.\\n\\n3. German: Ente (pronounced: en-teh)\\n   - \"E\" is pronounced like the \"e\" in \"pet.\"\\n   - \"n\" is pronounced like in English, but with a nasal sound.\\n   - \"t\" is pronounced like \"t\" in English.\\n   - \"e\" at the end is pronounced like the \"a\" in \"make.\"\\n\\nPlease note that pronunciations may vary slightly depending on dialects, accents, and individual speakers.'}, 'role': 'assistant'})]"
      ]
     },
     "execution_count": 16,
     "metadata": {},
     "output_type": "execute_result"
    }
   ],
   "source": [
    "from aiconfig import InferenceOptions\n",
    "options = InferenceOptions(stream_callback= lambda x,y,z: print(x.get(\"content\", \"\"), end=\"\"))\n",
    "await aiconfig.run(prompt_name=\"pronounciation\", options=options)"
   ]
  },
  {
   "cell_type": "markdown",
   "metadata": {},
   "source": [
    "## Claude"
   ]
  },
  {
   "cell_type": "code",
   "execution_count": 3,
   "metadata": {},
   "outputs": [],
   "source": [
    "from aiconfig import AIConfigRuntime, AzureOpenAIParser\n",
    "config = {\n",
    "    \"name\": \"Exploring azure openai\",\n",
    "    \"schema_version\": \"latest\",\n",
    "    \"metadata\": {\n",
    "        \"parameters\": {},\n",
    "        \"models\": {\n",
    "            \"claudev2:1\": {\n",
    "                \"model\": \"anthropic.claude-v2:1\",\n",
    "                \"max_tokens_to_sample\": 1000\n",
    "            }\n",
    "        },\n",
    "        \"model_parsers\": {\n",
    "            \"claudev2:1\": \"ClaudeBedrockModelParser\"\n",
    "        }\n",
    "    },\n",
    "    \"description\": \"\",\n",
    "    \"prompts\": [\n",
    "        {\n",
    "            \"name\": \"multilinguality\",\n",
    "            \"input\": \"Can you teach me how to say duck in a different language? And, give me a few options.\",\n",
    "            \"metadata\": {\n",
    "                \"model\": \"claudev2:1\",\n",
    "                \"parameters\": {},\n",
    "                \"remember_chat_context\": True\n",
    "            },\n",
    "            \"outputs\": []\n",
    "        },\n",
    "        {\n",
    "            \"name\": \"pronounciation\",\n",
    "            \"input\": \"Can you explain how to pronounce the {{language}} one?\",\n",
    "            \"metadata\": {\n",
    "                \"model\": \"claudev2:1\",\n",
    "                \"parameters\": {},\n",
    "                \"remember_chat_context\": True\n",
    "            },\n",
    "            \"outputs\": []\n",
    "        }\n",
    "    ]\n",
    "}\n",
    "aiconfig=AIConfigRuntime.create(**config)"
   ]
  },
  {
   "cell_type": "code",
   "execution_count": 5,
   "metadata": {},
   "outputs": [
    {
     "name": "stdout",
     "output_type": "stream",
     "text": [
      " Here are some ways to say duck in other languages:\n",
      "\n",
      "Spanish: pato\n",
      "French: canard \n",
      "German: Ente\n",
      "Italian: anatra\n",
      "Portuguese: pato\n",
      "Russian: утка (utka)\n",
      "Japanese: アハズ (ahazu)\n",
      "Chinese (Mandarin): 鸭子 (yāzi)\n",
      "Korean: 오리 (ori)\n",
      "\n",
      "I tried to provide a selection of languages for you. Let me know if you'd like me to translate duck into any other languages as examples!"
     ]
    },
    {
     "data": {
      "text/plain": [
       "[ExecuteResult(output_type='execute_result', execution_count=0, data=\" Here are some ways to say duck in other languages:\\n\\nSpanish: pato\\nFrench: canard \\nGerman: Ente\\nItalian: anatra\\nPortuguese: pato\\nRussian: утка (utka)\\nJapanese: アハズ (ahazu)\\nChinese (Mandarin): 鸭子 (yāzi)\\nKorean: 오리 (ori)\\n\\nI tried to provide a selection of languages for you. Let me know if you'd like me to translate duck into any other languages as examples!\", mime_type=None, metadata={})]"
      ]
     },
     "execution_count": 5,
     "metadata": {},
     "output_type": "execute_result"
    }
   ],
   "source": [
    "from aiconfig import InferenceOptions\n",
    "def stream_callback (data, _accumulated_data, _index):\n",
    "    print(data, end=\"\")\n",
    "options = InferenceOptions(stream_callback=stream_callback)\n",
    "await aiconfig.run(prompt_name=\"multilinguality\", options=options)"
   ]
  }
 ],
 "metadata": {
  "kernelspec": {
   "display_name": "Python 3",
   "language": "python",
   "name": "python3"
  },
  "language_info": {
   "codemirror_mode": {
    "name": "ipython",
    "version": 3
   },
   "file_extension": ".py",
   "mimetype": "text/x-python",
   "name": "python",
   "nbconvert_exporter": "python",
   "pygments_lexer": "ipython3",
   "version": "3.11.6"
  }
 },
 "nbformat": 4,
 "nbformat_minor": 2
}

{
 "cells": [
  {
   "cell_type": "code",
   "execution_count": 1,
   "metadata": {},
   "outputs": [
    {
     "name": "stderr",
     "output_type": "stream",
     "text": [
      "/opt/homebrew/lib/python3.11/site-packages/pydantic/_internal/_fields.py:128: UserWarning: Field \"model_parsers\" has conflict with protected namespace \"model_\".\n",
      "\n",
      "You may be able to resolve this warning by setting `model_config['protected_namespaces'] = ()`.\n",
      "  warnings.warn(\n"
     ]
    }
   ],
   "source": [
    "from aiconfig import AIConfigRuntime, AzureOpenAIParser\n",
    "# This deployment id is specific to LastMile!!\n",
    "azure_gpt_35 = AzureOpenAIParser(deployment=\"gpt-35-turbo\")\n",
    "from aiconfig import ModelParserRegistry\n",
    "ModelParserRegistry.register_model_parser(azure_gpt_35)\n"
   ]
  },
  {
   "cell_type": "code",
   "execution_count": 7,
   "metadata": {},
   "outputs": [],
   "source": [
    "config = {\n",
    "  \"name\": \"Exploring azure openai\",\n",
    "  \"schema_version\": \"latest\",\n",
    "  \"metadata\": {\n",
    "    \"parameters\": {},\n",
    "    \"models\": {\n",
    "    },\n",
    "    \"model_parsers\": {\"gpt-35-turbo\": \"gpt-35-turbo\"}\n",
    "  },\n",
    "  \"description\": \"\",\n",
    "  \"prompts\": [\n",
    "    {\n",
    "      \"name\": \"multilinguality\",\n",
    "      \"input\": \"Can you teach me how to say duck in a different language? And, give me a few options.\",\n",
    "      \"metadata\": {\n",
    "        \"model\": \"gpt-35-turbo\",\n",
    "        \"parameters\": {},\n",
    "        \"remember_chat_context\": True\n",
    "      },\n",
    "      \"outputs\": []\n",
    "    },\n",
    "    {\n",
    "      \"name\": \"pronounciation\",\n",
    "      \"input\": \"Can you explain how to pronounce the {{language}} one?\",\n",
    "      \"metadata\": {\n",
    "        \"model\": \"gpt-35-turbo\",\n",
    "        \"parameters\": {},\n",
    "        \"remember_chat_context\": True\n",
    "      },\n",
    "      \"outputs\": []\n",
    "    }\n",
    "  ]\n",
    "}\n",
    "aiconfig=AIConfigRuntime.create(**config)"
   ]
  },
  {
   "cell_type": "code",
   "execution_count": 14,
   "metadata": {},
   "outputs": [
    {
     "name": "stdout",
     "output_type": "stream",
     "text": [
      "Of course! Here are a few translations of the word \"duck\" in different languages:\n",
      "\n",
      "1. Spanish: Pato\n",
      "2. French: Canard\n",
      "3. German: Ente\n",
      "4. Italian: Anatra\n",
      "5. Japanese: アヒル (ahiru)\n",
      "6. Russian: Утка (utka)\n",
      "7. Portuguese: Pato\n",
      "8. Dutch: Eend\n",
      "9. Chinese: 鸭子 (yāzi)\n",
      "10. Arabic: بطة (batta)\n",
      "\n",
      "I hope you find these translations helpful!"
     ]
    },
    {
     "data": {
      "text/plain": [
       "[ExecuteResult(output_type='execute_result', execution_count=0, data='Of course! Here are a few translations of the word \"duck\" in different languages:\\n\\n1. Spanish: Pato\\n2. French: Canard\\n3. German: Ente\\n4. Italian: Anatra\\n5. Japanese: アヒル (ahiru)\\n6. Russian: Утка (utka)\\n7. Portuguese: Pato\\n8. Dutch: Eend\\n9. Chinese: 鸭子 (yāzi)\\n10. Arabic: بطة (batta)\\n\\nI hope you find these translations helpful!', mime_type=None, metadata={'id': 'chatcmpl-8mVXiwseY3kRJ15NMFsg9FFTGTCEP', 'created': 1706571686, 'model': 'gpt-35-turbo', 'object': 'chat.completion.chunk', 'raw_response': {'role': 'assistant', 'content': 'Of course! Here are a few translations of the word \"duck\" in different languages:\\n\\n1. Spanish: Pato\\n2. French: Canard\\n3. German: Ente\\n4. Italian: Anatra\\n5. Japanese: アヒル (ahiru)\\n6. Russian: Утка (utka)\\n7. Portuguese: Pato\\n8. Dutch: Eend\\n9. Chinese: 鸭子 (yāzi)\\n10. Arabic: بطة (batta)\\n\\nI hope you find these translations helpful!'}, 'role': 'assistant'})]"
      ]
     },
     "execution_count": 14,
     "metadata": {},
     "output_type": "execute_result"
    }
   ],
   "source": [
    "from aiconfig import InferenceOptions\n",
    "options = InferenceOptions(stream_callback= lambda x,y,z: print(x.get(\"content\", \"\"), end=\"\"))\n",
    "await aiconfig.run(prompt_name=\"multilinguality\", options=options)"
   ]
  },
  {
   "cell_type": "code",
   "execution_count": 16,
   "metadata": {},
   "outputs": [
    {
     "name": "stdout",
     "output_type": "stream",
     "text": [
      "Certainly! Here's a breakdown of the pronunciation for a couple of options:\n",
      "\n",
      "1. Spanish: Pato (pronounced: pah-toh)\n",
      "   - \"P\" is pronounced like in English.\n",
      "   - \"a\" is pronounced like the \"a\" in \"car.\"\n",
      "   - \"t\" is pronounced like in English, but with a softer \"t\" sound.\n",
      "\n",
      "2. French: Canard (pronounced: ka-nar)\n",
      "   - \"C\" is pronounced like a combination of \"k\" and \"s\" sounds.\n",
      "   - \"a\" is pronounced like the \"a\" in \"car.\"\n",
      "   - \"n\" is pronounced like in English, but with a nasal sound.\n",
      "   - \"r\" is pronounced with a slight roll of the tongue.\n",
      "\n",
      "3. German: Ente (pronounced: en-teh)\n",
      "   - \"E\" is pronounced like the \"e\" in \"pet.\"\n",
      "   - \"n\" is pronounced like in English, but with a nasal sound.\n",
      "   - \"t\" is pronounced like \"t\" in English.\n",
      "   - \"e\" at the end is pronounced like the \"a\" in \"make.\"\n",
      "\n",
      "Please note that pronunciations may vary slightly depending on dialects, accents, and individual speakers."
     ]
    },
    {
     "data": {
      "text/plain": [
       "[ExecuteResult(output_type='execute_result', execution_count=0, data='Certainly! Here\\'s a breakdown of the pronunciation for a couple of options:\\n\\n1. Spanish: Pato (pronounced: pah-toh)\\n   - \"P\" is pronounced like in English.\\n   - \"a\" is pronounced like the \"a\" in \"car.\"\\n   - \"t\" is pronounced like in English, but with a softer \"t\" sound.\\n\\n2. French: Canard (pronounced: ka-nar)\\n   - \"C\" is pronounced like a combination of \"k\" and \"s\" sounds.\\n   - \"a\" is pronounced like the \"a\" in \"car.\"\\n   - \"n\" is pronounced like in English, but with a nasal sound.\\n   - \"r\" is pronounced with a slight roll of the tongue.\\n\\n3. German: Ente (pronounced: en-teh)\\n   - \"E\" is pronounced like the \"e\" in \"pet.\"\\n   - \"n\" is pronounced like in English, but with a nasal sound.\\n   - \"t\" is pronounced like \"t\" in English.\\n   - \"e\" at the end is pronounced like the \"a\" in \"make.\"\\n\\nPlease note that pronunciations may vary slightly depending on dialects, accents, and individual speakers.', mime_type=None, metadata={'id': 'chatcmpl-8mVXzNe3u69tsx0HU2rqdreCFEbhg', 'created': 1706571703, 'model': 'gpt-35-turbo', 'object': 'chat.completion.chunk', 'raw_response': {'role': 'assistant', 'content': 'Certainly! Here\\'s a breakdown of the pronunciation for a couple of options:\\n\\n1. Spanish: Pato (pronounced: pah-toh)\\n   - \"P\" is pronounced like in English.\\n   - \"a\" is pronounced like the \"a\" in \"car.\"\\n   - \"t\" is pronounced like in English, but with a softer \"t\" sound.\\n\\n2. French: Canard (pronounced: ka-nar)\\n   - \"C\" is pronounced like a combination of \"k\" and \"s\" sounds.\\n   - \"a\" is pronounced like the \"a\" in \"car.\"\\n   - \"n\" is pronounced like in English, but with a nasal sound.\\n   - \"r\" is pronounced with a slight roll of the tongue.\\n\\n3. German: Ente (pronounced: en-teh)\\n   - \"E\" is pronounced like the \"e\" in \"pet.\"\\n   - \"n\" is pronounced like in English, but with a nasal sound.\\n   - \"t\" is pronounced like \"t\" in English.\\n   - \"e\" at the end is pronounced like the \"a\" in \"make.\"\\n\\nPlease note that pronunciations may vary slightly depending on dialects, accents, and individual speakers.'}, 'role': 'assistant'})]"
      ]
     },
     "execution_count": 16,
     "metadata": {},
     "output_type": "execute_result"
    }
   ],
   "source": [
    "from aiconfig import InferenceOptions\n",
    "options = InferenceOptions(stream_callback= lambda x,y,z: print(x.get(\"content\", \"\"), end=\"\"))\n",
    "await aiconfig.run(prompt_name=\"pronounciation\", options=options)"
   ]
  },
  {
   "cell_type": "markdown",
   "metadata": {},
   "source": [
    "## Claude"
   ]
  },
  {
   "cell_type": "code",
   "execution_count": 4,
   "metadata": {},
   "outputs": [],
   "source": [
    "from aiconfig import AIConfigRuntime, AzureOpenAIParser\n",
    "config = {\n",
    "    \"name\": \"Exploring azure openai\",\n",
    "    \"schema_version\": \"latest\",\n",
    "    \"metadata\": {\n",
    "        \"parameters\": {},\n",
    "        \"models\": {\n",
    "            \"claudev2:1\": {\n",
    "                \"model\": \"anthropic.claude-v2:1\",\n",
    "                \"max_tokens_to_sample\": 1000\n",
    "            }\n",
    "        },\n",
    "        \"model_parsers\": {\n",
    "            \"claudev2:1\": \"ClaudeBedrockModelParser\"\n",
    "        }\n",
    "    },\n",
    "    \"description\": \"\",\n",
    "    \"prompts\": [\n",
    "        {\n",
    "            \"name\": \"multilinguality\",\n",
    "            \"input\": \"Can you teach me how to say duck in a different language? And, give me a few options.\",\n",
    "            \"metadata\": {\n",
    "                \"model\": \"claudev2:1\",\n",
    "                \"parameters\": {},\n",
    "                \"remember_chat_context\": True\n",
    "            },\n",
    "            \"outputs\": []\n",
    "        },\n",
    "        {\n",
    "            \"name\": \"pronounciation\",\n",
    "            \"input\": \"Can you explain how to pronounce the {{language}} one?\",\n",
    "            \"metadata\": {\n",
    "                \"model\": \"claudev2:1\",\n",
    "                \"parameters\": {},\n",
    "                \"remember_chat_context\": True\n",
    "            },\n",
    "            \"outputs\": []\n",
    "        }\n",
    "    ]\n",
    "}\n",
    "aiconfig=AIConfigRuntime.create(**config)"
   ]
  },
  {
   "cell_type": "code",
   "execution_count": 7,
   "metadata": {},
   "outputs": [
    {
     "name": "stdout",
     "output_type": "stream",
     "text": [
      " Here\n",
      " are some ways to say\n",
      " \"duck\n",
      "\" in other languages:\n",
      "\n",
      "Spanish:\n",
      " pato\n",
      "French: canard\n",
      " \n",
      "German: Ente\n",
      "Italian\n",
      ": anatra\n",
      "Russian:\n",
      " утка\n",
      " (utka)\n",
      "Japanese: \n",
      "アハッ\n",
      " (ahir\n",
      "u)\n",
      "Mandarin\n",
      " Chinese: 鸭子 (y\n",
      "āzi)\n",
      "Korean:\n",
      " 오리 (ori)\n",
      "Portuguese:\n",
      " pato\n",
      "\n",
      "I tried to\n",
      " provide a selection of commonly\n",
      " spoken languages from different\n",
      " language families. Hopefully\n",
      " this gives you\n",
      " a good starting point\n",
      " to learn how to say duck in multiple languages\n",
      "! Let me know if you'd like\n",
      " me to translate duck into any other\n",
      " specific languages.\n"
     ]
    },
    {
     "data": {
      "text/plain": [
       "[ExecuteResult(output_type='execute_result', execution_count=0, data=' Here are some ways to say \"duck\" in other languages:\\n\\nSpanish: pato\\nFrench: canard \\nGerman: Ente\\nItalian: anatra\\nRussian: утка (utka)\\nJapanese: アハッ (ahiru)\\nMandarin Chinese: 鸭子 (yāzi)\\nKorean: 오리 (ori)\\nPortuguese: pato\\n\\nI tried to provide a selection of commonly spoken languages from different language families. Hopefully this gives you a good starting point to learn how to say duck in multiple languages! Let me know if you\\'d like me to translate duck into any other specific languages.', mime_type=None, metadata={})]"
      ]
     },
     "execution_count": 7,
     "metadata": {},
     "output_type": "execute_result"
    }
   ],
   "source": [
    "from aiconfig import InferenceOptions\n",
    "options = InferenceOptions(stream_callback= lambda x,y,z: print(x), end=\"\")\n",
    "await aiconfig.run(prompt_name=\"multilinguality\", options=options)"
   ]
  },
  {
   "cell_type": "code",
   "execution_count": null,
   "metadata": {},
   "outputs": [],
   "source": []
  }
 ],
 "metadata": {
  "language_info": {
   "name": "python"
  }
 },
 "nbformat": 4,
 "nbformat_minor": 2
}

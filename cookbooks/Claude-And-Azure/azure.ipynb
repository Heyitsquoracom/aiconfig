{
 "cells": [
  {
   "cell_type": "markdown",
   "metadata": {},
   "source": [
    "## Azure"
   ]
  },
  {
   "cell_type": "code",
   "execution_count": 8,
   "metadata": {},
   "outputs": [],
   "source": [
    "from aiconfig import AIConfigRuntime, AzureOpenAIParser\n",
    "# This deployment id is specific to LastMile!!\n",
    "azure_gpt_35 = AzureOpenAIParser(deployment=\"gpt-35-turbo\")\n",
    "from aiconfig import ModelParserRegistry\n",
    "ModelParserRegistry.register_model_parser(azure_gpt_35)"
   ]
  },
  {
   "cell_type": "code",
   "execution_count": 9,
   "metadata": {},
   "outputs": [
    {
     "data": {
      "text/plain": [
       "True"
      ]
     },
     "execution_count": 9,
     "metadata": {},
     "output_type": "execute_result"
    }
   ],
   "source": [
    "# You will need to initialize these env variables in a .env file\n",
    "# AZURE_OPENAI_KEY\n",
    "# AZURE_OPENAI_API_KEY\n",
    "# AZURE_OPENAI_ENDPOINT\n",
    "# OPENAI_API_VERSION: https://stackoverflow.com/questions/76475419/how-can-i-select-the-proper-openai-api-version\n",
    "import dotenv\n",
    "dotenv.load_dotenv()"
   ]
  },
  {
   "cell_type": "code",
   "execution_count": 10,
   "metadata": {},
   "outputs": [
    {
     "name": "stdout",
     "output_type": "stream",
     "text": [
      "Certainly! Here are a few ways to say \"duck\" in different languages:\n",
      "\n",
      "1. Spanish: Pato\n",
      "2. French: Canard\n",
      "3. German: Ente\n",
      "4. Italian: Anatra\n",
      "5. Portuguese: Pato\n",
      "6. Russian: Утка (Utka)\n",
      "7. Japanese: 鴨 (Kamo)\n",
      "8. Chinese (Mandarin): 鸭 (Yā)\n",
      "9. Hindi: बतख (Batak)\n",
      "10. Korean: 오리 (Ori)\n"
     ]
    }
   ],
   "source": [
    "aiconfig=AIConfigRuntime.load(\"./azure.aiconfig.json\")\n",
    "prompt_output = aiconfig.get_prompt(\"multilinguality\").outputs\n",
    "if prompt_output:\n",
    "    print(prompt_output[0].data)\n",
    "else:\n",
    "    print(\"No outputs yet!\")"
   ]
  },
  {
   "cell_type": "code",
   "execution_count": 4,
   "metadata": {},
   "outputs": [
    {
     "name": "stdout",
     "output_type": "stream",
     "text": [
      "Sure! Here are a few options for how to say \"duck\" in different languages:\n",
      "\n",
      "1. Spanish: Pato\n",
      "2. French: Canard\n",
      "3. German: Ente\n",
      "4. Italian: Anatra\n",
      "5. Russian: Утка (pronounced \"ootka\")\n",
      "6. Japanese: アヒル (pronounced \"ahiru\")\n",
      "7. Portuguese: Pato\n",
      "8. Chinese: 鸭 (pronounced \"yā\")\n",
      "9. Dutch: Eend\n",
      "10. Arabic: بطة (pronounced \"batah\")\n",
      "\n",
      "I hope you find these options helpful!"
     ]
    },
    {
     "data": {
      "text/plain": [
       "[ExecuteResult(output_type='execute_result', execution_count=0, data='Sure! Here are a few options for how to say \"duck\" in different languages:\\n\\n1. Spanish: Pato\\n2. French: Canard\\n3. German: Ente\\n4. Italian: Anatra\\n5. Russian: Утка (pronounced \"ootka\")\\n6. Japanese: アヒル (pronounced \"ahiru\")\\n7. Portuguese: Pato\\n8. Chinese: 鸭 (pronounced \"yā\")\\n9. Dutch: Eend\\n10. Arabic: بطة (pronounced \"batah\")\\n\\nI hope you find these options helpful!', mime_type=None, metadata={'id': 'chatcmpl-8n5flFGQDx8SveP2Cf5dtkL633sVG', 'created': 1706710569, 'model': 'gpt-35-turbo', 'object': 'chat.completion.chunk', 'raw_response': {'role': 'assistant', 'content': 'Sure! Here are a few options for how to say \"duck\" in different languages:\\n\\n1. Spanish: Pato\\n2. French: Canard\\n3. German: Ente\\n4. Italian: Anatra\\n5. Russian: Утка (pronounced \"ootka\")\\n6. Japanese: アヒル (pronounced \"ahiru\")\\n7. Portuguese: Pato\\n8. Chinese: 鸭 (pronounced \"yā\")\\n9. Dutch: Eend\\n10. Arabic: بطة (pronounced \"batah\")\\n\\nI hope you find these options helpful!'}, 'role': 'assistant'})]"
      ]
     },
     "execution_count": 4,
     "metadata": {},
     "output_type": "execute_result"
    }
   ],
   "source": [
    "# from aiconfig import InferenceOptions\n",
    "# options = InferenceOptions(stream_callback= lambda x,y,z: print(x.get(\"content\", \"\"), end=\"\"))\n",
    "# await aiconfig.run(prompt_name=\"multilinguality\", options=options)"
   ]
  },
  {
   "cell_type": "code",
   "execution_count": 11,
   "metadata": {},
   "outputs": [
    {
     "name": "stdout",
     "output_type": "stream",
     "text": [
      "Sure! In Chinese, the word for \"horse\" is 马 (mǎ). Additionally, here are a few other options you can use to refer to a horse:\n",
      "\n",
      "1. 马匹 (mǎ pǐ)\n",
      "2. 骏马 (jùn mǎ)\n",
      "3. 马儿 (mǎ ér)\n",
      "4. 马驹 (mǎ jū)\n",
      "5. 马驴 (mǎ lǘ)\n",
      "\n",
      "Note that the most commonly used term is simply 马 (mǎ).Sure! To say \"dog\" in Chinese, you can use the word \"狗\" (gǒu). However, depending on the context or dialect, there are a few different options you can use:\n",
      "\n",
      "1. 狗 (gǒu) - This is the general term for \"dog\" and is commonly used in Mandarin Chinese.\n",
      "2. 狗狗 (gǒu gǒu) - This is a more affectionate way of referring to a dog. It is similar to saying \"doggy\" in English.\n",
      "3. 小狗 (xiǎo gǒu) - This means \"puppy\" or \"little dog.\" It is used to refer to young or small-sized dogs.\n",
      "4. 犬 (quǎn) - This term is more formal and literary. It is often used in written Chinese or in certain professional contexts.\n",
      "\n",
      "Remember, these terms may vary slightly in different Chinese dialects, so it's always a good idea to check with locals if you're in a specific region.Sure! The word for \"cat\" in Chinese is \"猫\" (māo). Here are a few other options:\n",
      "\n",
      "1. 貓咪 (māo​mī) - This is a more colloquial term for \"cat\" in Chinese.\n",
      "2. 小猫 (xiǎo māo) - This literally translates to \"little cat\" and is commonly used to refer to kittens.\n",
      "3. 猫儿 (māo er) - This is another informal term for \"cat\" in Chinese. It is often used in a poetic or endearing context.\n",
      "\n",
      "All these options can be used interchangeably to refer to a cat in Chinese.Sure! In Chinese, the word for bird is \"鸟\" (niǎo). Here are a few alternative options to say bird in Chinese:\n",
      "\n",
      "1. 小鸟 (xiǎo niǎo) - literally meaning \"little bird\"\n",
      "2. 飞鸟 (fēi niǎo) - literally meaning \"flying bird\"\n",
      "3. 鸟类 (niǎo lèi) - a general term for \"birds\" as a category\n",
      "4. 鸟儿 (niǎo er) - a colloquial way to say \"bird\"\n",
      "\n",
      "I hope this helps!"
     ]
    }
   ],
   "source": [
    "from aiconfig import InferenceOptions\n",
    "options = InferenceOptions(stream_callback= lambda x,y,z: print(x.get(\"content\", \"\"), end=\"\"))\n",
    "animals = [\"horse\", \"dog\", \"cat\", \"bird\"]\n",
    "for animal in animals:\n",
    "    await aiconfig.run(prompt_name=\"multilinguality\", params={\"animal\": animal}, options=options)"
   ]
  }
 ],
 "metadata": {
  "kernelspec": {
   "display_name": "Python 3",
   "language": "python",
   "name": "python3"
  },
  "language_info": {
   "codemirror_mode": {
    "name": "ipython",
    "version": 3
   },
   "file_extension": ".py",
   "mimetype": "text/x-python",
   "name": "python",
   "nbconvert_exporter": "python",
   "pygments_lexer": "ipython3",
   "version": "3.11.6"
  }
 },
 "nbformat": 4,
 "nbformat_minor": 2
}

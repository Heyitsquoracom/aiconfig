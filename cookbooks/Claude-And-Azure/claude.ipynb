{
 "cells": [
  {
   "cell_type": "markdown",
   "metadata": {},
   "source": [
    "## Claude"
   ]
  },
  {
   "cell_type": "code",
   "execution_count": 1,
   "metadata": {},
   "outputs": [
    {
     "name": "stderr",
     "output_type": "stream",
     "text": [
      "/Users/rossdancraig/.pyenv/versions/3.11.6/lib/python3.11/site-packages/pydantic/_internal/_fields.py:128: UserWarning: Field \"model_parsers\" has conflict with protected namespace \"model_\".\n",
      "\n",
      "You may be able to resolve this warning by setting `model_config['protected_namespaces'] = ()`.\n",
      "  warnings.warn(\n"
     ]
    },
    {
     "name": "stdout",
     "output_type": "stream",
     "text": [
      " Here are some ways to say duck in other languages:\n",
      "\n",
      "Spanish: pato\n",
      "French: canard \n",
      "German: Ente\n",
      "Italian: anatra\n",
      "Portuguese: pato\n",
      "Russian: утка (utka)\n",
      "Japanese: アヒル (ahiru)\n",
      "Mandarin Chinese: 鸭子 (yāzi)\n",
      "Korean: 오리 (ori)\n",
      "\n",
      "I tried to provide a selection of languages for you to choose from. Let me know if you'd like me to translate duck into any other languages as well!\n"
     ]
    }
   ],
   "source": [
    "from aiconfig import AIConfigRuntime\n",
    "aiconfig=AIConfigRuntime.load(\"./claude.aiconfig.json\")\n",
    "\n",
    "#Can use this directly in code after editing \n",
    "prompt_output = aiconfig.get_prompt(\"multilinguality\").outputs\n",
    "if prompt_output:\n",
    "    print(prompt_output[0].data)\n",
    "else:\n",
    "    print(\"No outputs yet!\")"
   ]
  },
  {
   "cell_type": "code",
   "execution_count": 2,
   "metadata": {},
   "outputs": [
    {
     "name": "stdout",
     "output_type": "stream",
     "text": [
      " Here are some ways to say duck in other languages:\n",
      "\n",
      "Spanish: pato\n",
      "\n",
      "French: canard\n",
      "\n",
      "German: Ente\n",
      "\n",
      "Italian: anatra\n",
      "\n",
      "Portuguese: pato\n",
      "\n",
      "Russian: утка (utka)\n",
      "\n",
      "Japanese: アハコ (ahako) \n",
      "\n",
      "Chinese (Mandarin): 鸭子 (yāzi)\n",
      "\n",
      "Korean: 오리 (ori)\n",
      "\n",
      "Those are just a few options for saying duck in other languages. I provided the word in the foreign language script when applicable as well as a Romanized spelling to give you a sense of the pronunciation. Let me know if you'd like me to translate duck into any other languages!"
     ]
    },
    {
     "data": {
      "text/plain": [
       "[ExecuteResult(output_type='execute_result', execution_count=0, data=\" Here are some ways to say duck in other languages:\\n\\nSpanish: pato\\n\\nFrench: canard\\n\\nGerman: Ente\\n\\nItalian: anatra\\n\\nPortuguese: pato\\n\\nRussian: утка (utka)\\n\\nJapanese: アハコ (ahako) \\n\\nChinese (Mandarin): 鸭子 (yāzi)\\n\\nKorean: 오리 (ori)\\n\\nThose are just a few options for saying duck in other languages. I provided the word in the foreign language script when applicable as well as a Romanized spelling to give you a sense of the pronunciation. Let me know if you'd like me to translate duck into any other languages!\", mime_type=None, metadata={})]"
      ]
     },
     "execution_count": 2,
     "metadata": {},
     "output_type": "execute_result"
    }
   ],
   "source": [
    "# Can also run this directly from the AIConfig SDK\n",
    "from aiconfig import InferenceOptions\n",
    "\n",
    "# Re-load from aiconfig.json file\n",
    "aiconfig=AIConfigRuntime.load(\"./claude.aiconfig.json\")\n",
    "\n",
    "def stream_callback (data, _accumulated_data, _index):\n",
    "    print(data, end=\"\")\n",
    "options = InferenceOptions(stream_callback=stream_callback)\n",
    "\n",
    "await aiconfig.run(prompt_name=\"multilinguality\", options=options)"
   ]
  }
 ],
 "metadata": {
  "kernelspec": {
   "display_name": "Python 3",
   "language": "python",
   "name": "python3"
  },
  "language_info": {
   "codemirror_mode": {
    "name": "ipython",
    "version": 3
   },
   "file_extension": ".py",
   "mimetype": "text/x-python",
   "name": "python",
   "nbconvert_exporter": "python",
   "pygments_lexer": "ipython3",
   "version": "3.11.6"
  }
 },
 "nbformat": 4,
 "nbformat_minor": 2
}

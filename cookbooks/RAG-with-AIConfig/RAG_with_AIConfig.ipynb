{
  "nbformat": 4,
  "nbformat_minor": 0,
  "metadata": {
    "colab": {
      "provenance": []
    },
    "kernelspec": {
      "name": "python3",
      "display_name": "Python 3"
    },
    "language_info": {
      "name": "python"
    }
  },
  "cells": [
    {
      "cell_type": "markdown",
      "source": [
        "# RAG with AIConfig\n",
        "This notebook demonstrates using a vector database (Chroma) with AIConfig for Retrieval-Augmented Generation (RAG). For this demo, we create a collection of curriculum for different courses for the Chroma database and use ANN (approximate nearest neighbors) to find the curriculum most relevant to a student's question. Then we use AIConfig to define a prompt named get_courses. This prompt, incorporating the student's question and the relevant curriculum, is then run to identify the appropriate classes within the curriculum that address the student's question. Read more about [AIConfig for prompt and model management](https://github.com/lastmile-ai/aiconfig).\n",
        "\n",
        "\n"
      ],
      "metadata": {
        "id": "RClLTPEbyitP"
      }
    },
    {
      "cell_type": "markdown",
      "source": [],
      "metadata": {
        "id": "arj-rect6Z9r"
      }
    },
    {
      "cell_type": "code",
      "source": [
        "!pip install python-aiconfig\n",
        "!pip install chromadb"
      ],
      "metadata": {
        "id": "65EifxQvQ-Kp"
      },
      "execution_count": null,
      "outputs": []
    },
    {
      "cell_type": "code",
      "source": [
        "from google.colab import userdata\n",
        "\n",
        "import openai\n",
        "import os\n",
        "\n",
        "openai.api_key = userdata.get('openai_key')"
      ],
      "metadata": {
        "id": "HJ8K9bfc1zhk"
      },
      "execution_count": 2,
      "outputs": []
    },
    {
      "cell_type": "code",
      "source": [
        "# import ChromaDB and set up the Chroma client\n",
        "import chromadb\n",
        "chroma_client = chromadb.Client()\n",
        "\n",
        "# Create a collection of curriculums\n",
        "collection = chroma_client.create_collection(name=\"curriculum\")\n",
        "\n",
        "# Add documents for a math curriculum, physics curriculum, and a chemistry curriculum\n",
        "collection.add(\n",
        "    documents=[\"math\", \"physics\", \"chemistry\"],\n",
        "    metadatas=[\n",
        "        {\n",
        "            \"source\": \"\"\"Subject: Mathematics\n",
        "\n",
        "            Course 1: Number Sense and Operations\n",
        "            - Place value\n",
        "            - Number patterns and relationships\n",
        "            - Addition, subtraction, multiplication, and division\n",
        "            - Problem-solving techniques\n",
        "\n",
        "            Course 2: Algebra\n",
        "            - Variables and expressions\n",
        "            - Equations and inequalities\n",
        "            - Patterns and functions\"\"\"\n",
        "        },\n",
        "        {\n",
        "            \"source\": \"\"\"Subject: Physics\n",
        "\n",
        "            Course 1: Introduction to Physics\n",
        "            - Scientific method and inquiry skills\n",
        "            - Measurement and scientific notation\n",
        "            - Physical quantities and units\n",
        "\n",
        "            Course 2: Motion and Forces\n",
        "            - Position, distance, and displacement\n",
        "            - Speed,\n",
        "            - velocity, and acceleration\n",
        "            - Newton's laws of motion\"\"\"\n",
        "        },\n",
        "        {\n",
        "            \"source\": \"\"\"Subject: Chemistry\n",
        "\n",
        "            Course 1: Introduction to Chemistry\n",
        "            - Matter and its properties\n",
        "            - Atoms, elements, and compounds\n",
        "            - Chemical symbols and formulas\"\"\"\n",
        "        }\n",
        "    ],\n",
        "    ids=[\"id1\", \"id2\", \"id3\"]\n",
        ")\n",
        "\n",
        "# Query the vector database for the closest context to the student question\n",
        "context = collection.query(\n",
        "    query_texts=[\"What is the sum of the first 103 numbers\"],\n",
        "    n_results=1\n",
        ")\n",
        "\n",
        "print(context)\n"
      ],
      "metadata": {
        "id": "6r6e7Ur8g8i7",
        "colab": {
          "base_uri": "https://localhost:8080/"
        },
        "outputId": "b3fdc618-84c8-4ffe-e2e1-86c0858e271b"
      },
      "execution_count": 3,
      "outputs": [
        {
          "output_type": "stream",
          "name": "stderr",
          "text": [
            "/root/.cache/chroma/onnx_models/all-MiniLM-L6-v2/onnx.tar.gz: 100%|██████████| 79.3M/79.3M [00:01<00:00, 47.6MiB/s]\n"
          ]
        },
        {
          "output_type": "stream",
          "name": "stdout",
          "text": [
            "{'ids': [['id1']], 'distances': [[1.5048770904541016]], 'metadatas': [[{'source': 'Subject: Mathematics\\n\\n            Course 1: Number Sense and Operations\\n            - Place value\\n            - Number patterns and relationships\\n            - Addition, subtraction, multiplication, and division\\n            - Problem-solving techniques\\n\\n            Course 2: Algebra\\n            - Variables and expressions\\n            - Equations and inequalities\\n            - Patterns and functions'}]], 'embeddings': None, 'documents': [['math']], 'uris': None, 'data': None}\n"
          ]
        }
      ]
    },
    {
      "cell_type": "code",
      "source": [
        "from aiconfig import AIConfigRuntime, Prompt, CallbackManager\n",
        "\n",
        "# Create get_courses prompt\n",
        "get_courses = Prompt(\n",
        "    name=\"get_courses\",\n",
        "    input=\"\"\"\n",
        "        Student's question: {{student_question}},\n",
        "        The middle school curriculum: {{curriculum}}\n",
        "    \"\"\",\n",
        "    metadata= {\n",
        "        \"model\":{\n",
        "            \"name\": \"gpt-4\",\n",
        "            \"settings\":{\n",
        "                \"model\": \"gpt-4\",\n",
        "                \"system_prompt\":\"\"\"\n",
        "                    You are a very good middle school teacher.\n",
        "\n",
        "                    Output: You are to identify which course in the curriculum the student question will be covered\n",
        "                    and concisely respond with where in the curriculum the question will be answered.\n",
        "                    If the question is not covered in the curriculum, you are to answer with 'Unfortunately, we don't cover that in our curriculum'\n",
        "                \"\"\"\n",
        "            }\n",
        "        },\n",
        "    }\n",
        ")\n",
        "\n",
        "# Create new AIConfig with get_courses prompt\n",
        "rag_aiconfig = AIConfigRuntime.create()\n",
        "rag_aiconfig.callback_manager = CallbackManager([])\n",
        "rag_aiconfig.add_prompt(\"get_courses\", get_courses)\n",
        "\n",
        "# Add a new parameter with the retrieved context from Chroma\n",
        "params = {\n",
        "    \"curriculum\": str(context.get('metadatas')),\n",
        "    \"student_question\": \"What is the sum of the first 103 numbers?\"\n",
        "}\n",
        "\n",
        "# Execute the new prompt\n",
        "completion = await rag_aiconfig.run(\"get_courses\", params)\n",
        "course_result = rag_aiconfig.get_output_text(\"get_courses\")\n",
        "\n",
        "print(course_result)"
      ],
      "metadata": {
        "id": "t1HfCQhpvgDl",
        "colab": {
          "base_uri": "https://localhost:8080/"
        },
        "outputId": "d6f4901f-e64e-4411-9750-c878b9be2738"
      },
      "execution_count": 6,
      "outputs": [
        {
          "output_type": "stream",
          "name": "stdout",
          "text": [
            "This question will be covered in Course 1: Number Sense and Operations, particularly in the topic of 'Problem-solving techniques'.\n"
          ]
        }
      ]
    },
    {
      "cell_type": "code",
      "source": [
        "# Save the aiconfig to disk. and serialize outputs from the model run\n",
        "rag_aiconfig.save('rag_aiconfig.json', include_outputs=True)"
      ],
      "metadata": {
        "id": "_P9z-9Tv-IB-"
      },
      "execution_count": 7,
      "outputs": []
    },
    {
      "cell_type": "markdown",
      "source": [
        "You should now see the AIConfig in 'Files'. You can also upload the config to AI Workbooks to easily edit the prompts and model parameters."
      ],
      "metadata": {
        "id": "6D6yGydMpeMj"
      }
    }
  ]
}
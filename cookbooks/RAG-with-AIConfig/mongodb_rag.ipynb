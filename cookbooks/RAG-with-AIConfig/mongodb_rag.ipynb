{
 "cells": [
  {
   "cell_type": "code",
   "execution_count": null,
   "metadata": {},
   "outputs": [],
   "source": [
    "# Install python dependencies\n",
    "# MongoDB reccomends `python -m pip install \"pymongo[srv]\"==3.11` or whatever version of python you are using\n",
    "%pip install pymongo\n",
    "%pip install pypdf\n",
    "%pip install langchain\n",
    "%pip install langchain_community\n",
    "%pip install langchain_openai\n"
   ]
  },
  {
   "cell_type": "code",
   "execution_count": 1,
   "metadata": {},
   "outputs": [
    {
     "name": "stdout",
     "output_type": "stream",
     "text": [
      "Pinged your deployment. You successfully connected to MongoDB!\n"
     ]
    }
   ],
   "source": [
    "from pymongo.mongo_client import MongoClient\n",
    "\n",
    "# Setup up MongoDB Atlas connection\n",
    "# You can find this connection URI by going to your cluster and clicking connect > Drivers\n",
    "MONGODB_ATLAS_CLUSTER_URI = \"\"\n",
    "\n",
    "# Create a new client and connect to the server\n",
    "client = MongoClient(MONGODB_ATLAS_CLUSTER_URI)\n",
    "# Send a ping to confirm a successful connection\n",
    "try:\n",
    "    client.admin.command('ping')\n",
    "    print(\"Pinged your deployment. You successfully connected to MongoDB!\")\n",
    "except Exception as e:\n",
    "    print(e)"
   ]
  },
  {
   "cell_type": "code",
   "execution_count": 2,
   "metadata": {},
   "outputs": [],
   "source": [
    "## Setup DB details.\n",
    "## Create a new Database\n",
    "DB_NAME = \"SYNTHETIC_DATA\"\n",
    "db = client[DB_NAME]\n",
    "\n",
    "## Create a new collection\n",
    "COLLECTION_NAME = \"INSURANCE_CLAIMS\"\n",
    "MONGODB_COLLECTION = db[COLLECTION_NAME]\n",
    "\n",
    "## Index Name. Manually create this in the MongoDB web ui, add documents below, then create the search index in the same name\n",
    "ATLAS_VECTOR_SEARCH_INDEX_NAME = \"vector_index\""
   ]
  },
  {
   "cell_type": "code",
   "execution_count": 4,
   "metadata": {},
   "outputs": [],
   "source": [
    "from langchain_community.document_loaders import PyPDFLoader\n",
    "\n",
    "# Load the PDF, create embeddings, persist in MongoDB Atlas\n",
    "pdf_uri = \"https://comm.unc.edu/wp-content/uploads/sites/388/2018/12/UNC-Department-of-Communication-Policy-Manual-Draft-11-10-15-ph-pp.pdf\"\n",
    "loader = PyPDFLoader(pdf_uri)\n",
    "data = loader.load()\n",
    "\n",
    "from langchain.text_splitter import RecursiveCharacterTextSplitter\n",
    "\n",
    "text_splitter = RecursiveCharacterTextSplitter(chunk_size=1000, chunk_overlap=150)\n",
    "docs = text_splitter.split_documents(data)\n",
    "\n",
    "from langchain_community.vectorstores import MongoDBAtlasVectorSearch\n",
    "from langchain_openai import OpenAIEmbeddings\n",
    "\n",
    "# insert the documents in MongoDB Atlas with their embedding\n",
    "vector_search = MongoDBAtlasVectorSearch.from_documents(\n",
    "    documents=docs,\n",
    "    embedding=OpenAIEmbeddings(disallowed_special=()),\n",
    "    collection=MONGODB_COLLECTION,\n",
    "    index_name=ATLAS_VECTOR_SEARCH_INDEX_NAME,\n",
    ")"
   ]
  },
  {
   "cell_type": "code",
   "execution_count": 5,
   "metadata": {},
   "outputs": [],
   "source": [
    "from langchain_core.documents import Document\n",
    "\n",
    "# Define helper method for Rag with AIConfig\n",
    "def get_knn_context_from_query(query: str, k: int = 1) -> str:\n",
    "    results: list[Document] = vector_search.similarity_search(\n",
    "        query=query, k = 2\n",
    "    )\n",
    "    results_as_strings = [doc.page_content for doc in results]\n",
    "    resulting_documents_as_a_string = \"\\n\".join(results_as_strings)\n",
    "\n",
    "    return resulting_documents_as_a_string"
   ]
  },
  {
   "cell_type": "code",
   "execution_count": 10,
   "metadata": {},
   "outputs": [
    {
     "name": "stdout",
     "output_type": "stream",
     "text": [
      "[ExecuteResult(output_type='execute_result', execution_count=0, data='1. Records Retention and Disposal Policy\\n2. Facilities Use Policy\\n3. No Smoking Policy\\n4. Personal Use Policy\\n5. Sustainability Policy', mime_type=None, metadata={'id': 'chatcmpl-8kJFxEki6ILdJulMblHuSJljrlrhT', 'created': 1706047801, 'model': 'gpt-4-0613', 'object': 'chat.completion.chunk', 'raw_response': {'content': '1. Records Retention and Disposal Policy\\n2. Facilities Use Policy\\n3. No Smoking Policy\\n4. Personal Use Policy\\n5. Sustainability Policy', 'role': 'assistant'}, 'role': 'assistant'})]\n"
     ]
    }
   ],
   "source": [
    "# Use AIConfig to generate synthetic data\n",
    "\n",
    "from aiconfig import AIConfigRuntime\n",
    "\n",
    "cove_config = AIConfigRuntime.load(\"/Users/ankush/Downloads/cove.aiconfig.json\")\n",
    "\n",
    "baseline_prompt = \"List all the policies from this PDF: \"\n",
    "context = get_knn_context_from_query(baseline_prompt)\n",
    "baseline_prompt += context\n",
    "response = await cove_config.run(\"baseline_response_gen\", {\"baseline_prompt\": baseline_prompt})\n",
    "print(response)"
   ]
  },
  {
   "cell_type": "code",
   "execution_count": null,
   "metadata": {},
   "outputs": [],
   "source": []
  }
 ],
 "metadata": {
  "kernelspec": {
   "display_name": "Python 3",
   "language": "python",
   "name": "python3"
  },
  "language_info": {
   "codemirror_mode": {
    "name": "ipython",
    "version": 3
   },
   "file_extension": ".py",
   "mimetype": "text/x-python",
   "name": "python",
   "nbconvert_exporter": "python",
   "pygments_lexer": "ipython3",
   "version": "3.11.6"
  }
 },
 "nbformat": 4,
 "nbformat_minor": 2
}

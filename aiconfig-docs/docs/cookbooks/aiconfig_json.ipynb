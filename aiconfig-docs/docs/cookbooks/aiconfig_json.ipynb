{
 "cells": [
  {
   "cell_type": "code",
   "execution_count": 22,
   "id": "f303c197-b7aa-4b46-aaf8-202fe2c316ca",
   "metadata": {},
   "outputs": [
    {
     "data": {
      "text/plain": [
       "True"
      ]
     },
     "execution_count": 22,
     "metadata": {},
     "output_type": "execute_result"
    }
   ],
   "source": [
    "from dotenv import load_dotenv\n",
    "\n",
    "# 1. put your OPENAI key in your .env\n",
    "\n",
    "load_dotenv()"
   ]
  },
  {
   "cell_type": "code",
   "execution_count": 17,
   "id": "ab5d2367-d541-4635-a5f1-29d571bd77ff",
   "metadata": {},
   "outputs": [],
   "source": [
    "ai_config_path = \"./aiconfig_demo_1.json\"\n",
    "runtime = AIConfigRuntime.load(ai_config_path)"
   ]
  },
  {
   "cell_type": "code",
   "execution_count": 18,
   "id": "ea53ecb8-6698-4d55-ba4e-f6cfdafbd46d",
   "metadata": {},
   "outputs": [],
   "source": [
    "prompt_name = \"cell_4\"\n",
    "params = {}\n",
    "run_result = await runtime.run(\n",
    "    prompt_name, params=params, \n",
    "    # options=options\n",
    ")"
   ]
  },
  {
   "cell_type": "code",
   "execution_count": 21,
   "id": "19ea3818-3183-4402-b6d3-17ef488d3e8c",
   "metadata": {},
   "outputs": [
    {
     "name": "stdout",
     "output_type": "stream",
     "text": [
      "The text:\n",
      "\n",
      "[\n",
      "  {\n",
      "    \"Missing_Entities\": \"John Doe; financial crisis; investment strategies\",\n",
      "    \"Denser_Summary\": \"John Doe, a renowned economist, provides insights into the recent financial crisis, offering unique investment strategies to navigate the turbulent market.\"\n",
      "  },\n",
      "  {\n",
      "    \"Missing_Entities\": \"climate change; renewable energy; government policies\",\n",
      "    \"Denser_Summary\": \"The article explores the impact of climate change, the potential of renewable energy, and the role of government policies in promoting sustainable practices.\"\n",
      "  },\n",
      "  {\n",
      "    \"Missing_Entities\": \"AI technology; healthcare sector; data privacy concerns\",\n",
      "    \"Denser_Summary\": \"The integration of AI technology in the healthcare sector is revolutionizing patient care, but raises significant data privacy concerns.\"\n",
      "  },\n",
      "  {\n",
      "    \"Missing_Entities\": \"e-commerce trends; consumer behavior; digital marketing strategies\",\n",
      "    \"Denser_Summary\": \"The article analyzes emerging e-commerce trends, changes in consumer behavior, and effective digital marketing strategies for online businesses.\"\n",
      "  },\n",
      "  {\n",
      "    \"Missing_Entities\": \"space exploration; Mars mission; technological advancements\",\n",
      "    \"Denser_Summary\": \"The article delves into the realm of space exploration, focusing on the upcoming Mars mission and the technological advancements making it possible.\"\n",
      "  }\n",
      "]\n"
     ]
    }
   ],
   "source": [
    "assert len(run_result) == 1\n",
    "the_output = run_result[0]\n",
    "text = runtime.get_output_text(prompt_name, output=the_output)\n",
    "\n",
    "print(\"The text:\\n\")\n",
    "print(text)"
   ]
  }
 ],
 "metadata": {
  "kernelspec": {
   "display_name": "aiconfig",
   "language": "python",
   "name": "aiconfig"
  },
  "language_info": {
   "codemirror_mode": {
    "name": "ipython",
    "version": 3
   },
   "file_extension": ".py",
   "mimetype": "text/x-python",
   "name": "python",
   "nbconvert_exporter": "python",
   "pygments_lexer": "ipython3",
   "version": "3.12.0"
  }
 },
 "nbformat": 4,
 "nbformat_minor": 5
}

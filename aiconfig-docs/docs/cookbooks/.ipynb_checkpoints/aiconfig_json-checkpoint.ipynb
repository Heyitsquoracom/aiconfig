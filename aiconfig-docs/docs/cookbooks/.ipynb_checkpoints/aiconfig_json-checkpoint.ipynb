{
 "cells": [
  {
   "cell_type": "code",
   "execution_count": 1,
   "id": "f303c197-b7aa-4b46-aaf8-202fe2c316ca",
   "metadata": {},
   "outputs": [
    {
     "data": {
      "text/plain": [
       "True"
      ]
     },
     "execution_count": 1,
     "metadata": {},
     "output_type": "execute_result"
    }
   ],
   "source": [
    "from dotenv import load_dotenv\n",
    "\n",
    "# 1. put your OPENAI key in your .env\n",
    "\n",
    "load_dotenv()"
   ]
  },
  {
   "cell_type": "code",
   "execution_count": 4,
   "id": "ab5d2367-d541-4635-a5f1-29d571bd77ff",
   "metadata": {},
   "outputs": [],
   "source": [
    "from aiconfig import AIConfigRuntime\n",
    "ai_config_path = \"./aiconfig_json_output_example.json\"\n",
    "runtime = AIConfigRuntime.load(ai_config_path)"
   ]
  },
  {
   "cell_type": "code",
   "execution_count": 5,
   "id": "ea53ecb8-6698-4d55-ba4e-f6cfdafbd46d",
   "metadata": {},
   "outputs": [],
   "source": [
    "prompt_name = \"cell_4\"\n",
    "params = {}\n",
    "run_result = await runtime.run(\n",
    "    prompt_name, params=params, \n",
    "    # options=options\n",
    ")"
   ]
  },
  {
   "cell_type": "code",
   "execution_count": 6,
   "id": "19ea3818-3183-4402-b6d3-17ef488d3e8c",
   "metadata": {},
   "outputs": [
    {
     "name": "stdout",
     "output_type": "stream",
     "text": [
      "The text:\n",
      "\n",
      "[\n",
      "  {\n",
      "    \"Missing_Entities\": \"Entity1; Entity2; Entity3\",\n",
      "    \"Denser_Summary\": \"This article discusses the topic at length, focusing on Entity1, Entity2, and Entity3. It provides a comprehensive overview of the subject matter, delving into the intricacies of each entity and their interrelationships. The author presents a balanced view, highlighting the pros and cons of each entity, and concludes with a thoughtful analysis of the implications for the broader field.\"\n",
      "  },\n",
      "  {\n",
      "    \"Missing_Entities\": \"Entity4; Entity5; Entity6\",\n",
      "    \"Denser_Summary\": \"In addition to Entity1, Entity2, and Entity3, the article also explores Entity4, Entity5, and Entity6. The author expands the discussion to include these entities, providing a more nuanced understanding of the topic. The interplay between all six entities is examined, offering a holistic view of the subject matter.\"\n",
      "  },\n",
      "  {\n",
      "    \"Missing_Entities\": \"Entity7; Entity8; Entity9\",\n",
      "    \"Denser_Summary\": \"The article further broadens the scope by introducing Entity7, Entity8, and Entity9. These entities add another layer of complexity to the topic, and the author skillfully navigates their intricacies. The relationships between all nine entities are analyzed, resulting in a comprehensive and multifaceted understanding of the subject.\"\n",
      "  },\n",
      "  {\n",
      "    \"Missing_Entities\": \"Entity10; Entity11; Entity12\",\n",
      "    \"Denser_Summary\": \"The discussion continues with the introduction of Entity10, Entity11, and Entity12. The author integrates these entities into the existing framework, further enriching the analysis. The interconnections between all twelve entities are explored, providing a thorough and in-depth exploration of the topic.\"\n",
      "  },\n",
      "  {\n",
      "    \"Missing_Entities\": \"Entity13; Entity14; Entity15\",\n",
      "    \"Denser_Summary\": \"The article concludes with a discussion on Entity13, Entity14, and Entity15. These entities are seamlessly woven into the narrative, culminating in a comprehensive and detailed analysis of the topic. The intricate relationships between all fifteen entities are elucidated, offering a complete and nuanced understanding of the subject matter.\"\n",
      "  }\n",
      "]\n"
     ]
    }
   ],
   "source": [
    "assert len(run_result) == 1\n",
    "the_output = run_result[0]\n",
    "text = runtime.get_output_text(prompt_name, output=the_output)\n",
    "\n",
    "print(\"The text:\\n\")\n",
    "print(text)"
   ]
  }
 ],
 "metadata": {
  "kernelspec": {
   "display_name": "aiconfig",
   "language": "python",
   "name": "aiconfig"
  },
  "language_info": {
   "codemirror_mode": {
    "name": "ipython",
    "version": 3
   },
   "file_extension": ".py",
   "mimetype": "text/x-python",
   "name": "python",
   "nbconvert_exporter": "python",
   "pygments_lexer": "ipython3",
   "version": "3.12.0"
  }
 },
 "nbformat": 4,
 "nbformat_minor": 5
}

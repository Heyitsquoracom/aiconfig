{
 "cells": [
  {
   "cell_type": "code",
   "execution_count": 1,
   "metadata": {},
   "outputs": [],
   "source": [
    "from dotenv import load_dotenv\n",
    "import openai\n",
    "import os\n",
    "\n",
    "load_dotenv()\n",
    "\n",
    "openai.api_key = os.getenv(\"OPENAI_API_KEY\")"
   ]
  },
  {
   "cell_type": "code",
   "execution_count": null,
   "metadata": {},
   "outputs": [],
   "source": []
  },
  {
   "cell_type": "code",
   "execution_count": 2,
   "metadata": {},
   "outputs": [
    {
     "name": "stderr",
     "output_type": "stream",
     "text": [
      "/opt/homebrew/lib/python3.11/site-packages/pydantic/_internal/_fields.py:128: UserWarning: Field \"model_parsers\" has conflict with protected namespace \"model_\".\n",
      "\n",
      "You may be able to resolve this warning by setting `model_config['protected_namespaces'] = ()`.\n",
      "  warnings.warn(\n"
     ]
    },
    {
     "name": "stdout",
     "output_type": "stream",
     "text": [
      "['{\\n', '  \"name\": \"\",\\n', '  \"schema_version\": \"latest\",\\n', '  \"metadata\": {\\n', '    \"parameters\": {},\\n', '    \"models\": {}\\n', '  },\\n', '  \"description\": \"\",\\n', '  \"prompts\": [\\n', '    {\\n', '      \"name\": \"prompt_0\",\\n', '      \"input\": \"Hi\",\\n', '      \"metadata\": {\\n', '        \"model\": {\\n', '          \"name\": \"gpt-3.5-turbo\",\\n', '          \"settings\": {\\n', '            \"model\": \"gpt-3.5-turbo\",\\n', '            \"top_p\": 1,\\n', '            \"max_tokens\": 3000,\\n', '            \"temperature\": 1,\\n', '            \"stream\": false\\n', '          }\\n', '        },\\n', '        \"parameters\": {},\\n', '        \"remember_chat_context\": true\\n', '      },\\n', '      \"outputs\": [\\n', '        {\\n', '          \"output_type\": \"execute_result\",\\n', '          \"execution_count\": 0,\\n', '          \"data\": {\\n', '            \"role\": \"assistant\",\\n', '            \"content\": \"Hello! How can I assist you today?\"\\n', '          },\\n', '          \"metadata\": {\\n', '            \"id\": \"chatcmpl-8JVAQEN6lsriGjUpitc7lEFX0CWPs\",\\n', '            \"object\": \"chat.completion\",\\n', '            \"created\": 1699658730,\\n', '            \"model\": \"gpt-3.5-turbo-0613\",\\n', '            \"usage\": {\\n', '              \"prompt_tokens\": 8,\\n', '              \"completion_tokens\": 9,\\n', '              \"total_tokens\": 17\\n', '            },\\n', '            \"finish_reason\": \"stop\"\\n', '          }\\n', '        }\\n', '      ]\\n', '    }\\n', '  ]\\n', '}']\n"
     ]
    }
   ],
   "source": [
    "\n",
    "import openai\n",
    "from aiconfig.ChatCompletion import create_and_save_to_config\n",
    "file_path = \"my-aiconfig.json\"\n",
    "openai.ChatCompletion.create = create_and_save_to_config(file_path)\n",
    "\n",
    "\n",
    "completion_params = {\n",
    "            \"model\": \"gpt-3.5-turbo\",\n",
    "            \"top_p\": 1,\n",
    "            \"max_tokens\": 3000,\n",
    "            \"temperature\": 1,\n",
    "            \"stream\": False,\n",
    "            \"messages\": [\n",
    "                {\n",
    "                    \"content\": \"Hi\",\n",
    "                    \"role\": \"user\",\n",
    "                }\n",
    "            ],\n",
    "        }\n",
    "\n",
    "openai.ChatCompletion.create(**completion_params)\n",
    "with open(file_path, \"r\") as f:\n",
    "    print(f.readlines())"
   ]
  }
 ],
 "metadata": {
  "kernelspec": {
   "display_name": "Python 3",
   "language": "python",
   "name": "python3"
  },
  "language_info": {
   "codemirror_mode": {
    "name": "ipython",
    "version": 3
   },
   "file_extension": ".py",
   "mimetype": "text/x-python",
   "name": "python",
   "nbconvert_exporter": "python",
   "pygments_lexer": "ipython3",
   "version": "3.11.5"
  }
 },
 "nbformat": 4,
 "nbformat_minor": 2
}

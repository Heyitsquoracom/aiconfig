{
 "cells": [
  {
   "cell_type": "code",
   "execution_count": 1,
   "metadata": {},
   "outputs": [
    {
     "name": "stdout",
     "output_type": "stream",
     "text": [
      "Requirement already satisfied: black in /opt/homebrew/lib/python3.11/site-packages (from -r ../requirements.txt (line 1)) (23.7.0)\n",
      "Requirement already satisfied: flake8 in /opt/homebrew/lib/python3.11/site-packages (from -r ../requirements.txt (line 2)) (6.1.0)\n",
      "Requirement already satisfied: pytest in /opt/homebrew/lib/python3.11/site-packages (from -r ../requirements.txt (line 3)) (7.4.2)\n",
      "Requirement already satisfied: pydantic>=2.1 in /opt/homebrew/lib/python3.11/site-packages (from -r ../requirements.txt (line 4)) (2.1.0)\n",
      "Requirement already satisfied: pybars3 in /opt/homebrew/lib/python3.11/site-packages (from -r ../requirements.txt (line 5)) (0.9.7)\n",
      "Requirement already satisfied: google-generativeai in /opt/homebrew/lib/python3.11/site-packages (from -r ../requirements.txt (line 6)) (0.1.0)\n",
      "Requirement already satisfied: openai in /opt/homebrew/lib/python3.11/site-packages (from -r ../requirements.txt (line 7)) (0.27.8)\n",
      "Requirement already satisfied: click>=8.0.0 in /opt/homebrew/lib/python3.11/site-packages (from black->-r ../requirements.txt (line 1)) (8.1.6)\n",
      "Requirement already satisfied: mypy-extensions>=0.4.3 in /opt/homebrew/lib/python3.11/site-packages (from black->-r ../requirements.txt (line 1)) (1.0.0)\n",
      "Requirement already satisfied: packaging>=22.0 in /opt/homebrew/lib/python3.11/site-packages (from black->-r ../requirements.txt (line 1)) (23.1)\n",
      "Requirement already satisfied: pathspec>=0.9.0 in /opt/homebrew/lib/python3.11/site-packages (from black->-r ../requirements.txt (line 1)) (0.9.0)\n",
      "Requirement already satisfied: platformdirs>=2 in /opt/homebrew/lib/python3.11/site-packages (from black->-r ../requirements.txt (line 1)) (3.10.0)\n",
      "Requirement already satisfied: mccabe<0.8.0,>=0.7.0 in /opt/homebrew/lib/python3.11/site-packages (from flake8->-r ../requirements.txt (line 2)) (0.7.0)\n",
      "Requirement already satisfied: pycodestyle<2.12.0,>=2.11.0 in /opt/homebrew/lib/python3.11/site-packages (from flake8->-r ../requirements.txt (line 2)) (2.11.0)\n",
      "Requirement already satisfied: pyflakes<3.2.0,>=3.1.0 in /opt/homebrew/lib/python3.11/site-packages (from flake8->-r ../requirements.txt (line 2)) (3.1.0)\n",
      "Requirement already satisfied: iniconfig in /opt/homebrew/lib/python3.11/site-packages (from pytest->-r ../requirements.txt (line 3)) (2.0.0)\n",
      "Requirement already satisfied: pluggy<2.0,>=0.12 in /opt/homebrew/lib/python3.11/site-packages (from pytest->-r ../requirements.txt (line 3)) (1.3.0)\n",
      "Requirement already satisfied: annotated-types>=0.4.0 in /opt/homebrew/lib/python3.11/site-packages (from pydantic>=2.1->-r ../requirements.txt (line 4)) (0.5.0)\n",
      "Requirement already satisfied: pydantic-core==2.4.0 in /opt/homebrew/lib/python3.11/site-packages (from pydantic>=2.1->-r ../requirements.txt (line 4)) (2.4.0)\n",
      "Requirement already satisfied: typing-extensions>=4.6.1 in /opt/homebrew/lib/python3.11/site-packages (from pydantic>=2.1->-r ../requirements.txt (line 4)) (4.7.1)\n",
      "Requirement already satisfied: PyMeta3>=0.5.1 in /opt/homebrew/lib/python3.11/site-packages (from pybars3->-r ../requirements.txt (line 5)) (0.5.1)\n",
      "Requirement already satisfied: google-ai-generativelanguage==0.2.0 in /opt/homebrew/lib/python3.11/site-packages (from google-generativeai->-r ../requirements.txt (line 6)) (0.2.0)\n",
      "Requirement already satisfied: google-api-core[grpc]!=2.0.*,!=2.1.*,!=2.10.*,!=2.2.*,!=2.3.*,!=2.4.*,!=2.5.*,!=2.6.*,!=2.7.*,!=2.8.*,!=2.9.*,<3.0.0dev,>=1.34.0 in /opt/homebrew/lib/python3.11/site-packages (from google-ai-generativelanguage==0.2.0->google-generativeai->-r ../requirements.txt (line 6)) (2.11.1)\n",
      "Requirement already satisfied: proto-plus<2.0.0dev,>=1.22.0 in /opt/homebrew/lib/python3.11/site-packages (from google-ai-generativelanguage==0.2.0->google-generativeai->-r ../requirements.txt (line 6)) (1.22.3)\n",
      "Requirement already satisfied: protobuf!=3.20.0,!=3.20.1,!=4.21.0,!=4.21.1,!=4.21.2,!=4.21.3,!=4.21.4,!=4.21.5,<5.0.0dev,>=3.19.5 in /opt/homebrew/lib/python3.11/site-packages (from google-ai-generativelanguage==0.2.0->google-generativeai->-r ../requirements.txt (line 6)) (4.24.1)\n",
      "Requirement already satisfied: requests>=2.20 in /opt/homebrew/lib/python3.11/site-packages (from openai->-r ../requirements.txt (line 7)) (2.31.0)\n",
      "Requirement already satisfied: tqdm in /opt/homebrew/lib/python3.11/site-packages (from openai->-r ../requirements.txt (line 7)) (4.65.0)\n",
      "Requirement already satisfied: aiohttp in /opt/homebrew/lib/python3.11/site-packages (from openai->-r ../requirements.txt (line 7)) (3.8.5)\n",
      "Requirement already satisfied: charset-normalizer<4,>=2 in /opt/homebrew/lib/python3.11/site-packages (from requests>=2.20->openai->-r ../requirements.txt (line 7)) (3.2.0)\n",
      "Requirement already satisfied: idna<4,>=2.5 in /opt/homebrew/lib/python3.11/site-packages (from requests>=2.20->openai->-r ../requirements.txt (line 7)) (3.4)\n",
      "Requirement already satisfied: urllib3<3,>=1.21.1 in /opt/homebrew/lib/python3.11/site-packages (from requests>=2.20->openai->-r ../requirements.txt (line 7)) (1.26.17)\n",
      "Requirement already satisfied: certifi>=2017.4.17 in /opt/homebrew/lib/python3.11/site-packages (from requests>=2.20->openai->-r ../requirements.txt (line 7)) (2023.7.22)\n",
      "Requirement already satisfied: attrs>=17.3.0 in /opt/homebrew/lib/python3.11/site-packages (from aiohttp->openai->-r ../requirements.txt (line 7)) (23.1.0)\n",
      "Requirement already satisfied: multidict<7.0,>=4.5 in /opt/homebrew/lib/python3.11/site-packages (from aiohttp->openai->-r ../requirements.txt (line 7)) (6.0.4)\n",
      "Requirement already satisfied: async-timeout<5.0,>=4.0.0a3 in /opt/homebrew/lib/python3.11/site-packages (from aiohttp->openai->-r ../requirements.txt (line 7)) (4.0.2)\n",
      "Requirement already satisfied: yarl<2.0,>=1.0 in /opt/homebrew/lib/python3.11/site-packages (from aiohttp->openai->-r ../requirements.txt (line 7)) (1.9.2)\n",
      "Requirement already satisfied: frozenlist>=1.1.1 in /opt/homebrew/lib/python3.11/site-packages (from aiohttp->openai->-r ../requirements.txt (line 7)) (1.4.0)\n",
      "Requirement already satisfied: aiosignal>=1.1.2 in /opt/homebrew/lib/python3.11/site-packages (from aiohttp->openai->-r ../requirements.txt (line 7)) (1.3.1)\n",
      "Requirement already satisfied: googleapis-common-protos<2.0.dev0,>=1.56.2 in /opt/homebrew/lib/python3.11/site-packages (from google-api-core[grpc]!=2.0.*,!=2.1.*,!=2.10.*,!=2.2.*,!=2.3.*,!=2.4.*,!=2.5.*,!=2.6.*,!=2.7.*,!=2.8.*,!=2.9.*,<3.0.0dev,>=1.34.0->google-ai-generativelanguage==0.2.0->google-generativeai->-r ../requirements.txt (line 6)) (1.60.0)\n",
      "Requirement already satisfied: google-auth<3.0.dev0,>=2.14.1 in /opt/homebrew/lib/python3.11/site-packages (from google-api-core[grpc]!=2.0.*,!=2.1.*,!=2.10.*,!=2.2.*,!=2.3.*,!=2.4.*,!=2.5.*,!=2.6.*,!=2.7.*,!=2.8.*,!=2.9.*,<3.0.0dev,>=1.34.0->google-ai-generativelanguage==0.2.0->google-generativeai->-r ../requirements.txt (line 6)) (2.23.0)\n",
      "Requirement already satisfied: grpcio<2.0dev,>=1.33.2 in /opt/homebrew/lib/python3.11/site-packages (from google-api-core[grpc]!=2.0.*,!=2.1.*,!=2.10.*,!=2.2.*,!=2.3.*,!=2.4.*,!=2.5.*,!=2.6.*,!=2.7.*,!=2.8.*,!=2.9.*,<3.0.0dev,>=1.34.0->google-ai-generativelanguage==0.2.0->google-generativeai->-r ../requirements.txt (line 6)) (1.58.0)\n",
      "Requirement already satisfied: grpcio-status<2.0.dev0,>=1.33.2 in /opt/homebrew/lib/python3.11/site-packages (from google-api-core[grpc]!=2.0.*,!=2.1.*,!=2.10.*,!=2.2.*,!=2.3.*,!=2.4.*,!=2.5.*,!=2.6.*,!=2.7.*,!=2.8.*,!=2.9.*,<3.0.0dev,>=1.34.0->google-ai-generativelanguage==0.2.0->google-generativeai->-r ../requirements.txt (line 6)) (1.58.0)\n",
      "Requirement already satisfied: cachetools<6.0,>=2.0.0 in /opt/homebrew/lib/python3.11/site-packages (from google-auth<3.0.dev0,>=2.14.1->google-api-core[grpc]!=2.0.*,!=2.1.*,!=2.10.*,!=2.2.*,!=2.3.*,!=2.4.*,!=2.5.*,!=2.6.*,!=2.7.*,!=2.8.*,!=2.9.*,<3.0.0dev,>=1.34.0->google-ai-generativelanguage==0.2.0->google-generativeai->-r ../requirements.txt (line 6)) (5.3.1)\n",
      "Requirement already satisfied: pyasn1-modules>=0.2.1 in /opt/homebrew/lib/python3.11/site-packages (from google-auth<3.0.dev0,>=2.14.1->google-api-core[grpc]!=2.0.*,!=2.1.*,!=2.10.*,!=2.2.*,!=2.3.*,!=2.4.*,!=2.5.*,!=2.6.*,!=2.7.*,!=2.8.*,!=2.9.*,<3.0.0dev,>=1.34.0->google-ai-generativelanguage==0.2.0->google-generativeai->-r ../requirements.txt (line 6)) (0.3.0)\n",
      "Requirement already satisfied: rsa<5,>=3.1.4 in /opt/homebrew/lib/python3.11/site-packages (from google-auth<3.0.dev0,>=2.14.1->google-api-core[grpc]!=2.0.*,!=2.1.*,!=2.10.*,!=2.2.*,!=2.3.*,!=2.4.*,!=2.5.*,!=2.6.*,!=2.7.*,!=2.8.*,!=2.9.*,<3.0.0dev,>=1.34.0->google-ai-generativelanguage==0.2.0->google-generativeai->-r ../requirements.txt (line 6)) (4.9)\n",
      "Requirement already satisfied: pyasn1<0.6.0,>=0.4.6 in /opt/homebrew/lib/python3.11/site-packages (from pyasn1-modules>=0.2.1->google-auth<3.0.dev0,>=2.14.1->google-api-core[grpc]!=2.0.*,!=2.1.*,!=2.10.*,!=2.2.*,!=2.3.*,!=2.4.*,!=2.5.*,!=2.6.*,!=2.7.*,!=2.8.*,!=2.9.*,<3.0.0dev,>=1.34.0->google-ai-generativelanguage==0.2.0->google-generativeai->-r ../requirements.txt (line 6)) (0.5.0)\n",
      "Obtaining file:///Users/ankush/Projects/lastmile/aiconfig_tools\n",
      "  Installing build dependencies ... \u001b[?25ldone\n",
      "\u001b[?25h  Checking if build backend supports build_editable ... \u001b[?25ldone\n",
      "\u001b[?25h  Getting requirements to build editable ... \u001b[?25ldone\n",
      "\u001b[?25h  Preparing editable metadata (pyproject.toml) ... \u001b[?25ldone\n",
      "\u001b[?25hBuilding wheels for collected packages: aiconfig-tools\n",
      "  Building editable for aiconfig-tools (pyproject.toml) ... \u001b[?25ldone\n",
      "\u001b[?25h  Created wheel for aiconfig-tools: filename=aiconfig_tools-0.0.0-0.editable-py3-none-any.whl size=1621 sha256=6af9bb1403745bea3fc0e8d31674ede8c878aba3b948701efdb4e7c526990049\n",
      "  Stored in directory: /private/var/folders/4k/5bs5z3qx127bzvl9gmcrytv00000gn/T/pip-ephem-wheel-cache-ddxtpyym/wheels/2f/62/14/be5c6da98a5362c7e2e666d1694acab7f1c8c93e1953291ed9\n",
      "Successfully built aiconfig-tools\n",
      "Installing collected packages: aiconfig-tools\n",
      "  Attempting uninstall: aiconfig-tools\n",
      "    Found existing installation: aiconfig-tools 0.0.0\n",
      "    Uninstalling aiconfig-tools-0.0.0:\n",
      "      Successfully uninstalled aiconfig-tools-0.0.0\n",
      "Successfully installed aiconfig-tools-0.0.0\n"
     ]
    }
   ],
   "source": [
    "#1 install the package\n",
    "\n",
    "package_path = \" ..\"\n",
    "requirements = \"../requirements.txt\"\n",
    "\n",
    "!python3 -m pip install -r $requirements\n",
    "!python3 -m pip install -e $package_path"
   ]
  },
  {
   "cell_type": "code",
   "execution_count": 2,
   "metadata": {},
   "outputs": [],
   "source": [
    "from aiconfig_tools import AIConfigRuntime\n",
    "\n",
    "#2 create aiconfig runtime\n",
    "\n",
    "aiconfig = AIConfigRuntime.create()"
   ]
  },
  {
   "cell_type": "code",
   "execution_count": 3,
   "metadata": {},
   "outputs": [],
   "source": [
    "\n",
    "from aiconfig_tools.AIConfigSettings import ModelMetadata, Prompt\n",
    "\n",
    "# Construct a prompt\n",
    "prompt = Prompt(\n",
    "    name= \"prompt1\",\n",
    "    input= \"Hi! What are transformers?\",\n",
    "    metadata={\n",
    "        \"model\": \"gpt-3.5-turbo\",\n",
    "    }\n",
    ")\n",
    "\n",
    "aiconfig.add_prompt(prompt.name, prompt)\n",
    "\n",
    "# Add model settings to config\n",
    "model_name=\"gpt-3.5-turbo\"\n",
    "model_settings={      \n",
    "    \"top_k\": 40,\n",
    "    \"top_p\": 0.95,\n",
    "    \"model\": \"gpt-3.5-turbo\",\n",
    "    \"temperature\": 0.9 \n",
    "}\n",
    "aiconfig.add_model(model_name, model_settings)"
   ]
  },
  {
   "cell_type": "code",
   "execution_count": 4,
   "metadata": {},
   "outputs": [
    {
     "name": "stdout",
     "output_type": "stream",
     "text": [
      "Transformers are devices used to transfer electrical energy between two or more circuits using electromagnetic induction. They consist of two or more coils of wire wrapped around a core made of magnetic material, typically iron or steel. The primary coil, or input coil, is connected to the power source, and the secondary coil, or output coil, is connected to the load. \n",
      "\n",
      "When an alternating current (AC) flows through the primary coil, it creates a changing magnetic field that induces a voltage in the secondary coil. The turns ratio between the primary and secondary coils determines the voltage transformation ratio. Transformers are commonly used to step up or step down voltages in electrical transmission and distribution systems, as well as in various electronic devices.\n",
      "\n",
      "Transformers offer a highly efficient means of transferring electrical energy with minimal power loss. They are vital components in power grids, allowing for efficient long-distance transmission of electricity at different voltage levels. Transformers also play a crucial role in voltage regulation, isolation, and impedance matching in various electrical applications.\n"
     ]
    }
   ],
   "source": [
    "import os\n",
    "\n",
    "from dotenv import load_dotenv\n",
    "import openai\n",
    "\n",
    "# Make sure you set the api key in .env file in the same directory as this notebook\n",
    "load_dotenv()\n",
    "openai.api_key = os.getenv(\"OPENAI_API_KEY\")\n",
    "\n",
    "# Execute\n",
    "parameters = {}\n",
    "await aiconfig.run(\"prompt1\", parameters)\n",
    "\n",
    "# Display output  nicely\n",
    "latest_output = aiconfig.get_latest_output(\"prompt1\")\n",
    "output_text = aiconfig.get_output_text(\"prompt1\", latest_output)\n",
    "print(output_text)\n"
   ]
  },
  {
   "cell_type": "markdown",
   "metadata": {},
   "source": []
  },
  {
   "cell_type": "code",
   "execution_count": 5,
   "metadata": {},
   "outputs": [
    {
     "name": "stdout",
     "output_type": "stream",
     "text": [
      "{'description': '',\n",
      " 'metadata': {'models': {'gpt-3.5-turbo': {'model': 'gpt-3.5-turbo',\n",
      "                                           'temperature': 0.9,\n",
      "                                           'top_k': 40,\n",
      "                                           'top_p': 0.95}},\n",
      "              'parameters': {}},\n",
      " 'name': '',\n",
      " 'prompt_index': {'prompt1': {'input': 'Hi! What are transformers? I want to know about the comic '\n",
      "                                       'version',\n",
      "                              'metadata': {'model': 'gpt-3.5-turbo',\n",
      "                                           'parameters': {},\n",
      "                                           'tags': None},\n",
      "                              'name': 'prompt1',\n",
      "                              'outputs': []}},\n",
      " 'prompts': [{'input': 'Hi! What are transformers? I want to know about the comic version',\n",
      "              'metadata': {'model': 'gpt-3.5-turbo', 'parameters': {}, 'tags': None},\n",
      "              'name': 'prompt1',\n",
      "              'outputs': []}],\n",
      " 'schema_version': 'latest'}\n"
     ]
    }
   ],
   "source": [
    "# Update prompt\n",
    "prompt = Prompt(\n",
    "    name= \"prompt1\",\n",
    "    input= \"Hi! What are transformers? I want to know about the comic version\",\n",
    "    metadata={\n",
    "        \"model\": \"gpt-3.5-turbo\",\n",
    "    }\n",
    ")\n",
    "\n",
    "aiconfig.update_prompt(\"prompt1\", prompt)\n",
    "\n",
    "from pprint import pprint\n",
    "pprint(aiconfig.model_dump(), width = 100)\n",
    "\n"
   ]
  },
  {
   "cell_type": "code",
   "execution_count": 6,
   "metadata": {},
   "outputs": [
    {
     "name": "stdout",
     "output_type": "stream",
     "text": [
      "The Transformers are a fictional species of sentient, living robotic beings from the planet Cybertron. They are divided into two factions: the heroic Autobots and the evil Decepticons. The Transformers have been featured in a variety of media, including comic books, animated series, and live-action films.\n",
      "\n",
      "The Transformers were created by Hasbro in 1984. The first Transformers toy line was based on a Japanese toy line called Diaclone. The Transformers were an immediate success, and they have been popular ever since.\n",
      "\n",
      "The Transformers have been featured in a number of comic book series. The first Transformers comic book series was published by Marvel Comics in 1984. The Marvel Comics Transformers series was followed by a number of other Transformers comic book series, including a series published by Dreamwave Productions and a series published by IDW Publishing.\n",
      "\n",
      "The Transformers have also been featured in a number of animated series. The first Transformers animated series was The Transformers, which aired from 1984 to 1987. The Transformers was followed by a number of other Transformers animated series, including The Transformers: The Movie, Transformers: Generation 2, Transformers: Beast Wars, Transformers: Beast Machines, Transformers: Robots in Disguise, Transformers: Armada, Transformers: Energon, Transformers: Cybertron, Transformers: Animated, Transformers Prime, Transformers: Robots in Disguise (2015), and Transformers: Rescue Bots.\n",
      "\n",
      "The Transformers have also been featured in a number of live-action films. The first Transformers live-action film was Transformers, which was released in 2007. The Transformers was followed by a number of other Transformers live-action films, including Transformers: Revenge of the Fallen, Transformers: Dark of the Moon, Transformers: Age of Extinction, Transformers: The Last Knight, and Bumblebee.\n",
      "\n",
      "The Transformers are a popular and iconic fictional species. They have been featured in a variety of media, and they have been enjoyed by fans of all ages for over 30 years.\n"
     ]
    }
   ],
   "source": [
    "# update settings\n",
    "PaLM_settings = ModelMetadata(name = \"PaLM Chat\", \n",
    "                              settings = {\"top_k\": 40,\n",
    "                        \"top_p\": 0.95,\n",
    "                        \"model\": \"models/chat-bison-001\",\n",
    "                        \"temperature\": 0.9}\n",
    "                        )\n",
    "aiconfig.update_model(PaLM_settings, \"prompt1\")\n",
    "\n",
    "await aiconfig.run(\"prompt1\", parameters)\n",
    "# Display output  nicely\n",
    "latest_output = aiconfig.get_latest_output(\"prompt1\")\n",
    "output_text = aiconfig.get_output_text(\"prompt1\", latest_output)\n",
    "print(output_text)\n"
   ]
  },
  {
   "cell_type": "code",
   "execution_count": 7,
   "metadata": {},
   "outputs": [
    {
     "name": "stdout",
     "output_type": "stream",
     "text": [
      "{'description': '',\n",
      " 'metadata': {'models': {'gpt-3.5-turbo': {'model': 'gpt-3.5-turbo',\n",
      "                                           'temperature': 0.9,\n",
      "                                           'top_k': 40,\n",
      "                                           'top_p': 0.95}},\n",
      "              'parameters': {}},\n",
      " 'name': '',\n",
      " 'prompt_index': {},\n",
      " 'prompts': [],\n",
      " 'schema_version': 'latest'}\n"
     ]
    }
   ],
   "source": [
    "# delete prompt\n",
    "\n",
    "aiconfig.delete_prompt(\"prompt1\")\n",
    "\n",
    "pprint(aiconfig.model_dump(), width = 100)"
   ]
  }
 ],
 "metadata": {
  "kernelspec": {
   "display_name": "Python 3",
   "language": "python",
   "name": "python3"
  },
  "language_info": {
   "codemirror_mode": {
    "name": "ipython",
    "version": 3
   },
   "file_extension": ".py",
   "mimetype": "text/x-python",
   "name": "python",
   "nbconvert_exporter": "python",
   "pygments_lexer": "ipython3",
   "version": "3.11.5"
  },
  "orig_nbformat": 4
 },
 "nbformat": 4,
 "nbformat_minor": 2
}

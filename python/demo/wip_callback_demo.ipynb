{
 "cells": [
  {
   "cell_type": "code",
   "execution_count": 4,
   "metadata": {},
   "outputs": [],
   "source": [
    "\n",
    "from aiconfig import AIConfigRuntime\n",
    "from aiconfig.callback import CallbackManager\n",
    "import logging\n",
    "\n",
    "\n",
    "def setup_logger():\n",
    "    level=logging.DEBUG\n",
    "    name = \"my-logger\"\n",
    "    log_file='my_logfile.txt'\n",
    "\n",
    "    formatter = logging.Formatter('%(asctime)s - %(name)s - %(levelname)s - %(message)s')\n",
    "    handler = logging.FileHandler(log_file)\n",
    "    handler.setFormatter(formatter)\n",
    "\n",
    "    logger = logging.getLogger(name)\n",
    "    logger.setLevel(level)\n",
    "    logger.addHandler(handler)\n",
    "    return logger\n",
    "\n",
    "# Define a Logging Callback\n",
    "logger = setup_logger()\n",
    "def callback_handler(event):\n",
    "    logger.info(f\"Callback called.\\nevent: {event}\")\n",
    "\n",
    "# Construct Callback Manager\n",
    "# Very stripped down version of the CallbackManager from SR.\n",
    "callback_manager = CallbackManager([callback_handler])"
   ]
  },
  {
   "cell_type": "code",
   "execution_count": 5,
   "metadata": {},
   "outputs": [],
   "source": [
    "# .env (ignore)\n",
    "from dotenv import load_dotenv\n",
    "import openai\n",
    "import os\n",
    "\n",
    "load_dotenv()\n",
    "\n",
    "openai.api_key = os.getenv(\"OPENAI_API_KEY\")"
   ]
  },
  {
   "cell_type": "code",
   "execution_count": 6,
   "metadata": {},
   "outputs": [
    {
     "data": {
      "text/plain": [
       "[ExecuteResult(output_type='execute_result', execution_count=0, data=<OpenAIObject at 0x15084ae10> JSON: {\n",
       "   \"role\": \"assistant\",\n",
       "   \"content\": \"Based on the information provided, it seems that your friend PaLM talked to you about Transformers. However, without further context or details about the conversation, it is difficult to perform a comprehensive analysis of your friend's response.\"\n",
       " }, mime_type=None, metadata={'id': 'chatcmpl-8IP9VMiyp4CJDojJzkDyCdm680JKc', 'object': 'chat.completion', 'created': 1699397281, 'model': 'gpt-3.5-turbo-0613', 'usage': <OpenAIObject at 0x150849f10> JSON: {\n",
       "   \"prompt_tokens\": 25,\n",
       "   \"completion_tokens\": 44,\n",
       "   \"total_tokens\": 69\n",
       " }, 'finish_reason': 'stop'})]"
      ]
     },
     "execution_count": 6,
     "metadata": {},
     "output_type": "execute_result"
    }
   ],
   "source": [
    "from aiconfig import AIConfigRuntime\n",
    "from aiconfig.callback import CallbackManager\n",
    "import openai\n",
    "\n",
    "config = AIConfigRuntime.load(\"chained-config.json\")\n",
    "# Register the callback manager\n",
    "config.callback_manager = callback_manager\n",
    "\n",
    "await config.resolve(\"prompt1\")\n",
    "await config.run(\"prompt1\")"
   ]
  }
 ],
 "metadata": {
  "kernelspec": {
   "display_name": "Python 3",
   "language": "python",
   "name": "python3"
  },
  "language_info": {
   "codemirror_mode": {
    "name": "ipython",
    "version": 3
   },
   "file_extension": ".py",
   "mimetype": "text/x-python",
   "name": "python",
   "nbconvert_exporter": "python",
   "pygments_lexer": "ipython3",
   "version": "3.11.5"
  }
 },
 "nbformat": 4,
 "nbformat_minor": 2
}

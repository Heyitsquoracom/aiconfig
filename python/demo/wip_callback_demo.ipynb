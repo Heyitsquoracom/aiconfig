{
 "cells": [
  {
   "cell_type": "code",
   "execution_count": 1,
   "metadata": {},
   "outputs": [
    {
     "name": "stderr",
     "output_type": "stream",
     "text": [
      "/opt/homebrew/lib/python3.11/site-packages/pydantic/_internal/_fields.py:128: UserWarning: Field \"model_parsers\" has conflict with protected namespace \"model_\".\n",
      "\n",
      "You may be able to resolve this warning by setting `model_config['protected_namespaces'] = ()`.\n",
      "  warnings.warn(\n"
     ]
    }
   ],
   "source": [
    "\n",
    "from aiconfig import AIConfigRuntime\n",
    "from aiconfig.callback import CallbackManager\n",
    "import logging\n",
    "\n",
    "\n",
    "def setup_logger():\n",
    "    level=logging.DEBUG\n",
    "    name = \"my-logger\"\n",
    "    log_file='my_logfile.txt'\n",
    "\n",
    "    formatter = logging.Formatter('%(asctime)s - %(name)s - %(levelname)s - %(message)s')\n",
    "    handler = logging.FileHandler(log_file)\n",
    "    handler.setFormatter(formatter)\n",
    "\n",
    "    logger = logging.getLogger(name)\n",
    "    logger.setLevel(level)\n",
    "    logger.addHandler(handler)\n",
    "    return logger\n",
    "\n",
    "\n",
    "\n",
    "# Define a Logging Callback\n",
    "logger = setup_logger()\n",
    "def callback_handler(event):\n",
    "    logger.info(f\"Callback called.\\nevent: {event}\")\n",
    "\n",
    "# Construct Callback Manager\n",
    "# Very stripped down version of the CallbackManager from SR.\n",
    "callback_manager = CallbackManager([callback_handler])"
   ]
  },
  {
   "cell_type": "code",
   "execution_count": 2,
   "metadata": {},
   "outputs": [],
   "source": [
    "# .env (ignore)\n",
    "from dotenv import load_dotenv\n",
    "import openai\n",
    "import os\n",
    "\n",
    "load_dotenv()\n",
    "\n",
    "openai.api_key = os.getenv(\"OPENAI_API_KEY\")"
   ]
  },
  {
   "cell_type": "code",
   "execution_count": 3,
   "metadata": {},
   "outputs": [
    {
     "data": {
      "text/plain": [
       "[ExecuteResult(output_type='execute_result', execution_count=0, data=<OpenAIObject at 0x16853edb0> JSON: {\n",
       "   \"role\": \"assistant\",\n",
       "   \"content\": \"Based on the response your friend PaLM provided about Transformers, it is difficult to gauge their opinion or level of knowledge about the topic. Your friend acknowledges that they were informed about Transformers, but no specific details are mentioned. As such, it's unclear whether they simply know the existence of the franchise or if they possess a deeper understanding. To further understand their response, it would be necessary to ask follow-up questions about Transformers and their opinion or experiences with it.\"\n",
       " }, mime_type=None, metadata={'id': 'chatcmpl-8IPgOv0sWQfcBi2LE390yuADtVYto', 'object': 'chat.completion', 'created': 1699399320, 'model': 'gpt-3.5-turbo-0613', 'usage': <OpenAIObject at 0x16853ec90> JSON: {\n",
       "   \"prompt_tokens\": 25,\n",
       "   \"completion_tokens\": 92,\n",
       "   \"total_tokens\": 117\n",
       " }, 'finish_reason': 'stop'})]"
      ]
     },
     "execution_count": 3,
     "metadata": {},
     "output_type": "execute_result"
    }
   ],
   "source": [
    "from aiconfig import AIConfigRuntime\n",
    "from aiconfig.callback import CallbackManager\n",
    "import openai\n",
    "\n",
    "config = AIConfigRuntime.load(\"chained-config.json\")\n",
    "# Register the callback manager by setting the attribute\n",
    "config.callback_manager = callback_manager\n",
    "\n",
    "await config.resolve(\"prompt1\")\n",
    "await config.run(\"prompt1\")"
   ]
  }
 ],
 "metadata": {
  "kernelspec": {
   "display_name": "Python 3",
   "language": "python",
   "name": "python3"
  },
  "language_info": {
   "codemirror_mode": {
    "name": "ipython",
    "version": 3
   },
   "file_extension": ".py",
   "mimetype": "text/x-python",
   "name": "python",
   "nbconvert_exporter": "python",
   "pygments_lexer": "ipython3",
   "version": "3.11.5"
  }
 },
 "nbformat": 4,
 "nbformat_minor": 2
}

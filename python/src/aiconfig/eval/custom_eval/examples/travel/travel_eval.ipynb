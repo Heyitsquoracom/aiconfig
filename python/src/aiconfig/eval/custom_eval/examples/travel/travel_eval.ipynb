{
 "cells": [
  {
   "cell_type": "markdown",
   "metadata": {},
   "source": [
    "# Promptfoo-style eval without promptfoo"
   ]
  },
  {
   "cell_type": "markdown",
   "metadata": {},
   "source": [
    "Goal: Run test-suite-style eval (like Promptfoo) with completely custom components, i.e. without using Promptfoo.\n",
    "\n",
    "In this case, you have 2 options:\n",
    "1. Run with inputs. Library runs AIConfig for you first.\n",
    "2. Run with outputs only. You run AIConfig and save the outputs for eval.\n",
    "\n",
    "Run the notebook in order for an example of each.\n",
    "\n",
    "Assumptions:\n",
    "* I have a parametrized AIConfig with a test input called \"the_query\", like this: \n",
    "`\"input\": \"{{the_query}}\"`\n",
    "* I have some evaluation criteria in mind for the AIConfig's text output.\n",
    "* Promptfoo integration does not meet my needs, e.g.\n",
    "  * I want to run the AIConfig myself instead of handing control to Promptfoo\n",
    "  * I need to scale beyond what Promptfoo can reasonably handle"
   ]
  },
  {
   "cell_type": "code",
   "execution_count": 1,
   "metadata": {},
   "outputs": [
    {
     "name": "stdout",
     "output_type": "stream",
     "text": [
      "Imports and set log level\n"
     ]
    },
    {
     "name": "stderr",
     "output_type": "stream",
     "text": [
      "/opt/homebrew/Caskroom/miniconda/base/envs/aiconfig/lib/python3.10/site-packages/pydantic/_internal/_fields.py:128: UserWarning: Field \"model_parsers\" has conflict with protected namespace \"model_\".\n",
      "\n",
      "You may be able to resolve this warning by setting `model_config['protected_namespaces'] = ()`.\n",
      "  warnings.warn(\n",
      "/opt/homebrew/Caskroom/miniconda/base/envs/aiconfig/lib/python3.10/site-packages/tqdm/auto.py:21: TqdmWarning: IProgress not found. Please update jupyter and ipywidgets. See https://ipywidgets.readthedocs.io/en/stable/user_install.html\n",
      "  from .autonotebook import tqdm as notebook_tqdm\n"
     ]
    }
   ],
   "source": [
    "print(\"Imports and set log level\")\n",
    "\n",
    "import logging\n",
    "\n",
    "import pandas as pd\n",
    "import lastmile_utils.lib.jupyter as jupyter_utils\n",
    "\n",
    "pd.set_option(\"display.max_colwidth\", None)\n",
    "\n",
    "from aiconfig.eval.lib import (\n",
    "    brevity,\n",
    "    substring_match,\n",
    "    run_test_suite_with_inputs,\n",
    "    TestSuiteWithInputsSettings,\n",
    ")\n",
    "\n",
    "jupyter_utils.set_log_level(logging.WARNING)\n",
    "\n"
   ]
  },
  {
   "cell_type": "markdown",
   "metadata": {},
   "source": [
    "## Option 1: provide inputs, library runs AIConfig for you"
   ]
  },
  {
   "cell_type": "code",
   "execution_count": 2,
   "metadata": {},
   "outputs": [
    {
     "name": "stdout",
     "output_type": "stream",
     "text": [
      "\n",
      "    Define test suite with inputs (option 1), \n",
      "      as opposed to using pre-computed AIConfig outputs (option 2)\n",
      "      \n",
      "      Define list of inputs and test criteria.\n",
      "      In this case, we are checking brevity for each test case\n",
      "      as well as checking that each output contains a specific expected substring.\n",
      "\n"
     ]
    }
   ],
   "source": [
    "print(\n",
    "    \"\"\"\n",
    "    Define test suite with inputs (option 1), \n",
    "      as opposed to using pre-computed AIConfig outputs (option 2)\n",
    "      \n",
    "      Define list of inputs and test criteria.\n",
    "      In this case, we are checking brevity for each test case\n",
    "      as well as checking that each output contains a specific expected substring.\n",
    "\"\"\"\n",
    ")\n",
    "\n",
    "\n",
    "ts_settings = TestSuiteWithInputsSettings(\n",
    "    prompt_name=\"gen_itinerary\",\n",
    "    aiconfig_path=\"./travel_parametrized.aiconfig.json\",\n",
    ")\n",
    "\n",
    "\n",
    "test_inputs_with_substrings = [\n",
    "    (\"Food\", \"Magnolia Bakery\"),\n",
    "    (\"Iconic midtown skyscrapers\", \"Empire State Building\"),\n",
    "]\n",
    "expected_substrings = []\n",
    "\n",
    "test_suite_with_inputs = []\n",
    "for test_input, substring in test_inputs_with_substrings:\n",
    "    # Add the brevity metric\n",
    "    test_fn1 = brevity\n",
    "    test_suite_with_inputs.append((test_input, test_fn1))\n",
    "    # Add substring check function\n",
    "    test_fn2 = substring_match(substring, case_sensitive=False)\n",
    "    test_suite_with_inputs.append((test_input, test_fn2))"
   ]
  },
  {
   "cell_type": "code",
   "execution_count": 3,
   "metadata": {},
   "outputs": [
    {
     "name": "stdout",
     "output_type": "stream",
     "text": [
      "If you like, you can inspect the test suite before passing it to the evaluation library.\n",
      "\n",
      "Test input:\n",
      " Food \n",
      "Function:\n",
      " <function brevity at 0x134f424d0>\n",
      "\n",
      "Test input:\n",
      " Food \n",
      "Function:\n",
      " functools.partial(<function contains_substring at 0x134f42a70>, substring='Magnolia Bakery', case_sensitive=False)\n",
      "\n",
      "Test input:\n",
      " Iconic midtown skyscrapers \n",
      "Function:\n",
      " <function brevity at 0x134f424d0>\n",
      "\n",
      "Test input:\n",
      " Iconic midtown skyscrapers \n",
      "Function:\n",
      " functools.partial(<function contains_substring at 0x134f42a70>, substring='Empire State Building', case_sensitive=False)\n"
     ]
    }
   ],
   "source": [
    "print(\"If you like, you can inspect the test suite before passing it to the evaluation library.\")\n",
    "\n",
    "for test_input, fn in test_suite_with_inputs:\n",
    "    print(\"\\nTest input:\\n\", test_input, \"\\nFunction:\\n\", fn)"
   ]
  },
  {
   "cell_type": "code",
   "execution_count": 4,
   "metadata": {},
   "outputs": [
    {
     "name": "stdout",
     "output_type": "stream",
     "text": [
      "Run the eval interface (option 1, with inputs)\n",
      "Raw output\n"
     ]
    },
    {
     "data": {
      "text/html": [
       "<div>\n",
       "<style scoped>\n",
       "    .dataframe tbody tr th:only-of-type {\n",
       "        vertical-align: middle;\n",
       "    }\n",
       "\n",
       "    .dataframe tbody tr th {\n",
       "        vertical-align: top;\n",
       "    }\n",
       "\n",
       "    .dataframe thead th {\n",
       "        text-align: right;\n",
       "    }\n",
       "</style>\n",
       "<table border=\"1\" class=\"dataframe\">\n",
       "  <thead>\n",
       "    <tr style=\"text-align: right;\">\n",
       "      <th></th>\n",
       "      <th>input</th>\n",
       "      <th>aiconfig_output</th>\n",
       "      <th>value</th>\n",
       "      <th>metric_name</th>\n",
       "      <th>metric_description</th>\n",
       "      <th>best_value</th>\n",
       "      <th>worst_value</th>\n",
       "    </tr>\n",
       "  </thead>\n",
       "  <tbody>\n",
       "    <tr>\n",
       "      <th>0</th>\n",
       "      <td>Food</td>\n",
       "      <td>1. Visit Chelsea Market: Explore gourmet shops, bakeries, and restaurants.\n",
       "2. Food Tour in Queens: Discover diverse culinary scene guided by an expert.\n",
       "3. Attend Smorgasburg: Enjoy NYC's largest open-air food market.</td>\n",
       "      <td>216.0</td>\n",
       "      <td>brevity</td>\n",
       "      <td>Absolute text length</td>\n",
       "      <td>1.0</td>\n",
       "      <td>inf</td>\n",
       "    </tr>\n",
       "    <tr>\n",
       "      <th>1</th>\n",
       "      <td>Food</td>\n",
       "      <td>1. Visit Chelsea Market: Explore gourmet shops, bakeries, and restaurants.\n",
       "2. Food Tour in Queens: Discover diverse culinary scene guided by an expert.\n",
       "3. Attend Smorgasburg: Enjoy NYC's largest open-air food market.</td>\n",
       "      <td>0.0</td>\n",
       "      <td>contains_substring</td>\n",
       "      <td>1.0 (pass) if contains given substring</td>\n",
       "      <td>1.0</td>\n",
       "      <td>0.0</td>\n",
       "    </tr>\n",
       "    <tr>\n",
       "      <th>2</th>\n",
       "      <td>Iconic midtown skyscrapers</td>\n",
       "      <td>Visit Top of the Rock Observation Deck for panoramic views. Enjoy the Empire State Building's sky-high vistas. Explore the history and architecture in Grand Central Terminal.</td>\n",
       "      <td>174.0</td>\n",
       "      <td>brevity</td>\n",
       "      <td>Absolute text length</td>\n",
       "      <td>1.0</td>\n",
       "      <td>inf</td>\n",
       "    </tr>\n",
       "    <tr>\n",
       "      <th>3</th>\n",
       "      <td>Iconic midtown skyscrapers</td>\n",
       "      <td>Visit Top of the Rock Observation Deck for panoramic views. Enjoy the Empire State Building's sky-high vistas. Explore the history and architecture in Grand Central Terminal.</td>\n",
       "      <td>1.0</td>\n",
       "      <td>contains_substring</td>\n",
       "      <td>1.0 (pass) if contains given substring</td>\n",
       "      <td>1.0</td>\n",
       "      <td>0.0</td>\n",
       "    </tr>\n",
       "  </tbody>\n",
       "</table>\n",
       "</div>"
      ],
      "text/plain": [
       "                        input  \\\n",
       "0                        Food   \n",
       "1                        Food   \n",
       "2  Iconic midtown skyscrapers   \n",
       "3  Iconic midtown skyscrapers   \n",
       "\n",
       "                                                                                                                                                                                                            aiconfig_output  \\\n",
       "0  1. Visit Chelsea Market: Explore gourmet shops, bakeries, and restaurants.\n",
       "2. Food Tour in Queens: Discover diverse culinary scene guided by an expert.\n",
       "3. Attend Smorgasburg: Enjoy NYC's largest open-air food market.   \n",
       "1  1. Visit Chelsea Market: Explore gourmet shops, bakeries, and restaurants.\n",
       "2. Food Tour in Queens: Discover diverse culinary scene guided by an expert.\n",
       "3. Attend Smorgasburg: Enjoy NYC's largest open-air food market.   \n",
       "2                                            Visit Top of the Rock Observation Deck for panoramic views. Enjoy the Empire State Building's sky-high vistas. Explore the history and architecture in Grand Central Terminal.   \n",
       "3                                            Visit Top of the Rock Observation Deck for panoramic views. Enjoy the Empire State Building's sky-high vistas. Explore the history and architecture in Grand Central Terminal.   \n",
       "\n",
       "   value         metric_name                      metric_description  \\\n",
       "0  216.0             brevity                    Absolute text length   \n",
       "1    0.0  contains_substring  1.0 (pass) if contains given substring   \n",
       "2  174.0             brevity                    Absolute text length   \n",
       "3    1.0  contains_substring  1.0 (pass) if contains given substring   \n",
       "\n",
       "   best_value  worst_value  \n",
       "0         1.0          inf  \n",
       "1         1.0          0.0  \n",
       "2         1.0          inf  \n",
       "3         1.0          0.0  "
      ]
     },
     "execution_count": 4,
     "metadata": {},
     "output_type": "execute_result"
    }
   ],
   "source": [
    "print(\"Run the eval interface (option 1, with inputs)\")\n",
    "\n",
    "df_result = await run_test_suite_with_inputs(\n",
    "    test_suite=test_suite_with_inputs,\n",
    "    settings=ts_settings,\n",
    ")\n",
    "\n",
    "print(\"Raw output\")\n",
    "df_result"
   ]
  },
  {
   "cell_type": "code",
   "execution_count": 5,
   "metadata": {},
   "outputs": [
    {
     "name": "stdout",
     "output_type": "stream",
     "text": [
      "Unstack for nicer manual review\n"
     ]
    },
    {
     "data": {
      "text/html": [
       "<div>\n",
       "<style scoped>\n",
       "    .dataframe tbody tr th:only-of-type {\n",
       "        vertical-align: middle;\n",
       "    }\n",
       "\n",
       "    .dataframe tbody tr th {\n",
       "        vertical-align: top;\n",
       "    }\n",
       "\n",
       "    .dataframe thead th {\n",
       "        text-align: right;\n",
       "    }\n",
       "</style>\n",
       "<table border=\"1\" class=\"dataframe\">\n",
       "  <thead>\n",
       "    <tr style=\"text-align: right;\">\n",
       "      <th></th>\n",
       "      <th>metric_name</th>\n",
       "      <th>brevity</th>\n",
       "      <th>contains_substring</th>\n",
       "    </tr>\n",
       "    <tr>\n",
       "      <th>input</th>\n",
       "      <th>aiconfig_output</th>\n",
       "      <th></th>\n",
       "      <th></th>\n",
       "    </tr>\n",
       "  </thead>\n",
       "  <tbody>\n",
       "    <tr>\n",
       "      <th>Food</th>\n",
       "      <th>1. Visit Chelsea Market: Explore gourmet shops, bakeries, and restaurants.\\n2. Food Tour in Queens: Discover diverse culinary scene guided by an expert.\\n3. Attend Smorgasburg: Enjoy NYC's largest open-air food market.</th>\n",
       "      <td>216.0</td>\n",
       "      <td>0.0</td>\n",
       "    </tr>\n",
       "    <tr>\n",
       "      <th>Iconic midtown skyscrapers</th>\n",
       "      <th>Visit Top of the Rock Observation Deck for panoramic views. Enjoy the Empire State Building's sky-high vistas. Explore the history and architecture in Grand Central Terminal.</th>\n",
       "      <td>174.0</td>\n",
       "      <td>1.0</td>\n",
       "    </tr>\n",
       "  </tbody>\n",
       "</table>\n",
       "</div>"
      ],
      "text/plain": [
       "metric_name                                                                                                                                                                                                                                            brevity  \\\n",
       "input                      aiconfig_output                                                                                                                                                                                                                       \n",
       "Food                       1. Visit Chelsea Market: Explore gourmet shops, bakeries, and restaurants.\\n2. Food Tour in Queens: Discover diverse culinary scene guided by an expert.\\n3. Attend Smorgasburg: Enjoy NYC's largest open-air food market.    216.0   \n",
       "Iconic midtown skyscrapers Visit Top of the Rock Observation Deck for panoramic views. Enjoy the Empire State Building's sky-high vistas. Explore the history and architecture in Grand Central Terminal.                                                174.0   \n",
       "\n",
       "metric_name                                                                                                                                                                                                                                            contains_substring  \n",
       "input                      aiconfig_output                                                                                                                                                                                                                                 \n",
       "Food                       1. Visit Chelsea Market: Explore gourmet shops, bakeries, and restaurants.\\n2. Food Tour in Queens: Discover diverse culinary scene guided by an expert.\\n3. Attend Smorgasburg: Enjoy NYC's largest open-air food market.                 0.0  \n",
       "Iconic midtown skyscrapers Visit Top of the Rock Observation Deck for panoramic views. Enjoy the Empire State Building's sky-high vistas. Explore the history and architecture in Grand Central Terminal.                                                             1.0  "
      ]
     },
     "execution_count": 5,
     "metadata": {},
     "output_type": "execute_result"
    }
   ],
   "source": [
    "print(\"Unstack for nicer manual review\")\n",
    "df_result.set_index([\"input\", \"aiconfig_output\", \"metric_name\"])\\\n",
    "        .value.unstack(\"metric_name\")"
   ]
  },
  {
   "cell_type": "markdown",
   "metadata": {},
   "source": [
    "## Option 2: Run eval on already-computed AIConfig outputs."
   ]
  },
  {
   "cell_type": "code",
   "execution_count": 6,
   "metadata": {},
   "outputs": [
    {
     "name": "stdout",
     "output_type": "stream",
     "text": [
      "Define outputs to test and criteria, similar to option 1.\n"
     ]
    }
   ],
   "source": [
    "print(\"Define outputs to test and criteria, similar to option 1.\")\n",
    "import itertools\n",
    "\n",
    "\n",
    "from aiconfig.eval.lib import (\n",
    "    brevity,\n",
    "    substring_match,\n",
    "    run_test_suite_outputs_only,\n",
    ")\n",
    "\n",
    "\n",
    "\n",
    "test_outputs_with_substrings = [\n",
    "    (\n",
    "        \"Begin at Chelsea Market for diverse food options. Continue to Queens for immersive food tours. Conclude at Smorgasburg for unique outdoor food market experience\",\n",
    "        \"Magnolia Bakery\"\n",
    "    ),\n",
    "    (\n",
    "        \"1. Empire State Building: Observation deck visit, explore exhibits and historical displays. 2. Rockefeller Center: Visit \\\"Top of the Rock\\\", ice-skating, NBC Studio tour, shopping and dining. 3. Chrysler Building: Admire exterior and iconic spire, photo opportunities.\",\n",
    "        \"Empire State Building\"\n",
    "    )\n",
    "]\n",
    "\n",
    "\n",
    "\n",
    "test_suite_outputs_only = []\n",
    "for test_output, substring in test_outputs_with_substrings:\n",
    "    # Add the brevity metric\n",
    "    test_fn1 = brevity\n",
    "    test_suite_outputs_only.append((test_output, test_fn1))\n",
    "    # Add substring check function\n",
    "    test_fn2 = substring_match(substring, case_sensitive=False)\n",
    "    test_suite_outputs_only.append(\n",
    "        (test_output, test_fn2)\n",
    "    )"
   ]
  },
  {
   "cell_type": "code",
   "execution_count": 7,
   "metadata": {},
   "outputs": [
    {
     "name": "stdout",
     "output_type": "stream",
     "text": [
      "If you like, you can inspect the test suite before passing it to the evaluation library.\n",
      "\n",
      "Test output:\n",
      " Begin at Chelsea Market for diverse food options. Continue to Queens for immersive food tours. Conclude at Smorgasburg for unique outdoor food market experience \n",
      "Function:\n",
      " <function brevity at 0x134f424d0>\n",
      "\n",
      "Test output:\n",
      " Begin at Chelsea Market for diverse food options. Continue to Queens for immersive food tours. Conclude at Smorgasburg for unique outdoor food market experience \n",
      "Function:\n",
      " functools.partial(<function contains_substring at 0x134f42a70>, substring='Magnolia Bakery', case_sensitive=False)\n",
      "\n",
      "Test output:\n",
      " 1. Empire State Building: Observation deck visit, explore exhibits and historical displays. 2. Rockefeller Center: Visit \"Top of the Rock\", ice-skating, NBC Studio tour, shopping and dining. 3. Chrysler Building: Admire exterior and iconic spire, photo opportunities. \n",
      "Function:\n",
      " <function brevity at 0x134f424d0>\n",
      "\n",
      "Test output:\n",
      " 1. Empire State Building: Observation deck visit, explore exhibits and historical displays. 2. Rockefeller Center: Visit \"Top of the Rock\", ice-skating, NBC Studio tour, shopping and dining. 3. Chrysler Building: Admire exterior and iconic spire, photo opportunities. \n",
      "Function:\n",
      " functools.partial(<function contains_substring at 0x134f42a70>, substring='Empire State Building', case_sensitive=False)\n"
     ]
    }
   ],
   "source": [
    "print(\"If you like, you can inspect the test suite before passing it to the evaluation library.\")\n",
    "\n",
    "for test_output, fn in test_suite_outputs_only:\n",
    "    print(\"\\nTest output:\\n\", test_output, \"\\nFunction:\\n\", fn)"
   ]
  },
  {
   "cell_type": "code",
   "execution_count": 8,
   "metadata": {},
   "outputs": [
    {
     "name": "stdout",
     "output_type": "stream",
     "text": [
      "Run the eval library\n",
      "Raw output\n"
     ]
    },
    {
     "data": {
      "text/html": [
       "<div>\n",
       "<style scoped>\n",
       "    .dataframe tbody tr th:only-of-type {\n",
       "        vertical-align: middle;\n",
       "    }\n",
       "\n",
       "    .dataframe tbody tr th {\n",
       "        vertical-align: top;\n",
       "    }\n",
       "\n",
       "    .dataframe thead th {\n",
       "        text-align: right;\n",
       "    }\n",
       "</style>\n",
       "<table border=\"1\" class=\"dataframe\">\n",
       "  <thead>\n",
       "    <tr style=\"text-align: right;\">\n",
       "      <th></th>\n",
       "      <th>input</th>\n",
       "      <th>aiconfig_output</th>\n",
       "      <th>value</th>\n",
       "      <th>metric_name</th>\n",
       "      <th>metric_description</th>\n",
       "      <th>best_value</th>\n",
       "      <th>worst_value</th>\n",
       "    </tr>\n",
       "  </thead>\n",
       "  <tbody>\n",
       "    <tr>\n",
       "      <th>0</th>\n",
       "      <td>Missing</td>\n",
       "      <td>Begin at Chelsea Market for diverse food options. Continue to Queens for immersive food tours. Conclude at Smorgasburg for unique outdoor food market experience</td>\n",
       "      <td>160.0</td>\n",
       "      <td>brevity</td>\n",
       "      <td>Absolute text length</td>\n",
       "      <td>1.0</td>\n",
       "      <td>inf</td>\n",
       "    </tr>\n",
       "    <tr>\n",
       "      <th>1</th>\n",
       "      <td>Missing</td>\n",
       "      <td>Begin at Chelsea Market for diverse food options. Continue to Queens for immersive food tours. Conclude at Smorgasburg for unique outdoor food market experience</td>\n",
       "      <td>0.0</td>\n",
       "      <td>contains_substring</td>\n",
       "      <td>1.0 (pass) if contains given substring</td>\n",
       "      <td>1.0</td>\n",
       "      <td>0.0</td>\n",
       "    </tr>\n",
       "    <tr>\n",
       "      <th>2</th>\n",
       "      <td>Missing</td>\n",
       "      <td>1. Empire State Building: Observation deck visit, explore exhibits and historical displays. 2. Rockefeller Center: Visit \"Top of the Rock\", ice-skating, NBC Studio tour, shopping and dining. 3. Chrysler Building: Admire exterior and iconic spire, photo opportunities.</td>\n",
       "      <td>267.0</td>\n",
       "      <td>brevity</td>\n",
       "      <td>Absolute text length</td>\n",
       "      <td>1.0</td>\n",
       "      <td>inf</td>\n",
       "    </tr>\n",
       "    <tr>\n",
       "      <th>3</th>\n",
       "      <td>Missing</td>\n",
       "      <td>1. Empire State Building: Observation deck visit, explore exhibits and historical displays. 2. Rockefeller Center: Visit \"Top of the Rock\", ice-skating, NBC Studio tour, shopping and dining. 3. Chrysler Building: Admire exterior and iconic spire, photo opportunities.</td>\n",
       "      <td>1.0</td>\n",
       "      <td>contains_substring</td>\n",
       "      <td>1.0 (pass) if contains given substring</td>\n",
       "      <td>1.0</td>\n",
       "      <td>0.0</td>\n",
       "    </tr>\n",
       "  </tbody>\n",
       "</table>\n",
       "</div>"
      ],
      "text/plain": [
       "     input  \\\n",
       "0  Missing   \n",
       "1  Missing   \n",
       "2  Missing   \n",
       "3  Missing   \n",
       "\n",
       "                                                                                                                                                                                                                                                               aiconfig_output  \\\n",
       "0                                                                                                             Begin at Chelsea Market for diverse food options. Continue to Queens for immersive food tours. Conclude at Smorgasburg for unique outdoor food market experience   \n",
       "1                                                                                                             Begin at Chelsea Market for diverse food options. Continue to Queens for immersive food tours. Conclude at Smorgasburg for unique outdoor food market experience   \n",
       "2  1. Empire State Building: Observation deck visit, explore exhibits and historical displays. 2. Rockefeller Center: Visit \"Top of the Rock\", ice-skating, NBC Studio tour, shopping and dining. 3. Chrysler Building: Admire exterior and iconic spire, photo opportunities.   \n",
       "3  1. Empire State Building: Observation deck visit, explore exhibits and historical displays. 2. Rockefeller Center: Visit \"Top of the Rock\", ice-skating, NBC Studio tour, shopping and dining. 3. Chrysler Building: Admire exterior and iconic spire, photo opportunities.   \n",
       "\n",
       "   value         metric_name                      metric_description  \\\n",
       "0  160.0             brevity                    Absolute text length   \n",
       "1    0.0  contains_substring  1.0 (pass) if contains given substring   \n",
       "2  267.0             brevity                    Absolute text length   \n",
       "3    1.0  contains_substring  1.0 (pass) if contains given substring   \n",
       "\n",
       "   best_value  worst_value  \n",
       "0         1.0          inf  \n",
       "1         1.0          0.0  \n",
       "2         1.0          inf  \n",
       "3         1.0          0.0  "
      ]
     },
     "execution_count": 8,
     "metadata": {},
     "output_type": "execute_result"
    }
   ],
   "source": [
    "print(\"Run the eval library\")\n",
    "df_result = await run_test_suite_outputs_only(\n",
    "    test_suite=test_suite_outputs_only,\n",
    ")\n",
    "print(\"Raw output\")\n",
    "df_result"
   ]
  },
  {
   "cell_type": "code",
   "execution_count": 9,
   "metadata": {},
   "outputs": [
    {
     "name": "stdout",
     "output_type": "stream",
     "text": [
      "Unstack for nicer manual review\n"
     ]
    },
    {
     "data": {
      "text/html": [
       "<div>\n",
       "<style scoped>\n",
       "    .dataframe tbody tr th:only-of-type {\n",
       "        vertical-align: middle;\n",
       "    }\n",
       "\n",
       "    .dataframe tbody tr th {\n",
       "        vertical-align: top;\n",
       "    }\n",
       "\n",
       "    .dataframe thead th {\n",
       "        text-align: right;\n",
       "    }\n",
       "</style>\n",
       "<table border=\"1\" class=\"dataframe\">\n",
       "  <thead>\n",
       "    <tr style=\"text-align: right;\">\n",
       "      <th>metric_name</th>\n",
       "      <th>brevity</th>\n",
       "      <th>contains_substring</th>\n",
       "    </tr>\n",
       "    <tr>\n",
       "      <th>aiconfig_output</th>\n",
       "      <th></th>\n",
       "      <th></th>\n",
       "    </tr>\n",
       "  </thead>\n",
       "  <tbody>\n",
       "    <tr>\n",
       "      <th>1. Empire State Building: Observation deck visit, explore exhibits and historical displays. 2. Rockefeller Center: Visit \"Top of the Rock\", ice-skating, NBC Studio tour, shopping and dining. 3. Chrysler Building: Admire exterior and iconic spire, photo opportunities.</th>\n",
       "      <td>267.0</td>\n",
       "      <td>1.0</td>\n",
       "    </tr>\n",
       "    <tr>\n",
       "      <th>Begin at Chelsea Market for diverse food options. Continue to Queens for immersive food tours. Conclude at Smorgasburg for unique outdoor food market experience</th>\n",
       "      <td>160.0</td>\n",
       "      <td>0.0</td>\n",
       "    </tr>\n",
       "  </tbody>\n",
       "</table>\n",
       "</div>"
      ],
      "text/plain": [
       "metric_name                                                                                                                                                                                                                                                                  brevity  \\\n",
       "aiconfig_output                                                                                                                                                                                                                                                                        \n",
       "1. Empire State Building: Observation deck visit, explore exhibits and historical displays. 2. Rockefeller Center: Visit \"Top of the Rock\", ice-skating, NBC Studio tour, shopping and dining. 3. Chrysler Building: Admire exterior and iconic spire, photo opportunities.    267.0   \n",
       "Begin at Chelsea Market for diverse food options. Continue to Queens for immersive food tours. Conclude at Smorgasburg for unique outdoor food market experience                                                                                                               160.0   \n",
       "\n",
       "metric_name                                                                                                                                                                                                                                                                  contains_substring  \n",
       "aiconfig_output                                                                                                                                                                                                                                                                                  \n",
       "1. Empire State Building: Observation deck visit, explore exhibits and historical displays. 2. Rockefeller Center: Visit \"Top of the Rock\", ice-skating, NBC Studio tour, shopping and dining. 3. Chrysler Building: Admire exterior and iconic spire, photo opportunities.                 1.0  \n",
       "Begin at Chelsea Market for diverse food options. Continue to Queens for immersive food tours. Conclude at Smorgasburg for unique outdoor food market experience                                                                                                                            0.0  "
      ]
     },
     "execution_count": 9,
     "metadata": {},
     "output_type": "execute_result"
    }
   ],
   "source": [
    "print(\"Unstack for nicer manual review\")\n",
    "df_result.set_index([ \"aiconfig_output\", \"metric_name\"])\\\n",
    "        .value.unstack(\"metric_name\")"
   ]
  }
 ],
 "metadata": {
  "kernelspec": {
   "display_name": "aiconfig",
   "language": "python",
   "name": "python3"
  },
  "language_info": {
   "codemirror_mode": {
    "name": "ipython",
    "version": 3
   },
   "file_extension": ".py",
   "mimetype": "text/x-python",
   "name": "python",
   "nbconvert_exporter": "python",
   "pygments_lexer": "ipython3",
   "version": "3.10.13"
  }
 },
 "nbformat": 4,
 "nbformat_minor": 2
}

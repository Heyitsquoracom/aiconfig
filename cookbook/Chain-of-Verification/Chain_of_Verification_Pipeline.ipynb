{
  "cells": [
    {
      "cell_type": "markdown",
      "source": [
        "# Chain-of-Verification (CoVe) Pipeline\n",
        " Given a user query, a LLM generates\n",
        "a baseline response that may contain inaccuracies, e.g. factual hallucinations. To improve this, CoVe first generates a\n",
        "plan of a set of verification questions to ask, and then executes that plan by answering them and hence\n",
        "checking for agreement. We find that individual verification questions are typically answered with\n",
        "higher accuracy than the original accuracy of the facts in the original longform generation. Finally,\n",
        "the revised response takes into account the verifications. Steps as outlined from this [paper](https://arxiv.org/pdf/2309.11495.pdf).\n",
        "1. Generate Baseline Response\n",
        "2. Plan Verification\n",
        "3. Execute Verification\n",
        "4. Generate Final Verified Response\n",
        "\n",
        "**Workflow**\n",
        "1. Started with prompts in [AI Workbook](https://lastmileai.dev/workbooks/clon69opk00c1qrfiighw3k92).\n",
        "2. Downloaded AIConfig (prompts, model params) from workbook - [cove_demo_config.json](https://drive.google.com/file/d/1GXahbgGCV_HReL3hWVZ2L5tVXn_3Iinf/view?usp=sharing)\n",
        "3. Create pipeline for chain-of-verification in this notebook."
      ],
      "metadata": {
        "id": "_KIVLBz840Bi"
      }
    },
    {
      "cell_type": "code",
      "execution_count": null,
      "metadata": {
        "id": "51w-3OZC_Z97"
      },
      "outputs": [],
      "source": [
        "# Install\n",
        "!pip install python-aiconfig\n",
        "!pip install openai==0.28.1\n",
        "from google.colab import userdata\n",
        "\n",
        "import openai\n",
        "import os\n",
        "\n",
        "openai.api_key = userdata.get('openai_api_key')"
      ]
    },
    {
      "cell_type": "code",
      "execution_count": 2,
      "metadata": {
        "id": "6cAw1ekXCxGn",
        "colab": {
          "base_uri": "https://localhost:8080/"
        },
        "outputId": "25aeeae2-c7d1-4ae5-833b-e6ae1aa3f3a2"
      },
      "outputs": [
        {
          "output_type": "stream",
          "name": "stderr",
          "text": [
            "/usr/local/lib/python3.10/dist-packages/pydantic/_internal/_fields.py:128: UserWarning: Field \"model_parsers\" has conflict with protected namespace \"model_\".\n",
            "\n",
            "You may be able to resolve this warning by setting `model_config['protected_namespaces'] = ()`.\n",
            "  warnings.warn(\n"
          ]
        }
      ],
      "source": [
        "# Load AI Config\n",
        "from aiconfig.Config import AIConfigRuntime\n",
        "\n",
        "config_file_path = \"cove_config.json\"\n",
        "config = AIConfigRuntime.from_config(config_file_path)"
      ]
    },
    {
      "cell_type": "markdown",
      "source": [
        "## 1. Baseline Response\n",
        "Prompt LLM with user question. The baseline response from the LLM might contain inaccuracies that we will want to verify. The user prompt is from AIConfig, named\n",
        "`baseline_response_gen`.\n",
        "\n",
        "**Prompt: Name 25 politicians who were born in NY, New York.**"
      ],
      "metadata": {
        "id": "ykZE2ieO6ryn"
      }
    },
    {
      "cell_type": "code",
      "execution_count": 3,
      "metadata": {
        "colab": {
          "base_uri": "https://localhost:8080/"
        },
        "id": "nbolW2mVDeZD",
        "outputId": "e8da719a-30a0-4fb0-fba1-bc95c69b9e61"
      },
      "outputs": [
        {
          "output_type": "stream",
          "name": "stdout",
          "text": [
            "1. Theodore Roosevelt, (26th President of the United States)\n",
            "2. Franklin D. Roosevelt, (32nd President of the United States)\n",
            "3. Alexander Hamilton, (First Secretary of the Treasury)\n",
            "4. John Jay, (First Chief Justice of the United States)\n",
            "5. DeWitt Clinton, (6th Governor of New York)\n",
            "6. William H. Seward, (Secretary of State under Abraham Lincoln)\n",
            "7. Charles Evans Hughes, (11th Chief Justice of the United States)\n",
            "8. Nelson Rockefeller, (41st Vice President of the United States)\n",
            "9. Robert F. Wagner Jr., (Mayor of New York City)\n",
            "10. Bella Abzug, (U.S. Representative)\n",
            "11. Shirley Chisholm, (First African American woman elected to Congress)\n",
            "12. Geraldine Ferraro, (First female Vice Presidential candidate from a major party)\n",
            "13. Eliot Spitzer, (54th Governor of New York)\n",
            "14. Michael Bloomberg, (108th Mayor of New York City)\n",
            "15. Andrew Cuomo, (56th Governor of New York)\n",
            "16. Bill de Blasio, (109th Mayor of New York City)\n",
            "17. Charles Rangel, (U.S. Representative)\n",
            "18. Daniel Patrick Moynihan, (U.S. Senator)\n",
            "19. Jacob Javits, (U.S. Senator)\n",
            "20. Al Smith, (42nd Governor of New York)\n",
            "21. Rudy Giuliani, (107th Mayor of New York City)\n",
            "22. George Pataki, (53rd Governor of New York)\n",
            "23. Kirsten Gillibrand, (U.S. Senator)\n",
            "24. Chuck Schumer, (U.S. Senator)\n",
            "25. Alexandria Ocasio-Cortez, (U.S. Representative)"
          ]
        }
      ],
      "source": [
        "from aiconfig.default_parsers.parameterized_model_parser import InferenceOptions\n",
        "\n",
        "params = {}\n",
        "inference_options = InferenceOptions()\n",
        "\n",
        "baseline_response_completion = await config.run(\"baseline_response_gen\", params, inference_options)\n",
        "baseline_response = config.get_output_text(\"baseline_response_gen\")"
      ]
    },
    {
      "cell_type": "markdown",
      "source": [
        "## 2. Plan Verification\n",
        "Given both query and baseline response, generate a list of verification\n",
        "questions that could help to self-analyze if there are any mistakes in the original response. We will use one verification question here. The verification prompt is from AIConfig, named `verification`.\n",
        "\n",
        "**Verification Prompt: Where was {{name}} born?**"
      ],
      "metadata": {
        "id": "7OQNz9cM7Myv"
      }
    },
    {
      "cell_type": "code",
      "execution_count": 4,
      "metadata": {
        "colab": {
          "base_uri": "https://localhost:8080/"
        },
        "id": "jD9S3q5mMtqd",
        "outputId": "84804357-aaa2-4af3-be06-43a8fc053013"
      },
      "outputs": [
        {
          "output_type": "stream",
          "name": "stdout",
          "text": [
            "Theodore Roosevelt was born in New York City, New York on October 27, 1858.\n"
          ]
        }
      ],
      "source": [
        "params = {\"name\":\"Theodore Roosevelt\"}\n",
        "verification_completion = await config.run(\"verification\", params)\n",
        "verification_response = config.get_output_text(\"verification\")\n",
        "print(verification_response)"
      ]
    },
    {
      "cell_type": "code",
      "execution_count": 5,
      "metadata": {
        "id": "oodubUosU7nE"
      },
      "outputs": [],
      "source": [
        "# Set the remember_chat_context to False\n",
        "config.set_metadata(\"remember_chat_context\", False, \"verification\")\n"
      ]
    },
    {
      "cell_type": "markdown",
      "source": [
        "## 3. Execute Verifications\n",
        "Answer each verification question in turn for the baseline response.  \n",
        "\n",
        "**1. Run Verification Prompt for each politician from baseline prompt list.**\n",
        "\n",
        "**2. Save outputs from all verification prompts into single text to be used as context.**"
      ],
      "metadata": {
        "id": "B9Zaypp075f9"
      }
    },
    {
      "cell_type": "code",
      "execution_count": 6,
      "metadata": {
        "id": "QFew6GhONR8X"
      },
      "outputs": [],
      "source": [
        "# Get indiviual names from baseline response\n",
        "import pandas as pd\n",
        "import time\n",
        "\n",
        "rows = baseline_response.split('\\n')\n",
        "names = []\n",
        "\n",
        "for row in rows:\n",
        "    if not row.strip():\n",
        "        continue\n",
        "    names.append(pd.Series(row).str.extract(r'(\\d+\\.\\s)([^,]*)')[1].values[0])\n",
        "\n",
        "\n",
        "# Execute verification question for each name\n",
        "verification_list = \"\"\n",
        "\n",
        "for n in names:\n",
        "    params = {\"name\": n}\n",
        "    verification_completion = await config.run(\"verification\", params)\n",
        "    verification_text = config.get_output_text(\"verification\")\n",
        "    verification_list += \" \" + verification_text\n"
      ]
    },
    {
      "cell_type": "code",
      "source": [
        "print(verification_list)"
      ],
      "metadata": {
        "colab": {
          "base_uri": "https://localhost:8080/"
        },
        "id": "daeUnqudFIHd",
        "outputId": "1d7c92a8-c40c-4ee4-c706-59b75b90c19f"
      },
      "execution_count": 7,
      "outputs": [
        {
          "output_type": "stream",
          "name": "stdout",
          "text": [
            " Theodore Roosevelt was born in New York City, New York on October 27, 1858. Franklin D. Roosevelt was born in Hyde Park, New York on January 30, 1882. Alexander Hamilton was born in Charlestown, Nevis on January 11, 1755. John Jay was born in New York City, New York on December 12, 1745. DeWitt Clinton was born in Little Britain, New York on March 2, 1769. William H. Seward was born in Florida, New York on May 16, 1801. Charles Evans Hughes was born in Glens Falls, New York on April 11, 1862. Nelson Rockefeller was born in Bar Harbor, Maine on July 8, 1908. Robert F. Wagner Jr. was born in Manhattan, New York on April 20, 1910. Bella Abzug was born in New York City, New York on July 24, 1920. Shirley Chisholm was born in Brooklyn, New York on November 30, 1924. Geraldine Ferraro was born in Newburgh, New York on August 26, 1935. Eliot Spitzer was born in The Bronx, New York on June 10, 1959. Michael Bloomberg was born in Boston, Massachusetts on February 14, 1942. Andrew Cuomo was born in New York City, New York on December 6, 1957. Bill de Blasio was born in Manhattan, New York on May 8, 1961. Charles Rangel was born in Harlem, New York City on June 11, 1930. Daniel Patrick Moynihan was born in Tulsa, Oklahoma on March 16, 1927. Jacob Javits was born in New York City, New York on May 18, 1904. Al Smith was born in New York City, New York on December 30, 1873. Rudy Giuliani was born in Brooklyn, New York on May 28, 1944. George Pataki was born in Peekskill, New York on June 24, 1945. Kirsten Gillibrand was born in Albany, New York on December 9, 1966. Chuck Schumer was born in Brooklyn, New York on November 23, 1950. Alexandria Ocasio-Cortez was born in The Bronx, New York City, New York on October 13, 1989.\n"
          ]
        }
      ]
    },
    {
      "cell_type": "markdown",
      "source": [
        "## 4. Generate Final Verified Response\n",
        "Given the discovered inconsistencies (if any), generate a revised response incorporating the verification results.\n",
        "\n",
        "**Run final verification prompt which cross-checks original output from baseline prompt with the verification context**"
      ],
      "metadata": {
        "id": "Ldof6NdR86qI"
      }
    },
    {
      "cell_type": "code",
      "source": [
        "# Set the remember_chat_context to False\n",
        "config.set_metadata(\"remember_chat_context\", False, \"final_response_gen\")\n",
        "\n",
        "params = {\"verification_list\": verification_list}\n",
        "\n",
        "final_verified_response = await config.run(\"final_response_gen\", params)\n",
        "output = config.get_output_text(\"final_response_gen\")\n",
        "print(output)"
      ],
      "metadata": {
        "colab": {
          "base_uri": "https://localhost:8080/"
        },
        "id": "4MiNxiJc9GPI",
        "outputId": "bfa65e14-ac00-45cb-ce84-2e18dd541d59"
      },
      "execution_count": 8,
      "outputs": [
        {
          "output_type": "stream",
          "name": "stdout",
          "text": [
            "Politicians born in NY, New York:\n",
            "\n",
            "1. Theodore Roosevelt, (26th President of the United States)\n",
            "2. John Jay, (First Chief Justice of the United States)\n",
            "3. Robert F. Wagner Jr., (Mayor of New York City)\n",
            "4. Bella Abzug, (U.S. Representative)\n",
            "5. Shirley Chisholm, (First African American woman elected to Congress)\n",
            "6. Eliot Spitzer, (54th Governor of New York)\n",
            "7. Andrew Cuomo, (56th Governor of New York)\n",
            "8. Bill de Blasio, (109th Mayor of New York City)\n",
            "9. Charles Rangel, (U.S. Representative)\n",
            "10. Jacob Javits, (U.S. Senator)\n",
            "11. Al Smith, (42nd Governor of New York)\n",
            "12. Rudy Giuliani, (107th Mayor of New York City)\n",
            "13. Chuck Schumer, (U.S. Senator)\n",
            "14. Alexandria Ocasio-Cortez, (U.S. Representative)\n",
            "\n",
            "Politicians not born in NY, New York, along with their birthplaces:\n",
            "\n",
            "1. Franklin D. Roosevelt, Hyde Park, New York\n",
            "2. Alexander Hamilton, Charlestown, Nevis\n",
            "3. DeWitt Clinton, Little Britain, New York\n",
            "4. William H. Seward, Florida, New York\n",
            "5. Charles Evans Hughes, Glens Falls, New York\n",
            "6. Nelson Rockefeller, Bar Harbor, Maine\n",
            "7. Geraldine Ferraro, Newburgh, New York\n",
            "8. Michael Bloomberg, Boston, Massachusetts\n",
            "9. Daniel Patrick Moynihan, Tulsa, Oklahoma\n",
            "10. George Pataki, Peekskill, New York\n",
            "11. Kirsten Gillibrand, Albany, New York\n"
          ]
        }
      ]
    },
    {
      "cell_type": "markdown",
      "source": [
        "We can see that CoVe identified and corrected the mistakes in the baseline prompt's response. 14 of the original 25 politicians were actually born in NY, New York."
      ],
      "metadata": {
        "id": "Elzq-b7rcQGJ"
      }
    },
    {
      "cell_type": "code",
      "source": [],
      "metadata": {
        "id": "Hvs0t7og9tDd"
      },
      "execution_count": 8,
      "outputs": []
    }
  ],
  "metadata": {
    "colab": {
      "provenance": []
    },
    "kernelspec": {
      "display_name": "Python 3",
      "name": "python3"
    },
    "language_info": {
      "name": "python"
    }
  },
  "nbformat": 4,
  "nbformat_minor": 0
}
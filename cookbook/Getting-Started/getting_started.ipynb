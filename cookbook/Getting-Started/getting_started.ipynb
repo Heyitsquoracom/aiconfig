{
  "cells": [
    {
      "cell_type": "markdown",
      "metadata": {
        "id": "kNmnUZnUFzt3"
      },
      "source": [
        "# Installation and Setup"
      ]
    },
    {
      "cell_type": "code",
      "execution_count": null,
      "metadata": {
        "id": "sq9uM4ENFStR"
      },
      "outputs": [],
      "source": [
        "!pip install python-aiconfig\n",
        "!pip install openai==0.28.1\n",
        "from google.colab import userdata\n",
        "import openai\n",
        "\n",
        "openai.api_key = userdata.get('openai_api_key')"
      ]
    },
    {
      "cell_type": "markdown",
      "metadata": {
        "id": "-FMlVH2bF4iN"
      },
      "source": [
        "# 1. Download AI Config `travel.aiconfig.json`\n",
        "Download the `travel.aiconfig.json` from [Getting Started](https://aiconfig.lastmileai.dev/docs/introduction/getting-started). Upload to your colab notebook and load (shown below).\n"
      ]
    },
    {
      "cell_type": "code",
      "execution_count": 3,
      "metadata": {
        "id": "go9T1xivF4S2"
      },
      "outputs": [],
      "source": [
        "from aiconfig import AIConfigRuntime, InferenceOptions\n",
        "\n",
        "# Load the aiconfig. You can also use AIConfigRuntime.loadJSON({})\n",
        "config = AIConfigRuntime.load('travel.aiconfig.json')"
      ]
    },
    {
      "cell_type": "markdown",
      "metadata": {
        "id": "zqCchve9GINL"
      },
      "source": [
        "# 2. Run `get_activities` prompt\n"
      ]
    },
    {
      "cell_type": "code",
      "execution_count": 4,
      "metadata": {
        "colab": {
          "base_uri": "https://localhost:8080/"
        },
        "id": "BvAQbo70GLa0",
        "outputId": "25f0684e-6818-4026-df99-117479b4af37"
      },
      "outputs": [
        {
          "data": {
            "text/plain": [
              "[ExecuteResult(output_type='execute_result', execution_count=0, data={'role': 'assistant', 'content': '1. Empire State Building Observation Deck: Enjoy panoramic views of New York City from the iconic Empire State Building.\\n2. Central Park: Explore the stunning Central Park, rent a bike, go for a picnic, or visit the Central Park Zoo.\\n3. Times Square: Experience the vibrant atmosphere of Times Square, known for its bright billboards, Broadway shows, and shopping.\\n4. Statue of Liberty and Ellis Island: Take a ferry and visit the Statue of Liberty to learn about its history, followed by exploring the Ellis Island Immigration Museum.\\n5. Top of the Rock Observatory: Visit the Top of the Rock at Rockefeller Center for breathtaking views of the Manhattan skyline.\\n6. The High Line: Explore the unique urban park built on an elevated railway track, offering stunning views, gardens, and art installations.\\n7. Brooklyn Bridge: Take a walk or bike ride on the iconic Brooklyn Bridge and admire the scenic views of Manhattan and Brooklyn.\\n8. Museum of Modern Art (MoMA): Discover classic and contemporary works of art at MoMA, housing an impressive collection including Van Gogh\\'s \"Starry Night.\"\\n9. Broadway Show: Catch a live performance of a world-famous Broadway musical or play in one of the many beautiful theaters in the Theater District.\\n10. Metropolitan Museum of Art: Visit the Met, one of the world\\'s largest art museums, displaying a vast collection spanning over 5,000 years of history and culture.'}, mime_type=None, metadata={'finish_reason': 'stop'})]"
            ]
          },
          "execution_count": 4,
          "metadata": {},
          "output_type": "execute_result"
        }
      ],
      "source": [
        "await config.run(\"get_activities\")"
      ]
    },
    {
      "cell_type": "markdown",
      "metadata": {
        "id": "OJ8ddRVoHNOS"
      },
      "source": [
        "# 3. Enable streaming\n"
      ]
    },
    {
      "cell_type": "code",
      "execution_count": 5,
      "metadata": {
        "colab": {
          "base_uri": "https://localhost:8080/"
        },
        "id": "Kd6BFPGiHPJe",
        "outputId": "c036236b-ffe0-4542-a58f-79545c479d5b"
      },
      "outputs": [
        {
          "name": "stdout",
          "output_type": "stream",
          "text": [
            "1. Visit Times Square: Experience the bustling energy, huge billboards, and vibrant atmosphere of this iconic landmark.\n",
            "2. Explore Central Park: Spend the day walking, biking, or picnicking in this expansive urban oasis with beautiful landscapes and attractions like the Central Park Zoo.\n",
            "3. Take a ferry to the Statue of Liberty and Ellis Island: Enjoy a scenic boat ride while visiting these historically significant sites and learning about the immigrant experience.\n",
            "4. Stroll along the High Line: An elevated park built on a historic freight rail line, offering stunning views, art installations, and a unique perspective of the city.\n",
            "5. Enjoy a Broadway show: Watch a world-class performance in one of the many famous theaters along Broadway, showcasing a variety of plays, musicals, and performances.\n",
            "6. Visit the Metropolitan Museum of Art: Explore one of the world's finest museums, housing an extensive collection spanning thousands of years of art and cultural artifacts.\n",
            "7. Walk across the Brooklyn Bridge: Take in breathtaking views of the city skyline while crossing this iconic bridge, connecting Manhattan and Brooklyn.\n",
            "8. Indulge in culinary delights at Chelsea Market: Sample a wide array of local food vendors, shops, and eateries in this vibrant food hall located in the Meatpacking District.\n",
            "9. Explore the vibrant neighborhoods of SoHo and Greenwich Village: Wander through these iconic neighborhoods, filled with trendy boutiques, unique shops, and hidden gems.\n",
            "10. Ride the Roosevelt Island Tramway: Get a bird's eye view of Manhattan while riding the scenic tramway to this charming island, offering lovely parks, great views, and peaceful surroundings."
          ]
        },
        {
          "data": {
            "text/plain": [
              "[ExecuteResult(output_type='execute_result', execution_count=0, data={'role': 'assistant', 'content': \"1. Visit Times Square: Experience the bustling energy, huge billboards, and vibrant atmosphere of this iconic landmark.\\n2. Explore Central Park: Spend the day walking, biking, or picnicking in this expansive urban oasis with beautiful landscapes and attractions like the Central Park Zoo.\\n3. Take a ferry to the Statue of Liberty and Ellis Island: Enjoy a scenic boat ride while visiting these historically significant sites and learning about the immigrant experience.\\n4. Stroll along the High Line: An elevated park built on a historic freight rail line, offering stunning views, art installations, and a unique perspective of the city.\\n5. Enjoy a Broadway show: Watch a world-class performance in one of the many famous theaters along Broadway, showcasing a variety of plays, musicals, and performances.\\n6. Visit the Metropolitan Museum of Art: Explore one of the world's finest museums, housing an extensive collection spanning thousands of years of art and cultural artifacts.\\n7. Walk across the Brooklyn Bridge: Take in breathtaking views of the city skyline while crossing this iconic bridge, connecting Manhattan and Brooklyn.\\n8. Indulge in culinary delights at Chelsea Market: Sample a wide array of local food vendors, shops, and eateries in this vibrant food hall located in the Meatpacking District.\\n9. Explore the vibrant neighborhoods of SoHo and Greenwich Village: Wander through these iconic neighborhoods, filled with trendy boutiques, unique shops, and hidden gems.\\n10. Ride the Roosevelt Island Tramway: Get a bird's eye view of Manhattan while riding the scenic tramway to this charming island, offering lovely parks, great views, and peaceful surroundings.\"}, mime_type=None, metadata={'finish_reason': 'stop'})]"
            ]
          },
          "execution_count": 5,
          "metadata": {},
          "output_type": "execute_result"
        }
      ],
      "source": [
        "from aiconfig import AIConfigRuntime, InferenceOptions\n",
        "\n",
        "# Load the aiconfig. You can also use AIConfigRuntime.loadJSON({})\n",
        "config = AIConfigRuntime.load('travel.aiconfig.json')\n",
        "\n",
        "# Run a single prompt (with streaming)\n",
        "inference_options = InferenceOptions(stream=True)\n",
        "await config.run(\"get_activities\", options=inference_options)"
      ]
    },
    {
      "cell_type": "markdown",
      "metadata": {
        "id": "5Fgj5w85Sbch"
      },
      "source": [
        "# 4. Run `gen_itinerary` prompt\n"
      ]
    },
    {
      "cell_type": "code",
      "execution_count": 6,
      "metadata": {
        "colab": {
          "base_uri": "https://localhost:8080/"
        },
        "id": "49xN8OiqSeMX",
        "outputId": "edb32c2b-7bb9-475e-fd4b-0a1d510952e4"
      },
      "outputs": [
        {
          "name": "stdout",
          "output_type": "stream",
          "text": [
            "Great! Here are 10 fun attractions to do in NYC:\n",
            "\n",
            "1. Visit Times Square: Experience the bustling energy, huge billboards, and vibrant atmosphere of this iconic landmark.\n",
            "2. Explore Central Park: Spend the day walking, biking, or picnicking in this expansive urban oasis with beautiful landscapes and attractions like the Central Park Zoo.\n",
            "3. Take a ferry to the Statue of Liberty and Ellis Island: Enjoy a scenic boat ride while visiting these historically significant sites and learning about the immigrant experience.\n",
            "4. Stroll along the High Line: An elevated park built on a historic freight rail line, offering stunning views, art installations, and a unique perspective of the city.\n",
            "5. Enjoy a Broadway show: Watch a world-class performance in one of the many famous theaters along Broadway, showcasing a variety of plays, musicals, and performances.\n",
            "6. Visit the Metropolitan Museum of Art: Explore one of the world's finest museums, housing an extensive collection spanning thousands of years of art and cultural artifacts.\n",
            "7. Walk across the Brooklyn Bridge: Take in breathtaking views of the city skyline while crossing this iconic bridge, connecting Manhattan and Brooklyn.\n",
            "8. Indulge in culinary delights at Chelsea Market: Sample a wide array of local food vendors, shops, and eateries in this vibrant food hall located in the Meatpacking District.\n",
            "9. Explore the vibrant neighborhoods of SoHo and Greenwich Village: Wander through these iconic neighborhoods, filled with trendy boutiques, unique shops, and hidden gems.\n",
            "10. Ride the Roosevelt Island Tramway: Get a bird's eye view of Manhattan while riding the scenic tramway to this charming island, offering lovely parks, great views, and peaceful surroundings.Day 1: \n",
            "- Morning: Start your trip with a visit to Times Square (2 hours). Take in the energy of the place, capture photos with the giant billboards, and soak in the unique urban atmosphere.\n",
            "- Afternoon: Spend the rest of the day exploring Central Park (5 hours). Enjoy a leisurely stroll, rent a bike for a ride, or simply relax with a picnic lunch. Visit the Central Park Zoo if that interests you.\n",
            "\n",
            "Day 2: \n",
            "- Morning to afternoon: Take a ferry to the Statue of Liberty and Ellis Island (6 hours). Experience a scenic boat ride, visit the famous statue, and learn about America's immigrant history at Ellis Island.\n",
            "\n",
            "Day 3: \n",
            "- Morning: Stroll along the High Line (3 hours), appreciating the art installations, stunning views, and the city from a unique perspective.\n",
            "- Evening: Enjoy a Broadway show (3 hours). Choose from a variety of world-class performances playing in the historic theatres.\n",
            "\n",
            "Day 4: \n",
            "- Morning to Afternoon: Visit the Metropolitan Museum of Art (5 hours). This is one of the finest museums in the world with an extensive collection of art and historical artifacts.\n",
            "- Evening: Walk across the Brooklyn Bridge (2 hours). Enjoy the breathtaking views of the city skyline, especially during sunset.\n",
            "\n",
            "Day 5:\n",
            "- Morning to afternoon: Indulge in culinary delights at Chelsea Market (4 hours). Savor the tastes of NYC from numerous food vendors and maybe even shop for some unique food items.\n",
            "- Evening: Stroll through the vibrant neighborhoods of SoHo and Greenwich Village (3 hours). Browse through trendy boutiques, unique shops, and discover hidden gems.\n",
            "\n",
            "Day 6: \n",
            "- End your trip to NYC with a ride on the Roosevelt Island Tramway (2 hours). Get a panoramic view of Manhattan and spend some peaceful time exploring the island's parks and attractions."
          ]
        },
        {
          "data": {
            "text/plain": [
              "[ExecuteResult(output_type='execute_result', execution_count=0, data={'role': 'assistant', 'content': \"Day 1: \\n- Morning: Start your trip with a visit to Times Square (2 hours). Take in the energy of the place, capture photos with the giant billboards, and soak in the unique urban atmosphere.\\n- Afternoon: Spend the rest of the day exploring Central Park (5 hours). Enjoy a leisurely stroll, rent a bike for a ride, or simply relax with a picnic lunch. Visit the Central Park Zoo if that interests you.\\n\\nDay 2: \\n- Morning to afternoon: Take a ferry to the Statue of Liberty and Ellis Island (6 hours). Experience a scenic boat ride, visit the famous statue, and learn about America's immigrant history at Ellis Island.\\n\\nDay 3: \\n- Morning: Stroll along the High Line (3 hours), appreciating the art installations, stunning views, and the city from a unique perspective.\\n- Evening: Enjoy a Broadway show (3 hours). Choose from a variety of world-class performances playing in the historic theatres.\\n\\nDay 4: \\n- Morning to Afternoon: Visit the Metropolitan Museum of Art (5 hours). This is one of the finest museums in the world with an extensive collection of art and historical artifacts.\\n- Evening: Walk across the Brooklyn Bridge (2 hours). Enjoy the breathtaking views of the city skyline, especially during sunset.\\n\\nDay 5:\\n- Morning to afternoon: Indulge in culinary delights at Chelsea Market (4 hours). Savor the tastes of NYC from numerous food vendors and maybe even shop for some unique food items.\\n- Evening: Stroll through the vibrant neighborhoods of SoHo and Greenwich Village (3 hours). Browse through trendy boutiques, unique shops, and discover hidden gems.\\n\\nDay 6: \\n- End your trip to NYC with a ride on the Roosevelt Island Tramway (2 hours). Get a panoramic view of Manhattan and spend some peaceful time exploring the island's parks and attractions.\"}, mime_type=None, metadata={'finish_reason': 'stop'})]"
            ]
          },
          "execution_count": 6,
          "metadata": {},
          "output_type": "execute_result"
        }
      ],
      "source": [
        "inference_options = InferenceOptions(stream=True)\n",
        "await config.run(\n",
        "    \"gen_itinerary\",\n",
        "    params={\"order_by\": \"duration\"},\n",
        "    options=inference_options,\n",
        "    run_with_dependencies=True)"
      ]
    },
    {
      "cell_type": "markdown",
      "metadata": {
        "id": "q9deFcBK55yN"
      },
      "source": [
        "# 5. Save the AIConfig with outputs\n"
      ]
    },
    {
      "cell_type": "code",
      "execution_count": 7,
      "metadata": {
        "id": "9BR4-nGxSth7"
      },
      "outputs": [],
      "source": [
        "# Save the aiconfig to disk. and serialize outputs from the model run\n",
        "config.save('updated.aiconfig.json', include_outputs=True)"
      ]
    },
    {
      "cell_type": "markdown",
      "metadata": {
        "id": "JLiElYyC6DB-"
      },
      "source": [
        "# 6. Open the AIConfig in AI Workbook Playground\n",
        "1. Download `updated.aiconfig.json`.\n",
        "2. Go to https://lastmileai.dev.\n",
        "3. Go to Workbooks page: https://lastmileai.dev/workbooks.\n",
        "4. Click dropdown '+New Workbook' and select 'Create from AIConfig'\n",
        "5. Upload `updated.aiconfig.json`.\n",
        "\n",
        "Try out the workbook playground here: [NYC Travel Workbook](https://lastmileai.dev/workbooks/clooqs3p200kkpe53u6n2rhr9)"
      ]
    },
    {
      "cell_type": "code",
      "execution_count": null,
      "metadata": {
        "id": "PLpVz4L56GIY"
      },
      "outputs": [],
      "source": []
    }
  ],
  "metadata": {
    "colab": {
      "provenance": []
    },
    "kernelspec": {
      "display_name": "Python 3",
      "name": "python3"
    },
    "language_info": {
      "name": "python"
    }
  },
  "nbformat": 4,
  "nbformat_minor": 0
}
